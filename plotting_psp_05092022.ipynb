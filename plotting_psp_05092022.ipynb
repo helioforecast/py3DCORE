{
 "cells": [
  {
   "cell_type": "markdown",
   "id": "de28ca40",
   "metadata": {},
   "source": [
    "# Plotting routine for the June2 2022 Event - PSP"
   ]
  },
  {
   "cell_type": "code",
   "execution_count": null,
   "id": "1d784431",
   "metadata": {},
   "outputs": [],
   "source": [
    "test = 'test'"
   ]
  },
  {
   "cell_type": "code",
   "execution_count": 8,
   "id": "38a08e24",
   "metadata": {},
   "outputs": [
    {
     "name": "stdout",
     "output_type": "stream",
     "text": [
      "The autoreload extension is already loaded. To reload it, use:\n",
      "  %reload_ext autoreload\n"
     ]
    }
   ],
   "source": [
    "%load_ext autoreload\n",
    "\n",
    "%autoreload 2\n",
    "\n",
    "import numpy as np\n",
    "import matplotlib.pyplot as plt\n",
    "import pickle as p\n",
    "\n",
    "import datetime as datetime\n",
    "from datetime import timedelta\n",
    "import seaborn as sns\n",
    "import pandas as pd\n",
    "import os\n",
    "#import copy as cp\n",
    "\n",
    "import multiprocess as mp\n",
    "import py3dcore as py3dcore\n",
    "\n",
    "import py3dcore.fluxplot as fp\n",
    "\n",
    "plt.switch_backend('agg')\n",
    "\n",
    "\n",
    "import warnings\n",
    "warnings.filterwarnings('ignore')\n",
    "\n",
    "import logging\n",
    "\n",
    "logging.basicConfig(level=logging.INFO)\n",
    "logging.getLogger(\"heliosat.spice\").setLevel(\"WARNING\")\n",
    "logging.getLogger(\"heliosat.spacecraft\").setLevel(\"WARNING\")\n",
    "#logging.getLogger(\"sunpy\").setLevel(\"WARNING\")\n",
    "#logging.getLogger(\"py3dcore_h4c.fluxplot\").setLevel(\"WARNING\")\n",
    "\n",
    "#print(sns.__version__)"
   ]
  },
  {
   "cell_type": "markdown",
   "id": "9ca32119",
   "metadata": {},
   "source": [
    "#### setting the times for py3DCORE"
   ]
  },
  {
   "cell_type": "code",
   "execution_count": 21,
   "id": "6099a310",
   "metadata": {},
   "outputs": [],
   "source": [
    "t_launch = datetime.datetime(2022, 9, 5, 16, tzinfo=datetime.timezone.utc) # \n",
    "\n",
    "t_s = datetime.datetime(2022, 9, 5, 20, tzinfo=datetime.timezone.utc) \n",
    "t_e = datetime.datetime(2022, 9, 6, 2, 30, tzinfo=datetime.timezone.utc)\n",
    "\n",
    "t_fit = [\n",
    "        # datetime.datetime(2022, 9, 5, 18, tzinfo=datetime.timezone.utc),\n",
    "       # datetime.datetime(2022, 9, 5, 19, 5, tzinfo=datetime.timezone.utc),\n",
    "       # datetime.datetime(2022, 9, 5, 20, tzinfo=datetime.timezone.utc),\n",
    "        datetime.datetime(2022, 9, 5, 21, tzinfo=datetime.timezone.utc),\n",
    "        datetime.datetime(2022, 9, 5, 22, tzinfo=datetime.timezone.utc),\n",
    "        datetime.datetime(2022, 9, 6, 0, 5, tzinfo=datetime.timezone.utc),\n",
    "        datetime.datetime(2022, 9, 6, 2, 5, tzinfo=datetime.timezone.utc)\n",
    "     ]\n"
   ]
  },
  {
   "cell_type": "code",
   "execution_count": 22,
   "id": "f8589d6d",
   "metadata": {},
   "outputs": [
    {
     "name": "stdout",
     "output_type": "stream",
     "text": [
      "['09/05/2022, 21:00:00', '09/05/2022, 22:00:00', '09/06/2022, 00:05:00', '09/06/2022, 02:05:00']\n"
     ]
    }
   ],
   "source": [
    "fittingPoints = []\n",
    "\n",
    "fittingPoints = [t_fit[i].strftime(\"%m/%d/%Y, %H:%M:%S\") for i in range(len(t_fit))]\n",
    "print(fittingPoints)"
   ]
  },
  {
   "cell_type": "markdown",
   "id": "017cc3ec",
   "metadata": {},
   "source": [
    "#### loading the pickle files"
   ]
  },
  {
   "cell_type": "code",
   "execution_count": 23,
   "id": "63073b9f",
   "metadata": {},
   "outputs": [],
   "source": [
    "path = 'output/psp05092022_512_RTN_1/'\n",
    "\n",
    "filepath = fp.loadpickle(path, number=-1)"
   ]
  },
  {
   "cell_type": "code",
   "execution_count": 24,
   "id": "1ba5d5d7",
   "metadata": {},
   "outputs": [
    {
     "data": {
      "text/plain": [
       "'output/psp05092022_512_RTN_1/07'"
      ]
     },
     "execution_count": 24,
     "metadata": {},
     "output_type": "execute_result"
    }
   ],
   "source": [
    "filepath[:-7]"
   ]
  },
  {
   "cell_type": "markdown",
   "id": "beb73c98",
   "metadata": {},
   "source": [
    "#### extracting parameters"
   ]
  },
  {
   "cell_type": "code",
   "execution_count": 25,
   "id": "c7a33523",
   "metadata": {},
   "outputs": [
    {
     "name": "stderr",
     "output_type": "stream",
     "text": [
      "2023-06-07 17:40:49.849 INFO    py3dcore.fluxplot: Retrieved the following parameters for the run with minimum epsilon:\n",
      "2023-06-07 17:40:49.850 INFO    py3dcore.fluxplot:  --cme_longitude -55.91\n",
      "2023-06-07 17:40:49.851 INFO    py3dcore.fluxplot:  --cme_latitude -3.05\n",
      "2023-06-07 17:40:49.872 INFO    py3dcore.fluxplot:  --cme_inclination 17.01\n",
      "2023-06-07 17:40:49.873 INFO    py3dcore.fluxplot:  --cme_diameter_1au 0.55\n",
      "2023-06-07 17:40:49.874 INFO    py3dcore.fluxplot:  --cme_aspect_ratio 3.82\n",
      "2023-06-07 17:40:49.878 INFO    py3dcore.fluxplot:  --cme_launch_radius 8.41\n",
      "2023-06-07 17:40:49.881 INFO    py3dcore.fluxplot:  --cme_launch_velocity 1422.34\n",
      "2023-06-07 17:40:49.882 INFO    py3dcore.fluxplot:  --t_factor 93.08\n",
      "2023-06-07 17:40:49.893 INFO    py3dcore.fluxplot:  --cme_expansion_rate 1.14\n",
      "2023-06-07 17:40:49.897 INFO    py3dcore.fluxplot:  --magnetic_decay_rate 1.64\n",
      "2023-06-07 17:40:49.900 INFO    py3dcore.fluxplot:  --magnetic_field_strength_1au 8.19\n",
      "2023-06-07 17:40:49.908 INFO    py3dcore.fluxplot:  --background_drag 2.92\n",
      "2023-06-07 17:40:49.914 INFO    py3dcore.fluxplot:  --background_velocity 295.13\n"
     ]
    },
    {
     "name": "stdout",
     "output_type": "stream",
     "text": [
      "Results :\n",
      "\n",
      "\tcme_longitude: \t\t-38.86 +/- 13.62\n",
      "\tcme_latitude: \t\t-34.25 +/- 14.07\n",
      "\tcme_inclination: \t\t34.35 +/- 11.92\n",
      "\tcme_diameter_1au: \t\t0.54 +/- 0.09\n",
      "\tcme_aspect_ratio: \t\t3.58 +/- 0.92\n",
      "\tcme_launch_radius: \t\t8.42 +/- 2.28\n",
      "\tcme_launch_velocity: \t\t1198.05 +/- 329.37\n",
      "\tt_factor: \t\t-23.64 +/- 90.66\n",
      "\tcme_expansion_rate: \t\t1.14 +/- 0.00\n",
      "\tmagnetic_decay_rate: \t\t1.64 +/- 0.00\n",
      "\tmagnetic_field_strength_1au: \t\t6.99 +/- 1.01\n",
      "\tbackground_drag: \t\t2.60 +/- 0.85\n",
      "\tbackground_velocity: \t\t285.90 +/- 150.95\n",
      "8\n"
     ]
    }
   ],
   "source": [
    "res_mineps, res_mean, res_std, ind, keys, allres = fp.get_params(filepath, give_mineps=True)\n",
    "\n",
    "print(ind)"
   ]
  },
  {
   "cell_type": "code",
   "execution_count": 26,
   "id": "ae72c60c",
   "metadata": {},
   "outputs": [
    {
     "data": {
      "text/html": [
       "<div>\n",
       "<style scoped>\n",
       "    .dataframe tbody tr th:only-of-type {\n",
       "        vertical-align: middle;\n",
       "    }\n",
       "\n",
       "    .dataframe tbody tr th {\n",
       "        vertical-align: top;\n",
       "    }\n",
       "\n",
       "    .dataframe thead th {\n",
       "        text-align: right;\n",
       "    }\n",
       "</style>\n",
       "<table border=\"1\" class=\"dataframe\">\n",
       "  <thead>\n",
       "    <tr style=\"text-align: right;\">\n",
       "      <th></th>\n",
       "      <th>lon</th>\n",
       "      <th>lat</th>\n",
       "      <th>inc</th>\n",
       "      <th>D1AU</th>\n",
       "      <th>delta</th>\n",
       "      <th>launch radius</th>\n",
       "      <th>launch speed</th>\n",
       "      <th>t factor</th>\n",
       "      <th>expansion rate</th>\n",
       "      <th>B decay rate</th>\n",
       "      <th>B1AU</th>\n",
       "      <th>gamma</th>\n",
       "      <th>vsw</th>\n",
       "    </tr>\n",
       "  </thead>\n",
       "  <tbody>\n",
       "    <tr>\n",
       "      <th>count</th>\n",
       "      <td>512.000000</td>\n",
       "      <td>512.000000</td>\n",
       "      <td>512.000000</td>\n",
       "      <td>512.000000</td>\n",
       "      <td>512.000000</td>\n",
       "      <td>512.000000</td>\n",
       "      <td>512.000000</td>\n",
       "      <td>512.000000</td>\n",
       "      <td>512.000000</td>\n",
       "      <td>512.00000</td>\n",
       "      <td>512.000000</td>\n",
       "      <td>512.000000</td>\n",
       "      <td>512.000000</td>\n",
       "    </tr>\n",
       "    <tr>\n",
       "      <th>mean</th>\n",
       "      <td>-38.859707</td>\n",
       "      <td>-34.248028</td>\n",
       "      <td>34.349968</td>\n",
       "      <td>0.543847</td>\n",
       "      <td>3.578821</td>\n",
       "      <td>8.421638</td>\n",
       "      <td>1198.053467</td>\n",
       "      <td>-23.638605</td>\n",
       "      <td>1.140000</td>\n",
       "      <td>1.64000</td>\n",
       "      <td>6.989943</td>\n",
       "      <td>2.597457</td>\n",
       "      <td>285.901794</td>\n",
       "    </tr>\n",
       "    <tr>\n",
       "      <th>std</th>\n",
       "      <td>13.631161</td>\n",
       "      <td>14.084848</td>\n",
       "      <td>11.935607</td>\n",
       "      <td>0.086003</td>\n",
       "      <td>0.924060</td>\n",
       "      <td>2.283221</td>\n",
       "      <td>329.694031</td>\n",
       "      <td>90.753128</td>\n",
       "      <td>0.000008</td>\n",
       "      <td>0.00001</td>\n",
       "      <td>1.009015</td>\n",
       "      <td>0.853495</td>\n",
       "      <td>151.100098</td>\n",
       "    </tr>\n",
       "    <tr>\n",
       "      <th>min</th>\n",
       "      <td>-63.767471</td>\n",
       "      <td>-66.743965</td>\n",
       "      <td>11.214437</td>\n",
       "      <td>0.294679</td>\n",
       "      <td>1.005341</td>\n",
       "      <td>5.000923</td>\n",
       "      <td>700.226318</td>\n",
       "      <td>-249.771774</td>\n",
       "      <td>1.140000</td>\n",
       "      <td>1.64000</td>\n",
       "      <td>5.010398</td>\n",
       "      <td>0.313853</td>\n",
       "      <td>50.089344</td>\n",
       "    </tr>\n",
       "    <tr>\n",
       "      <th>25%</th>\n",
       "      <td>-49.150329</td>\n",
       "      <td>-44.307841</td>\n",
       "      <td>25.898751</td>\n",
       "      <td>0.482004</td>\n",
       "      <td>2.937446</td>\n",
       "      <td>6.604059</td>\n",
       "      <td>928.226929</td>\n",
       "      <td>-82.963509</td>\n",
       "      <td>1.140000</td>\n",
       "      <td>1.64000</td>\n",
       "      <td>6.258531</td>\n",
       "      <td>1.995622</td>\n",
       "      <td>166.950203</td>\n",
       "    </tr>\n",
       "    <tr>\n",
       "      <th>50%</th>\n",
       "      <td>-40.645077</td>\n",
       "      <td>-35.446672</td>\n",
       "      <td>33.113714</td>\n",
       "      <td>0.545850</td>\n",
       "      <td>3.620324</td>\n",
       "      <td>8.049504</td>\n",
       "      <td>1153.224976</td>\n",
       "      <td>-21.677762</td>\n",
       "      <td>1.140000</td>\n",
       "      <td>1.64000</td>\n",
       "      <td>6.886184</td>\n",
       "      <td>2.650096</td>\n",
       "      <td>265.461899</td>\n",
       "    </tr>\n",
       "    <tr>\n",
       "      <th>75%</th>\n",
       "      <td>-30.905410</td>\n",
       "      <td>-26.013303</td>\n",
       "      <td>41.349020</td>\n",
       "      <td>0.600452</td>\n",
       "      <td>4.369005</td>\n",
       "      <td>9.824703</td>\n",
       "      <td>1420.792145</td>\n",
       "      <td>32.820446</td>\n",
       "      <td>1.140000</td>\n",
       "      <td>1.64000</td>\n",
       "      <td>7.676630</td>\n",
       "      <td>3.320461</td>\n",
       "      <td>385.490379</td>\n",
       "    </tr>\n",
       "    <tr>\n",
       "      <th>max</th>\n",
       "      <td>15.275434</td>\n",
       "      <td>14.144319</td>\n",
       "      <td>72.727646</td>\n",
       "      <td>0.774221</td>\n",
       "      <td>4.993153</td>\n",
       "      <td>14.929168</td>\n",
       "      <td>1977.268799</td>\n",
       "      <td>233.557587</td>\n",
       "      <td>1.140000</td>\n",
       "      <td>1.64000</td>\n",
       "      <td>10.030303</td>\n",
       "      <td>3.967475</td>\n",
       "      <td>688.069946</td>\n",
       "    </tr>\n",
       "  </tbody>\n",
       "</table>\n",
       "</div>"
      ],
      "text/plain": [
       "              lon         lat         inc        D1AU       delta  \\\n",
       "count  512.000000  512.000000  512.000000  512.000000  512.000000   \n",
       "mean   -38.859707  -34.248028   34.349968    0.543847    3.578821   \n",
       "std     13.631161   14.084848   11.935607    0.086003    0.924060   \n",
       "min    -63.767471  -66.743965   11.214437    0.294679    1.005341   \n",
       "25%    -49.150329  -44.307841   25.898751    0.482004    2.937446   \n",
       "50%    -40.645077  -35.446672   33.113714    0.545850    3.620324   \n",
       "75%    -30.905410  -26.013303   41.349020    0.600452    4.369005   \n",
       "max     15.275434   14.144319   72.727646    0.774221    4.993153   \n",
       "\n",
       "       launch radius  launch speed    t factor  expansion rate  B decay rate  \\\n",
       "count     512.000000    512.000000  512.000000      512.000000     512.00000   \n",
       "mean        8.421638   1198.053467  -23.638605        1.140000       1.64000   \n",
       "std         2.283221    329.694031   90.753128        0.000008       0.00001   \n",
       "min         5.000923    700.226318 -249.771774        1.140000       1.64000   \n",
       "25%         6.604059    928.226929  -82.963509        1.140000       1.64000   \n",
       "50%         8.049504   1153.224976  -21.677762        1.140000       1.64000   \n",
       "75%         9.824703   1420.792145   32.820446        1.140000       1.64000   \n",
       "max        14.929168   1977.268799  233.557587        1.140000       1.64000   \n",
       "\n",
       "             B1AU       gamma         vsw  \n",
       "count  512.000000  512.000000  512.000000  \n",
       "mean     6.989943    2.597457  285.901794  \n",
       "std      1.009015    0.853495  151.100098  \n",
       "min      5.010398    0.313853   50.089344  \n",
       "25%      6.258531    1.995622  166.950203  \n",
       "50%      6.886184    2.650096  265.461899  \n",
       "75%      7.676630    3.320461  385.490379  \n",
       "max     10.030303    3.967475  688.069946  "
      ]
     },
     "execution_count": 26,
     "metadata": {},
     "output_type": "execute_result"
    }
   ],
   "source": [
    "out = fp.get_ensemble_stats(filepath)\n",
    "out.describe()"
   ]
  },
  {
   "cell_type": "code",
   "execution_count": 27,
   "id": "95f1872a",
   "metadata": {},
   "outputs": [],
   "source": [
    "# write output of describe() to csv-file\n",
    "out.describe().to_csv(filepath+'parameters.csv')\n",
    "\n",
    "# write parameters of whole ensemble to txt-file\n",
    "with open(filepath+'parameters_ensemble.txt', 'a') as f:\n",
    "    dfAsString = out.to_string(header=True, index=True)\n",
    "    f.write(dfAsString)"
   ]
  },
  {
   "cell_type": "code",
   "execution_count": 28,
   "id": "523fa774",
   "metadata": {},
   "outputs": [],
   "source": [
    "# write output of describe() to txt-file    \n",
    "with open(filepath+'parameters_summary.txt', 'a') as f:\n",
    "    f.write('Summary of results')\n",
    "    f.write('\\n\\n')\n",
    "    f.write('Results:')\n",
    "    f.write('\\n')\n",
    "    for i in range(1, len(keys)):    \n",
    "        f.write(\"\\t{}: \\t\\t{:.02f} +/- {:.02f}\".format(keys[i], res_mean[i], res_std[i]))\n",
    "        f.write('\\n')\n",
    "    f.write('\\n')\n",
    "    f.write('Parameters for run with min(eps):')\n",
    "    f.write('\\n')\n",
    "    for i in range(1, len(keys)):\n",
    "        f.write(\" --{} {:.2f}\".format(keys[i], res_mineps[i]))\n",
    "        f.write('\\n')\n",
    "    f.write('\\n')\n",
    "    f.write('Fitting points:')\n",
    "    f.write(str(fittingPoints))\n",
    "    f.write('\\n')"
   ]
  },
  {
   "cell_type": "markdown",
   "id": "99d1b82f",
   "metadata": {},
   "source": [
    "#### loading and plotting the fitting results"
   ]
  },
  {
   "cell_type": "code",
   "execution_count": 29,
   "id": "057bcf5e",
   "metadata": {},
   "outputs": [],
   "source": [
    "t_s = datetime.datetime(2022, 9, 5, 18, tzinfo=datetime.timezone.utc)\n",
    "t_e = datetime.datetime(2022, 9, 6, 4, tzinfo=datetime.timezone.utc)"
   ]
  },
  {
   "cell_type": "code",
   "execution_count": 30,
   "id": "4747aa1b",
   "metadata": {},
   "outputs": [
    {
     "name": "stderr",
     "output_type": "stream",
     "text": [
      "2023-06-07 17:41:26.251 INFO    py3dcore.fluxplot: Using HelioSat to retrieve observer data\n"
     ]
    },
    {
     "name": "stdout",
     "output_type": "stream",
     "text": [
      "2022-09-05 18:00:00+00:00 2022-09-06 04:00:00+00:00\n"
     ]
    }
   ],
   "source": [
    "fp.fullinsitu(observer='PSP', t_fit=t_fit, start=t_s, end=t_e, filepath=filepath, ref_frame='SPP_RTN', best=False, \n",
    "              ensemble=True, save_fig=True, legend=True, max_index=512, title=False, fit_points=True)"
   ]
  },
  {
   "cell_type": "code",
   "execution_count": null,
   "id": "a3ed44ee",
   "metadata": {},
   "outputs": [],
   "source": [
    "fp.scatterparams(filepath)"
   ]
  },
  {
   "cell_type": "code",
   "execution_count": null,
   "id": "71d90fc2",
   "metadata": {},
   "outputs": [],
   "source": [
    "print(out['lon'].mean())\n",
    "print(out['lon'].std())\n",
    "print(out['launch radius'].std())\n",
    "print(out['launch speed'].std())"
   ]
  },
  {
   "cell_type": "code",
   "execution_count": null,
   "id": "3897c72d-4d07-424a-b3f5-92a1f1ed1c7e",
   "metadata": {},
   "outputs": [],
   "source": [
    "print(res_mineps[1])"
   ]
  },
  {
   "cell_type": "markdown",
   "id": "c9b3337e",
   "metadata": {},
   "source": [
    "#### Plotting the fluxrope and spacecraft positions"
   ]
  },
  {
   "cell_type": "code",
   "execution_count": 17,
   "id": "8c89b232",
   "metadata": {},
   "outputs": [
    {
     "name": "stdout",
     "output_type": "stream",
     "text": [
      "Results :\n",
      "\n",
      "\tcme_longitude: \t\t122.40 +/- 5.74\n",
      "\tcme_latitude: \t\t-1.52 +/- 8.33\n",
      "\tcme_inclination: \t\t20.55 +/- 47.98\n",
      "\tcme_diameter_1au: \t\t0.30 +/- 0.02\n",
      "\tcme_aspect_ratio: \t\t3.02 +/- 0.66\n",
      "\tcme_launch_radius: \t\t14.97 +/- 0.53\n",
      "\tcme_launch_velocity: \t\t1405.48 +/- 328.54\n",
      "\tt_factor: \t\t161.74 +/- 45.97\n",
      "\tcme_expansion_rate: \t\t1.14 +/- 0.00\n",
      "\tmagnetic_decay_rate: \t\t1.64 +/- 0.00\n",
      "\tmagnetic_field_strength_1au: \t\t6.44 +/- 0.69\n",
      "\tbackground_drag: \t\t1.62 +/- 0.72\n",
      "\tbackground_velocity: \t\t613.52 +/- 56.56\n"
     ]
    },
    {
     "name": "stderr",
     "output_type": "stream",
     "text": [
      "2023-06-07 13:29:56.742 INFO    py3dcore.fluxplot: Using HelioSat to retrieve observer data\n"
     ]
    },
    {
     "name": "stdout",
     "output_type": "stream",
     "text": [
      "t_snap: 2022-09-07 10:00:00+00:00\n"
     ]
    }
   ],
   "source": [
    "#measurement times \n",
    "#tm0 =  datetime.datetime(2022, 6, 2, 6)\n",
    "tm1 =  t_launch + datetime.timedelta(hours=40)\n",
    "#tm2 =  t_launch + datetime.timedelta(days=3.5)\n",
    "\n",
    "fig = fp.full3d(spacecraftlist=['solo'], planetlist=['Earth'], t=tm1, filepath=filepath, legend=False, view_azim=res_mineps[1]-90, title=False,\n",
    "                view_elev=0, view_radius=0.7, index=0)"
   ]
  },
  {
   "cell_type": "markdown",
   "id": "7ef49a5a",
   "metadata": {},
   "source": [
    "### make fluxrope 3d movie"
   ]
  },
  {
   "cell_type": "code",
   "execution_count": 18,
   "id": "90bbef5d",
   "metadata": {},
   "outputs": [],
   "source": [
    "def make_frame(k):\n",
    "    tm0 = t_launch\n",
    "    t = tm0 + k*datetime.timedelta(hours=1)\n",
    "    \n",
    "    fig = fp.full3d(spacecraftlist=['psp', 'solo'], planetlist=['Earth'], legend=False, title=False,\n",
    "              t=t, filepath=filepath, save_fig=True, view_radius=0.7, view_elev=90)\n",
    "    frmstr = '%05i' % (k) \n",
    "    plt.savefig(filepath[:-7] + 'movie_3d/' + frmstr + '.jpg', dpi=300)  \n",
    "    return fig\n",
    "    "
   ]
  },
  {
   "cell_type": "code",
   "execution_count": 19,
   "id": "aec2a322",
   "metadata": {},
   "outputs": [
    {
     "name": "stdout",
     "output_type": "stream",
     "text": [
      "Results :\n",
      "Results :\n",
      "\n",
      "\n",
      "\tcme_longitude: \t\t122.40 +/- 5.74\n",
      "\tcme_longitude: \t\t122.40 +/- 5.74\tcme_latitude: \t\t-1.52 +/- 8.33\n",
      "\n",
      "\tcme_inclination: \t\t20.55 +/- 47.98\tcme_latitude: \t\t-1.52 +/- 8.33\n",
      "\n",
      "\tcme_inclination: \t\t20.55 +/- 47.98\tcme_diameter_1au: \t\t0.30 +/- 0.02\n",
      "\n",
      "\tcme_diameter_1au: \t\t0.30 +/- 0.02\tcme_aspect_ratio: \t\t3.02 +/- 0.66\n",
      "\tcme_aspect_ratio: \t\t3.02 +/- 0.66\n",
      "\tcme_launch_radius: \t\t14.97 +/- 0.53\n",
      "\n",
      "\tcme_launch_radius: \t\t14.97 +/- 0.53\tcme_launch_velocity: \t\t1405.48 +/- 328.54\n",
      "\tcme_launch_velocity: \t\t1405.48 +/- 328.54\n",
      "\n",
      "\tt_factor: \t\t161.74 +/- 45.97\tt_factor: \t\t161.74 +/- 45.97\n",
      "\n",
      "\tcme_expansion_rate: \t\t1.14 +/- 0.00\tcme_expansion_rate: \t\t1.14 +/- 0.00\n",
      "\n",
      "\tmagnetic_decay_rate: \t\t1.64 +/- 0.00\n",
      "\tmagnetic_decay_rate: \t\t1.64 +/- 0.00\tmagnetic_field_strength_1au: \t\t6.44 +/- 0.69\n",
      "\n",
      "\tbackground_drag: \t\t1.62 +/- 0.72\tmagnetic_field_strength_1au: \t\t6.44 +/- 0.69\n",
      "\tbackground_velocity: \t\t613.52 +/- 56.56\n",
      "\n",
      "\tbackground_drag: \t\t1.62 +/- 0.72\n",
      "\tbackground_velocity: \t\t613.52 +/- 56.56\n"
     ]
    },
    {
     "name": "stderr",
     "output_type": "stream",
     "text": [
      "2023-06-07 13:32:53.554 INFO    py3dcore.fluxplot: Using HelioSat to retrieve observer data\n"
     ]
    },
    {
     "name": "stdout",
     "output_type": "stream",
     "text": [
      "t_snap: 2022-09-05 21:00:00+00:00\n",
      "Results :\n",
      "\n",
      "\tcme_longitude: \t\t122.40 +/- 5.74\n"
     ]
    },
    {
     "name": "stderr",
     "output_type": "stream",
     "text": [
      "2023-06-07 13:32:53.628 INFO    py3dcore.fluxplot: Using HelioSat to retrieve observer data\n"
     ]
    },
    {
     "name": "stdout",
     "output_type": "stream",
     "text": [
      "\tcme_latitude: \t\t-1.52 +/- 8.33\n",
      "t_snap: \tcme_inclination: \t\t20.55 +/- 47.982022-09-05 18:00:00+00:00\n",
      "\n",
      "\tcme_diameter_1au: \t\t0.30 +/- 0.02\n",
      "\tcme_aspect_ratio: \t\t3.02 +/- 0.66\n",
      "\tcme_launch_radius: \t\t14.97 +/- 0.53\n",
      "\tcme_launch_velocity: \t\t1405.48 +/- 328.54\n",
      "\tt_factor: \t\t161.74 +/- 45.97\n",
      "\tcme_expansion_rate: \t\t1.14 +/- 0.00\n",
      "\tmagnetic_decay_rate: \t\t1.64 +/- 0.00Results :\n",
      "\n",
      "\n",
      "\tmagnetic_field_strength_1au: \t\t6.44 +/- 0.69\tcme_longitude: \t\t122.40 +/- 5.74\n",
      "\n",
      "\tcme_latitude: \t\t-1.52 +/- 8.33\tbackground_drag: \t\t1.62 +/- 0.72\n",
      "\n",
      "\tcme_inclination: \t\t20.55 +/- 47.98\tbackground_velocity: \t\t613.52 +/- 56.56\n",
      "\tcme_diameter_1au: \t\t0.30 +/- 0.02\n",
      "\n",
      "\tcme_aspect_ratio: \t\t3.02 +/- 0.66\n",
      "\tcme_launch_radius: \t\t14.97 +/- 0.53\n",
      "\tcme_launch_velocity: \t\t1405.48 +/- 328.54\n",
      "\tt_factor: \t\t161.74 +/- 45.97\n",
      "\tcme_expansion_rate: \t\t1.14 +/- 0.00\n",
      "\tmagnetic_decay_rate: \t\t1.64 +/- 0.00\n",
      "\tmagnetic_field_strength_1au: \t\t6.44 +/- 0.69\n",
      "\tbackground_drag: \t\t1.62 +/- 0.72\n",
      "\tbackground_velocity: \t\t613.52 +/- 56.56\n"
     ]
    },
    {
     "name": "stderr",
     "output_type": "stream",
     "text": [
      "2023-06-07 13:32:55.628 INFO    py3dcore.fluxplot: Using HelioSat to retrieve observer data\n"
     ]
    },
    {
     "name": "stdout",
     "output_type": "stream",
     "text": [
      "t_snap: 2022-09-06 00:00:00+00:00\n",
      "Results :\n",
      "\n",
      "\tcme_longitude: \t\t122.40 +/- 5.74\n",
      "\tcme_latitude: \t\t-1.52 +/- 8.33\n",
      "\tcme_inclination: \t\t20.55 +/- 47.98\n",
      "\tcme_diameter_1au: \t\t0.30 +/- 0.02\n",
      "\tcme_aspect_ratio: \t\t3.02 +/- 0.66\n",
      "\tcme_launch_radius: \t\t14.97 +/- 0.53\n",
      "\tcme_launch_velocity: \t\t1405.48 +/- 328.54\n",
      "\tt_factor: \t\t161.74 +/- 45.97\n",
      "\tcme_expansion_rate: \t\t1.14 +/- 0.00\n",
      "\tmagnetic_decay_rate: \t\t1.64 +/- 0.00\n",
      "\tmagnetic_field_strength_1au: \t\t6.44 +/- 0.69\n",
      "\tbackground_drag: \t\t1.62 +/- 0.72\n",
      "\tbackground_velocity: \t\t613.52 +/- 56.56\n"
     ]
    },
    {
     "name": "stderr",
     "output_type": "stream",
     "text": [
      "2023-06-07 13:32:55.844 INFO    py3dcore.fluxplot: Using HelioSat to retrieve observer data\n"
     ]
    },
    {
     "name": "stdout",
     "output_type": "stream",
     "text": [
      "t_snap: 2022-09-06 03:00:00+00:00\n",
      "Results :\n",
      "\n",
      "\tcme_longitude: \t\t122.40 +/- 5.74\n",
      "\tcme_latitude: \t\t-1.52 +/- 8.33\n",
      "\tcme_inclination: \t\t20.55 +/- 47.98\n",
      "\tcme_diameter_1au: \t\t0.30 +/- 0.02\n",
      "\tcme_aspect_ratio: \t\t3.02 +/- 0.66\n",
      "\tcme_launch_radius: \t\t14.97 +/- 0.53\n",
      "\tcme_launch_velocity: \t\t1405.48 +/- 328.54\n",
      "\tt_factor: \t\t161.74 +/- 45.97\n",
      "\tcme_expansion_rate: \t\t1.14 +/- 0.00\n",
      "\tmagnetic_decay_rate: \t\t1.64 +/- 0.00\n",
      "\tmagnetic_field_strength_1au: \t\t6.44 +/- 0.69\n",
      "\tbackground_drag: \t\t1.62 +/- 0.72\n",
      "\tbackground_velocity: \t\t613.52 +/- 56.56\n"
     ]
    },
    {
     "name": "stderr",
     "output_type": "stream",
     "text": [
      "2023-06-07 13:32:57.678 INFO    py3dcore.fluxplot: Using HelioSat to retrieve observer data\n",
      "2023-06-07 13:32:57.677 INFO    py3dcore.fluxplot: Using HelioSat to retrieve observer data\n"
     ]
    },
    {
     "name": "stdout",
     "output_type": "stream",
     "text": [
      "t_snap:t_snap:  2022-09-06 09:00:00+00:00\n",
      "2022-09-06 06:00:00+00:00\n",
      "observer:observer:  Parker Solar Probe\n",
      "Parker Solar Probe\n"
     ]
    },
    {
     "name": "stderr",
     "output_type": "stream",
     "text": [
      "2023-06-07 13:32:57.706 INFO    py3dcore.fluxplot: Using HelioSat to retrieve observer data\n",
      "2023-06-07 13:32:57.706 INFO    py3dcore.fluxplot: Using HelioSat to retrieve observer data\n"
     ]
    },
    {
     "name": "stdout",
     "output_type": "stream",
     "text": [
      "t_snap:t_snap: 2022-09-06 06:00:00+00:00 \n",
      "2022-09-06 09:00:00+00:00\n",
      "Results :\n",
      "\n",
      "\tcme_longitude: \t\t122.40 +/- 5.74\n",
      "\tcme_latitude: \t\t-1.52 +/- 8.33\n",
      "\tcme_inclination: \t\t20.55 +/- 47.98\n",
      "\tcme_diameter_1au: \t\t0.30 +/- 0.02\n",
      "\tcme_aspect_ratio: \t\t3.02 +/- 0.66\n",
      "\tcme_launch_radius: \t\t14.97 +/- 0.53\n",
      "\tcme_launch_velocity: \t\t1405.48 +/- 328.54\n",
      "\tt_factor: \t\t161.74 +/- 45.97\n",
      "\tcme_expansion_rate: \t\t1.14 +/- 0.00\n",
      "\tmagnetic_decay_rate: \t\t1.64 +/- 0.00\n",
      "\tmagnetic_field_strength_1au: \t\t6.44 +/- 0.69\n",
      "Results :\n",
      "\tbackground_drag: \t\t1.62 +/- 0.72\n",
      "\n",
      "\tbackground_velocity: \t\t613.52 +/- 56.56\n",
      "\tcme_longitude: \t\t122.40 +/- 5.74\n",
      "\tcme_latitude: \t\t-1.52 +/- 8.33\n",
      "\tcme_inclination: \t\t20.55 +/- 47.98\n",
      "\tcme_diameter_1au: \t\t0.30 +/- 0.02\n",
      "\tcme_aspect_ratio: \t\t3.02 +/- 0.66\n",
      "\tcme_launch_radius: \t\t14.97 +/- 0.53\n",
      "\tcme_launch_velocity: \t\t1405.48 +/- 328.54\n",
      "\tt_factor: \t\t161.74 +/- 45.97\n",
      "\tcme_expansion_rate: \t\t1.14 +/- 0.00\n",
      "\tmagnetic_decay_rate: \t\t1.64 +/- 0.00\n",
      "\tmagnetic_field_strength_1au: \t\t6.44 +/- 0.69\n",
      "\tbackground_drag: \t\t1.62 +/- 0.72\n",
      "\tbackground_velocity: \t\t613.52 +/- 56.56\n"
     ]
    },
    {
     "name": "stderr",
     "output_type": "stream",
     "text": [
      "2023-06-07 13:33:00.029 INFO    py3dcore.fluxplot: Using HelioSat to retrieve observer data\n"
     ]
    },
    {
     "name": "stdout",
     "output_type": "stream",
     "text": [
      "t_snap: 2022-09-06 10:00:00+00:00\n",
      "observer: Parker Solar Probe\n"
     ]
    },
    {
     "name": "stderr",
     "output_type": "stream",
     "text": [
      "2023-06-07 13:33:00.075 INFO    py3dcore.fluxplot: Using HelioSat to retrieve observer data\n"
     ]
    },
    {
     "name": "stdout",
     "output_type": "stream",
     "text": [
      "t_snap: 2022-09-06 10:00:00+00:00\n"
     ]
    },
    {
     "name": "stderr",
     "output_type": "stream",
     "text": [
      "2023-06-07 13:33:00.155 INFO    py3dcore.fluxplot: Using HelioSat to retrieve observer data\n"
     ]
    },
    {
     "name": "stdout",
     "output_type": "stream",
     "text": [
      "t_snap: 2022-09-06 07:00:00+00:00\n",
      "observer: Parker Solar Probe\n"
     ]
    },
    {
     "name": "stderr",
     "output_type": "stream",
     "text": [
      "2023-06-07 13:33:00.179 INFO    py3dcore.fluxplot: Using HelioSat to retrieve observer data\n"
     ]
    },
    {
     "name": "stdout",
     "output_type": "stream",
     "text": [
      "t_snap: 2022-09-06 07:00:00+00:00\n",
      "Results :\n",
      "\n",
      "\tcme_longitude: \t\t122.40 +/- 5.74\n",
      "\tcme_latitude: \t\t-1.52 +/- 8.33\n",
      "\tcme_inclination: \t\t20.55 +/- 47.98\n",
      "\tcme_diameter_1au: \t\t0.30 +/- 0.02\n",
      "\tcme_aspect_ratio: \t\t3.02 +/- 0.66\n",
      "\tcme_launch_radius: \t\t14.97 +/- 0.53\n",
      "\tcme_launch_velocity: \t\t1405.48 +/- 328.54\n",
      "\tt_factor: \t\t161.74 +/- 45.97\n",
      "\tcme_expansion_rate: \t\t1.14 +/- 0.00\n",
      "\tmagnetic_decay_rate: \t\t1.64 +/- 0.00\n",
      "\tmagnetic_field_strength_1au: \t\t6.44 +/- 0.69\n",
      "\tbackground_drag: \t\t1.62 +/- 0.72\n",
      "\tbackground_velocity: \t\t613.52 +/- 56.56\n",
      "Results :\n",
      "\n",
      "\tcme_longitude: \t\t122.40 +/- 5.74\n",
      "\tcme_latitude: \t\t-1.52 +/- 8.33\n",
      "\tcme_inclination: \t\t20.55 +/- 47.98\n",
      "\tcme_diameter_1au: \t\t0.30 +/- 0.02\n",
      "\tcme_aspect_ratio: \t\t3.02 +/- 0.66\n",
      "\tcme_launch_radius: \t\t14.97 +/- 0.53\n",
      "\tcme_launch_velocity: \t\t1405.48 +/- 328.54\n",
      "\tt_factor: \t\t161.74 +/- 45.97\n",
      "\tcme_expansion_rate: \t\t1.14 +/- 0.00\n",
      "\tmagnetic_decay_rate: \t\t1.64 +/- 0.00\n",
      "\tmagnetic_field_strength_1au: \t\t6.44 +/- 0.69\n",
      "\tbackground_drag: \t\t1.62 +/- 0.72\n",
      "\tbackground_velocity: \t\t613.52 +/- 56.56\n"
     ]
    },
    {
     "name": "stderr",
     "output_type": "stream",
     "text": [
      "2023-06-07 13:33:02.273 INFO    py3dcore.fluxplot: Using HelioSat to retrieve observer data\n"
     ]
    },
    {
     "name": "stdout",
     "output_type": "stream",
     "text": [
      "t_snap: 2022-09-06 11:00:00+00:00\n",
      "observer: Parker Solar Probe\n"
     ]
    },
    {
     "name": "stderr",
     "output_type": "stream",
     "text": [
      "2023-06-07 13:33:02.295 INFO    py3dcore.fluxplot: Using HelioSat to retrieve observer data\n"
     ]
    },
    {
     "name": "stdout",
     "output_type": "stream",
     "text": [
      "t_snap: 2022-09-06 11:00:00+00:00\n"
     ]
    },
    {
     "name": "stderr",
     "output_type": "stream",
     "text": [
      "2023-06-07 13:33:02.554 INFO    py3dcore.fluxplot: Using HelioSat to retrieve observer data\n"
     ]
    },
    {
     "name": "stdout",
     "output_type": "stream",
     "text": [
      "t_snap: 2022-09-06 08:00:00+00:00\n",
      "observer: Parker Solar Probe\n"
     ]
    },
    {
     "name": "stderr",
     "output_type": "stream",
     "text": [
      "2023-06-07 13:33:02.595 INFO    py3dcore.fluxplot: Using HelioSat to retrieve observer data\n"
     ]
    },
    {
     "name": "stdout",
     "output_type": "stream",
     "text": [
      "t_snap: 2022-09-06 08:00:00+00:00\n",
      "Results :\n",
      "\n",
      "\tcme_longitude: \t\t122.40 +/- 5.74\n",
      "\tcme_latitude: \t\t-1.52 +/- 8.33\n",
      "\tcme_inclination: \t\t20.55 +/- 47.98\n",
      "\tcme_diameter_1au: \t\t0.30 +/- 0.02\n",
      "\tcme_aspect_ratio: \t\t3.02 +/- 0.66\n",
      "\tcme_launch_radius: \t\t14.97 +/- 0.53\n",
      "\tcme_launch_velocity: \t\t1405.48 +/- 328.54\n",
      "\tt_factor: \t\t161.74 +/- 45.97\n",
      "\tcme_expansion_rate: \t\t1.14 +/- 0.00\n",
      "\tmagnetic_decay_rate: \t\t1.64 +/- 0.00\n",
      "\tmagnetic_field_strength_1au: \t\t6.44 +/- 0.69\n",
      "\tbackground_drag: \t\t1.62 +/- 0.72\n",
      "\tbackground_velocity: \t\t613.52 +/- 56.56\n"
     ]
    },
    {
     "name": "stderr",
     "output_type": "stream",
     "text": [
      "2023-06-07 13:33:05.053 INFO    py3dcore.fluxplot: Using HelioSat to retrieve observer data\n"
     ]
    },
    {
     "name": "stdout",
     "output_type": "stream",
     "text": [
      "t_snap: 2022-09-06 12:00:00+00:00\n",
      "observer: Parker Solar Probe\n"
     ]
    },
    {
     "name": "stderr",
     "output_type": "stream",
     "text": [
      "2023-06-07 13:33:05.070 INFO    py3dcore.fluxplot: Using HelioSat to retrieve observer data\n"
     ]
    },
    {
     "name": "stdout",
     "output_type": "stream",
     "text": [
      "t_snap: 2022-09-06 12:00:00+00:00\n",
      "Results :\n",
      "\n",
      "\tcme_longitude: \t\t122.40 +/- 5.74\n",
      "\tcme_latitude: \t\t-1.52 +/- 8.33\n",
      "\tcme_inclination: \t\t20.55 +/- 47.98\n",
      "\tcme_diameter_1au: \t\t0.30 +/- 0.02\n",
      "\tcme_aspect_ratio: \t\t3.02 +/- 0.66\n",
      "\tcme_launch_radius: \t\t14.97 +/- 0.53\n",
      "\tcme_launch_velocity: \t\t1405.48 +/- 328.54\n",
      "\tt_factor: \t\t161.74 +/- 45.97\n",
      "\tcme_expansion_rate: \t\t1.14 +/- 0.00\n",
      "\tmagnetic_decay_rate: \t\t1.64 +/- 0.00\n",
      "\tmagnetic_field_strength_1au: \t\t6.44 +/- 0.69\n",
      "\tbackground_drag: \t\t1.62 +/- 0.72\n",
      "\tbackground_velocity: \t\t613.52 +/- 56.56\n"
     ]
    },
    {
     "name": "stderr",
     "output_type": "stream",
     "text": [
      "2023-06-07 13:33:06.963 INFO    py3dcore.fluxplot: Using HelioSat to retrieve observer data\n"
     ]
    },
    {
     "name": "stdout",
     "output_type": "stream",
     "text": [
      "t_snap: 2022-09-06 13:00:00+00:00\n",
      "observer: Parker Solar Probe\n"
     ]
    },
    {
     "name": "stderr",
     "output_type": "stream",
     "text": [
      "2023-06-07 13:33:06.976 INFO    py3dcore.fluxplot: Using HelioSat to retrieve observer data\n"
     ]
    },
    {
     "name": "stdout",
     "output_type": "stream",
     "text": [
      "t_snap: 2022-09-06 13:00:00+00:00\n"
     ]
    },
    {
     "ename": "SpiceNOTSUPPORTED",
     "evalue": "\n================================================================================\n\nToolkit version: CSPICE_N0067\n\nSPICE(NOTSUPPORTED) --\n\nUnexpected SPK type 19 subtype -73811712 found in type 19 segment within mini-segment 1.\n\nspkpos_c --> SPKPOS --> SPKEZP --> SPKGPS --> SPKPVN --> SPKR19\n\n================================================================================",
     "output_type": "error",
     "traceback": [
      "\u001b[0;31m---------------------------------------------------------------------------\u001b[0m",
      "\u001b[0;31mRemoteTraceback\u001b[0m                           Traceback (most recent call last)",
      "\u001b[0;31mRemoteTraceback\u001b[0m: \n\"\"\"\nTraceback (most recent call last):\n  File \"/Users/uteamerstorfer/miniconda3/envs/py3dcore/lib/python3.10/site-packages/multiprocess/pool.py\", line 125, in worker\n    result = (True, func(*args, **kwds))\n  File \"/Users/uteamerstorfer/miniconda3/envs/py3dcore/lib/python3.10/site-packages/multiprocess/pool.py\", line 48, in mapstar\n    return list(map(*args))\n  File \"/var/folders/8p/f6f43d0952ldf2v3pj7yp_y40000gn/T/ipykernel_86571/2728032373.py\", line 5, in make_frame\n    fig = fp.full3d(spacecraftlist=['psp', 'solo'], planetlist=['Earth'], legend=False, title=False,\n  File \"/Users/uteamerstorfer/Documents/Arbeit/3DCORE/test/py3DCORE/src/py3dcore/fluxplot.py\", line 513, in full3d\n    plot_traj(ax, sat='Solar Orbiter', t_snap=t, frame=\"HEEQ\", traj_pos=True, traj_major=traj, traj_minor=None, color=solo_color, **kwargs)\n  File \"/Users/uteamerstorfer/Documents/Arbeit/3DCORE/test/py3DCORE/src/py3dcore/fluxplot.py\", line 578, in plot_traj\n    traj = inst.trajectory([t_snap + datetime.timedelta(hours=i) for i in range(-traj_major, traj_major)], reference_frame=\"HEEQ\")\n  File \"/Users/uteamerstorfer/Documents/Arbeit/3DCORE/latestVersion/HelioSat/heliosat/spacecraft.py\", line 69, in trajectory\n    spiceypy.spkpos(\n  File \"/Users/uteamerstorfer/miniconda3/envs/py3dcore/lib/python3.10/site-packages/spiceypy/spiceypy.py\", line 138, in with_errcheck\n    res = f(*args, **kwargs)\n  File \"/Users/uteamerstorfer/miniconda3/envs/py3dcore/lib/python3.10/site-packages/spiceypy/spiceypy.py\", line 13181, in spkpos\n    check_for_spice_error(None)\n  File \"/Users/uteamerstorfer/miniconda3/envs/py3dcore/lib/python3.10/site-packages/spiceypy/spiceypy.py\", line 122, in check_for_spice_error\n    raise dynamically_instantiate_spiceyerror(\nspiceypy.utils.exceptions.SpiceNOTSUPPORTED: \n================================================================================\n\nToolkit version: CSPICE_N0067\n\nSPICE(NOTSUPPORTED) --\n\nUnexpected SPK type 19 subtype -73811712 found in type 19 segment within mini-segment 1.\n\nspkpos_c --> SPKPOS --> SPKEZP --> SPKGPS --> SPKPVN --> SPKR19\n\n================================================================================\n\"\"\"",
      "\nThe above exception was the direct cause of the following exception:\n",
      "\u001b[0;31mSpiceNOTSUPPORTED\u001b[0m                         Traceback (most recent call last)",
      "Cell \u001b[0;32mIn[19], line 5\u001b[0m\n\u001b[1;32m      1\u001b[0m inn \u001b[38;5;241m=\u001b[39m [i \u001b[38;5;28;01mfor\u001b[39;00m i \u001b[38;5;129;01min\u001b[39;00m \u001b[38;5;28mrange\u001b[39m(\u001b[38;5;241m100\u001b[39m)]\n\u001b[1;32m      4\u001b[0m mpool \u001b[38;5;241m=\u001b[39m mp\u001b[38;5;241m.\u001b[39mPool(processes\u001b[38;5;241m=\u001b[39m\u001b[38;5;241m2\u001b[39m)\n\u001b[0;32m----> 5\u001b[0m \u001b[43mmpool\u001b[49m\u001b[38;5;241;43m.\u001b[39;49m\u001b[43mmap\u001b[49m\u001b[43m(\u001b[49m\u001b[43mmake_frame\u001b[49m\u001b[43m,\u001b[49m\u001b[43m \u001b[49m\u001b[43minn\u001b[49m\u001b[43m[\u001b[49m\u001b[38;5;241;43m0\u001b[39;49m\u001b[43m:\u001b[49m\u001b[38;5;241;43m20\u001b[39;49m\u001b[43m]\u001b[49m\u001b[43m)\u001b[49m\n\u001b[1;32m      6\u001b[0m mpool\u001b[38;5;241m.\u001b[39mclose()\n\u001b[1;32m      7\u001b[0m mpool\u001b[38;5;241m.\u001b[39mjoin()\n",
      "File \u001b[0;32m~/miniconda3/envs/py3dcore/lib/python3.10/site-packages/multiprocess/pool.py:367\u001b[0m, in \u001b[0;36mPool.map\u001b[0;34m(self, func, iterable, chunksize)\u001b[0m\n\u001b[1;32m    362\u001b[0m \u001b[38;5;28;01mdef\u001b[39;00m \u001b[38;5;21mmap\u001b[39m(\u001b[38;5;28mself\u001b[39m, func, iterable, chunksize\u001b[38;5;241m=\u001b[39m\u001b[38;5;28;01mNone\u001b[39;00m):\n\u001b[1;32m    363\u001b[0m \u001b[38;5;250m    \u001b[39m\u001b[38;5;124;03m'''\u001b[39;00m\n\u001b[1;32m    364\u001b[0m \u001b[38;5;124;03m    Apply `func` to each element in `iterable`, collecting the results\u001b[39;00m\n\u001b[1;32m    365\u001b[0m \u001b[38;5;124;03m    in a list that is returned.\u001b[39;00m\n\u001b[1;32m    366\u001b[0m \u001b[38;5;124;03m    '''\u001b[39;00m\n\u001b[0;32m--> 367\u001b[0m     \u001b[38;5;28;01mreturn\u001b[39;00m \u001b[38;5;28;43mself\u001b[39;49m\u001b[38;5;241;43m.\u001b[39;49m\u001b[43m_map_async\u001b[49m\u001b[43m(\u001b[49m\u001b[43mfunc\u001b[49m\u001b[43m,\u001b[49m\u001b[43m \u001b[49m\u001b[43miterable\u001b[49m\u001b[43m,\u001b[49m\u001b[43m \u001b[49m\u001b[43mmapstar\u001b[49m\u001b[43m,\u001b[49m\u001b[43m \u001b[49m\u001b[43mchunksize\u001b[49m\u001b[43m)\u001b[49m\u001b[38;5;241;43m.\u001b[39;49m\u001b[43mget\u001b[49m\u001b[43m(\u001b[49m\u001b[43m)\u001b[49m\n",
      "File \u001b[0;32m~/miniconda3/envs/py3dcore/lib/python3.10/site-packages/multiprocess/pool.py:774\u001b[0m, in \u001b[0;36mApplyResult.get\u001b[0;34m(self, timeout)\u001b[0m\n\u001b[1;32m    772\u001b[0m     \u001b[38;5;28;01mreturn\u001b[39;00m \u001b[38;5;28mself\u001b[39m\u001b[38;5;241m.\u001b[39m_value\n\u001b[1;32m    773\u001b[0m \u001b[38;5;28;01melse\u001b[39;00m:\n\u001b[0;32m--> 774\u001b[0m     \u001b[38;5;28;01mraise\u001b[39;00m \u001b[38;5;28mself\u001b[39m\u001b[38;5;241m.\u001b[39m_value\n",
      "\u001b[0;31mSpiceNOTSUPPORTED\u001b[0m: \n================================================================================\n\nToolkit version: CSPICE_N0067\n\nSPICE(NOTSUPPORTED) --\n\nUnexpected SPK type 19 subtype -73811712 found in type 19 segment within mini-segment 1.\n\nspkpos_c --> SPKPOS --> SPKEZP --> SPKGPS --> SPKPVN --> SPKR19\n\n================================================================================"
     ]
    }
   ],
   "source": [
    "inn = [i for i in range(100)]\n",
    "\n",
    "\n",
    "mpool = mp.Pool(processes=2)\n",
    "mpool.map(make_frame, inn[0:20])\n",
    "mpool.close()\n",
    "mpool.join()\n",
    "\n",
    "print('done 1/4')\n",
    "\n",
    "mpool = mp.Pool(processes=2)\n",
    "mpool.map(make_frame, inn[20:40])\n",
    "mpool.close()\n",
    "mpool.join()\n",
    "\n",
    "print('done 2/4')\n",
    "\n",
    "mpool = mp.Pool(processes=2)\n",
    "mpool.map(make_frame, inn[40:60])\n",
    "mpool.close()\n",
    "mpool.join()\n",
    "\n",
    "print('done 3/4')\n",
    "\n",
    "mpool = mp.Pool(processes=2)\n",
    "mpool.map(make_frame, inn[60:100])\n",
    "mpool.close()\n",
    "mpool.join()\n",
    "\n",
    "print('done 4/4')"
   ]
  },
  {
   "cell_type": "code",
   "execution_count": null,
   "id": "9c2909f7",
   "metadata": {},
   "outputs": [],
   "source": [
    "os.system('ffmpeg -r 25 -i '+filepath[:-7]+'movie_3d/%05d.jpg -b 5000k -r 25 '+filepath[:-7]+'movie_3d/full_3d_movie.mp4 -y -loglevel quiet')"
   ]
  },
  {
   "cell_type": "markdown",
   "id": "40b79ca5",
   "metadata": {},
   "source": [
    "### plot fluxrope 3d multiview"
   ]
  },
  {
   "cell_type": "code",
   "execution_count": null,
   "id": "d3ff7035",
   "metadata": {},
   "outputs": [],
   "source": [
    "fig = fp.full3d_multiview(tm1, filepath=filepath)"
   ]
  },
  {
   "cell_type": "markdown",
   "id": "23b7da0c",
   "metadata": {},
   "source": [
    "### make fluxrope 3d multiview movie"
   ]
  },
  {
   "cell_type": "code",
   "execution_count": null,
   "id": "6a02bbfa",
   "metadata": {},
   "outputs": [],
   "source": [
    "def make_frame2(k):\n",
    "    tm0 = datetime.datetime(2022, 9, 5, 19)\n",
    "    t = tm0 + k*datetime.timedelta(hours=1)\n",
    "    frametime = k\n",
    "    \n",
    "    fig = fp.full3d_multiview_movie(t_launch = tm0, t = t, filepath=filepath,\n",
    "                                    frametime=k)\n",
    "    frmstr = '%05i' % (k) \n",
    "    plt.savefig(filepath[:-7] + 'movie_3d_multiview/'+frmstr+'.jpg',dpi=200)  \n",
    "    return fig"
   ]
  },
  {
   "cell_type": "code",
   "execution_count": null,
   "id": "25c7e877",
   "metadata": {},
   "outputs": [],
   "source": [
    "inn=[i for i in range(100)]\n",
    "\n",
    "\n",
    "mpool = multiprocessing.Pool(processes=5)\n",
    "mpool.map(make_frame2, inn[0:20])\n",
    "mpool.close()\n",
    "mpool.join()\n",
    "\n",
    "print('done 1/4')\n",
    "\n",
    "mpool = multiprocessing.Pool(processes=5)\n",
    "mpool.map(make_frame2, inn[20:40])\n",
    "mpool.close()\n",
    "mpool.join()\n",
    "\n",
    "print('done 2/4')\n",
    "\n",
    "mpool = multiprocessing.Pool(processes=5)\n",
    "mpool.map(make_frame2, inn[40:60])\n",
    "mpool.close()\n",
    "mpool.join()\n",
    "\n",
    "print('done 3/4')\n",
    "\n",
    "mpool = multiprocessing.Pool(processes=5)\n",
    "mpool.map(make_frame2, inn[40:80])\n",
    "mpool.close()\n",
    "mpool.join()\n",
    "\n",
    "print('done 4/4')"
   ]
  },
  {
   "cell_type": "code",
   "execution_count": null,
   "id": "59ce1272",
   "metadata": {},
   "outputs": [],
   "source": [
    "os.system('ffmpeg -r 25 -i '+filepath[:-7]+'movie_3d_multiview/%05d.jpg -b 5000k -r 25 '+filepath[:-7]+'movie_3d/full_3d_multiview_movie.mp4 -y -loglevel quiet')"
   ]
  },
  {
   "cell_type": "markdown",
   "id": "bb8c11be",
   "metadata": {},
   "source": [
    "# Used for Debug"
   ]
  },
  {
   "cell_type": "code",
   "execution_count": null,
   "id": "244eec5a",
   "metadata": {},
   "outputs": [],
   "source": [
    "TP_A =  t_launch + datetime.timedelta(hours=2)\n",
    "TP_B =  t_launch + datetime.timedelta(hours=40)\n",
    "\n",
    "\n",
    "C_A = \"xkcd:red\"\n",
    "C_B = \"xkcd:blue\"\n",
    "    \n",
    "sns.set_style('whitegrid')\n",
    "\n",
    "fig = plt.figure(figsize=(15, 11),dpi=100)\n",
    "\n",
    "ax1 = plt.subplot2grid((2, 3), (0, 0),rowspan=2,colspan=2,projection='3d')  \n",
    "ax2 = plt.subplot2grid((2, 3), (0, 2),projection='3d')  \n",
    "ax3 = plt.subplot2grid((2, 3), (1, 2),projection='3d')  \n",
    "\n",
    "model_obj = fp.returnmodel(filepath)\n",
    "\n",
    "\n",
    "fp.plot_configure(ax1, view_azim=150, view_elev=25, view_radius=.2,light_source=True) #view_radius=.08\n",
    "\n",
    "fp.plot_3dcore(ax1, model_obj, TP_A, color=C_A,light_source = True)\n",
    "fp.plot_3dcore(ax1, model_obj, TP_B, color=C_B,light_source = True)\n",
    "\n",
    "fp.plot_shift(ax1,0.31,-0.25,0.0,-0.2)\n",
    "\n",
    "\n",
    "fp.plot_configure(ax2, view_azim=165-90, view_elev=90, view_radius=.08,light_source=True)\n",
    "    \n",
    "fp.plot_3dcore(ax2, model_obj, TP_A, color=C_A,light_source = True)\n",
    "fp.plot_3dcore(ax2, model_obj, TP_B, color=C_B,light_source = True)\n",
    "\n",
    "fp.plot_shift(ax2,0.26,-0.41,0.08,0.0)\n",
    "\n",
    "\n",
    "\n",
    "fp.plot_configure(ax3, view_azim=65, view_elev=-5, view_radius=.01,light_source=True)\n",
    "    \n",
    "fp.plot_3dcore(ax3, model_obj, TP_A, color=C_A,light_source = True)\n",
    "fp.plot_3dcore(ax3, model_obj, TP_B, color=C_B,light_source = True)\n",
    "\n",
    "fp.plot_shift(ax3,0.26,-0.41,0.08,0.0)\n",
    "\n"
   ]
  },
  {
   "cell_type": "code",
   "execution_count": null,
   "id": "500b2200",
   "metadata": {},
   "outputs": [],
   "source": []
  },
  {
   "cell_type": "code",
   "execution_count": null,
   "id": "a2d28aca",
   "metadata": {},
   "outputs": [],
   "source": []
  }
 ],
 "metadata": {
  "kernelspec": {
   "display_name": "Python 3 (ipykernel)",
   "language": "python",
   "name": "python3"
  },
  "language_info": {
   "codemirror_mode": {
    "name": "ipython",
    "version": 3
   },
   "file_extension": ".py",
   "mimetype": "text/x-python",
   "name": "python",
   "nbconvert_exporter": "python",
   "pygments_lexer": "ipython3",
   "version": "3.10.10"
  }
 },
 "nbformat": 4,
 "nbformat_minor": 5
}
