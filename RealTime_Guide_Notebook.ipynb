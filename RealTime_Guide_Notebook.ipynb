{
 "cells": [
  {
   "cell_type": "code",
   "execution_count": 227,
   "id": "b061c3e7",
   "metadata": {
    "scrolled": true
   },
   "outputs": [],
   "source": [
    "import numpy as np\n",
    "import pandas as pd\n",
    "from datetime import datetime, timedelta\n",
    "\n",
    "from spacepy import pycdf\n",
    "import spiceypy\n",
    "import os.path\n",
    "import glob\n",
    "import urllib.request\n",
    "import json\n",
    "\n",
    "# import spacepy.toolbox as tb\n",
    "# tb.update(leapsecs=True)\n",
    "\n",
    "#Plotly imports\n",
    "from plotly.subplots import make_subplots\n",
    "import plotly.graph_objects as go\n",
    "import plotly.io as pio\n",
    "pio.renderers.default = 'browser'\n",
    "\n",
    "#direct to where Solar Orbiter data functions are\n",
    "import sys\n",
    "sys.path.insert(1, '/Volumes/External/Computer_Backup_20230207/Python Scripts/SC_DATA')\n",
    "import functions_solo as solo_data\n",
    "import functions_sta_beacon as sta_data\n",
    "import functions_noaa as dscovr_data\n",
    "\n",
    "import positions_solo as solo_pos\n",
    "import positions_sta as sta_pos\n",
    "\n",
    "import coord_transforms as transform"
   ]
  },
  {
   "cell_type": "markdown",
   "id": "80c42976",
   "metadata": {},
   "source": [
    "# Load in Solar Orbiter data and positions"
   ]
  },
  {
   "cell_type": "markdown",
   "id": "eee154c8",
   "metadata": {},
   "source": [
    "### Available functions for MAG include:\n",
    "##### Internal files: get_solomag_range_formagonly_internal\n",
    "e.g. solo_L2_mag-rtn-ll-internal_20230225_V00.cdf\n",
    "##### For MAG only files: get_solomag_range_formagonly\n",
    "e.g. solo_L2_mag-rtn-normal-formagonly_20200415_V01.cdf\n",
    "##### For MAG only 1 minute res files: get_solomag_range_formagonly_1min\n",
    "e.g. solo_L2_mag-rtn-normal-1-minute-formagonly_20200419_V01.cdf\n",
    "##### For public data, 1 second resolution: get_solomag_range_1sec\n",
    "e.g. solo_L2_mag-rtn-normal_20211006.cdf\n",
    "##### For public data, 1 minute resolution: get_solomag_range_1min\n",
    "e.g. solo_L2_mag-rtn-normal-1-minute_20200415.cdf"
   ]
  },
  {
   "cell_type": "code",
   "execution_count": 228,
   "id": "7a778e73",
   "metadata": {},
   "outputs": [],
   "source": [
    "#input start and end time of data received\n",
    "start_timestamp = datetime(2023, 3, 21)\n",
    "end_timestamp = datetime(2023, 3, 23)"
   ]
  },
  {
   "cell_type": "code",
   "execution_count": 229,
   "id": "fbab7d0c",
   "metadata": {},
   "outputs": [],
   "source": [
    "#load in data between timestamps provided, returns DataFrame\n",
    "#may need to include path='data location' in function\n",
    "solo_mag = solo_data.get_solomag_range_formagonly_internal(start_timestamp, end_timestamp).reset_index(drop=True)"
   ]
  },
  {
   "cell_type": "code",
   "execution_count": 230,
   "id": "534d6943",
   "metadata": {},
   "outputs": [],
   "source": [
    "#get spacecraft positions in HEEQ from timestamps of mag data\n",
    "#function may need updated kernels\n",
    "solo_pos = solo_pos.get_solo_positions(solo_mag['timestamp'])"
   ]
  },
  {
   "cell_type": "code",
   "execution_count": 231,
   "id": "a386c664",
   "metadata": {},
   "outputs": [],
   "source": [
    "#join both dataframes together at timestamp, preserving index\n",
    "solo_df = solo_mag.join(solo_pos.set_index('timestamp'), on='timestamp')"
   ]
  },
  {
   "cell_type": "code",
   "execution_count": 232,
   "id": "a127cae3",
   "metadata": {},
   "outputs": [],
   "source": [
    "t_now_date = datetime.utcnow().strftime(\"%Y-%m-%d\")\n",
    "#pickle dataframe\n",
    "solo_df.to_pickle(f\"./solo_df_{t_now_date}.pkl\")"
   ]
  },
  {
   "cell_type": "code",
   "execution_count": 233,
   "id": "d71d5ae0",
   "metadata": {},
   "outputs": [],
   "source": [
    "# clear kernels from loading positions (otherwise new kernels for other missions cannot be loaded below)\n",
    "spiceypy.kclear()"
   ]
  },
  {
   "cell_type": "code",
   "execution_count": 234,
   "id": "ad94fddc",
   "metadata": {},
   "outputs": [],
   "source": [
    "#unpickle dataframe\n",
    "# solo_df = pd.read_pickle(\"./solo_df.pkl\")"
   ]
  },
  {
   "cell_type": "markdown",
   "id": "dd21ab96",
   "metadata": {},
   "source": [
    "# Plot Solar Orbiter MAG Data"
   ]
  },
  {
   "cell_type": "code",
   "execution_count": 235,
   "id": "418c224a",
   "metadata": {},
   "outputs": [],
   "source": [
    "t_start = solo_df['timestamp'][0]\n",
    "t_end = solo_df['timestamp'][solo_df.shape[0]-1]\n",
    "\n",
    "t_now = datetime.utcnow()\n",
    "lag = (t_now-t_end)/timedelta(hours=1)\n",
    "\n",
    "r_recent = solo_df['r'][solo_df.shape[0]-1]\n",
    "lat_recent = solo_df['lat'][solo_df.shape[0]-1]\n",
    "lon_recent = solo_df['lon'][solo_df.shape[0]-1]"
   ]
  },
  {
   "cell_type": "markdown",
   "id": "f2872358",
   "metadata": {},
   "source": [
    "## Create with Plotly (for interactive/ selection of boundaries)"
   ]
  },
  {
   "cell_type": "code",
   "execution_count": 236,
   "id": "767efbf9",
   "metadata": {},
   "outputs": [],
   "source": [
    "nrows = 1\n",
    "fig = make_subplots(rows=nrows, cols=1, shared_xaxes=True)\n",
    "\n",
    "for column, color in zip(['b_x', 'b_y', 'b_z', 'b_tot'], ['red', 'green', 'blue', 'black']):\n",
    "    fig.add_trace(\n",
    "        go.Scatter(\n",
    "            x=solo_df['timestamp'],\n",
    "            y=solo_df[column],\n",
    "            name=column.upper(),\n",
    "            line_color=color\n",
    "        ),\n",
    "        row=1, col=1\n",
    "    )\n",
    "\n",
    "fig.update_yaxes(title_text='B [nT]', row=1, col=1)\n",
    "\n",
    "fig.update_yaxes(showgrid=True, zeroline=False, showticklabels=True,\n",
    "                     showspikes=True, spikemode='across', spikesnap='cursor', showline=False, spikedash='solid', spikethickness=1)\n",
    "fig.update_xaxes(showgrid=True, zeroline=False, showticklabels=True, rangeslider_visible=False,\n",
    "                     showspikes=True, spikemode='across', spikesnap='cursor', showline=False, spikedash='solid', spikethickness=1)\n",
    "\n",
    "fig.update_layout(\n",
    "    title=f'SolO MAG Data from {t_start} to {t_end} <br>Latest SolO Position: r = {r_recent:.2f} AU, lat = {lat_recent:.2f}, lon = {lon_recent:.2f} <br>Time lag to current time: {lag:.2f} hours')\n",
    "\n",
    "fig.write_html(f'/Users/emmadavies/Documents/ASWO/RealTime_Preparation/SolO_MAG_{t_now_date}.html')\n",
    "\n",
    "fig.show()\n"
   ]
  },
  {
   "cell_type": "markdown",
   "id": "a6e9760e",
   "metadata": {},
   "source": [
    "# NOAA Realtime Data (Past 7 days)\n",
    "\n",
    "##### Calling directly from json file: json files weren't producing same data as seen on the realtime plots at https://www.swpc.noaa.gov/products/real-time-solar-wind until Mar 21, so download file manually and load using 'get_noaa_realtime_alt()' if this is the case "
   ]
  },
  {
   "cell_type": "code",
   "execution_count": 259,
   "id": "ae6d48d5",
   "metadata": {},
   "outputs": [],
   "source": [
    "# noaa_mag_gsm = dscovr_data.get_noaa_realtime_alt()\n",
    "noaa_mag_gsm = dscovr_data.get_noaa_mag_realtime_7days()"
   ]
  },
  {
   "cell_type": "code",
   "execution_count": 260,
   "id": "9013d173",
   "metadata": {},
   "outputs": [],
   "source": [
    "#transform from GSM to RTN approx\n",
    "noaa_mag = transform.GSM_to_RTN_approx(noaa_mag_gsm)"
   ]
  },
  {
   "cell_type": "code",
   "execution_count": 261,
   "id": "6f954f15",
   "metadata": {},
   "outputs": [],
   "source": [
    "noaa_plas = dscovr_data.get_noaa_plas_realtime_7days()"
   ]
  },
  {
   "cell_type": "code",
   "execution_count": 262,
   "id": "d447f5de",
   "metadata": {},
   "outputs": [],
   "source": [
    "noaa_df = noaa_mag.join(noaa_plas.set_index('timestamp'), on='timestamp')\n",
    "noaa_df['timestamp'] = pd.to_datetime(noaa_df['timestamp'])\n",
    "\n",
    "t_now_date_hour = datetime.utcnow().strftime(\"%Y-%m-%d_%H\")\n",
    "\n",
    "#pickle dataframe\n",
    "noaa_df.to_pickle(f\"./noaa_df_{t_now_date_hour}.pkl\")"
   ]
  },
  {
   "cell_type": "code",
   "execution_count": 263,
   "id": "460aa3a0",
   "metadata": {},
   "outputs": [],
   "source": [
    "#unpickle dataframe\n",
    "# noaa_df = pd.read_pickle(\"./noaa_df.pkl\")"
   ]
  },
  {
   "cell_type": "code",
   "execution_count": 264,
   "id": "53d225bb",
   "metadata": {},
   "outputs": [],
   "source": [
    "t_start_noaa = noaa_df['timestamp'][0]\n",
    "t_end_noaa = noaa_df['timestamp'][noaa_df.shape[0]-1]\n",
    "\n",
    "t_now = datetime.utcnow()\n",
    "lag_noaa = (t_now-t_end_noaa)/timedelta(hours=1)"
   ]
  },
  {
   "cell_type": "code",
   "execution_count": 265,
   "id": "cfd52169",
   "metadata": {},
   "outputs": [],
   "source": [
    "nrows = 4\n",
    "\n",
    "fig = make_subplots(rows=nrows, cols=1, shared_xaxes=True)\n",
    "\n",
    "#MAG\n",
    "for column, color in zip(['b_x', 'b_y', 'b_z', 'b_tot'], ['red', 'green', 'blue', 'black']):\n",
    "    fig.add_trace(\n",
    "        go.Scatter(\n",
    "            x=noaa_df['timestamp'],\n",
    "            y=noaa_df[column],\n",
    "            name=column.upper(),\n",
    "            line_color=color\n",
    "        ),\n",
    "        row=1, col=1\n",
    "    )\n",
    "\n",
    "\n",
    "#SWE\n",
    "for column, color in zip(['v_bulk'], ['black']):\n",
    "    fig.add_trace(\n",
    "        go.Scatter(\n",
    "            x=noaa_df['timestamp'],\n",
    "            y=noaa_df[column],\n",
    "            name=column.upper(),\n",
    "            line_color=color\n",
    "        ),\n",
    "        row=2, col=1\n",
    "    )\n",
    "\n",
    "for column, color in zip(['temperature'], ['#562170']):\n",
    "    fig.add_trace(\n",
    "        go.Scatter(\n",
    "            x=noaa_df['timestamp'],\n",
    "            y=noaa_df[column],\n",
    "            name=column.upper(),\n",
    "            line_color=color\n",
    "        ),\n",
    "        row=3, col=1\n",
    "    )\n",
    "\n",
    "for column, color in zip(['density'], ['#562170']):\n",
    "    fig.add_trace(\n",
    "        go.Scatter(\n",
    "            x=noaa_df['timestamp'],\n",
    "            y=noaa_df[column],\n",
    "            name=column.upper(),\n",
    "            line_color=color\n",
    "        ),\n",
    "        row=4, col=1\n",
    "    )\n",
    "\n",
    "fig.update_yaxes(title_text='B [nT] RTN', row=1, col=1)\n",
    "fig.update_yaxes(title_text='V [km/s]', row=2, col=1)\n",
    "fig.update_yaxes(title_text='temp', row=3, col=1)\n",
    "fig.update_yaxes(title_text='density', row=4, col=1)\n",
    "\n",
    "fig.update_yaxes(showgrid=True, zeroline=False, showticklabels=True,\n",
    "                     showspikes=True, spikemode='across', spikesnap='cursor', showline=False, spikedash='solid', spikethickness=1)\n",
    "fig.update_xaxes(showgrid=True, zeroline=False, showticklabels=True, rangeslider_visible=False,\n",
    "                     showspikes=True, spikemode='across', spikesnap='cursor', showline=False, spikedash='solid', spikethickness=1)\n",
    "\n",
    "fig.add_vline(x=t_now)\n",
    "\n",
    "fig.update_layout(\n",
    "    title=f'NOAA Realtime Data for {t_start_noaa} to {t_end_noaa} <br>Time lag to current time: {lag_noaa:.2f} hours')\n",
    "#<br>Latest STA Position: r = {r_recent_sta:.2f} AU, lat = {lat_recent_sta:.2f}, lon = {lon_recent_sta:.2f}\n",
    "\n",
    "fig.write_html(f'/Users/emmadavies/Documents/ASWO/RealTime_Preparation/NOAA_MAG_PLAS_{t_now_date_hour}.html')\n"
   ]
  },
  {
   "cell_type": "markdown",
   "id": "4d47e951",
   "metadata": {},
   "source": [
    "### STEREO A Beacon Data (Past 7 days)"
   ]
  },
  {
   "cell_type": "markdown",
   "id": "7923a26e",
   "metadata": {},
   "source": [
    "##### download codes will work but seem to download corrupt files: may need to manually download cdfs everyday\n",
    "##### mag: https://spdf.gsfc.nasa.gov/pub/data/stereo/ahead/beacon/2023\n",
    "##### plas: https://spdf.gsfc.nasa.gov/pub/data/stereo/ahead/beacon_plastic/2023"
   ]
  },
  {
   "cell_type": "code",
   "execution_count": 54,
   "id": "083c22a8",
   "metadata": {},
   "outputs": [],
   "source": [
    "# download_sta_beacon_mag()\n",
    "# download_sta_beacon_plas()"
   ]
  },
  {
   "cell_type": "code",
   "execution_count": 244,
   "id": "dc25a826",
   "metadata": {},
   "outputs": [
    {
     "name": "stderr",
     "output_type": "stream",
     "text": [
      "/opt/anaconda3/lib/python3.9/site-packages/pandas/core/indexing.py:1732: SettingWithCopyWarning:\n",
      "\n",
      "\n",
      "A value is trying to be set on a copy of a slice from a DataFrame\n",
      "\n",
      "See the caveats in the documentation: https://pandas.pydata.org/pandas-docs/stable/user_guide/indexing.html#returning-a-view-versus-a-copy\n",
      "\n"
     ]
    }
   ],
   "source": [
    "sta_plas = sta_data.get_sta_beacon_plas_7days().reset_index(drop=True)\n",
    "sta_mag = sta_data.get_sta_beacon_mag_7days().reset_index(drop=True)"
   ]
  },
  {
   "cell_type": "code",
   "execution_count": 245,
   "id": "f2ef93a3",
   "metadata": {},
   "outputs": [],
   "source": [
    "#resample data to 1 minute cadence\n",
    "rdf_plas_sta = sta_plas.set_index('timestamp')[['density', 'temperature', 'v_x', 'v_y', 'v_z', 'v_bulk']].resample('1min').mean().reset_index()\n",
    "rdf_mag_sta = sta_mag.set_index('timestamp')[['b_x', 'b_y', 'b_z', 'b_tot']].resample('1min').mean().reset_index()"
   ]
  },
  {
   "cell_type": "code",
   "execution_count": 246,
   "id": "5b4368c0",
   "metadata": {},
   "outputs": [],
   "source": [
    "#get positions from timestamps of resampled 1min mag data\n",
    "sta_positions = sta_pos.get_sta_positions(rdf_mag_sta['timestamp'])"
   ]
  },
  {
   "cell_type": "code",
   "execution_count": 247,
   "id": "f73663f8",
   "metadata": {},
   "outputs": [],
   "source": [
    "#join mag, plas and position dataframes together at timestamp, preserving index\n",
    "sta_df = rdf_mag_sta.join(rdf_plas_sta.set_index('timestamp'), on='timestamp').join(sta_positions.set_index('timestamp'), on='timestamp')"
   ]
  },
  {
   "cell_type": "code",
   "execution_count": 248,
   "id": "7ccdebe3",
   "metadata": {},
   "outputs": [],
   "source": [
    "t_now_date = datetime.utcnow().strftime(\"%Y-%m-%d\")\n",
    "#pickle dataframe\n",
    "sta_df.to_pickle(f\"./sta_df_{t_now_date}.pkl\")"
   ]
  },
  {
   "cell_type": "code",
   "execution_count": 249,
   "id": "4b37085f",
   "metadata": {},
   "outputs": [],
   "source": [
    "#clear spice kernels\n",
    "spiceypy.kclear()"
   ]
  },
  {
   "cell_type": "code",
   "execution_count": 250,
   "id": "40a18fb5",
   "metadata": {},
   "outputs": [],
   "source": [
    "#unpickle dataframe\n",
    "# sta_df = pd.read_pickle(\"./sta_df.pkl\")"
   ]
  },
  {
   "cell_type": "code",
   "execution_count": 251,
   "id": "ec57cd8a",
   "metadata": {},
   "outputs": [],
   "source": [
    "t_start_sta = sta_mag['timestamp'][0]\n",
    "t_end_sta = sta_mag['timestamp'][sta_mag.shape[0]-1]\n",
    "\n",
    "t_now = datetime.utcnow()\n",
    "lag_sta = (t_now-t_end_sta)/timedelta(hours=1)\n",
    "\n",
    "r_recent_sta = sta_positions['r'][sta_positions.shape[0]-1]\n",
    "lat_recent_sta = sta_positions['lat'][sta_positions.shape[0]-1]\n",
    "lon_recent_sta = sta_positions['lon'][sta_positions.shape[0]-1]"
   ]
  },
  {
   "cell_type": "code",
   "execution_count": 252,
   "id": "aaffa7e7",
   "metadata": {},
   "outputs": [],
   "source": [
    "nrows = 4\n",
    "\n",
    "fig = make_subplots(rows=nrows, cols=1, shared_xaxes=True)\n",
    "\n",
    "#STA MAG\n",
    "for column, color in zip(['b_x', 'b_y', 'b_z', 'b_tot'], ['red', 'green', 'blue', 'black']):\n",
    "    fig.add_trace(\n",
    "        go.Scatter(\n",
    "            x=sta_df['timestamp'],\n",
    "            y=sta_df[column],\n",
    "            name=column.upper(),\n",
    "            line_color=color\n",
    "        ),\n",
    "        row=1, col=1\n",
    "    )\n",
    "\n",
    "\n",
    "#SWE\n",
    "for column, color in zip(['v_bulk', 'v_x', 'v_y', 'v_z'], ['black', 'red', 'green', 'blue']):\n",
    "    fig.add_trace(\n",
    "        go.Scatter(\n",
    "            x=sta_df['timestamp'],\n",
    "            y=sta_df[column],\n",
    "            name=column.upper(),\n",
    "            line_color=color\n",
    "        ),\n",
    "        row=2, col=1\n",
    "    )\n",
    "\n",
    "for column, color in zip(['temperature'], ['#562170']):\n",
    "    fig.add_trace(\n",
    "        go.Scatter(\n",
    "            x=sta_df['timestamp'],\n",
    "            y=sta_df[column],\n",
    "            name=column.upper(),\n",
    "            line_color=color\n",
    "        ),\n",
    "        row=3, col=1\n",
    "    )\n",
    "\n",
    "for column, color in zip(['density'], ['#562170']):\n",
    "    fig.add_trace(\n",
    "        go.Scatter(\n",
    "            x=sta_df['timestamp'],\n",
    "            y=sta_df[column],\n",
    "            name=column.upper(),\n",
    "            line_color=color\n",
    "        ),\n",
    "        row=4, col=1\n",
    "    )\n",
    "\n",
    "fig.update_yaxes(title_text='B [nT]', row=1, col=1)\n",
    "fig.update_yaxes(title_text='V [km/s]', row=2, col=1)\n",
    "fig.update_yaxes(title_text='temp', row=3, col=1)\n",
    "fig.update_yaxes(title_text='density', row=4, col=1)\n",
    "\n",
    "fig.update_yaxes(showgrid=True, zeroline=False, showticklabels=True,\n",
    "                     showspikes=True, spikemode='across', spikesnap='cursor', showline=False, spikedash='solid', spikethickness=1)\n",
    "fig.update_xaxes(showgrid=True, zeroline=False, showticklabels=True, rangeslider_visible=False,\n",
    "                     showspikes=True, spikemode='across', spikesnap='cursor', showline=False, spikedash='solid', spikethickness=1)\n",
    "\n",
    "fig.add_vline(x=t_now)\n",
    "\n",
    "fig.update_layout(\n",
    "    title=f'STA Beacon Data for {t_start_sta} to {t_end_sta} <br>Latest STA Position: r = {r_recent_sta:.2f} AU, lat = {lat_recent_sta:.2f}, lon = {lon_recent_sta:.2f}<br>Time lag to current time: {lag_sta:.2f} hours')\n",
    "\n",
    "fig.write_html(f'/Users/emmadavies/Documents/ASWO/RealTime_Preparation/STA_MAG_PLAS_{t_now_date}.html')\n"
   ]
  },
  {
   "cell_type": "markdown",
   "id": "fb5d3129",
   "metadata": {},
   "source": [
    "# If pkl files have been made, can use just these files from here"
   ]
  },
  {
   "cell_type": "code",
   "execution_count": 266,
   "id": "57520502",
   "metadata": {},
   "outputs": [],
   "source": [
    "# unpickle dataframes\n",
    "solo_df = pd.read_pickle(f\"./solo_df_{t_now_date}.pkl\")\n",
    "noaa_df = pd.read_pickle(f\"./noaa_df_{t_now_date_hour}.pkl\")\n",
    "sta_df = pd.read_pickle(f\"./sta_df_{t_now_date}.pkl\")"
   ]
  },
  {
   "cell_type": "markdown",
   "id": "5bdb8118",
   "metadata": {},
   "source": [
    "## Time Shift and Scale SolO data"
   ]
  },
  {
   "cell_type": "code",
   "execution_count": 267,
   "id": "ce3e5c47",
   "metadata": {},
   "outputs": [
    {
     "name": "stdout",
     "output_type": "stream",
     "text": [
      "Distance SolO to Earth = 0.52 AU\n",
      "Constant speed 450 kms/from SolO to Earth\n",
      "Time Delay = 47.74 hours\n"
     ]
    }
   ],
   "source": [
    "solo_df_ts = solo_df.copy(deep=True)\n",
    "\n",
    "#solo positions (most recent)\n",
    "r_solo = solo_df['r'][solo_df.shape[0]-1]\n",
    "lat_solo = solo_df['lat'][solo_df.shape[0]-1]\n",
    "lon_solo = solo_df['lon'][solo_df.shape[0]-1]\n",
    "\n",
    "#Earth radial dist\n",
    "re = 0.992854\n",
    "r_sep = re-r_solo\n",
    "\n",
    "print(f'Distance SolO to Earth = {r_sep:.2f} AU')\n",
    "\n",
    "v_cme = 450\n",
    "print(f'Constant speed {v_cme} kms/from SolO to Earth')\n",
    "\n",
    "au = 1.495978707E11 #divide from au to metres\n",
    "\n",
    "t_delay=r_sep*au/(v_cme*1e3)/3600  #m, m/s, convert seconds to hours\n",
    "print(f'Time Delay = {t_delay:.2f} hours')\n",
    "\n",
    "solo_df_ts['timestamp'] = solo_df['timestamp']+timedelta(hours=t_delay)\n",
    "\n",
    "#leitner scaling relationship for B field strength\n",
    "solo_df_ts['b_tot'] = solo_df['b_tot']*(re/r_solo)**(-1.64)\n",
    "solo_df_ts['b_x'] = solo_df['b_x']*(re/r_solo)**(-1.64)\n",
    "solo_df_ts['b_y'] = solo_df['b_y']*(re/r_solo)**(-1.64)\n",
    "solo_df_ts['b_z'] = solo_df['b_z']*(re/r_solo)**(-1.64)\n",
    "#lower bound\n",
    "solo_df_ts['b_tot_lb'] = solo_df['b_tot']*(re/r_solo)**(-2)\n",
    "solo_df_ts['b_x_lb'] = solo_df['b_x']*(re/r_solo)**(-2)\n",
    "solo_df_ts['b_y_lb'] = solo_df['b_y']*(re/r_solo)**(-2)\n",
    "solo_df_ts['b_z_lb'] = solo_df['b_z']*(re/r_solo)**(-2)\n",
    "#upper bound\n",
    "solo_df_ts['b_tot_ub'] = solo_df['b_tot']*(re/r_solo)**(-1)\n",
    "solo_df_ts['b_x_ub'] = solo_df['b_x']*(re/r_solo)**(-1)\n",
    "solo_df_ts['b_y_ub'] = solo_df['b_y']*(re/r_solo)**(-1)\n",
    "solo_df_ts['b_z_ub'] = solo_df['b_z']*(re/r_solo)**(-1)"
   ]
  },
  {
   "cell_type": "markdown",
   "id": "63bcbba9",
   "metadata": {},
   "source": [
    "### Boundary propagation (radial, simple), error window"
   ]
  },
  {
   "cell_type": "code",
   "execution_count": 268,
   "id": "243de2a8",
   "metadata": {},
   "outputs": [],
   "source": [
    "def timeshift_boundary(datetime, df, lower_speed, upper_speed):\n",
    "    idx = df.set_index('timestamp').index.get_loc(datetime, method='nearest')\n",
    "    r = df['r'].iloc[idx]\n",
    "    lat = df['lat'].iloc[idx]\n",
    "    lon = df['lon'].iloc[idx]\n",
    "    t = df['timestamp'].iloc[idx]\n",
    "    \n",
    "    t_ts = df['timestamp'].iloc[idx]+timedelta(hours=t_delay)\n",
    "    \n",
    "    re = 0.992854\n",
    "    au = 1.495978707E11 #divide from au to metres\n",
    "    \n",
    "    r_sep = re-r\n",
    "\n",
    "    t_delay_lb = (r_sep)*au/(upper_speed*1e3)/3600  #m, m/s, convert seconds to hours\n",
    "    t_delay_ub = (r_sep)*au/(lower_speed*1e3)/3600\n",
    "    \n",
    "    t_ts_ub = df['timestamp'].iloc[idx]+timedelta(hours=t_delay_ub)\n",
    "    t_ts_lb = df['timestamp'].iloc[idx]+timedelta(hours=t_delay_lb)\n",
    "    \n",
    "    return t, t_ts_lb, t_ts_ub"
   ]
  },
  {
   "cell_type": "markdown",
   "id": "2c948575",
   "metadata": {},
   "source": [
    "#### Define SolO boundaries"
   ]
  },
  {
   "cell_type": "code",
   "execution_count": 269,
   "id": "b20c3ab0",
   "metadata": {},
   "outputs": [],
   "source": [
    "# t_shock_est = datetime(2023, 2, 26, 20, 34, 29)\n",
    "t_le_est = datetime(2023, 3, 21, 13, 25, 31)\n",
    "t_te_est = datetime(2023, 3, 21, 19, 28, 3)"
   ]
  },
  {
   "cell_type": "code",
   "execution_count": 270,
   "id": "0d3bc24c",
   "metadata": {},
   "outputs": [],
   "source": [
    "# t_shock, t_shock_ts_lb, t_shock_ts_ub = timeshift_boundary(t_shock_est, solo_df, 300, 700)\n",
    "t_le, t_le_ts_lb, t_le_ts_ub = timeshift_boundary(t_le_est, solo_df, 400, 500)\n",
    "t_te, t_te_ts_lb, t_te_ts_ub = timeshift_boundary(t_te_est, solo_df, 400, 500)"
   ]
  },
  {
   "cell_type": "markdown",
   "id": "1c2afe17",
   "metadata": {},
   "source": [
    "## Plot all MAG Data and SolO Prediction"
   ]
  },
  {
   "cell_type": "code",
   "execution_count": 271,
   "id": "154603ac",
   "metadata": {},
   "outputs": [],
   "source": [
    "shock_colour = \"#BD88E8\"\n",
    "le_colour = \"#FF8300\"\n",
    "te_colour = \"#00D4FF\"\n",
    "\n",
    "nrows = 5\n",
    "\n",
    "fig = make_subplots(rows=nrows, cols=1, shared_xaxes=True)\n",
    "\n",
    "#SolO original MAG\n",
    "for column, color in zip(['b_x', 'b_y', 'b_z', 'b_tot'], ['red', 'green', 'blue', 'black']):\n",
    "    fig.add_trace(\n",
    "        go.Scatter(\n",
    "            x=solo_df['timestamp'],\n",
    "            y=solo_df[column],\n",
    "            name=column.upper(),\n",
    "            line_color=color,\n",
    "            showlegend=False,\n",
    "        ),\n",
    "        row=1, col=1\n",
    "    )\n",
    "#     fig.add_vline(x=t_shock, row=1, col=1, line_width=1, line_dash=\"dash\", line_color=shock_colour)\n",
    "    fig.add_vline(x=t_le, row=1, col=1, line_width=1, line_dash=\"dash\", line_color=le_colour)\n",
    "    fig.add_vline(x=t_te, row=1, col=1, line_width=1, line_dash=\"dash\", line_color=te_colour)\n",
    "    fig.layout.xaxis.showticklabels=False\n",
    "\n",
    "#SolO Timeshifted and Scaled MAG\n",
    "for column, color in zip(['b_x', 'b_y', 'b_z', 'b_tot'], ['red', 'green', 'blue', 'black']):\n",
    "    fig.add_trace(\n",
    "        go.Scatter(\n",
    "            x=solo_df_ts['timestamp'],\n",
    "            y=solo_df_ts[column],\n",
    "            name=column.upper(),\n",
    "            line_color=color,\n",
    "            showlegend=False\n",
    "        ),\n",
    "        row=2, col=1\n",
    "    )\n",
    "#     fig.add_vrect(x0=t_shock_ts_lb, x1=t_shock_ts_ub, row=2, col=1, line_width=0, fillcolor=shock_colour, opacity=0.1)\n",
    "    fig.add_vrect(x0=t_le_ts_lb, x1=t_le_ts_ub, row=2, col=1, line_width=0, fillcolor=le_colour, opacity=0.1)\n",
    "    fig.add_vrect(x0=t_te_ts_lb, x1=t_te_ts_ub, row=2, col=1, line_width=0, fillcolor=te_colour, opacity=0.1)\n",
    "    \n",
    "#NOAA Realtime DSCOVR MAG\n",
    "for column, color in zip(['b_x', 'b_y', 'b_z', 'b_tot'], ['red', 'green', 'blue', 'black']):\n",
    "    fig.add_trace(\n",
    "        go.Scatter(\n",
    "            x=noaa_df['timestamp'],\n",
    "            y=noaa_df[column],\n",
    "            name=column.upper(),\n",
    "            line_color=color,\n",
    "            showlegend=False\n",
    "        ),\n",
    "        row=3, col=1\n",
    "    )\n",
    "#     fig.add_vrect(x0=t_shock_ts_lb, x1=t_shock_ts_ub, row=3, col=1, line_width=0, fillcolor=shock_colour, opacity=0.1)\n",
    "    fig.add_vrect(x0=t_le_ts_lb, x1=t_le_ts_ub, row=3, col=1, line_width=0, fillcolor=le_colour, opacity=0.1)\n",
    "    fig.add_vrect(x0=t_te_ts_lb, x1=t_te_ts_ub, row=3, col=1, line_width=0, fillcolor=te_colour, opacity=0.1)\n",
    "\n",
    "#NOAA Realtime DSCOVR PLAS\n",
    "for column, color in zip(['v_bulk'], ['black']):\n",
    "    fig.add_trace(\n",
    "        go.Scatter(\n",
    "            x=noaa_df['timestamp'],\n",
    "            y=noaa_df[column],\n",
    "            name=column.upper(),\n",
    "            line_color=color,\n",
    "            showlegend=False\n",
    "        ),\n",
    "        row=4, col=1\n",
    "    )    \n",
    "#     fig.add_vrect(x0=t_shock_ts_lb, x1=t_shock_ts_ub, row=3, col=1, line_width=0, fillcolor=shock_colour, opacity=0.1)\n",
    "    fig.add_vrect(x0=t_le_ts_lb, x1=t_le_ts_ub, row=3, col=1, line_width=0, fillcolor=le_colour, opacity=0.1)\n",
    "    fig.add_vrect(x0=t_te_ts_lb, x1=t_te_ts_ub, row=3, col=1, line_width=0, fillcolor=te_colour, opacity=0.1)    \n",
    "    \n",
    "#STA Beacon MAG\n",
    "for column, color in zip(['b_x', 'b_y', 'b_z', 'b_tot'], ['red', 'green', 'blue', 'black']):\n",
    "    fig.add_trace(\n",
    "        go.Scatter(\n",
    "            x=sta_df['timestamp'],\n",
    "            y=sta_df[column],\n",
    "            name=column.upper(),\n",
    "            line_color=color,\n",
    "            showlegend=False\n",
    "        ),\n",
    "        row=5, col=1\n",
    "    )\n",
    "#     fig.add_vrect(x0=t_shock_ts_lb, x1=t_shock_ts_ub, row=4, col=1, line_width=0, fillcolor=shock_colour, opacity=0.1)\n",
    "    fig.add_vrect(x0=t_le_ts_lb, x1=t_le_ts_ub, row=4, col=1, line_width=0, fillcolor=le_colour, opacity=0.1)\n",
    "    fig.add_vrect(x0=t_te_ts_lb, x1=t_te_ts_ub, row=4, col=1, line_width=0, fillcolor=te_colour, opacity=0.1)\n",
    "    \n",
    "    \n",
    "fig.update_yaxes(title_text='SolO<BR>B_RTN [nT]', row=1, col=1)\n",
    "fig.update_yaxes(title_text='SolO Pred<BR>B_RTN [nT]', row=2, col=1)\n",
    "fig.update_yaxes(title_text='DSCOVR<BR>B_RTN [nT]', row=3, col=1)\n",
    "fig.update_yaxes(title_text='DSCOVR<BR>v[km/s]', row=4, col=1)\n",
    "fig.update_yaxes(title_text='STA Beacon<BR>B_RTN [nT]', row=5, col=1)\n",
    "\n",
    "fig.update_yaxes(showgrid=True, zeroline=False, showticklabels=True,\n",
    "                     showspikes=True, spikemode='across', spikesnap='cursor', showline=False, spikedash='solid', spikethickness=1)\n",
    "fig.update_xaxes(showgrid=True, zeroline=False, showticklabels=True, rangeslider_visible=False,\n",
    "                     showspikes=True, spikemode='across', spikesnap='cursor', showline=False, spikedash='solid', spikethickness=1)\n",
    "\n",
    "t_now = datetime.utcnow()\n",
    "fig.add_vline(x=t_now)\n",
    "\n",
    "fig.update_layout(\n",
    "    title=f'Distance SolO to Earth = {r_sep:.2f} AU (lon = {lon_recent:.2f} deg [HEEQ]) <br>Constant speed {v_cme} kms/from SolO to Earth <br>Time Delay = {t_delay:.2f} hours')\n",
    "\n",
    "fig.write_html(f'/Users/emmadavies/Documents/ASWO/RealTime_Preparation/Realtime_Prediction_{t_now}.html')\n"
   ]
  },
  {
   "cell_type": "code",
   "execution_count": null,
   "id": "3144e3a7",
   "metadata": {},
   "outputs": [],
   "source": []
  }
 ],
 "metadata": {
  "kernelspec": {
   "display_name": "Python 3 (ipykernel)",
   "language": "python",
   "name": "python3"
  },
  "language_info": {
   "codemirror_mode": {
    "name": "ipython",
    "version": 3
   },
   "file_extension": ".py",
   "mimetype": "text/x-python",
   "name": "python",
   "nbconvert_exporter": "python",
   "pygments_lexer": "ipython3",
   "version": "3.10.10"
  }
 },
 "nbformat": 4,
 "nbformat_minor": 5
}
