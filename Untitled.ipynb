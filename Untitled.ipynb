{
 "cells": [
  {
   "cell_type": "code",
   "execution_count": 1,
   "id": "99b54b17-9a20-4369-ae42-baa00e8d91e8",
   "metadata": {},
   "outputs": [],
   "source": [
    "import heliosat\n",
    "import datetime"
   ]
  },
  {
   "cell_type": "code",
   "execution_count": 2,
   "id": "11197757-d463-4965-b66f-feed21ca1b30",
   "metadata": {},
   "outputs": [],
   "source": [
    "observer = \"SOLO\"\n",
    "observer_obj = getattr(heliosat, observer)()"
   ]
  },
  {
   "cell_type": "code",
   "execution_count": 3,
   "id": "dad76c11-7bba-4b94-a8a8-b8f492a76c4f",
   "metadata": {},
   "outputs": [
    {
     "name": "stdout",
     "output_type": "stream",
     "text": [
      "<heliosat.spice.SolO object at 0x103775d20>\n"
     ]
    }
   ],
   "source": [
    "print(observer_obj)\n"
   ]
  },
  {
   "cell_type": "code",
   "execution_count": 4,
   "id": "92ee9390-a562-4a9c-9c71-dc171bcbec07",
   "metadata": {},
   "outputs": [],
   "source": [
    "t_fit =  [\n",
    "        datetime.datetime(2022, 4, 24, 1, tzinfo=datetime.timezone.utc),\n",
    "        datetime.datetime(2022, 4, 24, 2, tzinfo=datetime.timezone.utc),\n",
    "        datetime.datetime(2022, 4, 24, 3, tzinfo=datetime.timezone.utc)\n",
    "    ]\n",
    "\n",
    "dt, data = observer_obj.get(\n",
    "                        t_fit,\n",
    "                        \"mag\",\n",
    "                        reference_frame=\"HEEQ\",\n",
    "                        cached=True\n",
    "                    )\n",
    "\n",
    "trajectory = observer_obj.trajectory(\n",
    "                t_fit, reference_frame=\"HEEQ\"\n",
    "            )"
   ]
  },
  {
   "cell_type": "code",
   "execution_count": 6,
   "id": "c91b3873-14af-4d55-bdbb-6e33ef315eb7",
   "metadata": {},
   "outputs": [
    {
     "name": "stdout",
     "output_type": "stream",
     "text": [
      "[[-0.56382061  0.23638186  0.04413215]\n",
      " [-0.56441976  0.23621591  0.04414854]\n",
      " [-0.56501817  0.2360504   0.04416483]]\n"
     ]
    }
   ],
   "source": [
    "print(trajectory)"
   ]
  },
  {
   "cell_type": "code",
   "execution_count": null,
   "id": "5cc0b639-5d86-49eb-a904-b839a55858de",
   "metadata": {},
   "outputs": [],
   "source": []
  }
 ],
 "metadata": {
  "kernelspec": {
   "display_name": "Python 3 (ipykernel)",
   "language": "python",
   "name": "python3"
  },
  "language_info": {
   "codemirror_mode": {
    "name": "ipython",
    "version": 3
   },
   "file_extension": ".py",
   "mimetype": "text/x-python",
   "name": "python",
   "nbconvert_exporter": "python",
   "pygments_lexer": "ipython3",
   "version": "3.10.10"
  }
 },
 "nbformat": 4,
 "nbformat_minor": 5
}
