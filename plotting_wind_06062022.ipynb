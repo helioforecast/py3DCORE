{
 "cells": [
  {
   "cell_type": "markdown",
   "id": "de28ca40",
   "metadata": {},
   "source": [
    "# Plotting routine for the June2 2022 Event - PSP"
   ]
  },
  {
   "cell_type": "code",
   "execution_count": 1,
   "id": "1d784431",
   "metadata": {},
   "outputs": [],
   "source": [
    "test = 'test'"
   ]
  },
  {
   "cell_type": "code",
   "execution_count": 2,
   "id": "38a08e24",
   "metadata": {},
   "outputs": [],
   "source": [
    "%load_ext autoreload\n",
    "\n",
    "%autoreload 2\n",
    "\n",
    "import numpy as np\n",
    "import matplotlib.pyplot as plt\n",
    "import pickle as p\n",
    "\n",
    "import datetime as datetime\n",
    "from datetime import timedelta\n",
    "import seaborn as sns\n",
    "import pandas as pd\n",
    "import os\n",
    "#import copy as cp\n",
    "\n",
    "import multiprocess as mp\n",
    "import py3dcore as py3dcore\n",
    "\n",
    "import py3dcore.fluxplot as fp\n",
    "\n",
    "plt.switch_backend('agg')\n",
    "\n",
    "\n",
    "import warnings\n",
    "warnings.filterwarnings('ignore')\n",
    "\n",
    "import logging\n",
    "\n",
    "logging.basicConfig(level=logging.INFO)\n",
    "logging.getLogger(\"heliosat.spice\").setLevel(\"WARNING\")\n",
    "logging.getLogger(\"heliosat.spacecraft\").setLevel(\"WARNING\")\n",
    "#logging.getLogger(\"sunpy\").setLevel(\"WARNING\")\n",
    "#logging.getLogger(\"py3dcore_h4c.fluxplot\").setLevel(\"WARNING\")\n",
    "\n",
    "#print(sns.__version__)"
   ]
  },
  {
   "cell_type": "markdown",
   "id": "9ca32119",
   "metadata": {},
   "source": [
    "#### setting the times for py3DCORE"
   ]
  },
  {
   "cell_type": "code",
   "execution_count": 3,
   "id": "6099a310",
   "metadata": {},
   "outputs": [],
   "source": [
    "t_launch = datetime.datetime(2022, 6, 2, 7, 30, tzinfo=datetime.timezone.utc)\n",
    "\n",
    "t_s = datetime.datetime(2022, 6, 6, 16, 30, tzinfo=datetime.timezone.utc) \n",
    "t_e = datetime.datetime(2022, 6, 7, 4, tzinfo=datetime.timezone.utc)\n",
    "\n",
    "t_fit = [\n",
    "       #datetime.datetime(2022, 6, 6, 16, 30, tzinfo=datetime.timezone.utc),\n",
    "        datetime.datetime(2022, 6, 6, 18, tzinfo=datetime.timezone.utc),\n",
    "        datetime.datetime(2022, 6, 6, 23, tzinfo=datetime.timezone.utc),\n",
    "        datetime.datetime(2022, 6, 7, 2, tzinfo=datetime.timezone.utc)#,\n",
    "        #datetime.datetime(2022, 6, 7, 8, tzinfo=datetime.timezone.utc)\n",
    "     ]\n"
   ]
  },
  {
   "cell_type": "code",
   "execution_count": 4,
   "id": "f8589d6d",
   "metadata": {},
   "outputs": [
    {
     "name": "stdout",
     "output_type": "stream",
     "text": [
      "['06/06/2022, 18:00:00', '06/06/2022, 23:00:00', '06/07/2022, 02:00:00']\n"
     ]
    }
   ],
   "source": [
    "fittingPoints = []\n",
    "\n",
    "fittingPoints = [t_fit[i].strftime(\"%m/%d/%Y, %H:%M:%S\") for i in range(len(t_fit))]\n",
    "print(fittingPoints)"
   ]
  },
  {
   "cell_type": "markdown",
   "id": "017cc3ec",
   "metadata": {},
   "source": [
    "#### loading the pickle files"
   ]
  },
  {
   "cell_type": "code",
   "execution_count": 5,
   "id": "63073b9f",
   "metadata": {},
   "outputs": [],
   "source": [
    "path = 'output/wind06062022_512_heeq_2/'\n",
    "\n",
    "filepath = fp.loadpickle(path, number=-1)"
   ]
  },
  {
   "cell_type": "code",
   "execution_count": 6,
   "id": "1ba5d5d7",
   "metadata": {},
   "outputs": [
    {
     "data": {
      "text/plain": [
       "'output/wind06062022_512_heeq_2/04'"
      ]
     },
     "execution_count": 6,
     "metadata": {},
     "output_type": "execute_result"
    }
   ],
   "source": [
    "filepath[:-7]"
   ]
  },
  {
   "cell_type": "markdown",
   "id": "beb73c98",
   "metadata": {},
   "source": [
    "#### extracting parameters"
   ]
  },
  {
   "cell_type": "code",
   "execution_count": 7,
   "id": "c7a33523",
   "metadata": {},
   "outputs": [
    {
     "name": "stderr",
     "output_type": "stream",
     "text": [
      "INFO:py3dcore.fluxplot:Retrieved the following parameters for the run with minimum epsilon:\n",
      "INFO:py3dcore.fluxplot: --cme_longitude 38.56\n",
      "INFO:py3dcore.fluxplot: --cme_latitude 24.76\n",
      "INFO:py3dcore.fluxplot: --cme_inclination 190.19\n",
      "INFO:py3dcore.fluxplot: --cme_diameter_1au 0.31\n",
      "INFO:py3dcore.fluxplot: --cme_aspect_ratio 1.55\n",
      "INFO:py3dcore.fluxplot: --cme_launch_radius 11.27\n",
      "INFO:py3dcore.fluxplot: --cme_launch_velocity 722.93\n",
      "INFO:py3dcore.fluxplot: --t_factor -3.97\n",
      "INFO:py3dcore.fluxplot: --cme_expansion_rate 1.14\n",
      "INFO:py3dcore.fluxplot: --magnetic_decay_rate 1.64\n",
      "INFO:py3dcore.fluxplot: --magnetic_field_strength_1au 6.52\n",
      "INFO:py3dcore.fluxplot: --background_drag 2.04\n",
      "INFO:py3dcore.fluxplot: --background_velocity 565.00\n"
     ]
    },
    {
     "name": "stdout",
     "output_type": "stream",
     "text": [
      "Results :\n",
      "\n",
      "\tcme_longitude: \t\t34.03 +/- 10.24\n",
      "\tcme_latitude: \t\t7.31 +/- 10.85\n",
      "\tcme_inclination: \t\t189.38 +/- 11.66\n",
      "\tcme_diameter_1au: \t\t0.10 +/- 0.04\n",
      "\tcme_aspect_ratio: \t\t2.82 +/- 0.75\n",
      "\tcme_launch_radius: \t\t17.23 +/- 4.17\n",
      "\tcme_launch_velocity: \t\t878.88 +/- 312.59\n",
      "\tt_factor: \t\t-70.90 +/- 121.31\n",
      "\tcme_expansion_rate: \t\t1.14 +/- 0.00\n",
      "\tmagnetic_decay_rate: \t\t1.64 +/- 0.00\n",
      "\tmagnetic_field_strength_1au: \t\t6.84 +/- 1.06\n",
      "\tbackground_drag: \t\t1.70 +/- 0.72\n",
      "\tbackground_velocity: \t\t428.21 +/- 77.25\n",
      "490\n"
     ]
    }
   ],
   "source": [
    "res_mineps, res_mean, res_std, ind, keys, allres = fp.get_params(filepath, give_mineps=True)\n",
    "\n",
    "print(ind)"
   ]
  },
  {
   "cell_type": "code",
   "execution_count": 8,
   "id": "ae72c60c",
   "metadata": {},
   "outputs": [
    {
     "data": {
      "text/html": [
       "<div>\n",
       "<style scoped>\n",
       "    .dataframe tbody tr th:only-of-type {\n",
       "        vertical-align: middle;\n",
       "    }\n",
       "\n",
       "    .dataframe tbody tr th {\n",
       "        vertical-align: top;\n",
       "    }\n",
       "\n",
       "    .dataframe thead th {\n",
       "        text-align: right;\n",
       "    }\n",
       "</style>\n",
       "<table border=\"1\" class=\"dataframe\">\n",
       "  <thead>\n",
       "    <tr style=\"text-align: right;\">\n",
       "      <th></th>\n",
       "      <th>lon</th>\n",
       "      <th>lat</th>\n",
       "      <th>inc</th>\n",
       "      <th>D1AU</th>\n",
       "      <th>delta</th>\n",
       "      <th>launch radius</th>\n",
       "      <th>launch speed</th>\n",
       "      <th>t factor</th>\n",
       "      <th>expansion rate</th>\n",
       "      <th>B decay rate</th>\n",
       "      <th>B1AU</th>\n",
       "      <th>gamma</th>\n",
       "      <th>vsw</th>\n",
       "    </tr>\n",
       "  </thead>\n",
       "  <tbody>\n",
       "    <tr>\n",
       "      <th>count</th>\n",
       "      <td>512.000000</td>\n",
       "      <td>512.000000</td>\n",
       "      <td>512.000000</td>\n",
       "      <td>512.000000</td>\n",
       "      <td>512.000000</td>\n",
       "      <td>512.000000</td>\n",
       "      <td>512.000000</td>\n",
       "      <td>512.000000</td>\n",
       "      <td>512.00</td>\n",
       "      <td>512.00</td>\n",
       "      <td>512.000000</td>\n",
       "      <td>512.000000</td>\n",
       "      <td>512.000000</td>\n",
       "    </tr>\n",
       "    <tr>\n",
       "      <th>mean</th>\n",
       "      <td>34.033859</td>\n",
       "      <td>7.309281</td>\n",
       "      <td>189.375885</td>\n",
       "      <td>0.101246</td>\n",
       "      <td>2.816705</td>\n",
       "      <td>17.234638</td>\n",
       "      <td>878.882080</td>\n",
       "      <td>-70.902878</td>\n",
       "      <td>1.14</td>\n",
       "      <td>1.64</td>\n",
       "      <td>6.838452</td>\n",
       "      <td>1.701151</td>\n",
       "      <td>428.215088</td>\n",
       "    </tr>\n",
       "    <tr>\n",
       "      <th>std</th>\n",
       "      <td>10.253194</td>\n",
       "      <td>10.859738</td>\n",
       "      <td>11.676010</td>\n",
       "      <td>0.041670</td>\n",
       "      <td>0.747044</td>\n",
       "      <td>4.170987</td>\n",
       "      <td>312.896881</td>\n",
       "      <td>121.433014</td>\n",
       "      <td>0.00</td>\n",
       "      <td>0.00</td>\n",
       "      <td>1.056572</td>\n",
       "      <td>0.720973</td>\n",
       "      <td>77.322342</td>\n",
       "    </tr>\n",
       "    <tr>\n",
       "      <th>min</th>\n",
       "      <td>-8.708972</td>\n",
       "      <td>-21.349159</td>\n",
       "      <td>150.687897</td>\n",
       "      <td>0.057344</td>\n",
       "      <td>1.042003</td>\n",
       "      <td>10.011787</td>\n",
       "      <td>401.274200</td>\n",
       "      <td>-249.909637</td>\n",
       "      <td>1.14</td>\n",
       "      <td>1.64</td>\n",
       "      <td>5.003109</td>\n",
       "      <td>0.202350</td>\n",
       "      <td>195.676895</td>\n",
       "    </tr>\n",
       "    <tr>\n",
       "      <th>25%</th>\n",
       "      <td>27.604721</td>\n",
       "      <td>-0.056215</td>\n",
       "      <td>181.423943</td>\n",
       "      <td>0.076212</td>\n",
       "      <td>2.284801</td>\n",
       "      <td>13.935882</td>\n",
       "      <td>600.883728</td>\n",
       "      <td>-169.342541</td>\n",
       "      <td>1.14</td>\n",
       "      <td>1.64</td>\n",
       "      <td>6.044040</td>\n",
       "      <td>1.143238</td>\n",
       "      <td>374.798004</td>\n",
       "    </tr>\n",
       "    <tr>\n",
       "      <th>50%</th>\n",
       "      <td>34.912729</td>\n",
       "      <td>7.175347</td>\n",
       "      <td>188.970535</td>\n",
       "      <td>0.087246</td>\n",
       "      <td>2.918592</td>\n",
       "      <td>16.961381</td>\n",
       "      <td>854.854828</td>\n",
       "      <td>-88.938419</td>\n",
       "      <td>1.14</td>\n",
       "      <td>1.64</td>\n",
       "      <td>6.751946</td>\n",
       "      <td>1.720093</td>\n",
       "      <td>417.167267</td>\n",
       "    </tr>\n",
       "    <tr>\n",
       "      <th>75%</th>\n",
       "      <td>40.708462</td>\n",
       "      <td>14.835738</td>\n",
       "      <td>198.464367</td>\n",
       "      <td>0.110912</td>\n",
       "      <td>3.440063</td>\n",
       "      <td>20.810674</td>\n",
       "      <td>1129.226318</td>\n",
       "      <td>12.507318</td>\n",
       "      <td>1.14</td>\n",
       "      <td>1.64</td>\n",
       "      <td>7.548338</td>\n",
       "      <td>2.294414</td>\n",
       "      <td>472.339401</td>\n",
       "    </tr>\n",
       "    <tr>\n",
       "      <th>max</th>\n",
       "      <td>58.096394</td>\n",
       "      <td>42.888878</td>\n",
       "      <td>221.469620</td>\n",
       "      <td>0.347151</td>\n",
       "      <td>3.991748</td>\n",
       "      <td>24.954008</td>\n",
       "      <td>1496.524902</td>\n",
       "      <td>244.740067</td>\n",
       "      <td>1.14</td>\n",
       "      <td>1.64</td>\n",
       "      <td>10.316495</td>\n",
       "      <td>2.999679</td>\n",
       "      <td>695.870605</td>\n",
       "    </tr>\n",
       "  </tbody>\n",
       "</table>\n",
       "</div>"
      ],
      "text/plain": [
       "              lon         lat         inc        D1AU       delta  \\\n",
       "count  512.000000  512.000000  512.000000  512.000000  512.000000   \n",
       "mean    34.033859    7.309281  189.375885    0.101246    2.816705   \n",
       "std     10.253194   10.859738   11.676010    0.041670    0.747044   \n",
       "min     -8.708972  -21.349159  150.687897    0.057344    1.042003   \n",
       "25%     27.604721   -0.056215  181.423943    0.076212    2.284801   \n",
       "50%     34.912729    7.175347  188.970535    0.087246    2.918592   \n",
       "75%     40.708462   14.835738  198.464367    0.110912    3.440063   \n",
       "max     58.096394   42.888878  221.469620    0.347151    3.991748   \n",
       "\n",
       "       launch radius  launch speed    t factor  expansion rate  B decay rate  \\\n",
       "count     512.000000    512.000000  512.000000          512.00        512.00   \n",
       "mean       17.234638    878.882080  -70.902878            1.14          1.64   \n",
       "std         4.170987    312.896881  121.433014            0.00          0.00   \n",
       "min        10.011787    401.274200 -249.909637            1.14          1.64   \n",
       "25%        13.935882    600.883728 -169.342541            1.14          1.64   \n",
       "50%        16.961381    854.854828  -88.938419            1.14          1.64   \n",
       "75%        20.810674   1129.226318   12.507318            1.14          1.64   \n",
       "max        24.954008   1496.524902  244.740067            1.14          1.64   \n",
       "\n",
       "             B1AU       gamma         vsw  \n",
       "count  512.000000  512.000000  512.000000  \n",
       "mean     6.838452    1.701151  428.215088  \n",
       "std      1.056572    0.720973   77.322342  \n",
       "min      5.003109    0.202350  195.676895  \n",
       "25%      6.044040    1.143238  374.798004  \n",
       "50%      6.751946    1.720093  417.167267  \n",
       "75%      7.548338    2.294414  472.339401  \n",
       "max     10.316495    2.999679  695.870605  "
      ]
     },
     "execution_count": 8,
     "metadata": {},
     "output_type": "execute_result"
    }
   ],
   "source": [
    "out = fp.get_ensemble_stats(filepath)\n",
    "out.describe()"
   ]
  },
  {
   "cell_type": "code",
   "execution_count": 9,
   "id": "95f1872a",
   "metadata": {},
   "outputs": [],
   "source": [
    "# write output of describe() to csv-file\n",
    "out.describe().to_csv(filepath+'parameters.csv')\n",
    "\n",
    "# write parameters of whole ensemble to txt-file\n",
    "with open(filepath+'parameters_ensemble.txt', 'a') as f:\n",
    "    dfAsString = out.to_string(header=True, index=True)\n",
    "    f.write(dfAsString)"
   ]
  },
  {
   "cell_type": "code",
   "execution_count": 10,
   "id": "523fa774",
   "metadata": {},
   "outputs": [],
   "source": [
    "# write output of describe() to txt-file    \n",
    "with open(filepath+'parameters_summary.txt', 'a') as f:\n",
    "    f.write('Summary of results')\n",
    "    f.write('\\n\\n')\n",
    "    f.write('Results:')\n",
    "    f.write('\\n')\n",
    "    for i in range(1, len(keys)):    \n",
    "        f.write(\"\\t{}: \\t\\t{:.02f} +/- {:.02f}\".format(keys[i], res_mean[i], res_std[i]))\n",
    "        f.write('\\n')\n",
    "    f.write('\\n')\n",
    "    f.write('Parameters for run with min(eps):')\n",
    "    f.write('\\n')\n",
    "    for i in range(1, len(keys)):\n",
    "        f.write(\" --{} {:.2f}\".format(keys[i], res_mineps[i]))\n",
    "        f.write('\\n')\n",
    "    f.write('\\n')\n",
    "    f.write('Fitting points:')\n",
    "    f.write(str(fittingPoints))\n",
    "    f.write('\\n')"
   ]
  },
  {
   "cell_type": "markdown",
   "id": "99d1b82f",
   "metadata": {},
   "source": [
    "#### loading and plotting the fitting results"
   ]
  },
  {
   "cell_type": "code",
   "execution_count": 11,
   "id": "057bcf5e",
   "metadata": {},
   "outputs": [],
   "source": [
    "t_s = datetime.datetime(2022, 6, 6, 13, tzinfo=datetime.timezone.utc) \n",
    "t_e = datetime.datetime(2022, 6, 7, 13, tzinfo=datetime.timezone.utc)"
   ]
  },
  {
   "cell_type": "code",
   "execution_count": 12,
   "id": "4747aa1b",
   "metadata": {},
   "outputs": [
    {
     "name": "stderr",
     "output_type": "stream",
     "text": [
      "INFO:py3dcore.fluxplot:Using HelioSat to retrieve observer data\n"
     ]
    },
    {
     "name": "stdout",
     "output_type": "stream",
     "text": [
      "2022-06-06 13:00:00+00:00 2022-06-07 13:00:00+00:00\n"
     ]
    },
    {
     "name": "stderr",
     "output_type": "stream",
     "text": [
      "INFO:heliosat.datafile:fetch \"https://cdaweb.gsfc.nasa.gov/pub/data/wind/mfi/mfi_h0/2022/wi_h0_mfi_20220606_v05.cdf\"\n",
      "INFO:heliosat.datafile:fetch \"https://cdaweb.gsfc.nasa.gov/pub/data/wind/mfi/mfi_h0/2022/wi_h0_mfi_20220607_v05.cdf\"\n",
      "INFO:heliosat.datafile:fetch \"https://cdaweb.gsfc.nasa.gov/pub/data/wind/orbit/pre_or/2022/wi_or_pre_20220607_v09.cdf\"\n",
      "INFO:heliosat.datafile:fetch \"https://cdaweb.gsfc.nasa.gov/pub/data/wind/orbit/pre_or/2022/wi_or_pre_20220606_v09.cdf\"\n"
     ]
    },
    {
     "ename": "IndexError",
     "evalue": "index 143 is out of bounds for axis 0 with size 143",
     "output_type": "error",
     "traceback": [
      "\u001b[0;31m---------------------------------------------------------------------------\u001b[0m",
      "\u001b[0;31mIndexError\u001b[0m                                Traceback (most recent call last)",
      "Cell \u001b[0;32mIn[12], line 1\u001b[0m\n\u001b[0;32m----> 1\u001b[0m \u001b[43mfp\u001b[49m\u001b[38;5;241;43m.\u001b[39;49m\u001b[43mfullinsitu\u001b[49m\u001b[43m(\u001b[49m\u001b[43mobserver\u001b[49m\u001b[38;5;241;43m=\u001b[39;49m\u001b[38;5;124;43m'\u001b[39;49m\u001b[38;5;124;43mWIND\u001b[39;49m\u001b[38;5;124;43m'\u001b[39;49m\u001b[43m,\u001b[49m\u001b[43m \u001b[49m\u001b[43mt_fit\u001b[49m\u001b[38;5;241;43m=\u001b[39;49m\u001b[43mt_fit\u001b[49m\u001b[43m,\u001b[49m\u001b[43m \u001b[49m\u001b[43mstart\u001b[49m\u001b[38;5;241;43m=\u001b[39;49m\u001b[43mt_s\u001b[49m\u001b[43m,\u001b[49m\u001b[43m \u001b[49m\u001b[43mend\u001b[49m\u001b[38;5;241;43m=\u001b[39;49m\u001b[43mt_e\u001b[49m\u001b[43m,\u001b[49m\u001b[43m \u001b[49m\u001b[43mfilepath\u001b[49m\u001b[38;5;241;43m=\u001b[39;49m\u001b[43mfilepath\u001b[49m\u001b[43m,\u001b[49m\u001b[43m \u001b[49m\u001b[43mref_frame\u001b[49m\u001b[38;5;241;43m=\u001b[39;49m\u001b[38;5;124;43m'\u001b[39;49m\u001b[38;5;124;43mHEEQ\u001b[39;49m\u001b[38;5;124;43m'\u001b[39;49m\u001b[43m,\u001b[49m\u001b[43m \u001b[49m\u001b[43mbest\u001b[49m\u001b[38;5;241;43m=\u001b[39;49m\u001b[38;5;28;43;01mFalse\u001b[39;49;00m\u001b[43m,\u001b[49m\u001b[43m \u001b[49m\n\u001b[1;32m      2\u001b[0m \u001b[43m              \u001b[49m\u001b[43mensemble\u001b[49m\u001b[38;5;241;43m=\u001b[39;49m\u001b[38;5;28;43;01mTrue\u001b[39;49;00m\u001b[43m,\u001b[49m\u001b[43m \u001b[49m\u001b[43msave_fig\u001b[49m\u001b[38;5;241;43m=\u001b[39;49m\u001b[38;5;28;43;01mTrue\u001b[39;49;00m\u001b[43m,\u001b[49m\u001b[43m \u001b[49m\u001b[43mlegend\u001b[49m\u001b[38;5;241;43m=\u001b[39;49m\u001b[38;5;28;43;01mTrue\u001b[39;49;00m\u001b[43m,\u001b[49m\u001b[43m \u001b[49m\u001b[43mtitle\u001b[49m\u001b[38;5;241;43m=\u001b[39;49m\u001b[38;5;28;43;01mFalse\u001b[39;49;00m\u001b[43m,\u001b[49m\u001b[43m \u001b[49m\u001b[43mfit_points\u001b[49m\u001b[38;5;241;43m=\u001b[39;49m\u001b[38;5;28;43;01mTrue\u001b[39;49;00m\u001b[43m)\u001b[49m\n",
      "File \u001b[0;32m~/py3DCORE/src/py3dcore/fluxplot.py:331\u001b[0m, in \u001b[0;36mfullinsitu\u001b[0;34m(observer, t_fit, start, end, filepath, ref_frame, save_fig, best, ensemble, legend, max_index, title, fit_points, prediction)\u001b[0m\n\u001b[1;32m    329\u001b[0m \u001b[38;5;66;03m# get ensemble_data\u001b[39;00m\n\u001b[1;32m    330\u001b[0m \u001b[38;5;28;01mif\u001b[39;00m ensemble \u001b[38;5;241m==\u001b[39m \u001b[38;5;28;01mTrue\u001b[39;00m:\n\u001b[0;32m--> 331\u001b[0m     ed \u001b[38;5;241m=\u001b[39m \u001b[43mgenerate_ensemble\u001b[49m\u001b[43m(\u001b[49m\u001b[43mfilepath\u001b[49m\u001b[43m,\u001b[49m\u001b[43m \u001b[49m\u001b[43mt\u001b[49m\u001b[43m,\u001b[49m\u001b[43m \u001b[49m\u001b[43mreference_frame\u001b[49m\u001b[38;5;241;43m=\u001b[39;49m\u001b[43mref_frame\u001b[49m\u001b[43m,\u001b[49m\u001b[43m \u001b[49m\u001b[43mreference_frame_to\u001b[49m\u001b[38;5;241;43m=\u001b[39;49m\u001b[43mref_frame\u001b[49m\u001b[43m,\u001b[49m\u001b[43m \u001b[49m\u001b[43mmax_index\u001b[49m\u001b[38;5;241;43m=\u001b[39;49m\u001b[43mmax_index\u001b[49m\u001b[43m)\u001b[49m\n\u001b[1;32m    333\u001b[0m lw_insitu \u001b[38;5;241m=\u001b[39m \u001b[38;5;241m2\u001b[39m  \u001b[38;5;66;03m# linewidth for plotting the in situ data\u001b[39;00m\n\u001b[1;32m    334\u001b[0m lw_best \u001b[38;5;241m=\u001b[39m \u001b[38;5;241m3\u001b[39m  \u001b[38;5;66;03m# linewidth for plotting the min(eps) run\u001b[39;00m\n",
      "File \u001b[0;32m~/py3DCORE/src/py3dcore/fluxplot.py:78\u001b[0m, in \u001b[0;36mgenerate_ensemble\u001b[0;34m(path, dt, reference_frame, reference_frame_to, perc, max_index)\u001b[0m\n\u001b[1;32m     75\u001b[0m observer_obj \u001b[38;5;241m=\u001b[39m \u001b[38;5;28mgetattr\u001b[39m(heliosat, observer)() \u001b[38;5;66;03m# get observer object\u001b[39;00m\n\u001b[1;32m     77\u001b[0m \u001b[38;5;66;03m# simulate flux ropes using iparams from loaded fitter\u001b[39;00m\n\u001b[0;32m---> 78\u001b[0m ensemble \u001b[38;5;241m=\u001b[39m np\u001b[38;5;241m.\u001b[39msqueeze(np\u001b[38;5;241m.\u001b[39marray(\u001b[43mftobj\u001b[49m\u001b[38;5;241;43m.\u001b[39;49m\u001b[43mmodel_obj\u001b[49m\u001b[38;5;241;43m.\u001b[39;49m\u001b[43msimulator\u001b[49m\u001b[43m(\u001b[49m\u001b[43mdt\u001b[49m\u001b[43m,\u001b[49m\u001b[43m \u001b[49m\u001b[43mobserver_obj\u001b[49m\u001b[38;5;241;43m.\u001b[39;49m\u001b[43mtrajectory\u001b[49m\u001b[43m(\u001b[49m\u001b[43mdt\u001b[49m\u001b[43m,\u001b[49m\u001b[43m \u001b[49m\u001b[43mreference_frame\u001b[49m\u001b[38;5;241;43m=\u001b[39;49m\u001b[43mreference_frame\u001b[49m\u001b[43m)\u001b[49m\u001b[43m)\u001b[49m[\u001b[38;5;241m0\u001b[39m]))\n\u001b[1;32m     80\u001b[0m \u001b[38;5;66;03m# how much to keep of the generated ensemble\u001b[39;00m\n\u001b[1;32m     81\u001b[0m \u001b[38;5;28;01mif\u001b[39;00m max_index \u001b[38;5;129;01mis\u001b[39;00m \u001b[38;5;28;01mNone\u001b[39;00m:\n",
      "File \u001b[0;32m~/py3DCORE/src/py3dcore/model.py:243\u001b[0m, in \u001b[0;36mSimulationBlackBox.simulator\u001b[0;34m(self, dt, pos, sparams)\u001b[0m\n\u001b[1;32m    241\u001b[0m \u001b[38;5;28mself\u001b[39m\u001b[38;5;241m.\u001b[39mpropagator(dt[i])\n\u001b[1;32m    242\u001b[0m \u001b[38;5;66;03m# simulate magnetic field at point i\u001b[39;00m\n\u001b[0;32m--> 243\u001b[0m \u001b[38;5;28mself\u001b[39m\u001b[38;5;241m.\u001b[39msimulator_mag(\u001b[43mpos\u001b[49m\u001b[43m[\u001b[49m\u001b[43mi\u001b[49m\u001b[43m]\u001b[49m, b_out[i])\n\u001b[1;32m    245\u001b[0m \u001b[38;5;28;01mif\u001b[39;00m sparams \u001b[38;5;129;01mand\u001b[39;00m \u001b[38;5;28mlen\u001b[39m(sparams) \u001b[38;5;241m>\u001b[39m \u001b[38;5;241m0\u001b[39m:\n\u001b[1;32m    246\u001b[0m     s_out[i][:] \u001b[38;5;241m=\u001b[39m \u001b[38;5;28mself\u001b[39m\u001b[38;5;241m.\u001b[39msparams_arr[i, sparams] \u001b[38;5;66;03m#store new sparams\u001b[39;00m\n",
      "\u001b[0;31mIndexError\u001b[0m: index 143 is out of bounds for axis 0 with size 143"
     ]
    }
   ],
   "source": [
    "fp.fullinsitu(observer='WIND', t_fit=t_fit, start=t_s, end=t_e, filepath=filepath, ref_frame='HEEQ', best=False, \n",
    "              ensemble=True, save_fig=True, legend=True, title=False, fit_points=True)"
   ]
  },
  {
   "cell_type": "code",
   "execution_count": null,
   "id": "a3ed44ee",
   "metadata": {},
   "outputs": [],
   "source": [
    "fp.scatterparams(filepath)"
   ]
  },
  {
   "cell_type": "code",
   "execution_count": null,
   "id": "71d90fc2",
   "metadata": {},
   "outputs": [],
   "source": [
    "print(out['lon'].mean())\n",
    "print(out['lon'].std())\n",
    "print(out['launch radius'].std())\n",
    "print(out['launch speed'].std())"
   ]
  },
  {
   "cell_type": "code",
   "execution_count": null,
   "id": "3897c72d-4d07-424a-b3f5-92a1f1ed1c7e",
   "metadata": {},
   "outputs": [],
   "source": [
    "print(res_mineps[1])"
   ]
  },
  {
   "cell_type": "markdown",
   "id": "c9b3337e",
   "metadata": {},
   "source": [
    "#### Plotting the fluxrope and spacecraft positions"
   ]
  },
  {
   "cell_type": "code",
   "execution_count": null,
   "id": "8c89b232",
   "metadata": {},
   "outputs": [],
   "source": [
    "#measurement times \n",
    "#tm0 =  datetime.datetime(2022, 6, 2, 6)\n",
    "tm1 =  t_launch + datetime.timedelta(hours=5)\n",
    "#tm2 =  t_launch + datetime.timedelta(days=3.5)\n",
    "\n",
    "fig = fp.full3d(spacecraftlist=['psp'], planetlist=['Earth'], t=tm1, filepath=filepath, legend=False, view_azim=0, title=False,\n",
    "                view_elev=0, view_radius=0.058, index=0)"
   ]
  },
  {
   "cell_type": "markdown",
   "id": "7ef49a5a",
   "metadata": {},
   "source": [
    "### make fluxrope 3d movie"
   ]
  },
  {
   "cell_type": "code",
   "execution_count": null,
   "id": "90bbef5d",
   "metadata": {},
   "outputs": [],
   "source": [
    "def make_frame(k):\n",
    "    tm0 = t_launch\n",
    "    t = tm0 + k*datetime.timedelta(hours=0.5)\n",
    "    \n",
    "    fig = fp.full3d(spacecraftlist=['psp'], planetlist=[], legend=False, title=False,\n",
    "              t=t, filepath=filepath, save_fig=True, view_radius=0.3)\n",
    "    frmstr = '%05i' % (k) \n",
    "    plt.savefig(filepath[:-7] + 'movie_3d/' + frmstr + '.jpg', dpi=300)  \n",
    "    return fig\n",
    "    "
   ]
  },
  {
   "cell_type": "code",
   "execution_count": null,
   "id": "aec2a322",
   "metadata": {},
   "outputs": [],
   "source": [
    "inn = [i for i in range(100)]\n",
    "\n",
    "\n",
    "mpool = mp.Pool(processes=4)\n",
    "mpool.map(make_frame, inn[0:40])\n",
    "mpool.close()\n",
    "mpool.join()\n",
    "\n",
    "print('done 1/4')\n",
    "\n",
    "mpool = mp.Pool(processes=4)\n",
    "mpool.map(make_frame, inn[40:80])\n",
    "mpool.close()\n",
    "mpool.join()\n",
    "\n",
    "print('done 2/4')\n",
    "\n",
    "#mpool = mp.Pool(processes=4)\n",
    "#mpool.map(make_frame, inn[40:60])\n",
    "#mpool.close()\n",
    "#mpool.join()\n",
    "\n",
    "#print('done 3/4')\n",
    "\n",
    "#mpool = mp.Pool(processes=4)\n",
    "#mpool.map(make_frame, inn[60:80])\n",
    "#mpool.close()\n",
    "#mpool.join()\n",
    "\n",
    "print('done 4/4')"
   ]
  },
  {
   "cell_type": "code",
   "execution_count": null,
   "id": "9c2909f7",
   "metadata": {},
   "outputs": [],
   "source": [
    "os.system('ffmpeg -r 25 -i '+filepath[:-7]+'movie_3d/%05d.jpg -b 5000k -r 25 '+filepath[:-7]+'movie_3d/full_3d_movie.mp4 -y -loglevel quiet')"
   ]
  },
  {
   "cell_type": "markdown",
   "id": "40b79ca5",
   "metadata": {},
   "source": [
    "### plot fluxrope 3d multiview"
   ]
  },
  {
   "cell_type": "code",
   "execution_count": null,
   "id": "d3ff7035",
   "metadata": {},
   "outputs": [],
   "source": [
    "fig = fp.full3d_multiview(tm1, filepath=filepath)"
   ]
  },
  {
   "cell_type": "markdown",
   "id": "23b7da0c",
   "metadata": {},
   "source": [
    "### make fluxrope 3d multiview movie"
   ]
  },
  {
   "cell_type": "code",
   "execution_count": null,
   "id": "6a02bbfa",
   "metadata": {},
   "outputs": [],
   "source": [
    "def make_frame2(k):\n",
    "    tm0 = datetime.datetime(2022, 9, 5, 19)\n",
    "    t = tm0 + k*datetime.timedelta(hours=1)\n",
    "    frametime = k\n",
    "    \n",
    "    fig = fp.full3d_multiview_movie(t_launch = tm0, t = t, filepath=filepath,\n",
    "                                    frametime=k)\n",
    "    frmstr = '%05i' % (k) \n",
    "    plt.savefig(filepath[:-7] + 'movie_3d_multiview/'+frmstr+'.jpg',dpi=200)  \n",
    "    return fig"
   ]
  },
  {
   "cell_type": "code",
   "execution_count": null,
   "id": "25c7e877",
   "metadata": {},
   "outputs": [],
   "source": [
    "inn=[i for i in range(100)]\n",
    "\n",
    "\n",
    "mpool = multiprocessing.Pool(processes=5)\n",
    "mpool.map(make_frame2, inn[0:20])\n",
    "mpool.close()\n",
    "mpool.join()\n",
    "\n",
    "print('done 1/4')\n",
    "\n",
    "mpool = multiprocessing.Pool(processes=5)\n",
    "mpool.map(make_frame2, inn[20:40])\n",
    "mpool.close()\n",
    "mpool.join()\n",
    "\n",
    "print('done 2/4')\n",
    "\n",
    "mpool = multiprocessing.Pool(processes=5)\n",
    "mpool.map(make_frame2, inn[40:60])\n",
    "mpool.close()\n",
    "mpool.join()\n",
    "\n",
    "print('done 3/4')\n",
    "\n",
    "mpool = multiprocessing.Pool(processes=5)\n",
    "mpool.map(make_frame2, inn[40:80])\n",
    "mpool.close()\n",
    "mpool.join()\n",
    "\n",
    "print('done 4/4')"
   ]
  },
  {
   "cell_type": "code",
   "execution_count": null,
   "id": "59ce1272",
   "metadata": {},
   "outputs": [],
   "source": [
    "os.system('ffmpeg -r 25 -i '+filepath[:-7]+'movie_3d_multiview/%05d.jpg -b 5000k -r 25 '+filepath[:-7]+'movie_3d/full_3d_multiview_movie.mp4 -y -loglevel quiet')"
   ]
  },
  {
   "cell_type": "markdown",
   "id": "bb8c11be",
   "metadata": {},
   "source": [
    "# Used for Debug"
   ]
  },
  {
   "cell_type": "code",
   "execution_count": null,
   "id": "244eec5a",
   "metadata": {},
   "outputs": [],
   "source": [
    "TP_A =  t_launch + datetime.timedelta(hours=2)\n",
    "TP_B =  t_launch + datetime.timedelta(hours=40)\n",
    "\n",
    "\n",
    "C_A = \"xkcd:red\"\n",
    "C_B = \"xkcd:blue\"\n",
    "    \n",
    "sns.set_style('whitegrid')\n",
    "\n",
    "fig = plt.figure(figsize=(15, 11),dpi=100)\n",
    "\n",
    "ax1 = plt.subplot2grid((2, 3), (0, 0),rowspan=2,colspan=2,projection='3d')  \n",
    "ax2 = plt.subplot2grid((2, 3), (0, 2),projection='3d')  \n",
    "ax3 = plt.subplot2grid((2, 3), (1, 2),projection='3d')  \n",
    "\n",
    "model_obj = fp.returnmodel(filepath)\n",
    "\n",
    "\n",
    "fp.plot_configure(ax1, view_azim=150, view_elev=25, view_radius=.2,light_source=True) #view_radius=.08\n",
    "\n",
    "fp.plot_3dcore(ax1, model_obj, TP_A, color=C_A,light_source = True)\n",
    "fp.plot_3dcore(ax1, model_obj, TP_B, color=C_B,light_source = True)\n",
    "\n",
    "fp.plot_shift(ax1,0.31,-0.25,0.0,-0.2)\n",
    "\n",
    "\n",
    "fp.plot_configure(ax2, view_azim=165-90, view_elev=90, view_radius=.08,light_source=True)\n",
    "    \n",
    "fp.plot_3dcore(ax2, model_obj, TP_A, color=C_A,light_source = True)\n",
    "fp.plot_3dcore(ax2, model_obj, TP_B, color=C_B,light_source = True)\n",
    "\n",
    "fp.plot_shift(ax2,0.26,-0.41,0.08,0.0)\n",
    "\n",
    "\n",
    "\n",
    "fp.plot_configure(ax3, view_azim=65, view_elev=-5, view_radius=.01,light_source=True)\n",
    "    \n",
    "fp.plot_3dcore(ax3, model_obj, TP_A, color=C_A,light_source = True)\n",
    "fp.plot_3dcore(ax3, model_obj, TP_B, color=C_B,light_source = True)\n",
    "\n",
    "fp.plot_shift(ax3,0.26,-0.41,0.08,0.0)\n",
    "\n"
   ]
  },
  {
   "cell_type": "code",
   "execution_count": null,
   "id": "500b2200",
   "metadata": {},
   "outputs": [],
   "source": []
  },
  {
   "cell_type": "code",
   "execution_count": null,
   "id": "a2d28aca",
   "metadata": {},
   "outputs": [],
   "source": []
  }
 ],
 "metadata": {
  "kernelspec": {
   "display_name": "Python 3 (ipykernel)",
   "language": "python",
   "name": "python3"
  },
  "language_info": {
   "codemirror_mode": {
    "name": "ipython",
    "version": 3
   },
   "file_extension": ".py",
   "mimetype": "text/x-python",
   "name": "python",
   "nbconvert_exporter": "python",
   "pygments_lexer": "ipython3",
   "version": "3.10.10"
  }
 },
 "nbformat": 4,
 "nbformat_minor": 5
}
