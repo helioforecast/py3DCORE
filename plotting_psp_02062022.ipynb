{
 "cells": [
  {
   "cell_type": "markdown",
   "id": "de28ca40",
   "metadata": {},
   "source": [
    "# Plotting routine for the June2 2022 Event - PSP"
   ]
  },
  {
   "cell_type": "code",
   "execution_count": null,
   "id": "1d784431",
   "metadata": {},
   "outputs": [],
   "source": [
    "test = 'test'"
   ]
  },
  {
   "cell_type": "code",
   "execution_count": 104,
   "id": "38a08e24",
   "metadata": {},
   "outputs": [
    {
     "name": "stdout",
     "output_type": "stream",
     "text": [
      "The autoreload extension is already loaded. To reload it, use:\n",
      "  %reload_ext autoreload\n"
     ]
    }
   ],
   "source": [
    "%load_ext autoreload\n",
    "\n",
    "%autoreload 2\n",
    "\n",
    "import numpy as np\n",
    "import matplotlib.pyplot as plt\n",
    "import pickle as p\n",
    "\n",
    "import datetime as datetime\n",
    "from datetime import timedelta\n",
    "import seaborn as sns\n",
    "import pandas as pd\n",
    "import os\n",
    "#import copy as cp\n",
    "\n",
    "import multiprocess as mp\n",
    "import py3dcore as py3dcore\n",
    "\n",
    "import py3dcore.fluxplot as fp\n",
    "\n",
    "plt.switch_backend('agg')\n",
    "\n",
    "\n",
    "import warnings\n",
    "warnings.filterwarnings('ignore')\n",
    "\n",
    "import logging\n",
    "\n",
    "logging.basicConfig(level=logging.INFO)\n",
    "logging.getLogger(\"heliosat.spice\").setLevel(\"WARNING\")\n",
    "logging.getLogger(\"heliosat.spacecraft\").setLevel(\"WARNING\")\n",
    "#logging.getLogger(\"sunpy\").setLevel(\"WARNING\")\n",
    "#logging.getLogger(\"py3dcore_h4c.fluxplot\").setLevel(\"WARNING\")\n",
    "\n",
    "#print(sns.__version__)"
   ]
  },
  {
   "cell_type": "markdown",
   "id": "9ca32119",
   "metadata": {},
   "source": [
    "#### setting the times for py3DCORE"
   ]
  },
  {
   "cell_type": "code",
   "execution_count": 105,
   "id": "6099a310",
   "metadata": {},
   "outputs": [],
   "source": [
    "t_launch = datetime.datetime(2022, 6, 2, 7, 30, tzinfo=datetime.timezone.utc)\n",
    "\n",
    "t_s = datetime.datetime(2022, 6, 2, 11, 45, tzinfo=datetime.timezone.utc)\n",
    "t_e = datetime.datetime(2022, 6, 2, 16, tzinfo=datetime.timezone.utc)\n",
    "\n",
    "t_fit = [\n",
    "        datetime.datetime(2022, 6, 2, 12, tzinfo=datetime.timezone.utc),\n",
    "        datetime.datetime(2022, 6, 2, 13, tzinfo=datetime.timezone.utc),\n",
    "        datetime.datetime(2022, 6, 2, 13, 30, tzinfo=datetime.timezone.utc),\n",
    "        datetime.datetime(2022, 6, 2, 14, tzinfo=datetime.timezone.utc)\n",
    "     ]\n"
   ]
  },
  {
   "cell_type": "code",
   "execution_count": 106,
   "id": "f8589d6d",
   "metadata": {},
   "outputs": [
    {
     "name": "stdout",
     "output_type": "stream",
     "text": [
      "['06/02/2022, 12:00:00', '06/02/2022, 13:00:00', '06/02/2022, 13:30:00', '06/02/2022, 14:00:00']\n"
     ]
    }
   ],
   "source": [
    "fittingPoints = []\n",
    "\n",
    "fittingPoints = [t_fit[i].strftime(\"%m/%d/%Y, %H:%M:%S\") for i in range(len(t_fit))]\n",
    "print(fittingPoints)"
   ]
  },
  {
   "cell_type": "markdown",
   "id": "017cc3ec",
   "metadata": {},
   "source": [
    "#### loading the pickle files"
   ]
  },
  {
   "cell_type": "code",
   "execution_count": 107,
   "id": "63073b9f",
   "metadata": {},
   "outputs": [],
   "source": [
    "path = 'output/psp02062022_512_final_1_heeq/'\n",
    "\n",
    "filepath = fp.loadpickle(path, number=-1)"
   ]
  },
  {
   "cell_type": "code",
   "execution_count": 108,
   "id": "1ba5d5d7",
   "metadata": {},
   "outputs": [
    {
     "data": {
      "text/plain": [
       "'output/output/psp02062022_512_final_1_heeq/09'"
      ]
     },
     "execution_count": 108,
     "metadata": {},
     "output_type": "execute_result"
    }
   ],
   "source": [
    "filepath[:-7]"
   ]
  },
  {
   "cell_type": "markdown",
   "id": "beb73c98",
   "metadata": {},
   "source": [
    "#### extracting parameters"
   ]
  },
  {
   "cell_type": "code",
   "execution_count": 109,
   "id": "c7a33523",
   "metadata": {},
   "outputs": [
    {
     "name": "stderr",
     "output_type": "stream",
     "text": [
      "2023-06-07 11:01:41.657 INFO    py3dcore.fluxplot: Retrieved the following parameters for the run with minimum epsilon:\n",
      "2023-06-07 11:01:41.658 INFO    py3dcore.fluxplot:  --cme_longitude 271.68\n",
      "2023-06-07 11:01:41.658 INFO    py3dcore.fluxplot:  --cme_latitude 1.97\n",
      "2023-06-07 11:01:41.658 INFO    py3dcore.fluxplot:  --cme_inclination 337.14\n",
      "2023-06-07 11:01:41.658 INFO    py3dcore.fluxplot:  --cme_diameter_1au 0.33\n",
      "2023-06-07 11:01:41.659 INFO    py3dcore.fluxplot:  --cme_aspect_ratio 1.14\n",
      "2023-06-07 11:01:41.659 INFO    py3dcore.fluxplot:  --cme_launch_radius 6.68\n",
      "2023-06-07 11:01:41.659 INFO    py3dcore.fluxplot:  --cme_launch_velocity 515.06\n",
      "2023-06-07 11:01:41.659 INFO    py3dcore.fluxplot:  --t_factor -205.15\n",
      "2023-06-07 11:01:41.659 INFO    py3dcore.fluxplot:  --cme_expansion_rate 1.14\n",
      "2023-06-07 11:01:41.659 INFO    py3dcore.fluxplot:  --magnetic_decay_rate 1.64\n",
      "2023-06-07 11:01:41.660 INFO    py3dcore.fluxplot:  --magnetic_field_strength_1au 9.53\n",
      "2023-06-07 11:01:41.660 INFO    py3dcore.fluxplot:  --background_drag 2.71\n",
      "2023-06-07 11:01:41.660 INFO    py3dcore.fluxplot:  --background_velocity 341.29\n"
     ]
    },
    {
     "name": "stdout",
     "output_type": "stream",
     "text": [
      "Results :\n",
      "\n",
      "\tcme_longitude: \t\t268.08 +/- 6.41\n",
      "\tcme_latitude: \t\t3.04 +/- 4.72\n",
      "\tcme_inclination: \t\t338.65 +/- 5.24\n",
      "\tcme_diameter_1au: \t\t0.31 +/- 0.03\n",
      "\tcme_aspect_ratio: \t\t1.38 +/- 0.28\n",
      "\tcme_launch_radius: \t\t7.67 +/- 1.05\n",
      "\tcme_launch_velocity: \t\t447.55 +/- 102.01\n",
      "\tt_factor: \t\t-251.37 +/- 29.50\n",
      "\tcme_expansion_rate: \t\t1.14 +/- 0.00\n",
      "\tmagnetic_decay_rate: \t\t1.64 +/- 0.00\n",
      "\tmagnetic_field_strength_1au: \t\t9.19 +/- 1.18\n",
      "\tbackground_drag: \t\t1.59 +/- 0.74\n",
      "\tbackground_velocity: \t\t472.32 +/- 140.19\n",
      "243\n"
     ]
    }
   ],
   "source": [
    "res_mineps, res_mean, res_std, ind, keys, allres = fp.get_params(filepath, give_mineps=True)\n",
    "\n",
    "print(ind)"
   ]
  },
  {
   "cell_type": "code",
   "execution_count": 110,
   "id": "ae72c60c",
   "metadata": {},
   "outputs": [
    {
     "data": {
      "text/html": [
       "<div>\n",
       "<style scoped>\n",
       "    .dataframe tbody tr th:only-of-type {\n",
       "        vertical-align: middle;\n",
       "    }\n",
       "\n",
       "    .dataframe tbody tr th {\n",
       "        vertical-align: top;\n",
       "    }\n",
       "\n",
       "    .dataframe thead th {\n",
       "        text-align: right;\n",
       "    }\n",
       "</style>\n",
       "<table border=\"1\" class=\"dataframe\">\n",
       "  <thead>\n",
       "    <tr style=\"text-align: right;\">\n",
       "      <th></th>\n",
       "      <th>lon</th>\n",
       "      <th>lat</th>\n",
       "      <th>inc</th>\n",
       "      <th>D1AU</th>\n",
       "      <th>delta</th>\n",
       "      <th>launch radius</th>\n",
       "      <th>launch speed</th>\n",
       "      <th>t factor</th>\n",
       "      <th>expansion rate</th>\n",
       "      <th>B decay rate</th>\n",
       "      <th>B1AU</th>\n",
       "      <th>gamma</th>\n",
       "      <th>vsw</th>\n",
       "    </tr>\n",
       "  </thead>\n",
       "  <tbody>\n",
       "    <tr>\n",
       "      <th>count</th>\n",
       "      <td>512.000000</td>\n",
       "      <td>512.000000</td>\n",
       "      <td>512.000000</td>\n",
       "      <td>512.000000</td>\n",
       "      <td>512.000000</td>\n",
       "      <td>512.000000</td>\n",
       "      <td>512.000000</td>\n",
       "      <td>512.000000</td>\n",
       "      <td>512.000000</td>\n",
       "      <td>512.00000</td>\n",
       "      <td>512.000000</td>\n",
       "      <td>512.000000</td>\n",
       "      <td>512.000000</td>\n",
       "    </tr>\n",
       "    <tr>\n",
       "      <th>mean</th>\n",
       "      <td>268.077209</td>\n",
       "      <td>3.036103</td>\n",
       "      <td>338.649109</td>\n",
       "      <td>0.310422</td>\n",
       "      <td>1.382161</td>\n",
       "      <td>7.672457</td>\n",
       "      <td>447.554474</td>\n",
       "      <td>-251.369080</td>\n",
       "      <td>1.140000</td>\n",
       "      <td>1.64000</td>\n",
       "      <td>9.188761</td>\n",
       "      <td>1.591182</td>\n",
       "      <td>472.316650</td>\n",
       "    </tr>\n",
       "    <tr>\n",
       "      <th>std</th>\n",
       "      <td>6.416155</td>\n",
       "      <td>4.728174</td>\n",
       "      <td>5.241433</td>\n",
       "      <td>0.027132</td>\n",
       "      <td>0.284424</td>\n",
       "      <td>1.052523</td>\n",
       "      <td>102.106354</td>\n",
       "      <td>29.528316</td>\n",
       "      <td>0.000008</td>\n",
       "      <td>0.00001</td>\n",
       "      <td>1.179551</td>\n",
       "      <td>0.735838</td>\n",
       "      <td>140.326538</td>\n",
       "    </tr>\n",
       "    <tr>\n",
       "      <th>min</th>\n",
       "      <td>250.833237</td>\n",
       "      <td>-9.656710</td>\n",
       "      <td>323.127411</td>\n",
       "      <td>0.197226</td>\n",
       "      <td>1.002677</td>\n",
       "      <td>6.003181</td>\n",
       "      <td>200.602295</td>\n",
       "      <td>-299.853729</td>\n",
       "      <td>1.140000</td>\n",
       "      <td>1.64000</td>\n",
       "      <td>6.618775</td>\n",
       "      <td>0.206634</td>\n",
       "      <td>104.235855</td>\n",
       "    </tr>\n",
       "    <tr>\n",
       "      <th>25%</th>\n",
       "      <td>263.576538</td>\n",
       "      <td>-0.275850</td>\n",
       "      <td>335.175003</td>\n",
       "      <td>0.294829</td>\n",
       "      <td>1.162043</td>\n",
       "      <td>6.821921</td>\n",
       "      <td>379.335457</td>\n",
       "      <td>-275.117256</td>\n",
       "      <td>1.140000</td>\n",
       "      <td>1.64000</td>\n",
       "      <td>8.304861</td>\n",
       "      <td>0.988938</td>\n",
       "      <td>377.078690</td>\n",
       "    </tr>\n",
       "    <tr>\n",
       "      <th>50%</th>\n",
       "      <td>267.902603</td>\n",
       "      <td>2.910359</td>\n",
       "      <td>338.467300</td>\n",
       "      <td>0.314854</td>\n",
       "      <td>1.324374</td>\n",
       "      <td>7.535860</td>\n",
       "      <td>448.420990</td>\n",
       "      <td>-253.626732</td>\n",
       "      <td>1.140000</td>\n",
       "      <td>1.64000</td>\n",
       "      <td>9.060292</td>\n",
       "      <td>1.589923</td>\n",
       "      <td>484.754532</td>\n",
       "    </tr>\n",
       "    <tr>\n",
       "      <th>75%</th>\n",
       "      <td>272.458618</td>\n",
       "      <td>6.428007</td>\n",
       "      <td>342.154541</td>\n",
       "      <td>0.331970</td>\n",
       "      <td>1.536322</td>\n",
       "      <td>8.402586</td>\n",
       "      <td>515.173218</td>\n",
       "      <td>-231.726360</td>\n",
       "      <td>1.140000</td>\n",
       "      <td>1.64000</td>\n",
       "      <td>9.922786</td>\n",
       "      <td>2.181257</td>\n",
       "      <td>593.819427</td>\n",
       "    </tr>\n",
       "    <tr>\n",
       "      <th>max</th>\n",
       "      <td>286.319885</td>\n",
       "      <td>16.778481</td>\n",
       "      <td>353.990509</td>\n",
       "      <td>0.349836</td>\n",
       "      <td>2.535966</td>\n",
       "      <td>10.814631</td>\n",
       "      <td>743.805786</td>\n",
       "      <td>-164.543320</td>\n",
       "      <td>1.140000</td>\n",
       "      <td>1.64000</td>\n",
       "      <td>14.039117</td>\n",
       "      <td>2.994917</td>\n",
       "      <td>698.263855</td>\n",
       "    </tr>\n",
       "  </tbody>\n",
       "</table>\n",
       "</div>"
      ],
      "text/plain": [
       "              lon         lat         inc        D1AU       delta  \\\n",
       "count  512.000000  512.000000  512.000000  512.000000  512.000000   \n",
       "mean   268.077209    3.036103  338.649109    0.310422    1.382161   \n",
       "std      6.416155    4.728174    5.241433    0.027132    0.284424   \n",
       "min    250.833237   -9.656710  323.127411    0.197226    1.002677   \n",
       "25%    263.576538   -0.275850  335.175003    0.294829    1.162043   \n",
       "50%    267.902603    2.910359  338.467300    0.314854    1.324374   \n",
       "75%    272.458618    6.428007  342.154541    0.331970    1.536322   \n",
       "max    286.319885   16.778481  353.990509    0.349836    2.535966   \n",
       "\n",
       "       launch radius  launch speed    t factor  expansion rate  B decay rate  \\\n",
       "count     512.000000    512.000000  512.000000      512.000000     512.00000   \n",
       "mean        7.672457    447.554474 -251.369080        1.140000       1.64000   \n",
       "std         1.052523    102.106354   29.528316        0.000008       0.00001   \n",
       "min         6.003181    200.602295 -299.853729        1.140000       1.64000   \n",
       "25%         6.821921    379.335457 -275.117256        1.140000       1.64000   \n",
       "50%         7.535860    448.420990 -253.626732        1.140000       1.64000   \n",
       "75%         8.402586    515.173218 -231.726360        1.140000       1.64000   \n",
       "max        10.814631    743.805786 -164.543320        1.140000       1.64000   \n",
       "\n",
       "             B1AU       gamma         vsw  \n",
       "count  512.000000  512.000000  512.000000  \n",
       "mean     9.188761    1.591182  472.316650  \n",
       "std      1.179551    0.735838  140.326538  \n",
       "min      6.618775    0.206634  104.235855  \n",
       "25%      8.304861    0.988938  377.078690  \n",
       "50%      9.060292    1.589923  484.754532  \n",
       "75%      9.922786    2.181257  593.819427  \n",
       "max     14.039117    2.994917  698.263855  "
      ]
     },
     "execution_count": 110,
     "metadata": {},
     "output_type": "execute_result"
    }
   ],
   "source": [
    "out = fp.get_ensemble_stats(filepath)\n",
    "out.describe()"
   ]
  },
  {
   "cell_type": "code",
   "execution_count": 92,
   "id": "95f1872a",
   "metadata": {},
   "outputs": [],
   "source": [
    "# write output of describe() to csv-file\n",
    "out.describe().to_csv(filepath+'parameters.csv')\n",
    "\n",
    "# write parameters of whole ensemble to txt-file\n",
    "with open(filepath+'parameters_ensemble.txt', 'a') as f:\n",
    "    dfAsString = out.to_string(header=True, index=True)\n",
    "    f.write(dfAsString)"
   ]
  },
  {
   "cell_type": "code",
   "execution_count": 93,
   "id": "523fa774",
   "metadata": {},
   "outputs": [],
   "source": [
    "# write output of describe() to txt-file    \n",
    "with open(filepath+'parameters_summary.txt', 'a') as f:\n",
    "    f.write('Summary of results')\n",
    "    f.write('\\n\\n')\n",
    "    f.write('Results:')\n",
    "    f.write('\\n')\n",
    "    for i in range(1, len(keys)):    \n",
    "        f.write(\"\\t{}: \\t\\t{:.02f} +/- {:.02f}\".format(keys[i], res_mean[i], res_std[i]))\n",
    "        f.write('\\n')\n",
    "    f.write('\\n')\n",
    "    f.write('Parameters for run with min(eps):')\n",
    "    f.write('\\n')\n",
    "    for i in range(1, len(keys)):\n",
    "        f.write(\" --{} {:.2f}\".format(keys[i], res_mineps[i]))\n",
    "        f.write('\\n')\n",
    "    f.write('\\n')\n",
    "    f.write('Fitting points:')\n",
    "    f.write(str(fittingPoints))\n",
    "    f.write('\\n')"
   ]
  },
  {
   "cell_type": "markdown",
   "id": "99d1b82f",
   "metadata": {},
   "source": [
    "#### loading and plotting the fitting results"
   ]
  },
  {
   "cell_type": "code",
   "execution_count": 101,
   "id": "057bcf5e",
   "metadata": {},
   "outputs": [],
   "source": [
    "t_s = datetime.datetime(2022, 6, 2, 10, tzinfo=datetime.timezone.utc)\n",
    "t_e = datetime.datetime(2022, 6, 2, 18, tzinfo=datetime.timezone.utc)"
   ]
  },
  {
   "cell_type": "code",
   "execution_count": 103,
   "id": "4747aa1b",
   "metadata": {},
   "outputs": [
    {
     "name": "stderr",
     "output_type": "stream",
     "text": [
      "2023-06-07 10:46:25.957 INFO    py3dcore.fluxplot: Using HelioSat to retrieve observer data\n"
     ]
    },
    {
     "name": "stdout",
     "output_type": "stream",
     "text": [
      "2022-06-02 10:00:00+00:00 2022-06-02 18:00:00+00:00\n"
     ]
    }
   ],
   "source": [
    "fp.fullinsitu(observer='PSP', t_fit=t_fit, start=t_s, end=t_e, filepath=filepath, ref_frame='SPP_RTN', best=False, \n",
    "              ensemble=True, save_fig=True, legend=True, max_index=512, title=False, fit_points=True)"
   ]
  },
  {
   "cell_type": "code",
   "execution_count": 95,
   "id": "a3ed44ee",
   "metadata": {},
   "outputs": [
    {
     "name": "stdout",
     "output_type": "stream",
     "text": [
      "Results :\n",
      "\n",
      "\tcme_longitude: \t\t-28.74 +/- 6.76\n",
      "\tcme_latitude: \t\t6.09 +/- 5.22\n",
      "\tcme_inclination: \t\t337.09 +/- 6.37\n",
      "\tcme_diameter_1au: \t\t0.32 +/- 0.02\n",
      "\tcme_aspect_ratio: \t\t1.33 +/- 0.24\n",
      "\tcme_launch_radius: \t\t10.33 +/- 1.32\n",
      "\tcme_launch_velocity: \t\t365.66 +/- 115.88\n",
      "\tt_factor: \t\t-259.38 +/- 26.80\n",
      "\tcme_expansion_rate: \t\t1.14 +/- 0.00\n",
      "\tmagnetic_decay_rate: \t\t1.64 +/- 0.00\n",
      "\tmagnetic_field_strength_1au: \t\t9.84 +/- 1.34\n",
      "\tbackground_drag: \t\t1.60 +/- 0.76\n",
      "\tbackground_velocity: \t\t300.63 +/- 126.60\n"
     ]
    }
   ],
   "source": [
    "fp.scatterparams(filepath)"
   ]
  },
  {
   "cell_type": "code",
   "execution_count": 96,
   "id": "71d90fc2",
   "metadata": {},
   "outputs": [
    {
     "name": "stdout",
     "output_type": "stream",
     "text": [
      "-28.741701\n",
      "6.7649383544921875\n",
      "1.32400381565094\n",
      "115.99677276611328\n"
     ]
    }
   ],
   "source": [
    "print(out['lon'].mean())\n",
    "print(out['lon'].std())\n",
    "print(out['launch radius'].std())\n",
    "print(out['launch speed'].std())"
   ]
  },
  {
   "cell_type": "code",
   "execution_count": 37,
   "id": "3897c72d-4d07-424a-b3f5-92a1f1ed1c7e",
   "metadata": {},
   "outputs": [
    {
     "name": "stdout",
     "output_type": "stream",
     "text": [
      "271.67804\n"
     ]
    }
   ],
   "source": [
    "print(res_mineps[1])"
   ]
  },
  {
   "cell_type": "markdown",
   "id": "c9b3337e",
   "metadata": {},
   "source": [
    "#### Plotting the fluxrope and spacecraft positions"
   ]
  },
  {
   "cell_type": "code",
   "execution_count": 120,
   "id": "8c89b232",
   "metadata": {},
   "outputs": [
    {
     "name": "stderr",
     "output_type": "stream",
     "text": [
      "2023-06-07 11:06:34.268 INFO    py3dcore.fluxplot: Using HelioSat to retrieve observer data\n"
     ]
    },
    {
     "name": "stdout",
     "output_type": "stream",
     "text": [
      "Results :\n",
      "\n",
      "\tcme_longitude: \t\t268.08 +/- 6.41\n",
      "\tcme_latitude: \t\t3.04 +/- 4.72\n",
      "\tcme_inclination: \t\t338.65 +/- 5.24\n",
      "\tcme_diameter_1au: \t\t0.31 +/- 0.03\n",
      "\tcme_aspect_ratio: \t\t1.38 +/- 0.28\n",
      "\tcme_launch_radius: \t\t7.67 +/- 1.05\n",
      "\tcme_launch_velocity: \t\t447.55 +/- 102.01\n",
      "\tt_factor: \t\t-251.37 +/- 29.50\n",
      "\tcme_expansion_rate: \t\t1.14 +/- 0.00\n",
      "\tmagnetic_decay_rate: \t\t1.64 +/- 0.00\n",
      "\tmagnetic_field_strength_1au: \t\t9.19 +/- 1.18\n",
      "\tbackground_drag: \t\t1.59 +/- 0.74\n",
      "\tbackground_velocity: \t\t472.32 +/- 140.19\n",
      "observer: Parker Solar Probe\n",
      "inst <heliosat.spice.PSP object at 0x2cdf67670>\n"
     ]
    }
   ],
   "source": [
    "#measurement times \n",
    "#tm0 =  datetime.datetime(2022, 6, 2, 6)\n",
    "tm1 =  t_launch + datetime.timedelta(hours=5)\n",
    "#tm2 =  t_launch + datetime.timedelta(days=3.5)\n",
    "\n",
    "fig = fp.full3d(spacecraftlist=['psp'], planetlist=['Earth'], t=tm1, filepath=filepath, legend=False, view_azim=0, title=False,\n",
    "                view_elev=0, view_radius=0.058, index=0)"
   ]
  },
  {
   "cell_type": "markdown",
   "id": "7ef49a5a",
   "metadata": {},
   "source": [
    "### make fluxrope 3d movie"
   ]
  },
  {
   "cell_type": "code",
   "execution_count": 83,
   "id": "90bbef5d",
   "metadata": {},
   "outputs": [],
   "source": [
    "def make_frame(k):\n",
    "    tm0 = t_launch\n",
    "    t = tm0 + k*datetime.timedelta(hours=0.5)\n",
    "    \n",
    "    fig = fp.full3d(spacecraftlist=['psp'], planetlist=[], legend=False, title=False,\n",
    "              t=t, filepath=filepath, save_fig=True, view_radius=0.3)\n",
    "    frmstr = '%05i' % (k) \n",
    "    plt.savefig(filepath[:-7] + 'movie_3d/' + frmstr + '.jpg', dpi=300)  \n",
    "    return fig\n",
    "    "
   ]
  },
  {
   "cell_type": "code",
   "execution_count": 84,
   "id": "aec2a322",
   "metadata": {},
   "outputs": [
    {
     "name": "stdout",
     "output_type": "stream",
     "text": [
      "Results :\n",
      "Results :\n",
      "Results :\n",
      "Results :\n",
      "\n",
      "\n",
      "\n",
      "\tcme_longitude: \t\t268.08 +/- 6.41\n",
      "\tcme_longitude: \t\t268.08 +/- 6.41\tcme_longitude: \t\t268.08 +/- 6.41\tcme_longitude: \t\t268.08 +/- 6.41\n",
      "\n",
      "\n",
      "\n",
      "\tcme_latitude: \t\t3.04 +/- 4.72\tcme_latitude: \t\t3.04 +/- 4.72\tcme_latitude: \t\t3.04 +/- 4.72\tcme_latitude: \t\t3.04 +/- 4.72\n",
      "\n",
      "\n",
      "\tcme_inclination: \t\t338.65 +/- 5.24\n",
      "\tcme_inclination: \t\t338.65 +/- 5.24\tcme_inclination: \t\t338.65 +/- 5.24\n",
      "\tcme_inclination: \t\t338.65 +/- 5.24\n",
      "\tcme_diameter_1au: \t\t0.31 +/- 0.03\n",
      "\n",
      "\tcme_diameter_1au: \t\t0.31 +/- 0.03\n",
      "\tcme_diameter_1au: \t\t0.31 +/- 0.03\n",
      "\tcme_diameter_1au: \t\t0.31 +/- 0.03\n",
      "\tcme_aspect_ratio: \t\t1.38 +/- 0.28\tcme_aspect_ratio: \t\t1.38 +/- 0.28\n",
      "\tcme_aspect_ratio: \t\t1.38 +/- 0.28\n",
      "\n",
      "\tcme_launch_radius: \t\t7.67 +/- 1.05\n",
      "\tcme_aspect_ratio: \t\t1.38 +/- 0.28\tcme_launch_radius: \t\t7.67 +/- 1.05\n",
      "\tcme_launch_radius: \t\t7.67 +/- 1.05\n",
      "\tcme_launch_velocity: \t\t447.55 +/- 102.01\n",
      "\tcme_launch_radius: \t\t7.67 +/- 1.05\n",
      "\n",
      "\n",
      "\tcme_launch_velocity: \t\t447.55 +/- 102.01\tcme_launch_velocity: \t\t447.55 +/- 102.01\tt_factor: \t\t-251.37 +/- 29.50\n",
      "\tcme_launch_velocity: \t\t447.55 +/- 102.01\n",
      "\n",
      "\tt_factor: \t\t-251.37 +/- 29.50\tt_factor: \t\t-251.37 +/- 29.50\tcme_expansion_rate: \t\t1.14 +/- 0.00\n",
      "\n",
      "\n",
      "\n",
      "\tt_factor: \t\t-251.37 +/- 29.50\tmagnetic_decay_rate: \t\t1.64 +/- 0.00\tcme_expansion_rate: \t\t1.14 +/- 0.00\tcme_expansion_rate: \t\t1.14 +/- 0.00\n",
      "\n",
      "\n",
      "\n",
      "\tcme_expansion_rate: \t\t1.14 +/- 0.00\tmagnetic_field_strength_1au: \t\t9.19 +/- 1.18\tmagnetic_decay_rate: \t\t1.64 +/- 0.00\tmagnetic_decay_rate: \t\t1.64 +/- 0.00\n",
      "\n",
      "\n",
      "\n",
      "\tmagnetic_field_strength_1au: \t\t9.19 +/- 1.18\tbackground_drag: \t\t1.59 +/- 0.74\tmagnetic_decay_rate: \t\t1.64 +/- 0.00\tmagnetic_field_strength_1au: \t\t9.19 +/- 1.18\n",
      "\n",
      "\n",
      "\tbackground_drag: \t\t1.59 +/- 0.74\tbackground_velocity: \t\t472.32 +/- 140.19\n",
      "\tbackground_velocity: \t\t472.32 +/- 140.19\n",
      "\n",
      "\n",
      "\tmagnetic_field_strength_1au: \t\t9.19 +/- 1.18\tbackground_drag: \t\t1.59 +/- 0.74\n",
      "\tbackground_drag: \t\t1.59 +/- 0.74\n",
      "\tbackground_velocity: \t\t472.32 +/- 140.19\n",
      "\n",
      "\tbackground_velocity: \t\t472.32 +/- 140.19\n",
      "observer: Parker Solar Probe\n",
      "inst <heliosat.spice.PSP object at 0x2fe5f02b0>\n"
     ]
    },
    {
     "name": "stderr",
     "output_type": "stream",
     "text": [
      "2023-06-07 10:33:32.872 INFO    py3dcore.fluxplot: Using HelioSat to retrieve observer data\n"
     ]
    },
    {
     "name": "stdout",
     "output_type": "stream",
     "text": [
      "observer:observer:  Parker Solar ProbeParker Solar Probe\n",
      "\n",
      "instobserver: inst  Parker Solar Probe<heliosat.spice.PSP object at 0x2fe3d5150><heliosat.spice.PSP object at 0x2fe3d5210>\n",
      "\n",
      "\n"
     ]
    },
    {
     "name": "stderr",
     "output_type": "stream",
     "text": [
      "2023-06-07 10:33:32.888 INFO    py3dcore.fluxplot: Using HelioSat to retrieve observer data\n",
      "2023-06-07 10:33:32.889 INFO    py3dcore.fluxplot: Using HelioSat to retrieve observer data\n"
     ]
    },
    {
     "name": "stdout",
     "output_type": "stream",
     "text": [
      "inst <heliosat.spice.PSP object at 0x2fe3d52d0>\n"
     ]
    },
    {
     "name": "stderr",
     "output_type": "stream",
     "text": [
      "2023-06-07 10:33:32.893 INFO    py3dcore.fluxplot: Using HelioSat to retrieve observer data\n"
     ]
    },
    {
     "name": "stdout",
     "output_type": "stream",
     "text": [
      "Results :\n",
      "\n",
      "\tcme_longitude: \t\t268.08 +/- 6.41\n",
      "\tcme_latitude: \t\t3.04 +/- 4.72\n",
      "\tcme_inclination: \t\t338.65 +/- 5.24\n",
      "\tcme_diameter_1au: \t\t0.31 +/- 0.03\n",
      "\tcme_aspect_ratio: \t\t1.38 +/- 0.28\n",
      "\tcme_launch_radius: \t\t7.67 +/- 1.05Results :\n",
      "Results :\n",
      "\n",
      "\n",
      "\n",
      "\tcme_launch_velocity: \t\t447.55 +/- 102.01\tcme_longitude: \t\t268.08 +/- 6.41\n",
      "Results :\n",
      "\n",
      "\tcme_longitude: \t\t268.08 +/- 6.41\n",
      "\tt_factor: \t\t-251.37 +/- 29.50\tcme_latitude: \t\t3.04 +/- 4.72\tcme_longitude: \t\t268.08 +/- 6.41\n",
      "\n",
      "\n",
      "\n",
      "\tcme_expansion_rate: \t\t1.14 +/- 0.00\tcme_latitude: \t\t3.04 +/- 4.72\tcme_latitude: \t\t3.04 +/- 4.72\tcme_inclination: \t\t338.65 +/- 5.24\n",
      "\n",
      "\n",
      "\n",
      "\tcme_inclination: \t\t338.65 +/- 5.24\tcme_inclination: \t\t338.65 +/- 5.24\tmagnetic_decay_rate: \t\t1.64 +/- 0.00\tcme_diameter_1au: \t\t0.31 +/- 0.03\n",
      "\n",
      "\n",
      "\n",
      "\tcme_diameter_1au: \t\t0.31 +/- 0.03\tmagnetic_field_strength_1au: \t\t9.19 +/- 1.18\tcme_diameter_1au: \t\t0.31 +/- 0.03\tcme_aspect_ratio: \t\t1.38 +/- 0.28\n",
      "\n",
      "\n",
      "\n",
      "\tbackground_drag: \t\t1.59 +/- 0.74\tcme_launch_radius: \t\t7.67 +/- 1.05\tcme_aspect_ratio: \t\t1.38 +/- 0.28\tcme_aspect_ratio: \t\t1.38 +/- 0.28\n",
      "\n",
      "\n",
      "\n",
      "\tcme_launch_velocity: \t\t447.55 +/- 102.01\tcme_launch_radius: \t\t7.67 +/- 1.05\tcme_launch_radius: \t\t7.67 +/- 1.05\tbackground_velocity: \t\t472.32 +/- 140.19\n",
      "\n",
      "\n",
      "\n",
      "\tt_factor: \t\t-251.37 +/- 29.50\tcme_launch_velocity: \t\t447.55 +/- 102.01\tcme_launch_velocity: \t\t447.55 +/- 102.01\n",
      "\n",
      "\n",
      "\tcme_expansion_rate: \t\t1.14 +/- 0.00\tt_factor: \t\t-251.37 +/- 29.50\tt_factor: \t\t-251.37 +/- 29.50\n",
      "\n",
      "\n",
      "\tmagnetic_decay_rate: \t\t1.64 +/- 0.00\tcme_expansion_rate: \t\t1.14 +/- 0.00\tcme_expansion_rate: \t\t1.14 +/- 0.00\n",
      "\n",
      "\n",
      "\tmagnetic_field_strength_1au: \t\t9.19 +/- 1.18\tmagnetic_decay_rate: \t\t1.64 +/- 0.00\n",
      "\tmagnetic_decay_rate: \t\t1.64 +/- 0.00\n",
      "\tbackground_drag: \t\t1.59 +/- 0.74\tmagnetic_field_strength_1au: \t\t9.19 +/- 1.18\n",
      "\n",
      "\tmagnetic_field_strength_1au: \t\t9.19 +/- 1.18\n",
      "\tbackground_velocity: \t\t472.32 +/- 140.19\n",
      "\tbackground_drag: \t\t1.59 +/- 0.74\n",
      "\tbackground_drag: \t\t1.59 +/- 0.74\n",
      "\n",
      "\tbackground_velocity: \t\t472.32 +/- 140.19\tbackground_velocity: \t\t472.32 +/- 140.19\n",
      "\n",
      "observer: Parker Solar Probe\n",
      "inst <heliosat.spice.PSP object at 0x30a34a6b0>\n"
     ]
    },
    {
     "name": "stderr",
     "output_type": "stream",
     "text": [
      "2023-06-07 10:33:33.556 INFO    py3dcore.fluxplot: Using HelioSat to retrieve observer data\n"
     ]
    },
    {
     "name": "stdout",
     "output_type": "stream",
     "text": [
      "observer: Parker Solar Probe\n",
      "inst <heliosat.spice.PSP object at 0x30a34b610>\n"
     ]
    },
    {
     "name": "stderr",
     "output_type": "stream",
     "text": [
      "2023-06-07 10:33:33.565 INFO    py3dcore.fluxplot: Using HelioSat to retrieve observer data\n"
     ]
    },
    {
     "name": "stdout",
     "output_type": "stream",
     "text": [
      "observer: Parker Solar Probe\n",
      "instobserver: <heliosat.spice.PSP object at 0x30a34a5c0> Parker Solar Probe\n",
      "\n"
     ]
    },
    {
     "name": "stderr",
     "output_type": "stream",
     "text": [
      "2023-06-07 10:33:33.584 INFO    py3dcore.fluxplot: Using HelioSat to retrieve observer data\n"
     ]
    },
    {
     "name": "stdout",
     "output_type": "stream",
     "text": [
      "inst <heliosat.spice.PSP object at 0x30a3496c0>\n"
     ]
    },
    {
     "name": "stderr",
     "output_type": "stream",
     "text": [
      "2023-06-07 10:33:33.590 INFO    py3dcore.fluxplot: Using HelioSat to retrieve observer data\n"
     ]
    },
    {
     "name": "stdout",
     "output_type": "stream",
     "text": [
      "Results :\n",
      "\n",
      "\tcme_longitude: \t\t268.08 +/- 6.41Results :\n",
      "\n",
      "\n",
      "Results :\n",
      "\tcme_longitude: \t\t268.08 +/- 6.41\tcme_latitude: \t\t3.04 +/- 4.72\n",
      "\n",
      "\tcme_longitude: \t\t268.08 +/- 6.41\n",
      "\tcme_latitude: \t\t3.04 +/- 4.72\tcme_inclination: \t\t338.65 +/- 5.24Results :\n",
      "\n",
      "\n",
      "\n",
      "\tcme_inclination: \t\t338.65 +/- 5.24\n",
      "\tcme_latitude: \t\t3.04 +/- 4.72\n",
      "\tcme_diameter_1au: \t\t0.31 +/- 0.03\tcme_longitude: \t\t268.08 +/- 6.41\n",
      "\tcme_diameter_1au: \t\t0.31 +/- 0.03\n",
      "\tcme_inclination: \t\t338.65 +/- 5.24\n",
      "\tcme_aspect_ratio: \t\t1.38 +/- 0.28\n",
      "\n",
      "\n",
      "\tcme_latitude: \t\t3.04 +/- 4.72\tcme_aspect_ratio: \t\t1.38 +/- 0.28\tcme_launch_radius: \t\t7.67 +/- 1.05\n",
      "\tcme_diameter_1au: \t\t0.31 +/- 0.03\n",
      "\n",
      "\tcme_inclination: \t\t338.65 +/- 5.24\tcme_launch_velocity: \t\t447.55 +/- 102.01\n",
      "\tcme_launch_radius: \t\t7.67 +/- 1.05\n",
      "\n",
      "\tcme_aspect_ratio: \t\t1.38 +/- 0.28\n",
      "\tt_factor: \t\t-251.37 +/- 29.50\tcme_launch_velocity: \t\t447.55 +/- 102.01\n",
      "\tcme_diameter_1au: \t\t0.31 +/- 0.03\n",
      "\n",
      "\n",
      "\tcme_launch_radius: \t\t7.67 +/- 1.05\tt_factor: \t\t-251.37 +/- 29.50\tcme_expansion_rate: \t\t1.14 +/- 0.00\tcme_aspect_ratio: \t\t1.38 +/- 0.28\n",
      "\n",
      "\n",
      "\n",
      "\tcme_launch_velocity: \t\t447.55 +/- 102.01\tmagnetic_decay_rate: \t\t1.64 +/- 0.00\tcme_expansion_rate: \t\t1.14 +/- 0.00\n",
      "\tcme_launch_radius: \t\t7.67 +/- 1.05\n",
      "\tt_factor: \t\t-251.37 +/- 29.50\n",
      "\tmagnetic_field_strength_1au: \t\t9.19 +/- 1.18\n",
      "\n",
      "\n",
      "\tcme_launch_velocity: \t\t447.55 +/- 102.01\tcme_expansion_rate: \t\t1.14 +/- 0.00\tmagnetic_decay_rate: \t\t1.64 +/- 0.00\tbackground_drag: \t\t1.59 +/- 0.74\n",
      "\n",
      "\n",
      "\n",
      "\tmagnetic_decay_rate: \t\t1.64 +/- 0.00\tt_factor: \t\t-251.37 +/- 29.50\tmagnetic_field_strength_1au: \t\t9.19 +/- 1.18\n",
      "\tbackground_velocity: \t\t472.32 +/- 140.19\n",
      "\n",
      "\tcme_expansion_rate: \t\t1.14 +/- 0.00\tmagnetic_field_strength_1au: \t\t9.19 +/- 1.18\n",
      "\tbackground_drag: \t\t1.59 +/- 0.74\n",
      "\n",
      "\n",
      "\tmagnetic_decay_rate: \t\t1.64 +/- 0.00\tbackground_velocity: \t\t472.32 +/- 140.19\tbackground_drag: \t\t1.59 +/- 0.74\n",
      "\n",
      "\n",
      "\tmagnetic_field_strength_1au: \t\t9.19 +/- 1.18\n",
      "\tbackground_velocity: \t\t472.32 +/- 140.19\n",
      "\tbackground_drag: \t\t1.59 +/- 0.74\n",
      "\tbackground_velocity: \t\t472.32 +/- 140.19\n",
      "observer:observer:  Parker Solar ProbeParker Solar Probe\n",
      "\n",
      "instinst  <heliosat.spice.PSP object at 0x30aaa1ea0><heliosat.spice.PSP object at 0x30aaa1de0>\n",
      "\n"
     ]
    },
    {
     "name": "stderr",
     "output_type": "stream",
     "text": [
      "2023-06-07 10:33:34.231 INFO    py3dcore.fluxplot: Using HelioSat to retrieve observer data\n",
      "2023-06-07 10:33:34.231 INFO    py3dcore.fluxplot: Using HelioSat to retrieve observer data\n"
     ]
    },
    {
     "name": "stdout",
     "output_type": "stream",
     "text": [
      "observer: Parker Solar Probe\n",
      "inst <heliosat.spice.PSP object at 0x30aaa20e0>\n"
     ]
    },
    {
     "name": "stderr",
     "output_type": "stream",
     "text": [
      "2023-06-07 10:33:34.240 INFO    py3dcore.fluxplot: Using HelioSat to retrieve observer data\n"
     ]
    },
    {
     "name": "stdout",
     "output_type": "stream",
     "text": [
      "observer: Parker Solar Probe\n",
      "inst <heliosat.spice.PSP object at 0x30aaa1d20>\n"
     ]
    },
    {
     "name": "stderr",
     "output_type": "stream",
     "text": [
      "2023-06-07 10:33:34.258 INFO    py3dcore.fluxplot: Using HelioSat to retrieve observer data\n"
     ]
    },
    {
     "name": "stdout",
     "output_type": "stream",
     "text": [
      "Results :\n",
      "\n",
      "\tcme_longitude: \t\t268.08 +/- 6.41\n",
      "\tcme_latitude: \t\t3.04 +/- 4.72\n",
      "\tcme_inclination: \t\t338.65 +/- 5.24\n",
      "\tcme_diameter_1au: \t\t0.31 +/- 0.03\n",
      "\tcme_aspect_ratio: \t\t1.38 +/- 0.28\n",
      "\tcme_launch_radius: \t\t7.67 +/- 1.05\n",
      "\tcme_launch_velocity: \t\t447.55 +/- 102.01\n",
      "\tt_factor: \t\t-251.37 +/- 29.50\n",
      "\tcme_expansion_rate: \t\t1.14 +/- 0.00\n",
      "\tmagnetic_decay_rate: \t\t1.64 +/- 0.00\n",
      "\tmagnetic_field_strength_1au: \t\t9.19 +/- 1.18\n",
      "\tbackground_drag: \t\t1.59 +/- 0.74\n",
      "\tbackground_velocity: \t\t472.32 +/- 140.19\n",
      "Results :\n",
      "\n",
      "\tcme_longitude: \t\t268.08 +/- 6.41\n",
      "\tcme_latitude: \t\t3.04 +/- 4.72\n",
      "\tcme_inclination: \t\t338.65 +/- 5.24Results :\n",
      "\n",
      "\tcme_diameter_1au: \t\t0.31 +/- 0.03\n",
      "Results :\n",
      "\tcme_longitude: \t\t268.08 +/- 6.41\n",
      "\n",
      "\tcme_longitude: \t\t268.08 +/- 6.41\n",
      "\tcme_latitude: \t\t3.04 +/- 4.72\tcme_aspect_ratio: \t\t1.38 +/- 0.28\n",
      "\n",
      "\n",
      "\tcme_launch_radius: \t\t7.67 +/- 1.05\tcme_latitude: \t\t3.04 +/- 4.72\tcme_inclination: \t\t338.65 +/- 5.24\n",
      "\n",
      "\tcme_inclination: \t\t338.65 +/- 5.24\n",
      "\tcme_launch_velocity: \t\t447.55 +/- 102.01\n",
      "\tcme_diameter_1au: \t\t0.31 +/- 0.03\tcme_diameter_1au: \t\t0.31 +/- 0.03\n",
      "\n",
      "\n",
      "\tt_factor: \t\t-251.37 +/- 29.50\tcme_aspect_ratio: \t\t1.38 +/- 0.28\tcme_aspect_ratio: \t\t1.38 +/- 0.28\n",
      "\n",
      "\n",
      "\tcme_launch_radius: \t\t7.67 +/- 1.05\tcme_expansion_rate: \t\t1.14 +/- 0.00\tcme_launch_radius: \t\t7.67 +/- 1.05\n",
      "\n",
      "\n",
      "\tcme_launch_velocity: \t\t447.55 +/- 102.01\n",
      "\tcme_launch_velocity: \t\t447.55 +/- 102.01\tmagnetic_decay_rate: \t\t1.64 +/- 0.00\n",
      "\tt_factor: \t\t-251.37 +/- 29.50\n",
      "\n",
      "\tt_factor: \t\t-251.37 +/- 29.50\tmagnetic_field_strength_1au: \t\t9.19 +/- 1.18\tcme_expansion_rate: \t\t1.14 +/- 0.00\n",
      "\n",
      "\n",
      "\tcme_expansion_rate: \t\t1.14 +/- 0.00\tmagnetic_decay_rate: \t\t1.64 +/- 0.00\tbackground_drag: \t\t1.59 +/- 0.74\n",
      "\n",
      "\tmagnetic_decay_rate: \t\t1.64 +/- 0.00\n",
      "\tmagnetic_field_strength_1au: \t\t9.19 +/- 1.18\tbackground_velocity: \t\t472.32 +/- 140.19\n",
      "\n",
      "\tbackground_drag: \t\t1.59 +/- 0.74\n",
      "\tmagnetic_field_strength_1au: \t\t9.19 +/- 1.18\n",
      "\n",
      "\tbackground_velocity: \t\t472.32 +/- 140.19\tbackground_drag: \t\t1.59 +/- 0.74\n",
      "\n",
      "\tbackground_velocity: \t\t472.32 +/- 140.19\n",
      "observer: Parker Solar Probe\n",
      "inst <heliosat.spice.PSP object at 0x319a9e9b0>\n"
     ]
    },
    {
     "name": "stderr",
     "output_type": "stream",
     "text": [
      "2023-06-07 10:33:35.388 INFO    py3dcore.fluxplot: Using HelioSat to retrieve observer data\n"
     ]
    },
    {
     "name": "stdout",
     "output_type": "stream",
     "text": [
      "observer: Parker Solar Probe\n",
      "inst <heliosat.spice.PSP object at 0x319aa2a40>\n"
     ]
    },
    {
     "name": "stderr",
     "output_type": "stream",
     "text": [
      "2023-06-07 10:33:35.427 INFO    py3dcore.fluxplot: Using HelioSat to retrieve observer data\n"
     ]
    },
    {
     "name": "stdout",
     "output_type": "stream",
     "text": [
      "observer: Parker Solar Probeobserver: Parker Solar Probe\n",
      "\n",
      "instinst  <heliosat.spice.PSP object at 0x319a9e8f0><heliosat.spice.PSP object at 0x319aa28f0>\n",
      "\n"
     ]
    },
    {
     "name": "stderr",
     "output_type": "stream",
     "text": [
      "2023-06-07 10:33:35.471 INFO    py3dcore.fluxplot: Using HelioSat to retrieve observer data\n",
      "2023-06-07 10:33:35.472 INFO    py3dcore.fluxplot: Using HelioSat to retrieve observer data\n"
     ]
    },
    {
     "name": "stdout",
     "output_type": "stream",
     "text": [
      "Results :\n",
      "\n",
      "\tcme_longitude: \t\t268.08 +/- 6.41\n",
      "\tcme_latitude: \t\t3.04 +/- 4.72\n",
      "\tcme_inclination: \t\t338.65 +/- 5.24\n",
      "\tcme_diameter_1au: \t\t0.31 +/- 0.03\n",
      "\tcme_aspect_ratio: \t\t1.38 +/- 0.28\n",
      "\tcme_launch_radius: \t\t7.67 +/- 1.05\n",
      "\tcme_launch_velocity: \t\t447.55 +/- 102.01\n",
      "\tt_factor: \t\t-251.37 +/- 29.50\n",
      "\tcme_expansion_rate: \t\t1.14 +/- 0.00\n",
      "\tmagnetic_decay_rate: \t\t1.64 +/- 0.00\n",
      "\tmagnetic_field_strength_1au: \t\t9.19 +/- 1.18\n",
      "\tbackground_drag: \t\t1.59 +/- 0.74\n",
      "\tbackground_velocity: \t\t472.32 +/- 140.19\n",
      "Results :\n",
      "\n",
      "\tcme_longitude: \t\t268.08 +/- 6.41\n",
      "\tcme_latitude: \t\t3.04 +/- 4.72\n",
      "\tcme_inclination: \t\t338.65 +/- 5.24\n",
      "\tcme_diameter_1au: \t\t0.31 +/- 0.03\n",
      "\tcme_aspect_ratio: \t\t1.38 +/- 0.28\n",
      "\tcme_launch_radius: \t\t7.67 +/- 1.05\n",
      "\tcme_launch_velocity: \t\t447.55 +/- 102.01\n",
      "\tt_factor: \t\t-251.37 +/- 29.50\n",
      "\tcme_expansion_rate: \t\t1.14 +/- 0.00\n",
      "\tmagnetic_decay_rate: \t\t1.64 +/- 0.00\n",
      "Results :\n",
      "\n",
      "\tcme_longitude: \t\t268.08 +/- 6.41\tmagnetic_field_strength_1au: \t\t9.19 +/- 1.18\n",
      "\n",
      "\tcme_latitude: \t\t3.04 +/- 4.72\tbackground_drag: \t\t1.59 +/- 0.74\n",
      "\tcme_inclination: \t\t338.65 +/- 5.24Results :\n",
      "\n",
      "\n",
      "\n",
      "\tbackground_velocity: \t\t472.32 +/- 140.19\tcme_diameter_1au: \t\t0.31 +/- 0.03\n",
      "\tcme_longitude: \t\t268.08 +/- 6.41\n",
      "\n",
      "\tcme_latitude: \t\t3.04 +/- 4.72\tcme_aspect_ratio: \t\t1.38 +/- 0.28\n",
      "\n",
      "\tcme_inclination: \t\t338.65 +/- 5.24\tcme_launch_radius: \t\t7.67 +/- 1.05\n",
      "\n",
      "\tcme_launch_velocity: \t\t447.55 +/- 102.01\tcme_diameter_1au: \t\t0.31 +/- 0.03\n",
      "\n",
      "\tcme_aspect_ratio: \t\t1.38 +/- 0.28\tt_factor: \t\t-251.37 +/- 29.50\n",
      "\tcme_launch_radius: \t\t7.67 +/- 1.05\n",
      "\n",
      "\tcme_expansion_rate: \t\t1.14 +/- 0.00\tcme_launch_velocity: \t\t447.55 +/- 102.01\n",
      "\n",
      "\tmagnetic_decay_rate: \t\t1.64 +/- 0.00\tt_factor: \t\t-251.37 +/- 29.50\n",
      "\n",
      "\tmagnetic_field_strength_1au: \t\t9.19 +/- 1.18\tcme_expansion_rate: \t\t1.14 +/- 0.00\n",
      "\n",
      "\tmagnetic_decay_rate: \t\t1.64 +/- 0.00\tbackground_drag: \t\t1.59 +/- 0.74\n",
      "\n",
      "\tbackground_velocity: \t\t472.32 +/- 140.19\tmagnetic_field_strength_1au: \t\t9.19 +/- 1.18\n",
      "\n",
      "\tbackground_drag: \t\t1.59 +/- 0.74\n",
      "\tbackground_velocity: \t\t472.32 +/- 140.19\n",
      "observer: Parker Solar Probe\n",
      "inst <heliosat.spice.PSP object at 0x30eeaa740>\n"
     ]
    },
    {
     "name": "stderr",
     "output_type": "stream",
     "text": [
      "2023-06-07 10:33:36.134 INFO    py3dcore.fluxplot: Using HelioSat to retrieve observer data\n"
     ]
    },
    {
     "name": "stdout",
     "output_type": "stream",
     "text": [
      "observer: Parker Solar Probe\n",
      "inst <heliosat.spice.PSP object at 0x30eeaa650>\n"
     ]
    },
    {
     "name": "stderr",
     "output_type": "stream",
     "text": [
      "2023-06-07 10:33:36.174 INFO    py3dcore.fluxplot: Using HelioSat to retrieve observer data\n"
     ]
    },
    {
     "name": "stdout",
     "output_type": "stream",
     "text": [
      "observer: Parker Solar Probe\n",
      "observer: inst Parker Solar Probe<heliosat.spice.PSP object at 0x30eeaa680>\n",
      "\n"
     ]
    },
    {
     "name": "stderr",
     "output_type": "stream",
     "text": [
      "2023-06-07 10:33:36.187 INFO    py3dcore.fluxplot: Using HelioSat to retrieve observer data\n"
     ]
    },
    {
     "name": "stdout",
     "output_type": "stream",
     "text": [
      "inst <heliosat.spice.PSP object at 0x30eeaa7a0>\n"
     ]
    },
    {
     "name": "stderr",
     "output_type": "stream",
     "text": [
      "2023-06-07 10:33:36.191 INFO    py3dcore.fluxplot: Using HelioSat to retrieve observer data\n"
     ]
    },
    {
     "name": "stdout",
     "output_type": "stream",
     "text": [
      "Results :\n",
      "\n",
      "\tcme_longitude: \t\t268.08 +/- 6.41\n",
      "\tcme_latitude: \t\t3.04 +/- 4.72\n",
      "\tcme_inclination: \t\t338.65 +/- 5.24\n",
      "\tcme_diameter_1au: \t\t0.31 +/- 0.03\n",
      "\tcme_aspect_ratio: \t\t1.38 +/- 0.28\n",
      "\tcme_launch_radius: \t\t7.67 +/- 1.05\n",
      "\tcme_launch_velocity: \t\t447.55 +/- 102.01\n",
      "\tt_factor: \t\t-251.37 +/- 29.50\n",
      "\tcme_expansion_rate: \t\t1.14 +/- 0.00\n",
      "\tmagnetic_decay_rate: \t\t1.64 +/- 0.00\n",
      "\tmagnetic_field_strength_1au: \t\t9.19 +/- 1.18\n",
      "\tbackground_drag: \t\t1.59 +/- 0.74\n",
      "\tbackground_velocity: \t\t472.32 +/- 140.19\n",
      "Results :\n",
      "\n",
      "\tcme_longitude: \t\t268.08 +/- 6.41Results :\n",
      "\n",
      "Results :\n",
      "\n",
      "\tcme_latitude: \t\t3.04 +/- 4.72\n",
      "\n",
      "\tcme_longitude: \t\t268.08 +/- 6.41\n",
      "\tcme_longitude: \t\t268.08 +/- 6.41\tcme_inclination: \t\t338.65 +/- 5.24\n",
      "\n",
      "\tcme_latitude: \t\t3.04 +/- 4.72\n",
      "\tcme_diameter_1au: \t\t0.31 +/- 0.03\tcme_latitude: \t\t3.04 +/- 4.72\tcme_inclination: \t\t338.65 +/- 5.24\n",
      "\n",
      "\n",
      "\tcme_aspect_ratio: \t\t1.38 +/- 0.28\tcme_diameter_1au: \t\t0.31 +/- 0.03\tcme_inclination: \t\t338.65 +/- 5.24\n",
      "\n",
      "\tcme_launch_radius: \t\t7.67 +/- 1.05\tcme_aspect_ratio: \t\t1.38 +/- 0.28\n",
      "\n",
      "\tcme_diameter_1au: \t\t0.31 +/- 0.03\n",
      "\n",
      "\tcme_launch_velocity: \t\t447.55 +/- 102.01\tcme_aspect_ratio: \t\t1.38 +/- 0.28\n",
      "\tcme_launch_radius: \t\t7.67 +/- 1.05\n",
      "\n",
      "\tt_factor: \t\t-251.37 +/- 29.50\tcme_launch_radius: \t\t7.67 +/- 1.05\n",
      "\tcme_launch_velocity: \t\t447.55 +/- 102.01\n",
      "\n",
      "\tcme_expansion_rate: \t\t1.14 +/- 0.00\tcme_launch_velocity: \t\t447.55 +/- 102.01\tt_factor: \t\t-251.37 +/- 29.50\n",
      "\n",
      "\n",
      "\tmagnetic_decay_rate: \t\t1.64 +/- 0.00\tt_factor: \t\t-251.37 +/- 29.50\tcme_expansion_rate: \t\t1.14 +/- 0.00\n",
      "\n",
      "\n",
      "\tcme_expansion_rate: \t\t1.14 +/- 0.00\tmagnetic_field_strength_1au: \t\t9.19 +/- 1.18\tmagnetic_decay_rate: \t\t1.64 +/- 0.00\n",
      "\n",
      "\n",
      "\tmagnetic_decay_rate: \t\t1.64 +/- 0.00\tmagnetic_field_strength_1au: \t\t9.19 +/- 1.18\tbackground_drag: \t\t1.59 +/- 0.74\n",
      "\n",
      "\n",
      "\tbackground_drag: \t\t1.59 +/- 0.74\tmagnetic_field_strength_1au: \t\t9.19 +/- 1.18\tbackground_velocity: \t\t472.32 +/- 140.19\n",
      "\n",
      "\n",
      "\tbackground_velocity: \t\t472.32 +/- 140.19\tbackground_drag: \t\t1.59 +/- 0.74\n",
      "\n",
      "\tbackground_velocity: \t\t472.32 +/- 140.19\n",
      "observer: Parker Solar Probe\n",
      "inst <heliosat.spice.PSP object at 0x30ebfee00>\n"
     ]
    },
    {
     "name": "stderr",
     "output_type": "stream",
     "text": [
      "2023-06-07 10:33:36.845 INFO    py3dcore.fluxplot: Using HelioSat to retrieve observer data\n"
     ]
    },
    {
     "name": "stdout",
     "output_type": "stream",
     "text": [
      "observer: Parker Solar Probe\n",
      "inst <heliosat.spice.PSP object at 0x30ebfed40>\n"
     ]
    },
    {
     "name": "stderr",
     "output_type": "stream",
     "text": [
      "2023-06-07 10:33:36.883 INFO    py3dcore.fluxplot: Using HelioSat to retrieve observer data\n"
     ]
    },
    {
     "name": "stdout",
     "output_type": "stream",
     "text": [
      "observer: Parker Solar Probe\n",
      "inst <heliosat.spice.PSP object at 0x30ebfed10>\n"
     ]
    },
    {
     "name": "stderr",
     "output_type": "stream",
     "text": [
      "2023-06-07 10:33:36.896 INFO    py3dcore.fluxplot: Using HelioSat to retrieve observer data\n"
     ]
    },
    {
     "name": "stdout",
     "output_type": "stream",
     "text": [
      "observer: Parker Solar Probe\n",
      "inst <heliosat.spice.PSP object at 0x30ebfee60>\n"
     ]
    },
    {
     "name": "stderr",
     "output_type": "stream",
     "text": [
      "2023-06-07 10:33:36.930 INFO    py3dcore.fluxplot: Using HelioSat to retrieve observer data\n"
     ]
    },
    {
     "name": "stdout",
     "output_type": "stream",
     "text": [
      "Results :\n",
      "\n",
      "\tcme_longitude: \t\t268.08 +/- 6.41\n",
      "\tcme_latitude: \t\t3.04 +/- 4.72\n",
      "\tcme_inclination: \t\t338.65 +/- 5.24\n",
      "\tcme_diameter_1au: \t\t0.31 +/- 0.03\n",
      "\tcme_aspect_ratio: \t\t1.38 +/- 0.28\n",
      "\tcme_launch_radius: \t\t7.67 +/- 1.05\n",
      "\tcme_launch_velocity: \t\t447.55 +/- 102.01\n",
      "\tt_factor: \t\t-251.37 +/- 29.50\n",
      "\tcme_expansion_rate: \t\t1.14 +/- 0.00\n",
      "\tmagnetic_decay_rate: \t\t1.64 +/- 0.00\n",
      "\tmagnetic_field_strength_1au: \t\t9.19 +/- 1.18\n",
      "\tbackground_drag: \t\t1.59 +/- 0.74\n",
      "\tbackground_velocity: \t\t472.32 +/- 140.19\n",
      "Results :\n",
      "\n",
      "\tcme_longitude: \t\t268.08 +/- 6.41\n",
      "\tcme_latitude: \t\t3.04 +/- 4.72\n",
      "\tcme_inclination: \t\t338.65 +/- 5.24\n",
      "Results :\n",
      "\tcme_diameter_1au: \t\t0.31 +/- 0.03\n",
      "\tcme_aspect_ratio: \t\t1.38 +/- 0.28\n",
      "\n",
      "\tcme_launch_radius: \t\t7.67 +/- 1.05\tcme_longitude: \t\t268.08 +/- 6.41\n",
      "\n",
      "\tcme_latitude: \t\t3.04 +/- 4.72\tcme_launch_velocity: \t\t447.55 +/- 102.01\n",
      "\n",
      "\tt_factor: \t\t-251.37 +/- 29.50\n",
      "\tcme_inclination: \t\t338.65 +/- 5.24\tcme_expansion_rate: \t\t1.14 +/- 0.00\n",
      "\n",
      "\tmagnetic_decay_rate: \t\t1.64 +/- 0.00\tcme_diameter_1au: \t\t0.31 +/- 0.03\n",
      "\n",
      "\tcme_aspect_ratio: \t\t1.38 +/- 0.28\n",
      "\tmagnetic_field_strength_1au: \t\t9.19 +/- 1.18\tcme_launch_radius: \t\t7.67 +/- 1.05\n",
      "\n",
      "\tbackground_drag: \t\t1.59 +/- 0.74\tcme_launch_velocity: \t\t447.55 +/- 102.01\n",
      "\tt_factor: \t\t-251.37 +/- 29.50\n",
      "\tbackground_velocity: \t\t472.32 +/- 140.19\n",
      "\n",
      "\tcme_expansion_rate: \t\t1.14 +/- 0.00\n",
      "\tmagnetic_decay_rate: \t\t1.64 +/- 0.00\n",
      "\tmagnetic_field_strength_1au: \t\t9.19 +/- 1.18\n",
      "\tbackground_drag: \t\t1.59 +/- 0.74\n",
      "\tbackground_velocity: \t\t472.32 +/- 140.19\n",
      "Results :\n",
      "\n",
      "\tcme_longitude: \t\t268.08 +/- 6.41\n",
      "\tcme_latitude: \t\t3.04 +/- 4.72\n",
      "\tcme_inclination: \t\t338.65 +/- 5.24\n",
      "\tcme_diameter_1au: \t\t0.31 +/- 0.03\n",
      "\tcme_aspect_ratio: \t\t1.38 +/- 0.28\n",
      "\tcme_launch_radius: \t\t7.67 +/- 1.05\n",
      "\tcme_launch_velocity: \t\t447.55 +/- 102.01\n",
      "\tt_factor: \t\t-251.37 +/- 29.50\n",
      "\tcme_expansion_rate: \t\t1.14 +/- 0.00\n",
      "\tmagnetic_decay_rate: \t\t1.64 +/- 0.00\n",
      "\tmagnetic_field_strength_1au: \t\t9.19 +/- 1.18\n",
      "\tbackground_drag: \t\t1.59 +/- 0.74\n",
      "\tbackground_velocity: \t\t472.32 +/- 140.19\n",
      "observer: Parker Solar Probe\n",
      "inst <heliosat.spice.PSP object at 0x319feb4f0>\n"
     ]
    },
    {
     "name": "stderr",
     "output_type": "stream",
     "text": [
      "2023-06-07 10:33:37.969 INFO    py3dcore.fluxplot: Using HelioSat to retrieve observer data\n"
     ]
    },
    {
     "name": "stdout",
     "output_type": "stream",
     "text": [
      "observer: Parker Solar Probe\n",
      "inst <heliosat.spice.PSP object at 0x319fef4f0>\n"
     ]
    },
    {
     "name": "stderr",
     "output_type": "stream",
     "text": [
      "2023-06-07 10:33:38.102 INFO    py3dcore.fluxplot: Using HelioSat to retrieve observer data\n"
     ]
    },
    {
     "name": "stdout",
     "output_type": "stream",
     "text": [
      "observer: Parker Solar Probe\n",
      "inst <heliosat.spice.PSP object at 0x319feb4f0>\n",
      "observer: Parker Solar Probe"
     ]
    },
    {
     "name": "stderr",
     "output_type": "stream",
     "text": [
      "2023-06-07 10:33:38.113 INFO    py3dcore.fluxplot: Using HelioSat to retrieve observer data\n"
     ]
    },
    {
     "name": "stdout",
     "output_type": "stream",
     "text": [
      "\n",
      "inst <heliosat.spice.PSP object at 0x319fe74f0>\n"
     ]
    },
    {
     "name": "stderr",
     "output_type": "stream",
     "text": [
      "2023-06-07 10:33:38.118 INFO    py3dcore.fluxplot: Using HelioSat to retrieve observer data\n"
     ]
    },
    {
     "name": "stdout",
     "output_type": "stream",
     "text": [
      "Results :\n",
      "\n",
      "\tcme_longitude: \t\t268.08 +/- 6.41\n",
      "\tcme_latitude: \t\t3.04 +/- 4.72\n",
      "\tcme_inclination: \t\t338.65 +/- 5.24\n",
      "\tcme_diameter_1au: \t\t0.31 +/- 0.03\n",
      "\tcme_aspect_ratio: \t\t1.38 +/- 0.28\n",
      "\tcme_launch_radius: \t\t7.67 +/- 1.05\n",
      "\tcme_launch_velocity: \t\t447.55 +/- 102.01\n",
      "\tt_factor: \t\t-251.37 +/- 29.50\n",
      "\tcme_expansion_rate: \t\t1.14 +/- 0.00\n",
      "\tmagnetic_decay_rate: \t\t1.64 +/- 0.00\n",
      "\tmagnetic_field_strength_1au: \t\t9.19 +/- 1.18\n",
      "\tbackground_drag: \t\t1.59 +/- 0.74\n",
      "\tbackground_velocity: \t\t472.32 +/- 140.19\n",
      "Results :\n",
      "\n",
      "Results :\n",
      "Results :\n",
      "\n",
      "\n",
      "\tcme_longitude: \t\t268.08 +/- 6.41\tcme_longitude: \t\t268.08 +/- 6.41\tcme_longitude: \t\t268.08 +/- 6.41\n",
      "\n",
      "\tcme_latitude: \t\t3.04 +/- 4.72\n",
      "\tcme_latitude: \t\t3.04 +/- 4.72\n",
      "\tcme_inclination: \t\t338.65 +/- 5.24\n",
      "\tcme_latitude: \t\t3.04 +/- 4.72\n",
      "\tcme_diameter_1au: \t\t0.31 +/- 0.03\n",
      "\tcme_inclination: \t\t338.65 +/- 5.24\tcme_inclination: \t\t338.65 +/- 5.24\n",
      "\n",
      "\n",
      "\tcme_diameter_1au: \t\t0.31 +/- 0.03\tcme_diameter_1au: \t\t0.31 +/- 0.03\n",
      "\tcme_aspect_ratio: \t\t1.38 +/- 0.28\n",
      "\tcme_aspect_ratio: \t\t1.38 +/- 0.28\tcme_aspect_ratio: \t\t1.38 +/- 0.28\n",
      "\n",
      "\tcme_launch_radius: \t\t7.67 +/- 1.05\n",
      "\tcme_launch_radius: \t\t7.67 +/- 1.05\tcme_launch_radius: \t\t7.67 +/- 1.05\n",
      "\n",
      "\n",
      "\tcme_launch_velocity: \t\t447.55 +/- 102.01\tcme_launch_velocity: \t\t447.55 +/- 102.01\tcme_launch_velocity: \t\t447.55 +/- 102.01\n",
      "\n",
      "\n",
      "\tt_factor: \t\t-251.37 +/- 29.50\tt_factor: \t\t-251.37 +/- 29.50\n",
      "\tt_factor: \t\t-251.37 +/- 29.50\n",
      "\tcme_expansion_rate: \t\t1.14 +/- 0.00\n",
      "\tcme_expansion_rate: \t\t1.14 +/- 0.00\n",
      "\n",
      "\tcme_expansion_rate: \t\t1.14 +/- 0.00\tmagnetic_decay_rate: \t\t1.64 +/- 0.00\tmagnetic_decay_rate: \t\t1.64 +/- 0.00\n",
      "\n",
      "\n",
      "\tmagnetic_decay_rate: \t\t1.64 +/- 0.00\tmagnetic_field_strength_1au: \t\t9.19 +/- 1.18\tmagnetic_field_strength_1au: \t\t9.19 +/- 1.18\n",
      "\tmagnetic_field_strength_1au: \t\t9.19 +/- 1.18\n",
      "\n",
      "\tbackground_drag: \t\t1.59 +/- 0.74\n",
      "\n",
      "\tbackground_drag: \t\t1.59 +/- 0.74\tbackground_drag: \t\t1.59 +/- 0.74\n",
      "\tbackground_velocity: \t\t472.32 +/- 140.19\n",
      "\tbackground_velocity: \t\t472.32 +/- 140.19\n",
      "\tbackground_velocity: \t\t472.32 +/- 140.19\n",
      "\n",
      "observer: Parker Solar Probe\n",
      "inst <heliosat.spice.PSP object at 0x30b6096c0>\n"
     ]
    },
    {
     "name": "stderr",
     "output_type": "stream",
     "text": [
      "2023-06-07 10:33:38.699 INFO    py3dcore.fluxplot: Using HelioSat to retrieve observer data\n"
     ]
    },
    {
     "name": "stdout",
     "output_type": "stream",
     "text": [
      "observer: Parker Solar Probe\n",
      "inst <heliosat.spice.PSP object at 0x30b609420>\n"
     ]
    },
    {
     "name": "stderr",
     "output_type": "stream",
     "text": [
      "2023-06-07 10:33:38.813 INFO    py3dcore.fluxplot: Using HelioSat to retrieve observer data\n"
     ]
    },
    {
     "name": "stdout",
     "output_type": "stream",
     "text": [
      "observer: Parker Solar Probe\n",
      "observer: Parker Solar Probeinst \n",
      "<heliosat.spice.PSP object at 0x30b609510>\n",
      "inst"
     ]
    },
    {
     "name": "stderr",
     "output_type": "stream",
     "text": [
      "2023-06-07 10:33:38.832 INFO    py3dcore.fluxplot: Using HelioSat to retrieve observer data\n"
     ]
    },
    {
     "name": "stdout",
     "output_type": "stream",
     "text": [
      " <heliosat.spice.PSP object at 0x30b609810>\n"
     ]
    },
    {
     "name": "stderr",
     "output_type": "stream",
     "text": [
      "2023-06-07 10:33:38.836 INFO    py3dcore.fluxplot: Using HelioSat to retrieve observer data\n"
     ]
    },
    {
     "name": "stdout",
     "output_type": "stream",
     "text": [
      "Results :\n",
      "\n",
      "\tcme_longitude: \t\t268.08 +/- 6.41\n",
      "\tcme_latitude: \t\t3.04 +/- 4.72\n",
      "\tcme_inclination: \t\t338.65 +/- 5.24\n",
      "\tcme_diameter_1au: \t\t0.31 +/- 0.03\n",
      "\tcme_aspect_ratio: \t\t1.38 +/- 0.28\n",
      "\tcme_launch_radius: \t\t7.67 +/- 1.05\n",
      "\tcme_launch_velocity: \t\t447.55 +/- 102.01\n",
      "\tt_factor: \t\t-251.37 +/- 29.50\n",
      "\tcme_expansion_rate: \t\t1.14 +/- 0.00\n",
      "\tmagnetic_decay_rate: \t\t1.64 +/- 0.00\n",
      "\tmagnetic_field_strength_1au: \t\t9.19 +/- 1.18\n",
      "\tbackground_drag: \t\t1.59 +/- 0.74\n",
      "\tbackground_velocity: \t\t472.32 +/- 140.19\n",
      "Results :\n",
      "\n",
      "\tcme_longitude: \t\t268.08 +/- 6.41\n",
      "\tcme_latitude: \t\t3.04 +/- 4.72\n",
      "\tcme_inclination: \t\t338.65 +/- 5.24\n",
      "\tcme_diameter_1au: \t\t0.31 +/- 0.03\n",
      "\tcme_aspect_ratio: \t\t1.38 +/- 0.28\n",
      "\tcme_launch_radius: \t\t7.67 +/- 1.05\n",
      "\tcme_launch_velocity: \t\t447.55 +/- 102.01\n",
      "\tt_factor: \t\t-251.37 +/- 29.50\n",
      "\tcme_expansion_rate: \t\t1.14 +/- 0.00\n",
      "\tmagnetic_decay_rate: \t\t1.64 +/- 0.00\n",
      "\tmagnetic_field_strength_1au: \t\t9.19 +/- 1.18\n",
      "\tbackground_drag: \t\t1.59 +/- 0.74\n",
      "\tbackground_velocity: \t\t472.32 +/- 140.19\n",
      "Results :\n",
      "\n",
      "\tcme_longitude: \t\t268.08 +/- 6.41\n",
      "\tcme_latitude: \t\t3.04 +/- 4.72\n",
      "\tcme_inclination: \t\t338.65 +/- 5.24\n",
      "\tcme_diameter_1au: \t\t0.31 +/- 0.03\n",
      "\tcme_aspect_ratio: \t\t1.38 +/- 0.28\n",
      "\tcme_launch_radius: \t\t7.67 +/- 1.05\n",
      "\tcme_launch_velocity: \t\t447.55 +/- 102.01\n",
      "\tt_factor: \t\t-251.37 +/- 29.50\n",
      "\tcme_expansion_rate: \t\t1.14 +/- 0.00\n",
      "\tmagnetic_decay_rate: \t\t1.64 +/- 0.00\n",
      "\tmagnetic_field_strength_1au: \t\t9.19 +/- 1.18\n",
      "\tbackground_drag: \t\t1.59 +/- 0.74\n",
      "\tbackground_velocity: \t\t472.32 +/- 140.19\n",
      "Results :\n",
      "\n",
      "\tcme_longitude: \t\t268.08 +/- 6.41\n",
      "\tcme_latitude: \t\t3.04 +/- 4.72\n",
      "\tcme_inclination: \t\t338.65 +/- 5.24\n",
      "\tcme_diameter_1au: \t\t0.31 +/- 0.03\n",
      "\tcme_aspect_ratio: \t\t1.38 +/- 0.28\n",
      "\tcme_launch_radius: \t\t7.67 +/- 1.05\n",
      "\tcme_launch_velocity: \t\t447.55 +/- 102.01\n",
      "\tt_factor: \t\t-251.37 +/- 29.50\n",
      "\tcme_expansion_rate: \t\t1.14 +/- 0.00\n",
      "\tmagnetic_decay_rate: \t\t1.64 +/- 0.00\n",
      "\tmagnetic_field_strength_1au: \t\t9.19 +/- 1.18\n",
      "\tbackground_drag: \t\t1.59 +/- 0.74\n",
      "\tbackground_velocity: \t\t472.32 +/- 140.19\n",
      "observer: Parker Solar Probe\n",
      "inst <heliosat.spice.PSP object at 0x30bc63790>\n"
     ]
    },
    {
     "name": "stderr",
     "output_type": "stream",
     "text": [
      "2023-06-07 10:33:39.484 INFO    py3dcore.fluxplot: Using HelioSat to retrieve observer data\n"
     ]
    },
    {
     "name": "stdout",
     "output_type": "stream",
     "text": [
      "observer: Parker Solar Probe\n",
      "inst <heliosat.spice.PSP object at 0x30bc29b70>\n"
     ]
    },
    {
     "name": "stderr",
     "output_type": "stream",
     "text": [
      "2023-06-07 10:33:39.518 INFO    py3dcore.fluxplot: Using HelioSat to retrieve observer data\n"
     ]
    },
    {
     "name": "stdout",
     "output_type": "stream",
     "text": [
      "observer: Parker Solar Probe\n",
      "observer: Parker Solar Probeinst\n",
      " <heliosat.spice.PSP object at 0x30bc29c60>inst\n",
      " "
     ]
    },
    {
     "name": "stderr",
     "output_type": "stream",
     "text": [
      "2023-06-07 10:33:39.567 INFO    py3dcore.fluxplot: Using HelioSat to retrieve observer data\n"
     ]
    },
    {
     "name": "stdout",
     "output_type": "stream",
     "text": [
      "<heliosat.spice.PSP object at 0x30bc637f0>\n"
     ]
    },
    {
     "name": "stderr",
     "output_type": "stream",
     "text": [
      "2023-06-07 10:33:39.570 INFO    py3dcore.fluxplot: Using HelioSat to retrieve observer data\n"
     ]
    },
    {
     "name": "stdout",
     "output_type": "stream",
     "text": [
      "Results :\n",
      "\n",
      "\tcme_longitude: \t\t268.08 +/- 6.41\n",
      "\tcme_latitude: \t\t3.04 +/- 4.72\n",
      "\tcme_inclination: \t\t338.65 +/- 5.24\n",
      "\tcme_diameter_1au: \t\t0.31 +/- 0.03\n",
      "\n",
      "\tcme_aspect_ratio: \t\t1.38 +/- 0.28\n",
      "\tcme_launch_radius: \t\t7.67 +/- 1.05\tcme_launch_velocity: \t\t447.55 +/- 102.01\n",
      "\tt_factor: \t\t-251.37 +/- 29.50\n",
      "\tcme_expansion_rate: \t\t1.14 +/- 0.00\n",
      "\tmagnetic_decay_rate: \t\t1.64 +/- 0.00Results :\n",
      "\n",
      "\n",
      "\tmagnetic_field_strength_1au: \t\t9.19 +/- 1.18\tcme_longitude: \t\t268.08 +/- 6.41\n",
      "\n",
      "\tbackground_drag: \t\t1.59 +/- 0.74\tcme_latitude: \t\t3.04 +/- 4.72\n",
      "\tbackground_velocity: \t\t472.32 +/- 140.19\n",
      "\tcme_inclination: \t\t338.65 +/- 5.24\n",
      "\n",
      "\tcme_diameter_1au: \t\t0.31 +/- 0.03\n",
      "\tcme_aspect_ratio: \t\t1.38 +/- 0.28\n",
      "\tcme_launch_radius: \t\t7.67 +/- 1.05\n",
      "\tcme_launch_velocity: \t\t447.55 +/- 102.01\n",
      "\tt_factor: \t\t-251.37 +/- 29.50\n",
      "\tcme_expansion_rate: \t\t1.14 +/- 0.00\n",
      "\tmagnetic_decay_rate: \t\t1.64 +/- 0.00\n",
      "\tmagnetic_field_strength_1au: \t\t9.19 +/- 1.18\n",
      "\tbackground_drag: \t\t1.59 +/- 0.74\n",
      "\tbackground_velocity: \t\t472.32 +/- 140.19\n",
      "observer: Parker Solar Probe\n",
      "inst <heliosat.spice.PSP object at 0x321ab74f0>\n"
     ]
    },
    {
     "name": "stderr",
     "output_type": "stream",
     "text": [
      "2023-06-07 10:33:40.433 INFO    py3dcore.fluxplot: Using HelioSat to retrieve observer data\n"
     ]
    },
    {
     "name": "stdout",
     "output_type": "stream",
     "text": [
      "observer: Parker Solar Probe\n",
      "inst <heliosat.spice.PSP object at 0x321ab74f0>\n"
     ]
    },
    {
     "name": "stderr",
     "output_type": "stream",
     "text": [
      "2023-06-07 10:33:40.444 INFO    py3dcore.fluxplot: Using HelioSat to retrieve observer data\n"
     ]
    },
    {
     "name": "stdout",
     "output_type": "stream",
     "text": [
      "Results :\n",
      "\n",
      "\tcme_longitude: \t\t268.08 +/- 6.41\n",
      "\tcme_latitude: \t\t3.04 +/- 4.72\n",
      "\tcme_inclination: \t\t338.65 +/- 5.24\n",
      "\tcme_diameter_1au: \t\t0.31 +/- 0.03\n",
      "\tcme_aspect_ratio: \t\t1.38 +/- 0.28\n",
      "\tcme_launch_radius: \t\t7.67 +/- 1.05\n",
      "\tcme_launch_velocity: \t\t447.55 +/- 102.01\n",
      "\tt_factor: \t\t-251.37 +/- 29.50\n",
      "\tcme_expansion_rate: \t\t1.14 +/- 0.00\n",
      "\tmagnetic_decay_rate: \t\t1.64 +/- 0.00\n",
      "\tmagnetic_field_strength_1au: \t\t9.19 +/- 1.18\n",
      "\tbackground_drag: \t\t1.59 +/- 0.74\n",
      "\tbackground_velocity: \t\t472.32 +/- 140.19\n",
      "observer: Parker Solar Probe\n",
      "inst <heliosat.spice.PSP object at 0x30dcd6e60>\n"
     ]
    },
    {
     "name": "stderr",
     "output_type": "stream",
     "text": [
      "2023-06-07 10:33:40.695 INFO    py3dcore.fluxplot: Using HelioSat to retrieve observer data\n"
     ]
    },
    {
     "name": "stdout",
     "output_type": "stream",
     "text": [
      "Results :\n",
      "\n",
      "\tcme_longitude: \t\t268.08 +/- 6.41\n",
      "\tcme_latitude: \t\t3.04 +/- 4.72\n",
      "\tcme_inclination: \t\t338.65 +/- 5.24\n",
      "\tcme_diameter_1au: \t\t0.31 +/- 0.03\n",
      "\tcme_aspect_ratio: \t\t1.38 +/- 0.28\n",
      "\tcme_launch_radius: \t\t7.67 +/- 1.05\n",
      "\tcme_launch_velocity: \t\t447.55 +/- 102.01\n",
      "\tt_factor: \t\t-251.37 +/- 29.50\n",
      "\tcme_expansion_rate: \t\t1.14 +/- 0.00\n",
      "\tmagnetic_decay_rate: \t\t1.64 +/- 0.00\n",
      "\tmagnetic_field_strength_1au: \t\t9.19 +/- 1.18\n",
      "\tbackground_drag: \t\t1.59 +/- 0.74\n",
      "\tbackground_velocity: \t\t472.32 +/- 140.19\n",
      "observer: Parker Solar Probe\n",
      "inst <heliosat.spice.PSP object at 0x307836050>\n"
     ]
    },
    {
     "name": "stderr",
     "output_type": "stream",
     "text": [
      "2023-06-07 10:33:40.942 INFO    py3dcore.fluxplot: Using HelioSat to retrieve observer data\n"
     ]
    },
    {
     "name": "stdout",
     "output_type": "stream",
     "text": [
      "done 1/4\n",
      "Results :\n",
      "\n",
      "Results :\n",
      "Results :\n",
      "Results :\n",
      "\n",
      "\n",
      "\tcme_longitude: \t\t268.08 +/- 6.41\n",
      "\tcme_longitude: \t\t268.08 +/- 6.41\tcme_longitude: \t\t268.08 +/- 6.41\n",
      "\tcme_longitude: \t\t268.08 +/- 6.41\n",
      "\n",
      "\tcme_latitude: \t\t3.04 +/- 4.72\tcme_latitude: \t\t3.04 +/- 4.72\n",
      "\tcme_latitude: \t\t3.04 +/- 4.72\n",
      "\tcme_latitude: \t\t3.04 +/- 4.72\tcme_inclination: \t\t338.65 +/- 5.24\n",
      "\n",
      "\n",
      "\tcme_inclination: \t\t338.65 +/- 5.24\tcme_inclination: \t\t338.65 +/- 5.24\n",
      "\n",
      "\n",
      "\tcme_inclination: \t\t338.65 +/- 5.24\tcme_diameter_1au: \t\t0.31 +/- 0.03\tcme_diameter_1au: \t\t0.31 +/- 0.03\tcme_diameter_1au: \t\t0.31 +/- 0.03\n",
      "\n",
      "\n",
      "\n",
      "\tcme_aspect_ratio: \t\t1.38 +/- 0.28\tcme_aspect_ratio: \t\t1.38 +/- 0.28\tcme_diameter_1au: \t\t0.31 +/- 0.03\tcme_aspect_ratio: \t\t1.38 +/- 0.28\n",
      "\n",
      "\n",
      "\n",
      "\tcme_launch_radius: \t\t7.67 +/- 1.05\tcme_launch_radius: \t\t7.67 +/- 1.05\tcme_launch_radius: \t\t7.67 +/- 1.05\tcme_aspect_ratio: \t\t1.38 +/- 0.28\n",
      "\n",
      "\tcme_launch_velocity: \t\t447.55 +/- 102.01\tcme_launch_velocity: \t\t447.55 +/- 102.01\n",
      "\n",
      "\n",
      "\n",
      "\tcme_launch_radius: \t\t7.67 +/- 1.05\tcme_launch_velocity: \t\t447.55 +/- 102.01\tt_factor: \t\t-251.37 +/- 29.50\tt_factor: \t\t-251.37 +/- 29.50\n",
      "\n",
      "\n",
      "\tcme_launch_velocity: \t\t447.55 +/- 102.01\tt_factor: \t\t-251.37 +/- 29.50\n",
      "\tcme_expansion_rate: \t\t1.14 +/- 0.00\n",
      "\tcme_expansion_rate: \t\t1.14 +/- 0.00\n",
      "\n",
      "\tt_factor: \t\t-251.37 +/- 29.50\n",
      "\n",
      "\tcme_expansion_rate: \t\t1.14 +/- 0.00\tmagnetic_decay_rate: \t\t1.64 +/- 0.00\tmagnetic_decay_rate: \t\t1.64 +/- 0.00\tcme_expansion_rate: \t\t1.14 +/- 0.00\n",
      "\n",
      "\n",
      "\n",
      "\tmagnetic_decay_rate: \t\t1.64 +/- 0.00\tmagnetic_field_strength_1au: \t\t9.19 +/- 1.18\tmagnetic_field_strength_1au: \t\t9.19 +/- 1.18\tmagnetic_decay_rate: \t\t1.64 +/- 0.00\n",
      "\n",
      "\n",
      "\n",
      "\tmagnetic_field_strength_1au: \t\t9.19 +/- 1.18\tbackground_drag: \t\t1.59 +/- 0.74\tmagnetic_field_strength_1au: \t\t9.19 +/- 1.18\tbackground_drag: \t\t1.59 +/- 0.74\n",
      "\n",
      "\n",
      "\n",
      "\tbackground_drag: \t\t1.59 +/- 0.74\tbackground_drag: \t\t1.59 +/- 0.74\tbackground_velocity: \t\t472.32 +/- 140.19\n",
      "\tbackground_velocity: \t\t472.32 +/- 140.19\n",
      "\n",
      "\tbackground_velocity: \t\t472.32 +/- 140.19\n",
      "\tbackground_velocity: \t\t472.32 +/- 140.19\n",
      "\n",
      "observer: Parker Solar Probe\n",
      "observer:inst  <heliosat.spice.PSP object at 0x30c4aa170>Parker Solar Probe\n",
      "\n"
     ]
    },
    {
     "name": "stderr",
     "output_type": "stream",
     "text": [
      "2023-06-07 10:33:42.128 INFO    py3dcore.fluxplot: Using HelioSat to retrieve observer data\n"
     ]
    },
    {
     "name": "stdout",
     "output_type": "stream",
     "text": [
      "inst <heliosat.spice.PSP object at 0x30c4aa3b0>\n"
     ]
    },
    {
     "name": "stderr",
     "output_type": "stream",
     "text": [
      "2023-06-07 10:33:42.132 INFO    py3dcore.fluxplot: Using HelioSat to retrieve observer data\n"
     ]
    },
    {
     "name": "stdout",
     "output_type": "stream",
     "text": [
      "observer: Parker Solar Probe\n",
      "observer: inst Parker Solar Probe<heliosat.spice.PSP object at 0x30c4aa230>\n",
      "\n"
     ]
    },
    {
     "name": "stderr",
     "output_type": "stream",
     "text": [
      "2023-06-07 10:33:42.145 INFO    py3dcore.fluxplot: Using HelioSat to retrieve observer data\n"
     ]
    },
    {
     "name": "stdout",
     "output_type": "stream",
     "text": [
      "inst <heliosat.spice.PSP object at 0x30c4aa2f0>\n"
     ]
    },
    {
     "name": "stderr",
     "output_type": "stream",
     "text": [
      "2023-06-07 10:33:42.148 INFO    py3dcore.fluxplot: Using HelioSat to retrieve observer data\n"
     ]
    },
    {
     "name": "stdout",
     "output_type": "stream",
     "text": [
      "Results :\n",
      "Results :\n",
      "\n",
      "Results :\n",
      "Results :\n",
      "\tcme_longitude: \t\t268.08 +/- 6.41\n",
      "\n",
      "\n",
      "\n",
      "\tcme_longitude: \t\t268.08 +/- 6.41\tcme_longitude: \t\t268.08 +/- 6.41\tcme_longitude: \t\t268.08 +/- 6.41\n",
      "\tcme_latitude: \t\t3.04 +/- 4.72\n",
      "\n",
      "\tcme_latitude: \t\t3.04 +/- 4.72\tcme_latitude: \t\t3.04 +/- 4.72\n",
      "\n",
      "\n",
      "\tcme_latitude: \t\t3.04 +/- 4.72\tcme_inclination: \t\t338.65 +/- 5.24\tcme_inclination: \t\t338.65 +/- 5.24\tcme_inclination: \t\t338.65 +/- 5.24\n",
      "\n",
      "\n",
      "\tcme_inclination: \t\t338.65 +/- 5.24\tcme_diameter_1au: \t\t0.31 +/- 0.03\n",
      "\n",
      "\n",
      "\tcme_diameter_1au: \t\t0.31 +/- 0.03\tcme_diameter_1au: \t\t0.31 +/- 0.03\n",
      "\tcme_diameter_1au: \t\t0.31 +/- 0.03\tcme_aspect_ratio: \t\t1.38 +/- 0.28\n",
      "\tcme_aspect_ratio: \t\t1.38 +/- 0.28\n",
      "\n",
      "\tcme_aspect_ratio: \t\t1.38 +/- 0.28\n",
      "\tcme_launch_radius: \t\t7.67 +/- 1.05\tcme_aspect_ratio: \t\t1.38 +/- 0.28\n",
      "\n",
      "\n",
      "\tcme_launch_radius: \t\t7.67 +/- 1.05\tcme_launch_radius: \t\t7.67 +/- 1.05\tcme_launch_velocity: \t\t447.55 +/- 102.01\tcme_launch_radius: \t\t7.67 +/- 1.05\n",
      "\n",
      "\n",
      "\n",
      "\tcme_launch_velocity: \t\t447.55 +/- 102.01\tcme_launch_velocity: \t\t447.55 +/- 102.01\tt_factor: \t\t-251.37 +/- 29.50\tcme_launch_velocity: \t\t447.55 +/- 102.01\n",
      "\n",
      "\n",
      "\n",
      "\tt_factor: \t\t-251.37 +/- 29.50\tt_factor: \t\t-251.37 +/- 29.50\tcme_expansion_rate: \t\t1.14 +/- 0.00\tt_factor: \t\t-251.37 +/- 29.50\n",
      "\n",
      "\n",
      "\n",
      "\tcme_expansion_rate: \t\t1.14 +/- 0.00\tmagnetic_decay_rate: \t\t1.64 +/- 0.00\tcme_expansion_rate: \t\t1.14 +/- 0.00\tcme_expansion_rate: \t\t1.14 +/- 0.00\n",
      "\n",
      "\n",
      "\n",
      "\tmagnetic_decay_rate: \t\t1.64 +/- 0.00\tmagnetic_decay_rate: \t\t1.64 +/- 0.00\tmagnetic_field_strength_1au: \t\t9.19 +/- 1.18\tmagnetic_decay_rate: \t\t1.64 +/- 0.00\n",
      "\n",
      "\n",
      "\n",
      "\tmagnetic_field_strength_1au: \t\t9.19 +/- 1.18\tmagnetic_field_strength_1au: \t\t9.19 +/- 1.18\tmagnetic_field_strength_1au: \t\t9.19 +/- 1.18\tbackground_drag: \t\t1.59 +/- 0.74\n",
      "\n",
      "\n",
      "\tbackground_drag: \t\t1.59 +/- 0.74\n",
      "\tbackground_drag: \t\t1.59 +/- 0.74\n",
      "\tbackground_drag: \t\t1.59 +/- 0.74\tbackground_velocity: \t\t472.32 +/- 140.19\n",
      "\n",
      "\tbackground_velocity: \t\t472.32 +/- 140.19\n",
      "\tbackground_velocity: \t\t472.32 +/- 140.19\tbackground_velocity: \t\t472.32 +/- 140.19\n",
      "\n",
      "\n",
      "observer: Parker Solar Probe\n",
      "observer: Parker Solar Probeinst\n",
      " <heliosat.spice.PSP object at 0x30cde2bf0>inst\n",
      " <heliosat.spice.PSP object at 0x30cde2a70>"
     ]
    },
    {
     "name": "stderr",
     "output_type": "stream",
     "text": [
      "2023-06-07 10:33:42.781 INFO    py3dcore.fluxplot: Using HelioSat to retrieve observer data\n"
     ]
    },
    {
     "name": "stdout",
     "output_type": "stream",
     "text": [
      "\n"
     ]
    },
    {
     "name": "stderr",
     "output_type": "stream",
     "text": [
      "2023-06-07 10:33:42.782 INFO    py3dcore.fluxplot: Using HelioSat to retrieve observer data\n"
     ]
    },
    {
     "name": "stdout",
     "output_type": "stream",
     "text": [
      "observer: Parker Solar Probe\n",
      "inst <heliosat.spice.PSP object at 0x30cde29b0>\n"
     ]
    },
    {
     "name": "stderr",
     "output_type": "stream",
     "text": [
      "2023-06-07 10:33:42.804 INFO    py3dcore.fluxplot: Using HelioSat to retrieve observer data\n"
     ]
    },
    {
     "name": "stdout",
     "output_type": "stream",
     "text": [
      "observer: Parker Solar Probe\n",
      "inst <heliosat.spice.PSP object at 0x30cde2b30>\n"
     ]
    },
    {
     "name": "stderr",
     "output_type": "stream",
     "text": [
      "2023-06-07 10:33:42.817 INFO    py3dcore.fluxplot: Using HelioSat to retrieve observer data\n"
     ]
    },
    {
     "name": "stdout",
     "output_type": "stream",
     "text": [
      "Results :\n",
      "Results :\n",
      "\n",
      "\n",
      "\tcme_longitude: \t\t268.08 +/- 6.41\tcme_longitude: \t\t268.08 +/- 6.41\n",
      "Results :\n",
      "\tcme_latitude: \t\t3.04 +/- 4.72\n",
      "\n",
      "\n",
      "\tcme_longitude: \t\t268.08 +/- 6.41\tcme_inclination: \t\t338.65 +/- 5.24\tcme_latitude: \t\t3.04 +/- 4.72\n",
      "\n",
      "\n",
      "\tcme_inclination: \t\t338.65 +/- 5.24\tcme_diameter_1au: \t\t0.31 +/- 0.03\tcme_latitude: \t\t3.04 +/- 4.72\n",
      "\n",
      "\n",
      "\tcme_aspect_ratio: \t\t1.38 +/- 0.28\tcme_inclination: \t\t338.65 +/- 5.24\tcme_diameter_1au: \t\t0.31 +/- 0.03\n",
      "\n",
      "\n",
      "\tcme_launch_radius: \t\t7.67 +/- 1.05\tcme_aspect_ratio: \t\t1.38 +/- 0.28\tcme_diameter_1au: \t\t0.31 +/- 0.03\n",
      "\n",
      "\n",
      "\tcme_launch_velocity: \t\t447.55 +/- 102.01\tcme_aspect_ratio: \t\t1.38 +/- 0.28\tcme_launch_radius: \t\t7.67 +/- 1.05\n",
      "\n",
      "\n",
      "\tcme_launch_velocity: \t\t447.55 +/- 102.01\tt_factor: \t\t-251.37 +/- 29.50\tcme_launch_radius: \t\t7.67 +/- 1.05\n",
      "\n",
      "\tt_factor: \t\t-251.37 +/- 29.50\n",
      "\n",
      "\tcme_launch_velocity: \t\t447.55 +/- 102.01\tcme_expansion_rate: \t\t1.14 +/- 0.00\n",
      "\n",
      "\tcme_expansion_rate: \t\t1.14 +/- 0.00\tt_factor: \t\t-251.37 +/- 29.50\tmagnetic_decay_rate: \t\t1.64 +/- 0.00\n",
      "\n",
      "\n",
      "\tmagnetic_field_strength_1au: \t\t9.19 +/- 1.18\tcme_expansion_rate: \t\t1.14 +/- 0.00\tmagnetic_decay_rate: \t\t1.64 +/- 0.00\n",
      "\n",
      "\tbackground_drag: \t\t1.59 +/- 0.74\n",
      "\n",
      "\tmagnetic_field_strength_1au: \t\t9.19 +/- 1.18\tmagnetic_decay_rate: \t\t1.64 +/- 0.00\tbackground_velocity: \t\t472.32 +/- 140.19\n",
      "\n",
      "\n",
      "\tmagnetic_field_strength_1au: \t\t9.19 +/- 1.18\tbackground_drag: \t\t1.59 +/- 0.74\n",
      "\n",
      "\tbackground_drag: \t\t1.59 +/- 0.74\tbackground_velocity: \t\t472.32 +/- 140.19\n",
      "\n",
      "\tbackground_velocity: \t\t472.32 +/- 140.19\n",
      "Results :\n",
      "\n",
      "\tcme_longitude: \t\t268.08 +/- 6.41\n",
      "\tcme_latitude: \t\t3.04 +/- 4.72\n",
      "\tcme_inclination: \t\t338.65 +/- 5.24\n",
      "\tcme_diameter_1au: \t\t0.31 +/- 0.03\n",
      "\tcme_aspect_ratio: \t\t1.38 +/- 0.28\n",
      "\tcme_launch_radius: \t\t7.67 +/- 1.05\n",
      "\tcme_launch_velocity: \t\t447.55 +/- 102.01\n",
      "\tt_factor: \t\t-251.37 +/- 29.50\n",
      "\tcme_expansion_rate: \t\t1.14 +/- 0.00\n",
      "\tmagnetic_decay_rate: \t\t1.64 +/- 0.00\n",
      "\tmagnetic_field_strength_1au: \t\t9.19 +/- 1.18\n",
      "\tbackground_drag: \t\t1.59 +/- 0.74\n",
      "\tbackground_velocity: \t\t472.32 +/- 140.19\n",
      "observer: Parker Solar Probe\n",
      "inst observer:<heliosat.spice.PSP object at 0x30d3756c0> \n",
      "Parker Solar Probe\n"
     ]
    },
    {
     "name": "stderr",
     "output_type": "stream",
     "text": [
      "2023-06-07 10:33:43.478 INFO    py3dcore.fluxplot: Using HelioSat to retrieve observer data\n"
     ]
    },
    {
     "name": "stdout",
     "output_type": "stream",
     "text": [
      "inst <heliosat.spice.PSP object at 0x30d375780>\n"
     ]
    },
    {
     "name": "stderr",
     "output_type": "stream",
     "text": [
      "2023-06-07 10:33:43.481 INFO    py3dcore.fluxplot: Using HelioSat to retrieve observer data\n"
     ]
    },
    {
     "name": "stdout",
     "output_type": "stream",
     "text": [
      "observer: Parker Solar Probe\n",
      "inst <heliosat.spice.PSP object at 0x30d375900>observer:\n",
      " Parker Solar Probe"
     ]
    },
    {
     "name": "stderr",
     "output_type": "stream",
     "text": [
      "2023-06-07 10:33:43.501 INFO    py3dcore.fluxplot: Using HelioSat to retrieve observer data\n"
     ]
    },
    {
     "name": "stdout",
     "output_type": "stream",
     "text": [
      "\n",
      "inst <heliosat.spice.PSP object at 0x30d375840>\n"
     ]
    },
    {
     "name": "stderr",
     "output_type": "stream",
     "text": [
      "2023-06-07 10:33:43.508 INFO    py3dcore.fluxplot: Using HelioSat to retrieve observer data\n"
     ]
    },
    {
     "name": "stdout",
     "output_type": "stream",
     "text": [
      "Results :\n",
      "\n",
      "\tcme_longitude: \t\t268.08 +/- 6.41\n",
      "\tcme_latitude: \t\t3.04 +/- 4.72\n",
      "\tcme_inclination: \t\t338.65 +/- 5.24\n",
      "\tcme_diameter_1au: \t\t0.31 +/- 0.03\n",
      "\tcme_aspect_ratio: \t\t1.38 +/- 0.28\n",
      "\tcme_launch_radius: \t\t7.67 +/- 1.05\n",
      "\tcme_launch_velocity: \t\t447.55 +/- 102.01\n",
      "\tt_factor: \t\t-251.37 +/- 29.50\n",
      "\tcme_expansion_rate: \t\t1.14 +/- 0.00\n",
      "\tmagnetic_decay_rate: \t\t1.64 +/- 0.00\n",
      "\tmagnetic_field_strength_1au: \t\t9.19 +/- 1.18\n",
      "\tbackground_drag: \t\t1.59 +/- 0.74\n",
      "\tbackground_velocity: \t\t472.32 +/- 140.19\n",
      "Results :\n",
      "\n",
      "\tcme_longitude: \t\t268.08 +/- 6.41\n",
      "\tcme_latitude: \t\t3.04 +/- 4.72\n",
      "\tcme_inclination: \t\t338.65 +/- 5.24\n",
      "\tcme_diameter_1au: \t\t0.31 +/- 0.03\n",
      "\tcme_aspect_ratio: \t\t1.38 +/- 0.28\n",
      "\tcme_launch_radius: \t\t7.67 +/- 1.05\n",
      "\tcme_launch_velocity: \t\t447.55 +/- 102.01\n",
      "\tt_factor: \t\t-251.37 +/- 29.50\n",
      "\tcme_expansion_rate: \t\t1.14 +/- 0.00\n",
      "\tmagnetic_decay_rate: \t\t1.64 +/- 0.00\n",
      "\tmagnetic_field_strength_1au: \t\t9.19 +/- 1.18Results :\n",
      "\n",
      "\n",
      "\tcme_longitude: \t\t268.08 +/- 6.41\tbackground_drag: \t\t1.59 +/- 0.74\n",
      "\n",
      "\tbackground_velocity: \t\t472.32 +/- 140.19\tcme_latitude: \t\t3.04 +/- 4.72\n",
      "\n",
      "\tcme_inclination: \t\t338.65 +/- 5.24\n",
      "Results :\n",
      "\tcme_diameter_1au: \t\t0.31 +/- 0.03\n",
      "\tcme_aspect_ratio: \t\t1.38 +/- 0.28\n",
      "\tcme_launch_radius: \t\t7.67 +/- 1.05\n",
      "\tcme_launch_velocity: \t\t447.55 +/- 102.01\n",
      "\tt_factor: \t\t-251.37 +/- 29.50\n",
      "\tcme_expansion_rate: \t\t1.14 +/- 0.00\n",
      "\tmagnetic_decay_rate: \t\t1.64 +/- 0.00\n",
      "\tmagnetic_field_strength_1au: \t\t9.19 +/- 1.18\n",
      "\tbackground_drag: \t\t1.59 +/- 0.74\n",
      "\tbackground_velocity: \t\t472.32 +/- 140.19\n",
      "\n",
      "\tcme_longitude: \t\t268.08 +/- 6.41\n",
      "\tcme_latitude: \t\t3.04 +/- 4.72\n",
      "\tcme_inclination: \t\t338.65 +/- 5.24\n",
      "\tcme_diameter_1au: \t\t0.31 +/- 0.03\n",
      "\tcme_aspect_ratio: \t\t1.38 +/- 0.28\n",
      "\tcme_launch_radius: \t\t7.67 +/- 1.05\n",
      "\tcme_launch_velocity: \t\t447.55 +/- 102.01\n",
      "\tt_factor: \t\t-251.37 +/- 29.50\n",
      "\tcme_expansion_rate: \t\t1.14 +/- 0.00\n",
      "\tmagnetic_decay_rate: \t\t1.64 +/- 0.00\n",
      "\tmagnetic_field_strength_1au: \t\t9.19 +/- 1.18\n",
      "\tbackground_drag: \t\t1.59 +/- 0.74\n",
      "\tbackground_velocity: \t\t472.32 +/- 140.19\n",
      "observer: Parker Solar Probe\n",
      "inst <heliosat.spice.PSP object at 0x31d34e470>\n"
     ]
    },
    {
     "name": "stderr",
     "output_type": "stream",
     "text": [
      "2023-06-07 10:33:44.606 INFO    py3dcore.fluxplot: Using HelioSat to retrieve observer data\n"
     ]
    },
    {
     "name": "stdout",
     "output_type": "stream",
     "text": [
      "observer: Parker Solar Probe\n",
      "inst <heliosat.spice.PSP object at 0x31d34a6b0>\n"
     ]
    },
    {
     "name": "stderr",
     "output_type": "stream",
     "text": [
      "2023-06-07 10:33:44.631 INFO    py3dcore.fluxplot: Using HelioSat to retrieve observer data\n"
     ]
    },
    {
     "name": "stdout",
     "output_type": "stream",
     "text": [
      "observer: Parker Solar Probe\n",
      "inst observer:<heliosat.spice.PSP object at 0x31d34a5f0>\n",
      " "
     ]
    },
    {
     "name": "stderr",
     "output_type": "stream",
     "text": [
      "2023-06-07 10:33:44.640 INFO    py3dcore.fluxplot: Using HelioSat to retrieve observer data\n"
     ]
    },
    {
     "name": "stdout",
     "output_type": "stream",
     "text": [
      "Parker Solar Probe\n",
      "inst <heliosat.spice.PSP object at 0x31d34e530>\n"
     ]
    },
    {
     "name": "stderr",
     "output_type": "stream",
     "text": [
      "2023-06-07 10:33:44.648 INFO    py3dcore.fluxplot: Using HelioSat to retrieve observer data\n"
     ]
    },
    {
     "name": "stdout",
     "output_type": "stream",
     "text": [
      "Results :\n",
      "\n",
      "\tcme_longitude: \t\t268.08 +/- 6.41\n",
      "\tcme_latitude: \t\t3.04 +/- 4.72\n",
      "\tcme_inclination: \t\t338.65 +/- 5.24\n",
      "\tcme_diameter_1au: \t\t0.31 +/- 0.03\n",
      "\tcme_aspect_ratio: \t\t1.38 +/- 0.28\n",
      "\tcme_launch_radius: \t\t7.67 +/- 1.05\n",
      "\tcme_launch_velocity: \t\t447.55 +/- 102.01\n",
      "\tt_factor: \t\t-251.37 +/- 29.50\n",
      "\tcme_expansion_rate: \t\t1.14 +/- 0.00\n",
      "\tmagnetic_decay_rate: \t\t1.64 +/- 0.00\n",
      "\tmagnetic_field_strength_1au: \t\t9.19 +/- 1.18\n",
      "\tbackground_drag: \t\t1.59 +/- 0.74\n",
      "\tbackground_velocity: \t\t472.32 +/- 140.19\n",
      "Results :\n",
      "\n",
      "\tcme_longitude: \t\t268.08 +/- 6.41\n",
      "\tcme_latitude: \t\t3.04 +/- 4.72\n",
      "\tcme_inclination: \t\t338.65 +/- 5.24Results :\n",
      "\n",
      "\n",
      "Results :\n",
      "\tcme_diameter_1au: \t\t0.31 +/- 0.03\tcme_longitude: \t\t268.08 +/- 6.41\n",
      "\n",
      "\tcme_longitude: \t\t268.08 +/- 6.41\n",
      "\tcme_latitude: \t\t3.04 +/- 4.72\n",
      "\tcme_aspect_ratio: \t\t1.38 +/- 0.28\tcme_latitude: \t\t3.04 +/- 4.72\n",
      "\n",
      "\n",
      "\tcme_inclination: \t\t338.65 +/- 5.24\tcme_inclination: \t\t338.65 +/- 5.24\tcme_launch_radius: \t\t7.67 +/- 1.05\n",
      "\n",
      "\n",
      "\tcme_diameter_1au: \t\t0.31 +/- 0.03\tcme_launch_velocity: \t\t447.55 +/- 102.01\tcme_diameter_1au: \t\t0.31 +/- 0.03\n",
      "\n",
      "\n",
      "\tcme_aspect_ratio: \t\t1.38 +/- 0.28\tt_factor: \t\t-251.37 +/- 29.50\tcme_aspect_ratio: \t\t1.38 +/- 0.28\n",
      "\n",
      "\n",
      "\tcme_expansion_rate: \t\t1.14 +/- 0.00\tcme_launch_radius: \t\t7.67 +/- 1.05\tcme_launch_radius: \t\t7.67 +/- 1.05\n",
      "\n",
      "\n",
      "\tmagnetic_decay_rate: \t\t1.64 +/- 0.00\tcme_launch_velocity: \t\t447.55 +/- 102.01\n",
      "\tcme_launch_velocity: \t\t447.55 +/- 102.01\n",
      "\n",
      "\tmagnetic_field_strength_1au: \t\t9.19 +/- 1.18\tt_factor: \t\t-251.37 +/- 29.50\tt_factor: \t\t-251.37 +/- 29.50\n",
      "\n",
      "\tcme_expansion_rate: \t\t1.14 +/- 0.00\tbackground_drag: \t\t1.59 +/- 0.74\n",
      "\n",
      "\n",
      "\tbackground_velocity: \t\t472.32 +/- 140.19\tcme_expansion_rate: \t\t1.14 +/- 0.00\n",
      "\tmagnetic_decay_rate: \t\t1.64 +/- 0.00\n",
      "\n",
      "\tmagnetic_decay_rate: \t\t1.64 +/- 0.00\tmagnetic_field_strength_1au: \t\t9.19 +/- 1.18\n",
      "\tmagnetic_field_strength_1au: \t\t9.19 +/- 1.18\n",
      "\tbackground_drag: \t\t1.59 +/- 0.74\n",
      "\n",
      "\tbackground_drag: \t\t1.59 +/- 0.74\tbackground_velocity: \t\t472.32 +/- 140.19\n",
      "\n",
      "\tbackground_velocity: \t\t472.32 +/- 140.19\n",
      "observer: Parker Solar Probe\n",
      "inst <heliosat.spice.PSP object at 0x31280a0b0>\n"
     ]
    },
    {
     "name": "stderr",
     "output_type": "stream",
     "text": [
      "2023-06-07 10:33:45.263 INFO    py3dcore.fluxplot: Using HelioSat to retrieve observer data\n"
     ]
    },
    {
     "name": "stdout",
     "output_type": "stream",
     "text": [
      "observer: Parker Solar Probe\n",
      "observer:inst  <heliosat.spice.PSP object at 0x31280a230>Parker Solar Probe\n",
      "\n"
     ]
    },
    {
     "name": "stderr",
     "output_type": "stream",
     "text": [
      "2023-06-07 10:33:45.307 INFO    py3dcore.fluxplot: Using HelioSat to retrieve observer data\n"
     ]
    },
    {
     "name": "stdout",
     "output_type": "stream",
     "text": [
      "inst <heliosat.spice.PSP object at 0x31280a2f0>\n"
     ]
    },
    {
     "name": "stderr",
     "output_type": "stream",
     "text": [
      "2023-06-07 10:33:45.311 INFO    py3dcore.fluxplot: Using HelioSat to retrieve observer data\n"
     ]
    },
    {
     "name": "stdout",
     "output_type": "stream",
     "text": [
      "observer: Parker Solar Probe\n",
      "inst <heliosat.spice.PSP object at 0x31280a170>\n"
     ]
    },
    {
     "name": "stderr",
     "output_type": "stream",
     "text": [
      "2023-06-07 10:33:45.326 INFO    py3dcore.fluxplot: Using HelioSat to retrieve observer data\n"
     ]
    },
    {
     "name": "stdout",
     "output_type": "stream",
     "text": [
      "Results :\n",
      "\n",
      "\tcme_longitude: \t\t268.08 +/- 6.41\n",
      "\tcme_latitude: \t\t3.04 +/- 4.72\n",
      "\tcme_inclination: \t\t338.65 +/- 5.24\n",
      "\tcme_diameter_1au: \t\t0.31 +/- 0.03\n",
      "\tcme_aspect_ratio: \t\t1.38 +/- 0.28\n",
      "\tcme_launch_radius: \t\t7.67 +/- 1.05\n",
      "\tcme_launch_velocity: \t\t447.55 +/- 102.01\n",
      "\tt_factor: \t\t-251.37 +/- 29.50\n",
      "\tcme_expansion_rate: \t\t1.14 +/- 0.00\n",
      "\tmagnetic_decay_rate: \t\t1.64 +/- 0.00\n",
      "\tmagnetic_field_strength_1au: \t\t9.19 +/- 1.18\n",
      "\tbackground_drag: \t\t1.59 +/- 0.74\n",
      "\tbackground_velocity: \t\t472.32 +/- 140.19\n",
      "Results :\n",
      "\n",
      "Results :\n",
      "\tcme_longitude: \t\t268.08 +/- 6.41Results :\n",
      "\n",
      "\tcme_longitude: \t\t268.08 +/- 6.41\n",
      "\n",
      "\tcme_latitude: \t\t3.04 +/- 4.72\n",
      "\n",
      "\tcme_latitude: \t\t3.04 +/- 4.72\tcme_longitude: \t\t268.08 +/- 6.41\tcme_inclination: \t\t338.65 +/- 5.24\n",
      "\n",
      "\n",
      "\tcme_latitude: \t\t3.04 +/- 4.72\tcme_diameter_1au: \t\t0.31 +/- 0.03\tcme_inclination: \t\t338.65 +/- 5.24\n",
      "\n",
      "\n",
      "\tcme_aspect_ratio: \t\t1.38 +/- 0.28\tcme_inclination: \t\t338.65 +/- 5.24\tcme_diameter_1au: \t\t0.31 +/- 0.03\n",
      "\n",
      "\n",
      "\tcme_aspect_ratio: \t\t1.38 +/- 0.28\tcme_launch_radius: \t\t7.67 +/- 1.05\tcme_diameter_1au: \t\t0.31 +/- 0.03\n",
      "\n",
      "\n",
      "\tcme_launch_radius: \t\t7.67 +/- 1.05\tcme_launch_velocity: \t\t447.55 +/- 102.01\tcme_aspect_ratio: \t\t1.38 +/- 0.28\n",
      "\n",
      "\tt_factor: \t\t-251.37 +/- 29.50\n",
      "\tcme_launch_velocity: \t\t447.55 +/- 102.01\n",
      "\tcme_launch_radius: \t\t7.67 +/- 1.05\n",
      "\tcme_expansion_rate: \t\t1.14 +/- 0.00\tt_factor: \t\t-251.37 +/- 29.50\n",
      "\n",
      "\tmagnetic_decay_rate: \t\t1.64 +/- 0.00\tcme_launch_velocity: \t\t447.55 +/- 102.01\n",
      "\n",
      "\n",
      "\tcme_expansion_rate: \t\t1.14 +/- 0.00\tmagnetic_field_strength_1au: \t\t9.19 +/- 1.18\tt_factor: \t\t-251.37 +/- 29.50\n",
      "\n",
      "\n",
      "\tmagnetic_decay_rate: \t\t1.64 +/- 0.00\tbackground_drag: \t\t1.59 +/- 0.74\n",
      "\n",
      "\tcme_expansion_rate: \t\t1.14 +/- 0.00\tmagnetic_field_strength_1au: \t\t9.19 +/- 1.18\tbackground_velocity: \t\t472.32 +/- 140.19\n",
      "\n",
      "\n",
      "\tmagnetic_decay_rate: \t\t1.64 +/- 0.00\tbackground_drag: \t\t1.59 +/- 0.74\n",
      "\n",
      "\tbackground_velocity: \t\t472.32 +/- 140.19\tmagnetic_field_strength_1au: \t\t9.19 +/- 1.18\n",
      "\n",
      "\tbackground_drag: \t\t1.59 +/- 0.74\n",
      "\tbackground_velocity: \t\t472.32 +/- 140.19\n",
      "observer: Parker Solar Probe\n",
      "inst <heliosat.spice.PSP object at 0x311e24490>\n"
     ]
    },
    {
     "name": "stderr",
     "output_type": "stream",
     "text": [
      "2023-06-07 10:33:45.926 INFO    py3dcore.fluxplot: Using HelioSat to retrieve observer data\n"
     ]
    },
    {
     "name": "stdout",
     "output_type": "stream",
     "text": [
      "observer: Parker Solar Probe\n",
      "inst <heliosat.spice.PSP object at 0x311e24550>\n"
     ]
    },
    {
     "name": "stderr",
     "output_type": "stream",
     "text": [
      "2023-06-07 10:33:45.976 INFO    py3dcore.fluxplot: Using HelioSat to retrieve observer data\n"
     ]
    },
    {
     "name": "stdout",
     "output_type": "stream",
     "text": [
      "observer: Parker Solar Probe\n",
      "inst <heliosat.spice.PSP object at 0x311e246d0>\n"
     ]
    },
    {
     "name": "stderr",
     "output_type": "stream",
     "text": [
      "2023-06-07 10:33:45.988 INFO    py3dcore.fluxplot: Using HelioSat to retrieve observer data\n"
     ]
    },
    {
     "name": "stdout",
     "output_type": "stream",
     "text": [
      "observer: Parker Solar Probe\n",
      "inst <heliosat.spice.PSP object at 0x311e24610>\n"
     ]
    },
    {
     "name": "stderr",
     "output_type": "stream",
     "text": [
      "2023-06-07 10:33:46.018 INFO    py3dcore.fluxplot: Using HelioSat to retrieve observer data\n"
     ]
    },
    {
     "name": "stdout",
     "output_type": "stream",
     "text": [
      "Results :\n",
      "\n",
      "\tcme_longitude: \t\t268.08 +/- 6.41\n",
      "\tcme_latitude: \t\t3.04 +/- 4.72\n",
      "\tcme_inclination: \t\t338.65 +/- 5.24\n",
      "\tcme_diameter_1au: \t\t0.31 +/- 0.03\n",
      "\tcme_aspect_ratio: \t\t1.38 +/- 0.28\n",
      "\tcme_launch_radius: \t\t7.67 +/- 1.05\n",
      "\tcme_launch_velocity: \t\t447.55 +/- 102.01\n",
      "\tt_factor: \t\t-251.37 +/- 29.50\n",
      "\tcme_expansion_rate: \t\t1.14 +/- 0.00\n",
      "\tmagnetic_decay_rate: \t\t1.64 +/- 0.00\n",
      "\tmagnetic_field_strength_1au: \t\t9.19 +/- 1.18\n",
      "\tbackground_drag: \t\t1.59 +/- 0.74\n",
      "\tbackground_velocity: \t\t472.32 +/- 140.19\n",
      "Results :\n",
      "\n",
      "\tcme_longitude: \t\t268.08 +/- 6.41\n",
      "\tcme_latitude: \t\t3.04 +/- 4.72\n",
      "\tcme_inclination: \t\t338.65 +/- 5.24\n",
      "\tcme_diameter_1au: \t\t0.31 +/- 0.03\n",
      "\tcme_aspect_ratio: \t\t1.38 +/- 0.28\n",
      "\tcme_launch_radius: \t\t7.67 +/- 1.05\n",
      "\tcme_launch_velocity: \t\t447.55 +/- 102.01\n",
      "\tt_factor: \t\t-251.37 +/- 29.50\n",
      "\tcme_expansion_rate: \t\t1.14 +/- 0.00\n",
      "\tmagnetic_decay_rate: \t\t1.64 +/- 0.00\n",
      "\tmagnetic_field_strength_1au: \t\t9.19 +/- 1.18\n",
      "\tbackground_drag: \t\t1.59 +/- 0.74\n",
      "\tbackground_velocity: \t\t472.32 +/- 140.19\n",
      "Results :\n",
      "\n",
      "\tcme_longitude: \t\t268.08 +/- 6.41\n",
      "\tcme_latitude: \t\t3.04 +/- 4.72\n",
      "\tcme_inclination: \t\t338.65 +/- 5.24\n",
      "\tcme_diameter_1au: \t\t0.31 +/- 0.03\n",
      "Results :\n",
      "\tcme_aspect_ratio: \t\t1.38 +/- 0.28\n",
      "\n",
      "\tcme_launch_radius: \t\t7.67 +/- 1.05\tcme_longitude: \t\t268.08 +/- 6.41\n",
      "\n",
      "\tcme_latitude: \t\t3.04 +/- 4.72\tcme_launch_velocity: \t\t447.55 +/- 102.01\n",
      "\tcme_inclination: \t\t338.65 +/- 5.24\n",
      "\n",
      "\tcme_diameter_1au: \t\t0.31 +/- 0.03\tt_factor: \t\t-251.37 +/- 29.50\n",
      "\n",
      "\tcme_expansion_rate: \t\t1.14 +/- 0.00\tcme_aspect_ratio: \t\t1.38 +/- 0.28\n",
      "\n",
      "\tmagnetic_decay_rate: \t\t1.64 +/- 0.00\tcme_launch_radius: \t\t7.67 +/- 1.05\n",
      "\n",
      "\tcme_launch_velocity: \t\t447.55 +/- 102.01\tmagnetic_field_strength_1au: \t\t9.19 +/- 1.18\n",
      "\n",
      "\tt_factor: \t\t-251.37 +/- 29.50\tbackground_drag: \t\t1.59 +/- 0.74\n",
      "\n",
      "\tcme_expansion_rate: \t\t1.14 +/- 0.00\tbackground_velocity: \t\t472.32 +/- 140.19\n",
      "\n",
      "\tmagnetic_decay_rate: \t\t1.64 +/- 0.00\n",
      "\tmagnetic_field_strength_1au: \t\t9.19 +/- 1.18\n",
      "\tbackground_drag: \t\t1.59 +/- 0.74\n",
      "\tbackground_velocity: \t\t472.32 +/- 140.19\n",
      "observer: Parker Solar Probe\n",
      "inst <heliosat.spice.PSP object at 0x31da0f4f0>\n"
     ]
    },
    {
     "name": "stderr",
     "output_type": "stream",
     "text": [
      "2023-06-07 10:33:47.071 INFO    py3dcore.fluxplot: Using HelioSat to retrieve observer data\n"
     ]
    },
    {
     "name": "stdout",
     "output_type": "stream",
     "text": [
      "observer: Parker Solar Probe\n",
      "inst <heliosat.spice.PSP object at 0x31d89f4f0>\n"
     ]
    },
    {
     "name": "stderr",
     "output_type": "stream",
     "text": [
      "2023-06-07 10:33:47.117 INFO    py3dcore.fluxplot: Using HelioSat to retrieve observer data\n"
     ]
    },
    {
     "name": "stdout",
     "output_type": "stream",
     "text": [
      "observer: Parker Solar Probe\n",
      "inst <heliosat.spice.PSP object at 0x31d89f4f0>\n"
     ]
    },
    {
     "name": "stderr",
     "output_type": "stream",
     "text": [
      "2023-06-07 10:33:47.169 INFO    py3dcore.fluxplot: Using HelioSat to retrieve observer data\n"
     ]
    },
    {
     "name": "stdout",
     "output_type": "stream",
     "text": [
      "observer: Parker Solar Probe\n",
      "inst <heliosat.spice.PSP object at 0x31d89b4f0>\n"
     ]
    },
    {
     "name": "stderr",
     "output_type": "stream",
     "text": [
      "2023-06-07 10:33:47.187 INFO    py3dcore.fluxplot: Using HelioSat to retrieve observer data\n"
     ]
    },
    {
     "name": "stdout",
     "output_type": "stream",
     "text": [
      "Results :\n",
      "\n",
      "\tcme_longitude: \t\t268.08 +/- 6.41\n",
      "\tcme_latitude: \t\t3.04 +/- 4.72\n",
      "\tcme_inclination: \t\t338.65 +/- 5.24\n",
      "\tcme_diameter_1au: \t\t0.31 +/- 0.03\n",
      "\tcme_aspect_ratio: \t\t1.38 +/- 0.28\n",
      "\tcme_launch_radius: \t\t7.67 +/- 1.05\n",
      "\tcme_launch_velocity: \t\t447.55 +/- 102.01\n",
      "\tt_factor: \t\t-251.37 +/- 29.50\n",
      "\tcme_expansion_rate: \t\t1.14 +/- 0.00\n",
      "\tmagnetic_decay_rate: \t\t1.64 +/- 0.00\n",
      "\tmagnetic_field_strength_1au: \t\t9.19 +/- 1.18\n",
      "\tbackground_drag: \t\t1.59 +/- 0.74\n",
      "\tbackground_velocity: \t\t472.32 +/- 140.19\n",
      "Results :\n",
      "\n",
      "\tcme_longitude: \t\t268.08 +/- 6.41\n",
      "\tcme_latitude: \t\t3.04 +/- 4.72\n",
      "\tcme_inclination: \t\t338.65 +/- 5.24\n",
      "\tcme_diameter_1au: \t\t0.31 +/- 0.03\n",
      "\tcme_aspect_ratio: \t\t1.38 +/- 0.28\n",
      "\tcme_launch_radius: \t\t7.67 +/- 1.05\n",
      "\tcme_launch_velocity: \t\t447.55 +/- 102.01\n",
      "\tt_factor: \t\t-251.37 +/- 29.50\n",
      "\tcme_expansion_rate: \t\t1.14 +/- 0.00\n",
      "\tmagnetic_decay_rate: \t\t1.64 +/- 0.00\n",
      "\tmagnetic_field_strength_1au: \t\t9.19 +/- 1.18\n",
      "\tbackground_drag: \t\t1.59 +/- 0.74\n",
      "\tbackground_velocity: \t\t472.32 +/- 140.19\n",
      "Results :\n",
      "\n",
      "\tcme_longitude: \t\t268.08 +/- 6.41\n",
      "\tcme_latitude: \t\t3.04 +/- 4.72\n",
      "\tcme_inclination: \t\t338.65 +/- 5.24\n",
      "\tcme_diameter_1au: \t\t0.31 +/- 0.03\n",
      "\tcme_aspect_ratio: \t\t1.38 +/- 0.28\n",
      "\tcme_launch_radius: \t\t7.67 +/- 1.05\n",
      "\tcme_launch_velocity: \t\t447.55 +/- 102.01\n",
      "\tt_factor: \t\t-251.37 +/- 29.50\n",
      "\tcme_expansion_rate: \t\t1.14 +/- 0.00\n",
      "\tmagnetic_decay_rate: \t\t1.64 +/- 0.00\n",
      "\tmagnetic_field_strength_1au: \t\t9.19 +/- 1.18\n",
      "\tbackground_drag: \t\t1.59 +/- 0.74\n",
      "\tbackground_velocity: \t\t472.32 +/- 140.19Results :\n",
      "\n",
      "\n",
      "\tcme_longitude: \t\t268.08 +/- 6.41\n",
      "\tcme_latitude: \t\t3.04 +/- 4.72\n",
      "\tcme_inclination: \t\t338.65 +/- 5.24\n",
      "\tcme_diameter_1au: \t\t0.31 +/- 0.03\n",
      "\tcme_aspect_ratio: \t\t1.38 +/- 0.28\n",
      "\tcme_launch_radius: \t\t7.67 +/- 1.05\n",
      "\tcme_launch_velocity: \t\t447.55 +/- 102.01\n",
      "\tt_factor: \t\t-251.37 +/- 29.50\n",
      "\tcme_expansion_rate: \t\t1.14 +/- 0.00\n",
      "\tmagnetic_decay_rate: \t\t1.64 +/- 0.00\n",
      "\tmagnetic_field_strength_1au: \t\t9.19 +/- 1.18\n",
      "\tbackground_drag: \t\t1.59 +/- 0.74\n",
      "\tbackground_velocity: \t\t472.32 +/- 140.19\n",
      "observer: Parker Solar Probe\n",
      "inst <heliosat.spice.PSP object at 0x30a633340>\n"
     ]
    },
    {
     "name": "stderr",
     "output_type": "stream",
     "text": [
      "2023-06-07 10:33:47.861 INFO    py3dcore.fluxplot: Using HelioSat to retrieve observer data\n"
     ]
    },
    {
     "name": "stdout",
     "output_type": "stream",
     "text": [
      "observer: Parker Solar Probe\n",
      "inst <heliosat.spice.PSP object at 0x30a632830>\n"
     ]
    },
    {
     "name": "stderr",
     "output_type": "stream",
     "text": [
      "2023-06-07 10:33:47.894 INFO    py3dcore.fluxplot: Using HelioSat to retrieve observer data\n"
     ]
    },
    {
     "name": "stdout",
     "output_type": "stream",
     "text": [
      "observer: Parker Solar Probe\n",
      "inst <heliosat.spice.PSP object at 0x30a632b30>\n"
     ]
    },
    {
     "name": "stderr",
     "output_type": "stream",
     "text": [
      "2023-06-07 10:33:47.941 INFO    py3dcore.fluxplot: Using HelioSat to retrieve observer data\n"
     ]
    },
    {
     "name": "stdout",
     "output_type": "stream",
     "text": [
      "observer: Parker Solar Probe\n",
      "inst <heliosat.spice.PSP object at 0x30a632980>\n"
     ]
    },
    {
     "name": "stderr",
     "output_type": "stream",
     "text": [
      "2023-06-07 10:33:47.952 INFO    py3dcore.fluxplot: Using HelioSat to retrieve observer data\n"
     ]
    },
    {
     "name": "stdout",
     "output_type": "stream",
     "text": [
      "Results :\n",
      "\n",
      "\tcme_longitude: \t\t268.08 +/- 6.41\n",
      "\tcme_latitude: \t\t3.04 +/- 4.72\n",
      "\tcme_inclination: \t\t338.65 +/- 5.24\n",
      "\tcme_diameter_1au: \t\t0.31 +/- 0.03\n",
      "\tcme_aspect_ratio: \t\t1.38 +/- 0.28\n",
      "\tcme_launch_radius: \t\t7.67 +/- 1.05\n",
      "\tcme_launch_velocity: \t\t447.55 +/- 102.01\n",
      "\tt_factor: \t\t-251.37 +/- 29.50\n",
      "\tcme_expansion_rate: \t\t1.14 +/- 0.00\n",
      "\tmagnetic_decay_rate: \t\t1.64 +/- 0.00Results :\n",
      "\n",
      "\n",
      "\tcme_longitude: \t\t268.08 +/- 6.41\tmagnetic_field_strength_1au: \t\t9.19 +/- 1.18\n",
      "\n",
      "\tcme_latitude: \t\t3.04 +/- 4.72\tbackground_drag: \t\t1.59 +/- 0.74\n",
      "\tcme_inclination: \t\t338.65 +/- 5.24\n",
      "\n",
      "\tcme_diameter_1au: \t\t0.31 +/- 0.03\tbackground_velocity: \t\t472.32 +/- 140.19\n",
      "\tcme_aspect_ratio: \t\t1.38 +/- 0.28\n",
      "\n",
      "\tcme_launch_radius: \t\t7.67 +/- 1.05\n",
      "\tcme_launch_velocity: \t\t447.55 +/- 102.01\n",
      "\tt_factor: \t\t-251.37 +/- 29.50\n",
      "\tcme_expansion_rate: \t\t1.14 +/- 0.00\n",
      "\tmagnetic_decay_rate: \t\t1.64 +/- 0.00\n",
      "\tmagnetic_field_strength_1au: \t\t9.19 +/- 1.18\n",
      "\tbackground_drag: \t\t1.59 +/- 0.74\n",
      "\tbackground_velocity: \t\t472.32 +/- 140.19\n",
      "Results :\n",
      "\n",
      "\tcme_longitude: \t\t268.08 +/- 6.41\n",
      "\tcme_latitude: \t\t3.04 +/- 4.72\n",
      "\tcme_inclination: \t\t338.65 +/- 5.24\n",
      "\tcme_diameter_1au: \t\t0.31 +/- 0.03\n",
      "Results :\n",
      "\tcme_aspect_ratio: \t\t1.38 +/- 0.28\n",
      "\n",
      "\tcme_longitude: \t\t268.08 +/- 6.41\n",
      "\tcme_launch_radius: \t\t7.67 +/- 1.05\tcme_latitude: \t\t3.04 +/- 4.72\n",
      "\tcme_launch_velocity: \t\t447.55 +/- 102.01\n",
      "\n",
      "\tcme_inclination: \t\t338.65 +/- 5.24\n",
      "\tt_factor: \t\t-251.37 +/- 29.50\n",
      "\tcme_diameter_1au: \t\t0.31 +/- 0.03\tcme_expansion_rate: \t\t1.14 +/- 0.00\n",
      "\n",
      "\tmagnetic_decay_rate: \t\t1.64 +/- 0.00\n",
      "\tcme_aspect_ratio: \t\t1.38 +/- 0.28\tmagnetic_field_strength_1au: \t\t9.19 +/- 1.18\n",
      "\tcme_launch_radius: \t\t7.67 +/- 1.05\n",
      "\n",
      "\tbackground_drag: \t\t1.59 +/- 0.74\tcme_launch_velocity: \t\t447.55 +/- 102.01\n",
      "\tbackground_velocity: \t\t472.32 +/- 140.19\n",
      "\tt_factor: \t\t-251.37 +/- 29.50\n",
      "\n",
      "\tcme_expansion_rate: \t\t1.14 +/- 0.00\n",
      "\tmagnetic_decay_rate: \t\t1.64 +/- 0.00\n",
      "\tmagnetic_field_strength_1au: \t\t9.19 +/- 1.18\n",
      "\tbackground_drag: \t\t1.59 +/- 0.74\n",
      "\tbackground_velocity: \t\t472.32 +/- 140.19\n",
      "observer: Parker Solar Probe\n",
      "inst <heliosat.spice.PSP object at 0x30d9867d0>\n"
     ]
    },
    {
     "name": "stderr",
     "output_type": "stream",
     "text": [
      "2023-06-07 10:33:48.601 INFO    py3dcore.fluxplot: Using HelioSat to retrieve observer data\n"
     ]
    },
    {
     "name": "stdout",
     "output_type": "stream",
     "text": [
      "observer: Parker Solar Probe\n",
      "inst <heliosat.spice.PSP object at 0x30d986860>\n"
     ]
    },
    {
     "name": "stderr",
     "output_type": "stream",
     "text": [
      "2023-06-07 10:33:48.625 INFO    py3dcore.fluxplot: Using HelioSat to retrieve observer data\n"
     ]
    },
    {
     "name": "stdout",
     "output_type": "stream",
     "text": [
      "observer: Parker Solar Probe\n",
      "inst <heliosat.spice.PSP object at 0x30d986bc0>\n"
     ]
    },
    {
     "name": "stderr",
     "output_type": "stream",
     "text": [
      "2023-06-07 10:33:48.675 INFO    py3dcore.fluxplot: Using HelioSat to retrieve observer data\n"
     ]
    },
    {
     "name": "stdout",
     "output_type": "stream",
     "text": [
      "observer: Parker Solar Probe\n",
      "inst <heliosat.spice.PSP object at 0x30d9d63e0>\n"
     ]
    },
    {
     "name": "stderr",
     "output_type": "stream",
     "text": [
      "2023-06-07 10:33:48.692 INFO    py3dcore.fluxplot: Using HelioSat to retrieve observer data\n"
     ]
    },
    {
     "name": "stdout",
     "output_type": "stream",
     "text": [
      "Results :\n",
      "\n",
      "\tcme_longitude: \t\t268.08 +/- 6.41\n",
      "\tcme_latitude: \t\t3.04 +/- 4.72\n",
      "\tcme_inclination: \t\t338.65 +/- 5.24\n",
      "\tcme_diameter_1au: \t\t0.31 +/- 0.03\n",
      "\tcme_aspect_ratio: \t\t1.38 +/- 0.28\n",
      "\tcme_launch_radius: \t\t7.67 +/- 1.05\n",
      "\tcme_launch_velocity: \t\t447.55 +/- 102.01\n",
      "\tt_factor: \t\t-251.37 +/- 29.50\n",
      "\tcme_expansion_rate: \t\t1.14 +/- 0.00\n",
      "\tmagnetic_decay_rate: \t\t1.64 +/- 0.00\n",
      "Results :\n",
      "\tmagnetic_field_strength_1au: \t\t9.19 +/- 1.18\n",
      "\n",
      "\tcme_longitude: \t\t268.08 +/- 6.41\n",
      "\tbackground_drag: \t\t1.59 +/- 0.74\n",
      "\tbackground_velocity: \t\t472.32 +/- 140.19\n",
      "\tcme_latitude: \t\t3.04 +/- 4.72\n",
      "\tcme_inclination: \t\t338.65 +/- 5.24\n",
      "\tcme_diameter_1au: \t\t0.31 +/- 0.03\n",
      "\tcme_aspect_ratio: \t\t1.38 +/- 0.28\n",
      "\tcme_launch_radius: \t\t7.67 +/- 1.05\n",
      "\tcme_launch_velocity: \t\t447.55 +/- 102.01\n",
      "\tt_factor: \t\t-251.37 +/- 29.50\n",
      "\tcme_expansion_rate: \t\t1.14 +/- 0.00\n",
      "\tmagnetic_decay_rate: \t\t1.64 +/- 0.00\n",
      "\tmagnetic_field_strength_1au: \t\t9.19 +/- 1.18\n",
      "\tbackground_drag: \t\t1.59 +/- 0.74\n",
      "\tbackground_velocity: \t\t472.32 +/- 140.19\n",
      "observer: Parker Solar Probe\n",
      "inst <heliosat.spice.PSP object at 0x3254d74f0>\n"
     ]
    },
    {
     "name": "stderr",
     "output_type": "stream",
     "text": [
      "2023-06-07 10:33:49.518 INFO    py3dcore.fluxplot: Using HelioSat to retrieve observer data\n"
     ]
    },
    {
     "name": "stdout",
     "output_type": "stream",
     "text": [
      "observer: Parker Solar Probe\n",
      "inst <heliosat.spice.PSP object at 0x32546b4f0>\n"
     ]
    },
    {
     "name": "stderr",
     "output_type": "stream",
     "text": [
      "2023-06-07 10:33:49.554 INFO    py3dcore.fluxplot: Using HelioSat to retrieve observer data\n"
     ]
    },
    {
     "name": "stdout",
     "output_type": "stream",
     "text": [
      "Results :\n",
      "\n",
      "\tcme_longitude: \t\t268.08 +/- 6.41\n",
      "\tcme_latitude: \t\t3.04 +/- 4.72\n",
      "\tcme_inclination: \t\t338.65 +/- 5.24\n",
      "\tcme_diameter_1au: \t\t0.31 +/- 0.03\n",
      "\tcme_aspect_ratio: \t\t1.38 +/- 0.28\n",
      "\tcme_launch_radius: \t\t7.67 +/- 1.05\n",
      "\tcme_launch_velocity: \t\t447.55 +/- 102.01\n",
      "\tt_factor: \t\t-251.37 +/- 29.50\n",
      "\tcme_expansion_rate: \t\t1.14 +/- 0.00\n",
      "\tmagnetic_decay_rate: \t\t1.64 +/- 0.00\n",
      "\tmagnetic_field_strength_1au: \t\t9.19 +/- 1.18\n",
      "\tbackground_drag: \t\t1.59 +/- 0.74\n",
      "\tbackground_velocity: \t\t472.32 +/- 140.19\n",
      "observer: Parker Solar Probe\n",
      "inst <heliosat.spice.PSP object at 0x310ccb2e0>\n"
     ]
    },
    {
     "name": "stderr",
     "output_type": "stream",
     "text": [
      "2023-06-07 10:33:49.803 INFO    py3dcore.fluxplot: Using HelioSat to retrieve observer data\n"
     ]
    },
    {
     "name": "stdout",
     "output_type": "stream",
     "text": [
      "Results :\n",
      "\n",
      "\tcme_longitude: \t\t268.08 +/- 6.41\n",
      "\tcme_latitude: \t\t3.04 +/- 4.72\n",
      "\tcme_inclination: \t\t338.65 +/- 5.24\n",
      "\tcme_diameter_1au: \t\t0.31 +/- 0.03\n",
      "\tcme_aspect_ratio: \t\t1.38 +/- 0.28\n",
      "\tcme_launch_radius: \t\t7.67 +/- 1.05\n",
      "\tcme_launch_velocity: \t\t447.55 +/- 102.01\n",
      "\tt_factor: \t\t-251.37 +/- 29.50\n",
      "\tcme_expansion_rate: \t\t1.14 +/- 0.00\n",
      "\tmagnetic_decay_rate: \t\t1.64 +/- 0.00\n",
      "\tmagnetic_field_strength_1au: \t\t9.19 +/- 1.18\n",
      "\tbackground_drag: \t\t1.59 +/- 0.74\n",
      "\tbackground_velocity: \t\t472.32 +/- 140.19\n",
      "observer: Parker Solar Probe\n",
      "inst <heliosat.spice.PSP object at 0x3107809d0>\n"
     ]
    },
    {
     "name": "stderr",
     "output_type": "stream",
     "text": [
      "2023-06-07 10:33:50.081 INFO    py3dcore.fluxplot: Using HelioSat to retrieve observer data\n"
     ]
    },
    {
     "name": "stdout",
     "output_type": "stream",
     "text": [
      "done 2/4\n",
      "done 4/4\n"
     ]
    }
   ],
   "source": [
    "inn = [i for i in range(100)]\n",
    "\n",
    "\n",
    "mpool = mp.Pool(processes=4)\n",
    "mpool.map(make_frame, inn[0:40])\n",
    "mpool.close()\n",
    "mpool.join()\n",
    "\n",
    "print('done 1/4')\n",
    "\n",
    "mpool = mp.Pool(processes=4)\n",
    "mpool.map(make_frame, inn[40:80])\n",
    "mpool.close()\n",
    "mpool.join()\n",
    "\n",
    "print('done 2/4')\n",
    "\n",
    "#mpool = mp.Pool(processes=4)\n",
    "#mpool.map(make_frame, inn[40:60])\n",
    "#mpool.close()\n",
    "#mpool.join()\n",
    "\n",
    "#print('done 3/4')\n",
    "\n",
    "#mpool = mp.Pool(processes=4)\n",
    "#mpool.map(make_frame, inn[60:80])\n",
    "#mpool.close()\n",
    "#mpool.join()\n",
    "\n",
    "print('done 4/4')"
   ]
  },
  {
   "cell_type": "code",
   "execution_count": 60,
   "id": "9c2909f7",
   "metadata": {},
   "outputs": [
    {
     "name": "stderr",
     "output_type": "stream",
     "text": [
      "sh: ffmpeg: command not found\n"
     ]
    },
    {
     "data": {
      "text/plain": [
       "32512"
      ]
     },
     "execution_count": 60,
     "metadata": {},
     "output_type": "execute_result"
    }
   ],
   "source": [
    "os.system('ffmpeg -r 25 -i '+filepath[:-7]+'movie_3d/%05d.jpg -b 5000k -r 25 '+filepath[:-7]+'movie_3d/full_3d_movie.mp4 -y -loglevel quiet')"
   ]
  },
  {
   "cell_type": "markdown",
   "id": "40b79ca5",
   "metadata": {},
   "source": [
    "### plot fluxrope 3d multiview"
   ]
  },
  {
   "cell_type": "code",
   "execution_count": 31,
   "id": "d3ff7035",
   "metadata": {},
   "outputs": [
    {
     "name": "stdout",
     "output_type": "stream",
     "text": [
      "Results :\n",
      "\n",
      "\tcme_longitude: \t\t268.08 +/- 6.41\n",
      "\tcme_latitude: \t\t3.04 +/- 4.72\n",
      "\tcme_inclination: \t\t338.65 +/- 5.24\n",
      "\tcme_diameter_1au: \t\t0.31 +/- 0.03\n",
      "\tcme_aspect_ratio: \t\t1.38 +/- 0.28\n",
      "\tcme_launch_radius: \t\t7.67 +/- 1.05\n",
      "\tcme_launch_velocity: \t\t447.55 +/- 102.01\n",
      "\tt_factor: \t\t-251.37 +/- 29.50\n",
      "\tcme_expansion_rate: \t\t1.14 +/- 0.00\n",
      "\tmagnetic_decay_rate: \t\t1.64 +/- 0.00\n",
      "\tmagnetic_field_strength_1au: \t\t9.19 +/- 1.18\n",
      "\tbackground_drag: \t\t1.59 +/- 0.74\n",
      "\tbackground_velocity: \t\t472.32 +/- 140.19\n",
      "{'cme_longitude': {'maximum': 272.67803955078125, 'minimum': 270.67803955078125}, 'cme_latitude': {'maximum': 2.96509325504303, 'minimum': 0.9650932550430298}, 'cme_inclination': {'maximum': 338.1358337402344, 'minimum': 336.1358337402344}, 'cme_diameter_1au': {'maximum': 0.3417968249320984, 'minimum': 0.3217968249320984}, 'cme_aspect_ratio': {'maximum': 1.2393954753875733, 'minimum': 1.0393954753875732}, 'cme_launch_radius': {'distribution': 'uniform', 'maximum': 6.782264328002929, 'minimum': 6.58226432800293}, 'cme_launch_velocity': {'maximum': 616.05908203125, 'minimum': 614.05908203125}, 't_factor': {'maximum': -204.1531219482422, 'minimum': -206.1531219482422}, 'cme_expansion_rate': {'default_value': 1.14}, 'magnetic_decay_rate': {'default_value': 1.64}, 'magnetic_field_strength_1au': {'maximum': 9.630777931213379, 'minimum': 9.43077793121338}, 'background_drag': {'maximum': 2.717327604293823, 'minimum': 2.6973276042938235}, 'background_velocity': {'maximum': 342.2908020019531, 'minimum': 340.2908020019531}}\n"
     ]
    },
    {
     "name": "stderr",
     "output_type": "stream",
     "text": [
      "2023-06-07 09:14:27.517 INFO    py3dcore.fluxplot: Using HelioSat to retrieve observer data\n",
      "2023-06-07 09:14:27.541 INFO    py3dcore.fluxplot: Using HelioSat to retrieve observer data\n",
      "2023-06-07 09:14:27.549 INFO    py3dcore.fluxplot: Using HelioSat to retrieve observer data\n"
     ]
    },
    {
     "name": "stdout",
     "output_type": "stream",
     "text": [
      "observer: Parker Solar Probe\n",
      "inst <heliosat.spice.PSP object at 0x2aeda6e30>\n",
      "t_snap: 2022-06-02 12:30:00+00:00\n",
      "pos [HEEQ - xyz]: [ 0.03448502 -0.06229644 -0.00434515]\n",
      "observer: Parker Solar Probe\n",
      "inst <heliosat.spice.PSP object at 0x2aeda78e0>\n",
      "t_snap: 2022-06-02 12:30:00+00:00\n",
      "pos [HEEQ - xyz]: [ 0.03448502 -0.06229644 -0.00434515]\n",
      "observer: Parker Solar Probe\n",
      "inst <heliosat.spice.PSP object at 0x2aeda7610>\n",
      "t_snap: 2022-06-02 12:30:00+00:00\n",
      "pos [HEEQ - xyz]: [ 0.03448502 -0.06229644 -0.00434515]\n"
     ]
    }
   ],
   "source": [
    "fig = fp.full3d_multiview(tm1, filepath=filepath)"
   ]
  },
  {
   "cell_type": "markdown",
   "id": "23b7da0c",
   "metadata": {},
   "source": [
    "### make fluxrope 3d multiview movie"
   ]
  },
  {
   "cell_type": "code",
   "execution_count": null,
   "id": "6a02bbfa",
   "metadata": {},
   "outputs": [],
   "source": [
    "def make_frame2(k):\n",
    "    tm0 = datetime.datetime(2022, 9, 5, 19)\n",
    "    t = tm0 + k*datetime.timedelta(hours=1)\n",
    "    frametime = k\n",
    "    \n",
    "    fig = fp.full3d_multiview_movie(t_launch = tm0, t = t, filepath=filepath,\n",
    "                                    frametime=k)\n",
    "    frmstr = '%05i' % (k) \n",
    "    plt.savefig(filepath[:-7] + 'movie_3d_multiview/'+frmstr+'.jpg',dpi=200)  \n",
    "    return fig"
   ]
  },
  {
   "cell_type": "code",
   "execution_count": null,
   "id": "25c7e877",
   "metadata": {},
   "outputs": [],
   "source": [
    "inn=[i for i in range(100)]\n",
    "\n",
    "\n",
    "mpool = multiprocessing.Pool(processes=5)\n",
    "mpool.map(make_frame2, inn[0:20])\n",
    "mpool.close()\n",
    "mpool.join()\n",
    "\n",
    "print('done 1/4')\n",
    "\n",
    "mpool = multiprocessing.Pool(processes=5)\n",
    "mpool.map(make_frame2, inn[20:40])\n",
    "mpool.close()\n",
    "mpool.join()\n",
    "\n",
    "print('done 2/4')\n",
    "\n",
    "mpool = multiprocessing.Pool(processes=5)\n",
    "mpool.map(make_frame2, inn[40:60])\n",
    "mpool.close()\n",
    "mpool.join()\n",
    "\n",
    "print('done 3/4')\n",
    "\n",
    "mpool = multiprocessing.Pool(processes=5)\n",
    "mpool.map(make_frame2, inn[40:80])\n",
    "mpool.close()\n",
    "mpool.join()\n",
    "\n",
    "print('done 4/4')"
   ]
  },
  {
   "cell_type": "code",
   "execution_count": null,
   "id": "59ce1272",
   "metadata": {},
   "outputs": [],
   "source": [
    "os.system('ffmpeg -r 25 -i '+filepath[:-7]+'movie_3d_multiview/%05d.jpg -b 5000k -r 25 '+filepath[:-7]+'movie_3d/full_3d_multiview_movie.mp4 -y -loglevel quiet')"
   ]
  },
  {
   "cell_type": "markdown",
   "id": "bb8c11be",
   "metadata": {},
   "source": [
    "# Used for Debug"
   ]
  },
  {
   "cell_type": "code",
   "execution_count": null,
   "id": "244eec5a",
   "metadata": {},
   "outputs": [],
   "source": [
    "TP_A =  t_launch + datetime.timedelta(hours=2)\n",
    "TP_B =  t_launch + datetime.timedelta(hours=40)\n",
    "\n",
    "\n",
    "C_A = \"xkcd:red\"\n",
    "C_B = \"xkcd:blue\"\n",
    "    \n",
    "sns.set_style('whitegrid')\n",
    "\n",
    "fig = plt.figure(figsize=(15, 11),dpi=100)\n",
    "\n",
    "ax1 = plt.subplot2grid((2, 3), (0, 0),rowspan=2,colspan=2,projection='3d')  \n",
    "ax2 = plt.subplot2grid((2, 3), (0, 2),projection='3d')  \n",
    "ax3 = plt.subplot2grid((2, 3), (1, 2),projection='3d')  \n",
    "\n",
    "model_obj = fp.returnmodel(filepath)\n",
    "\n",
    "\n",
    "fp.plot_configure(ax1, view_azim=150, view_elev=25, view_radius=.2,light_source=True) #view_radius=.08\n",
    "\n",
    "fp.plot_3dcore(ax1, model_obj, TP_A, color=C_A,light_source = True)\n",
    "fp.plot_3dcore(ax1, model_obj, TP_B, color=C_B,light_source = True)\n",
    "\n",
    "fp.plot_shift(ax1,0.31,-0.25,0.0,-0.2)\n",
    "\n",
    "\n",
    "fp.plot_configure(ax2, view_azim=165-90, view_elev=90, view_radius=.08,light_source=True)\n",
    "    \n",
    "fp.plot_3dcore(ax2, model_obj, TP_A, color=C_A,light_source = True)\n",
    "fp.plot_3dcore(ax2, model_obj, TP_B, color=C_B,light_source = True)\n",
    "\n",
    "fp.plot_shift(ax2,0.26,-0.41,0.08,0.0)\n",
    "\n",
    "\n",
    "\n",
    "fp.plot_configure(ax3, view_azim=65, view_elev=-5, view_radius=.01,light_source=True)\n",
    "    \n",
    "fp.plot_3dcore(ax3, model_obj, TP_A, color=C_A,light_source = True)\n",
    "fp.plot_3dcore(ax3, model_obj, TP_B, color=C_B,light_source = True)\n",
    "\n",
    "fp.plot_shift(ax3,0.26,-0.41,0.08,0.0)\n",
    "\n"
   ]
  },
  {
   "cell_type": "code",
   "execution_count": null,
   "id": "500b2200",
   "metadata": {},
   "outputs": [],
   "source": []
  },
  {
   "cell_type": "code",
   "execution_count": null,
   "id": "a2d28aca",
   "metadata": {},
   "outputs": [],
   "source": []
  }
 ],
 "metadata": {
  "kernelspec": {
   "display_name": "Python 3 (ipykernel)",
   "language": "python",
   "name": "python3"
  },
  "language_info": {
   "codemirror_mode": {
    "name": "ipython",
    "version": 3
   },
   "file_extension": ".py",
   "mimetype": "text/x-python",
   "name": "python",
   "nbconvert_exporter": "python",
   "pygments_lexer": "ipython3",
   "version": "3.10.10"
  }
 },
 "nbformat": 4,
 "nbformat_minor": 5
}
