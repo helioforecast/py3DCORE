{
 "cells": [
  {
   "cell_type": "markdown",
   "id": "33a61233",
   "metadata": {},
   "source": [
    "# Plotting routine for the June2 2022 Event - PSP"
   ]
  },
  {
   "cell_type": "code",
   "execution_count": null,
   "id": "21e4763a",
   "metadata": {},
   "outputs": [],
   "source": [
    "test = 'test'"
   ]
  },
  {
   "cell_type": "code",
   "execution_count": 11,
   "id": "c5cd29a3",
   "metadata": {},
   "outputs": [
    {
     "name": "stdout",
     "output_type": "stream",
     "text": [
      "The autoreload extension is already loaded. To reload it, use:\n",
      "  %reload_ext autoreload\n"
     ]
    }
   ],
   "source": [
    "%load_ext autoreload\n",
    "\n",
    "%autoreload 2\n",
    "\n",
    "import numpy as np\n",
    "import matplotlib.pyplot as plt\n",
    "import pickle as p\n",
    "\n",
    "import datetime as datetime\n",
    "from datetime import timedelta\n",
    "import seaborn as sns\n",
    "import pandas as pd\n",
    "import os\n",
    "#import copy as cp\n",
    "\n",
    "import multiprocessing\n",
    "import py3dcore as py3dcore\n",
    "\n",
    "import py3dcore.fluxplot as fp\n",
    "\n",
    "plt.switch_backend('agg')\n",
    "\n",
    "\n",
    "import warnings\n",
    "warnings.filterwarnings('ignore')\n",
    "\n",
    "import logging\n",
    "\n",
    "logging.basicConfig(level=logging.INFO)\n",
    "logging.getLogger(\"heliosat.spice\").setLevel(\"WARNING\")\n",
    "logging.getLogger(\"heliosat.spacecraft\").setLevel(\"WARNING\")\n",
    "#logging.getLogger(\"sunpy\").setLevel(\"WARNING\")\n",
    "#logging.getLogger(\"py3dcore_h4c.fluxplot\").setLevel(\"WARNING\")\n",
    "\n",
    "#print(sns.__version__)"
   ]
  },
  {
   "cell_type": "markdown",
   "id": "257e6412",
   "metadata": {},
   "source": [
    "#### setting the times for py3DCORE"
   ]
  },
  {
   "cell_type": "code",
   "execution_count": 2,
   "id": "d1a4f271",
   "metadata": {},
   "outputs": [],
   "source": [
    "t_launch = datetime.datetime(2022, 6, 2, 7, 30, tzinfo=datetime.timezone.utc)\n",
    "\n",
    "t_s = datetime.datetime(2022, 6, 2, 11, 45, tzinfo=datetime.timezone.utc)\n",
    "t_e = datetime.datetime(2022, 6, 2, 16, tzinfo=datetime.timezone.utc)\n",
    "\n",
    "t_fit = [\n",
    "        datetime.datetime(2022, 6, 2, 12, tzinfo=datetime.timezone.utc),\n",
    "        datetime.datetime(2022, 6, 2, 13, tzinfo=datetime.timezone.utc),\n",
    "        datetime.datetime(2022, 6, 2, 13, 30, tzinfo=datetime.timezone.utc),\n",
    "        datetime.datetime(2022, 6, 2, 14, tzinfo=datetime.timezone.utc)\n",
    "     ]\n"
   ]
  },
  {
   "cell_type": "code",
   "execution_count": 3,
   "id": "dd40db48",
   "metadata": {},
   "outputs": [
    {
     "name": "stdout",
     "output_type": "stream",
     "text": [
      "['06/02/2022, 12:00:00', '06/02/2022, 13:00:00', '06/02/2022, 13:30:00', '06/02/2022, 14:00:00']\n"
     ]
    }
   ],
   "source": [
    "fittingPoints = []\n",
    "\n",
    "fittingPoints = [t_fit[i].strftime(\"%m/%d/%Y, %H:%M:%S\") for i in range(len(t_fit))]\n",
    "print(fittingPoints)"
   ]
  },
  {
   "cell_type": "markdown",
   "id": "9146a409",
   "metadata": {},
   "source": [
    "#### loading the pickle files"
   ]
  },
  {
   "cell_type": "code",
   "execution_count": 4,
   "id": "0a8c06ec",
   "metadata": {},
   "outputs": [],
   "source": [
    "path = 'output/psp02062022_512_final_1/'\n",
    "\n",
    "filepath = fp.loadpickle(path, number=-1)"
   ]
  },
  {
   "cell_type": "code",
   "execution_count": 5,
   "id": "72de8740",
   "metadata": {},
   "outputs": [
    {
     "data": {
      "text/plain": [
       "'output/psp02062022_512_final_1/10'"
      ]
     },
     "execution_count": 5,
     "metadata": {},
     "output_type": "execute_result"
    }
   ],
   "source": [
    "filepath[:-7]"
   ]
  },
  {
   "cell_type": "markdown",
   "id": "a02ea34b",
   "metadata": {},
   "source": [
    "#### extracting parameters"
   ]
  },
  {
   "cell_type": "code",
   "execution_count": 19,
   "id": "ee485366",
   "metadata": {},
   "outputs": [
    {
     "name": "stderr",
     "output_type": "stream",
     "text": [
      "INFO:py3dcore.fluxplot:Retrieved the following parameters for the run with minimum epsilon:\n",
      "INFO:py3dcore.fluxplot: --cme_longitude -24.45\n",
      "INFO:py3dcore.fluxplot: --cme_latitude 6.69\n",
      "INFO:py3dcore.fluxplot: --cme_inclination 335.34\n",
      "INFO:py3dcore.fluxplot: --cme_diameter_1au 0.34\n",
      "INFO:py3dcore.fluxplot: --cme_aspect_ratio 1.06\n",
      "INFO:py3dcore.fluxplot: --cme_launch_radius 8.17\n",
      "INFO:py3dcore.fluxplot: --cme_launch_velocity 434.11\n",
      "INFO:py3dcore.fluxplot: --t_factor -244.96\n",
      "INFO:py3dcore.fluxplot: --cme_expansion_rate 1.14\n",
      "INFO:py3dcore.fluxplot: --magnetic_decay_rate 1.64\n",
      "INFO:py3dcore.fluxplot: --magnetic_field_strength_1au 10.76\n",
      "INFO:py3dcore.fluxplot: --background_drag 1.23\n",
      "INFO:py3dcore.fluxplot: --background_velocity 197.31\n"
     ]
    },
    {
     "name": "stdout",
     "output_type": "stream",
     "text": [
      "Results :\n",
      "\n",
      "\tcme_longitude: \t\t-36.07 +/- 8.01\n",
      "\tcme_latitude: \t\t9.84 +/- 5.81\n",
      "\tcme_inclination: \t\t338.78 +/- 5.75\n",
      "\tcme_diameter_1au: \t\t0.32 +/- 0.02\n",
      "\tcme_aspect_ratio: \t\t1.35 +/- 0.26\n",
      "\tcme_launch_radius: \t\t10.85 +/- 1.44\n",
      "\tcme_launch_velocity: \t\t408.44 +/- 125.18\n",
      "\tt_factor: \t\t-260.24 +/- 27.10\n",
      "\tcme_expansion_rate: \t\t1.14 +/- 0.00\n",
      "\tmagnetic_decay_rate: \t\t1.64 +/- 0.00\n",
      "\tmagnetic_field_strength_1au: \t\t8.73 +/- 1.24\n",
      "\tbackground_drag: \t\t1.10 +/- 0.48\n",
      "\tbackground_velocity: \t\t367.77 +/- 158.05\n"
     ]
    }
   ],
   "source": [
    "res_mineps, res_mean, res_std, ind, keys = fp.get_params(filepath, give_mineps=True)"
   ]
  },
  {
   "cell_type": "code",
   "execution_count": 20,
   "id": "d31a53a0",
   "metadata": {},
   "outputs": [
    {
     "data": {
      "text/html": [
       "<div>\n",
       "<style scoped>\n",
       "    .dataframe tbody tr th:only-of-type {\n",
       "        vertical-align: middle;\n",
       "    }\n",
       "\n",
       "    .dataframe tbody tr th {\n",
       "        vertical-align: top;\n",
       "    }\n",
       "\n",
       "    .dataframe thead th {\n",
       "        text-align: right;\n",
       "    }\n",
       "</style>\n",
       "<table border=\"1\" class=\"dataframe\">\n",
       "  <thead>\n",
       "    <tr style=\"text-align: right;\">\n",
       "      <th></th>\n",
       "      <th>lon</th>\n",
       "      <th>lat</th>\n",
       "      <th>inc</th>\n",
       "      <th>D1AU</th>\n",
       "      <th>delta</th>\n",
       "      <th>launch radius</th>\n",
       "      <th>launch speed</th>\n",
       "      <th>t factor</th>\n",
       "      <th>expansion rate</th>\n",
       "      <th>B decay rate</th>\n",
       "      <th>B1AU</th>\n",
       "      <th>gamma</th>\n",
       "      <th>vsw</th>\n",
       "    </tr>\n",
       "  </thead>\n",
       "  <tbody>\n",
       "    <tr>\n",
       "      <th>count</th>\n",
       "      <td>512.000000</td>\n",
       "      <td>512.000000</td>\n",
       "      <td>512.000000</td>\n",
       "      <td>512.000000</td>\n",
       "      <td>512.000000</td>\n",
       "      <td>512.000000</td>\n",
       "      <td>512.000000</td>\n",
       "      <td>512.000000</td>\n",
       "      <td>512.000000</td>\n",
       "      <td>512.00000</td>\n",
       "      <td>512.000000</td>\n",
       "      <td>512.000000</td>\n",
       "      <td>512.000000</td>\n",
       "    </tr>\n",
       "    <tr>\n",
       "      <th>mean</th>\n",
       "      <td>-36.069935</td>\n",
       "      <td>9.837805</td>\n",
       "      <td>338.777161</td>\n",
       "      <td>0.323380</td>\n",
       "      <td>1.347182</td>\n",
       "      <td>10.846144</td>\n",
       "      <td>408.443726</td>\n",
       "      <td>-260.240295</td>\n",
       "      <td>1.140000</td>\n",
       "      <td>1.64000</td>\n",
       "      <td>8.726523</td>\n",
       "      <td>1.100552</td>\n",
       "      <td>367.765076</td>\n",
       "    </tr>\n",
       "    <tr>\n",
       "      <th>std</th>\n",
       "      <td>8.019707</td>\n",
       "      <td>5.816405</td>\n",
       "      <td>5.758678</td>\n",
       "      <td>0.020444</td>\n",
       "      <td>0.255499</td>\n",
       "      <td>1.441718</td>\n",
       "      <td>125.298233</td>\n",
       "      <td>27.129084</td>\n",
       "      <td>0.000008</td>\n",
       "      <td>0.00001</td>\n",
       "      <td>1.241069</td>\n",
       "      <td>0.484978</td>\n",
       "      <td>158.204269</td>\n",
       "    </tr>\n",
       "    <tr>\n",
       "      <th>min</th>\n",
       "      <td>-54.179661</td>\n",
       "      <td>-3.196850</td>\n",
       "      <td>318.948029</td>\n",
       "      <td>0.229214</td>\n",
       "      <td>1.000650</td>\n",
       "      <td>6.135501</td>\n",
       "      <td>203.003799</td>\n",
       "      <td>-299.976807</td>\n",
       "      <td>1.140000</td>\n",
       "      <td>1.64000</td>\n",
       "      <td>6.449694</td>\n",
       "      <td>0.202163</td>\n",
       "      <td>101.102875</td>\n",
       "    </tr>\n",
       "    <tr>\n",
       "      <th>25%</th>\n",
       "      <td>-42.277433</td>\n",
       "      <td>5.507911</td>\n",
       "      <td>335.213226</td>\n",
       "      <td>0.313302</td>\n",
       "      <td>1.159305</td>\n",
       "      <td>9.921862</td>\n",
       "      <td>310.859756</td>\n",
       "      <td>-282.200180</td>\n",
       "      <td>1.140000</td>\n",
       "      <td>1.64000</td>\n",
       "      <td>7.822046</td>\n",
       "      <td>0.740146</td>\n",
       "      <td>228.825043</td>\n",
       "    </tr>\n",
       "    <tr>\n",
       "      <th>50%</th>\n",
       "      <td>-36.416973</td>\n",
       "      <td>9.937199</td>\n",
       "      <td>338.966751</td>\n",
       "      <td>0.326850</td>\n",
       "      <td>1.296523</td>\n",
       "      <td>10.847026</td>\n",
       "      <td>385.140472</td>\n",
       "      <td>-263.277908</td>\n",
       "      <td>1.140000</td>\n",
       "      <td>1.64000</td>\n",
       "      <td>8.514116</td>\n",
       "      <td>1.114966</td>\n",
       "      <td>371.499039</td>\n",
       "    </tr>\n",
       "    <tr>\n",
       "      <th>75%</th>\n",
       "      <td>-30.616042</td>\n",
       "      <td>14.235440</td>\n",
       "      <td>342.428314</td>\n",
       "      <td>0.339797</td>\n",
       "      <td>1.481987</td>\n",
       "      <td>11.800709</td>\n",
       "      <td>493.465370</td>\n",
       "      <td>-240.602924</td>\n",
       "      <td>1.140000</td>\n",
       "      <td>1.64000</td>\n",
       "      <td>9.537406</td>\n",
       "      <td>1.491406</td>\n",
       "      <td>493.534172</td>\n",
       "    </tr>\n",
       "    <tr>\n",
       "      <th>max</th>\n",
       "      <td>-12.814528</td>\n",
       "      <td>23.246788</td>\n",
       "      <td>354.591339</td>\n",
       "      <td>0.349886</td>\n",
       "      <td>2.567653</td>\n",
       "      <td>14.812379</td>\n",
       "      <td>783.157593</td>\n",
       "      <td>-175.054337</td>\n",
       "      <td>1.140000</td>\n",
       "      <td>1.64000</td>\n",
       "      <td>12.850999</td>\n",
       "      <td>1.982472</td>\n",
       "      <td>692.134644</td>\n",
       "    </tr>\n",
       "  </tbody>\n",
       "</table>\n",
       "</div>"
      ],
      "text/plain": [
       "              lon         lat         inc        D1AU       delta  \\\n",
       "count  512.000000  512.000000  512.000000  512.000000  512.000000   \n",
       "mean   -36.069935    9.837805  338.777161    0.323380    1.347182   \n",
       "std      8.019707    5.816405    5.758678    0.020444    0.255499   \n",
       "min    -54.179661   -3.196850  318.948029    0.229214    1.000650   \n",
       "25%    -42.277433    5.507911  335.213226    0.313302    1.159305   \n",
       "50%    -36.416973    9.937199  338.966751    0.326850    1.296523   \n",
       "75%    -30.616042   14.235440  342.428314    0.339797    1.481987   \n",
       "max    -12.814528   23.246788  354.591339    0.349886    2.567653   \n",
       "\n",
       "       launch radius  launch speed    t factor  expansion rate  B decay rate  \\\n",
       "count     512.000000    512.000000  512.000000      512.000000     512.00000   \n",
       "mean       10.846144    408.443726 -260.240295        1.140000       1.64000   \n",
       "std         1.441718    125.298233   27.129084        0.000008       0.00001   \n",
       "min         6.135501    203.003799 -299.976807        1.140000       1.64000   \n",
       "25%         9.921862    310.859756 -282.200180        1.140000       1.64000   \n",
       "50%        10.847026    385.140472 -263.277908        1.140000       1.64000   \n",
       "75%        11.800709    493.465370 -240.602924        1.140000       1.64000   \n",
       "max        14.812379    783.157593 -175.054337        1.140000       1.64000   \n",
       "\n",
       "             B1AU       gamma         vsw  \n",
       "count  512.000000  512.000000  512.000000  \n",
       "mean     8.726523    1.100552  367.765076  \n",
       "std      1.241069    0.484978  158.204269  \n",
       "min      6.449694    0.202163  101.102875  \n",
       "25%      7.822046    0.740146  228.825043  \n",
       "50%      8.514116    1.114966  371.499039  \n",
       "75%      9.537406    1.491406  493.534172  \n",
       "max     12.850999    1.982472  692.134644  "
      ]
     },
     "execution_count": 20,
     "metadata": {},
     "output_type": "execute_result"
    }
   ],
   "source": [
    "out = fp.get_ensemble_stats(filepath)\n",
    "out.describe()"
   ]
  },
  {
   "cell_type": "code",
   "execution_count": null,
   "id": "72886ad9",
   "metadata": {},
   "outputs": [],
   "source": [
    "# write output of describe() to csv-file\n",
    "out.describe().to_csv(filepath+'parameters.csv')\n",
    "\n",
    "# write parameters of whole ensemble to txt-file\n",
    "with open(filepath+'parameters_ensemble.txt', 'a') as f:\n",
    "    dfAsString = out.to_string(header=True, index=True)\n",
    "    f.write(dfAsString)"
   ]
  },
  {
   "cell_type": "code",
   "execution_count": 23,
   "id": "3b18eae8",
   "metadata": {},
   "outputs": [],
   "source": [
    "# write output of describe() to txt-file    \n",
    "with open(filepath+'parameters_summary.txt', 'a') as f:\n",
    "    f.write('Summary of results:')\n",
    "    f.write('\\n')\n",
    "    f.write('Results:')\n",
    "    f.write('\\n')\n",
    "    for i in range(1, len(keys)):    \n",
    "        f.write(\"\\t{}: \\t\\t{:.02f} +/- {:.02f}\".format(keys[i], res_mean[i], res_std[i]))\n",
    "        f.write('\\n')\n",
    "    f.write('\\n')\n",
    "    f.write('Parameters for run with min(eps):')\n",
    "    f.write('\\n')\n",
    "    for i in range(1, len(keys)):\n",
    "        f.write(\" --{} {:.2f}\".format(keys[i], res_mineps[i]))\n",
    "        f.write('\\n')\n",
    "    f.write('\\n')\n",
    "    f.write('Fitting points:')\n",
    "    f.write(str(fittingPoints))\n",
    "    f.write('\\n')"
   ]
  },
  {
   "cell_type": "markdown",
   "id": "56a86ca9",
   "metadata": {},
   "source": [
    "#### loading and plotting the fitting results"
   ]
  },
  {
   "cell_type": "code",
   "execution_count": null,
   "id": "25dc25fa",
   "metadata": {},
   "outputs": [],
   "source": [
    "t_s = datetime.datetime(2022, 6, 2, 9, tzinfo=datetime.timezone.utc)\n",
    "t_e = datetime.datetime(2022, 6, 2, 18, tzinfo=datetime.timezone.utc)"
   ]
  },
  {
   "cell_type": "code",
   "execution_count": null,
   "id": "5f36e1ae",
   "metadata": {},
   "outputs": [],
   "source": [
    "fp.fullinsitu(observer='PSP', t_fit=t_fit, start=t_s, end=t_e, filepath=filepath, ref_frame='SPP_RTN', best=True, \n",
    "              ensemble=True, save_fig=True, legend=True, max_index=512, title=True, fit_points=True)"
   ]
  },
  {
   "cell_type": "code",
   "execution_count": null,
   "id": "a321878f",
   "metadata": {},
   "outputs": [],
   "source": [
    "fp.scatterparams(filepath)"
   ]
  },
  {
   "cell_type": "code",
   "execution_count": null,
   "id": "49961039",
   "metadata": {},
   "outputs": [],
   "source": [
    "print(out['lon'].mean())\n",
    "print(out['lon'].std())\n",
    "print(out['launch radius'].std())\n",
    "print(out['launch speed'].std())"
   ]
  },
  {
   "cell_type": "markdown",
   "id": "97a5476f",
   "metadata": {},
   "source": [
    "#### Plotting the fluxrope and spacecraft positions"
   ]
  },
  {
   "cell_type": "code",
   "execution_count": null,
   "id": "0cb385f2",
   "metadata": {},
   "outputs": [],
   "source": [
    "#measurement times \n",
    "#tm0 =  datetime.datetime(2022, 6, 2, 6)\n",
    "tm1 =  t_launch + datetime.timedelta(hours=4.25)\n",
    "#tm2 =  t_launch + datetime.timedelta(days=3.5)\n",
    "\n",
    "fig = fp.full3d(spacecraftlist=['psp'], planetlist=['Earth'], t=tm1, filepath=filepath, legend=False, view_azim=0, \n",
    "                view_elev=90, view_radius=0.05)"
   ]
  },
  {
   "cell_type": "markdown",
   "id": "fca8400c",
   "metadata": {},
   "source": [
    "### make fluxrope 3d movie"
   ]
  },
  {
   "cell_type": "code",
   "execution_count": null,
   "id": "aebbebda",
   "metadata": {},
   "outputs": [],
   "source": [
    "def make_frame(k):\n",
    "    tm0 = datetime.datetime(2022, 9, 5, 19)\n",
    "    t = tm0 + k*datetime.timedelta(hours=1)\n",
    "    \n",
    "    fig = fp.full3d(spacecraftlist=['solo', 'psp'], planetlist =['Earth'],\n",
    "              t = t, filepath = filepath, save_fig = False)\n",
    "    frmstr = '%05i' % (k) \n",
    "    plt.savefig(filepath[:-7] + 'movie_3d/'+frmstr+'.jpg',dpi=200)  \n",
    "    return fig\n",
    "    "
   ]
  },
  {
   "cell_type": "code",
   "execution_count": null,
   "id": "6129091d",
   "metadata": {},
   "outputs": [],
   "source": [
    "inn=[i for i in range(100)]\n",
    "\n",
    "\n",
    "mpool = multiprocessing.Pool(processes=5)\n",
    "mpool.map(make_frame, inn[0:20])\n",
    "mpool.close()\n",
    "mpool.join()\n",
    "\n",
    "print('done 1/4')\n",
    "\n",
    "mpool = multiprocessing.Pool(processes=5)\n",
    "mpool.map(make_frame, inn[20:40])\n",
    "mpool.close()\n",
    "mpool.join()\n",
    "\n",
    "print('done 2/4')\n",
    "\n",
    "mpool = multiprocessing.Pool(processes=5)\n",
    "mpool.map(make_frame, inn[40:60])\n",
    "mpool.close()\n",
    "mpool.join()\n",
    "\n",
    "print('done 3/4')\n",
    "\n",
    "mpool = multiprocessing.Pool(processes=5)\n",
    "mpool.map(make_frame, inn[40:80])\n",
    "mpool.close()\n",
    "mpool.join()\n",
    "\n",
    "print('done 4/4')"
   ]
  },
  {
   "cell_type": "code",
   "execution_count": null,
   "id": "d1a46907",
   "metadata": {},
   "outputs": [],
   "source": [
    "os.system('ffmpeg -r 25 -i '+filepath[:-7]+'movie_3d/%05d.jpg -b 5000k -r 25 '+filepath[:-7]+'movie_3d/full_3d_movie.mp4 -y -loglevel quiet')"
   ]
  },
  {
   "cell_type": "markdown",
   "id": "2e0db610",
   "metadata": {},
   "source": [
    "### plot fluxrope 3d multiview"
   ]
  },
  {
   "cell_type": "code",
   "execution_count": null,
   "id": "eac79633",
   "metadata": {},
   "outputs": [],
   "source": [
    "fig = fp.full3d_multiview(t_launch=t_launch, filepath=filepath)"
   ]
  },
  {
   "cell_type": "markdown",
   "id": "043c1384",
   "metadata": {},
   "source": [
    "### make fluxrope 3d multiview movie"
   ]
  },
  {
   "cell_type": "code",
   "execution_count": null,
   "id": "e94dbbee",
   "metadata": {},
   "outputs": [],
   "source": [
    "def make_frame2(k):\n",
    "    tm0 = datetime.datetime(2022, 9, 5, 19)\n",
    "    t = tm0 + k*datetime.timedelta(hours=1)\n",
    "    frametime = k\n",
    "    \n",
    "    fig = fp.full3d_multiview_movie(t_launch = tm0, t = t, filepath=filepath,\n",
    "                                    frametime=k)\n",
    "    frmstr = '%05i' % (k) \n",
    "    plt.savefig(filepath[:-7] + 'movie_3d_multiview/'+frmstr+'.jpg',dpi=200)  \n",
    "    return fig"
   ]
  },
  {
   "cell_type": "code",
   "execution_count": null,
   "id": "80efb2e0",
   "metadata": {},
   "outputs": [],
   "source": [
    "inn=[i for i in range(100)]\n",
    "\n",
    "\n",
    "mpool = multiprocessing.Pool(processes=5)\n",
    "mpool.map(make_frame2, inn[0:20])\n",
    "mpool.close()\n",
    "mpool.join()\n",
    "\n",
    "print('done 1/4')\n",
    "\n",
    "mpool = multiprocessing.Pool(processes=5)\n",
    "mpool.map(make_frame2, inn[20:40])\n",
    "mpool.close()\n",
    "mpool.join()\n",
    "\n",
    "print('done 2/4')\n",
    "\n",
    "mpool = multiprocessing.Pool(processes=5)\n",
    "mpool.map(make_frame2, inn[40:60])\n",
    "mpool.close()\n",
    "mpool.join()\n",
    "\n",
    "print('done 3/4')\n",
    "\n",
    "mpool = multiprocessing.Pool(processes=5)\n",
    "mpool.map(make_frame2, inn[40:80])\n",
    "mpool.close()\n",
    "mpool.join()\n",
    "\n",
    "print('done 4/4')"
   ]
  },
  {
   "cell_type": "code",
   "execution_count": null,
   "id": "87d458cf",
   "metadata": {},
   "outputs": [],
   "source": [
    "os.system('ffmpeg -r 25 -i '+filepath[:-7]+'movie_3d_multiview/%05d.jpg -b 5000k -r 25 '+filepath[:-7]+'movie_3d/full_3d_multiview_movie.mp4 -y -loglevel quiet')"
   ]
  },
  {
   "cell_type": "markdown",
   "id": "a80e6b2d",
   "metadata": {},
   "source": [
    "# Used for Debug"
   ]
  },
  {
   "cell_type": "code",
   "execution_count": null,
   "id": "348fb0f7",
   "metadata": {},
   "outputs": [],
   "source": [
    "TP_A =  t_launch + datetime.timedelta(hours=2)\n",
    "TP_B =  t_launch + datetime.timedelta(hours=40)\n",
    "\n",
    "\n",
    "C_A = \"xkcd:red\"\n",
    "C_B = \"xkcd:blue\"\n",
    "    \n",
    "sns.set_style('whitegrid')\n",
    "\n",
    "fig = plt.figure(figsize=(15, 11),dpi=100)\n",
    "\n",
    "ax1 = plt.subplot2grid((2, 3), (0, 0),rowspan=2,colspan=2,projection='3d')  \n",
    "ax2 = plt.subplot2grid((2, 3), (0, 2),projection='3d')  \n",
    "ax3 = plt.subplot2grid((2, 3), (1, 2),projection='3d')  \n",
    "\n",
    "model_obj = fp.returnmodel(filepath)\n",
    "\n",
    "\n",
    "fp.plot_configure(ax1, view_azim=150, view_elev=25, view_radius=.2,light_source=True) #view_radius=.08\n",
    "\n",
    "fp.plot_3dcore(ax1, model_obj, TP_A, color=C_A,light_source = True)\n",
    "fp.plot_3dcore(ax1, model_obj, TP_B, color=C_B,light_source = True)\n",
    "\n",
    "fp.plot_shift(ax1,0.31,-0.25,0.0,-0.2)\n",
    "\n",
    "\n",
    "fp.plot_configure(ax2, view_azim=165-90, view_elev=90, view_radius=.08,light_source=True)\n",
    "    \n",
    "fp.plot_3dcore(ax2, model_obj, TP_A, color=C_A,light_source = True)\n",
    "fp.plot_3dcore(ax2, model_obj, TP_B, color=C_B,light_source = True)\n",
    "\n",
    "fp.plot_shift(ax2,0.26,-0.41,0.08,0.0)\n",
    "\n",
    "\n",
    "\n",
    "fp.plot_configure(ax3, view_azim=65, view_elev=-5, view_radius=.01,light_source=True)\n",
    "    \n",
    "fp.plot_3dcore(ax3, model_obj, TP_A, color=C_A,light_source = True)\n",
    "fp.plot_3dcore(ax3, model_obj, TP_B, color=C_B,light_source = True)\n",
    "\n",
    "fp.plot_shift(ax3,0.26,-0.41,0.08,0.0)\n",
    "\n"
   ]
  },
  {
   "cell_type": "code",
   "execution_count": null,
   "id": "ece13b24",
   "metadata": {},
   "outputs": [],
   "source": []
  },
  {
   "cell_type": "code",
   "execution_count": null,
   "id": "41054b75",
   "metadata": {},
   "outputs": [],
   "source": []
  }
 ],
 "metadata": {
  "kernelspec": {
   "display_name": "Python 3 (ipykernel)",
   "language": "python",
   "name": "python3"
  },
  "language_info": {
   "codemirror_mode": {
    "name": "ipython",
    "version": 3
   },
   "file_extension": ".py",
   "mimetype": "text/x-python",
   "name": "python",
   "nbconvert_exporter": "python",
   "pygments_lexer": "ipython3",
   "version": "3.10.10"
  }
 },
 "nbformat": 4,
 "nbformat_minor": 5
}
