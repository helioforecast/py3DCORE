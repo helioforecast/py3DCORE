{
 "cells": [
  {
   "cell_type": "markdown",
   "id": "de28ca40",
   "metadata": {},
   "source": [
    "# Plotting routine for the June2 2022 Event - PSP"
   ]
  },
  {
   "cell_type": "code",
   "execution_count": null,
   "id": "1d784431",
   "metadata": {},
   "outputs": [],
   "source": [
    "test = 'test'"
   ]
  },
  {
   "cell_type": "code",
   "execution_count": 1,
   "id": "38a08e24",
   "metadata": {},
   "outputs": [
    {
     "name": "stderr",
     "output_type": "stream",
     "text": [
      "OMP: Info #276: omp_set_nested routine deprecated, please use omp_set_max_active_levels instead.\n"
     ]
    }
   ],
   "source": [
    "%load_ext autoreload\n",
    "\n",
    "%autoreload 2\n",
    "\n",
    "import numpy as np\n",
    "import matplotlib.pyplot as plt\n",
    "import pickle as p\n",
    "\n",
    "import datetime as datetime\n",
    "from datetime import timedelta\n",
    "import seaborn as sns\n",
    "import pandas as pd\n",
    "import os\n",
    "#import copy as cp\n",
    "\n",
    "import multiprocess as mp\n",
    "import py3dcore as py3dcore\n",
    "\n",
    "import py3dcore.fluxplot as fp\n",
    "\n",
    "plt.switch_backend('agg')\n",
    "\n",
    "\n",
    "import warnings\n",
    "warnings.filterwarnings('ignore')\n",
    "\n",
    "import logging\n",
    "\n",
    "logging.basicConfig(level=logging.INFO)\n",
    "logging.getLogger(\"heliosat.spice\").setLevel(\"WARNING\")\n",
    "logging.getLogger(\"heliosat.spacecraft\").setLevel(\"WARNING\")\n",
    "#logging.getLogger(\"sunpy\").setLevel(\"WARNING\")\n",
    "#logging.getLogger(\"py3dcore_h4c.fluxplot\").setLevel(\"WARNING\")\n",
    "\n",
    "#print(sns.__version__)"
   ]
  },
  {
   "cell_type": "markdown",
   "id": "9ca32119",
   "metadata": {},
   "source": [
    "#### setting the times for py3DCORE"
   ]
  },
  {
   "cell_type": "code",
   "execution_count": 2,
   "id": "6099a310",
   "metadata": {},
   "outputs": [],
   "source": [
    "t_launch = datetime.datetime(2022, 9, 5, 18, tzinfo=datetime.timezone.utc) # launch time assumed at CME impact at PSP at 14.72 Rs\n",
    "\n",
    "t_s = datetime.datetime(2022, 9, 7, 8, tzinfo=datetime.timezone.utc) \n",
    "t_e = datetime.datetime(2022, 9, 8, 3, tzinfo=datetime.timezone.utc)\n",
    "\n",
    "t_fit = [\n",
    "        datetime.datetime(2022, 9, 7, 9, tzinfo=datetime.timezone.utc),\n",
    "        datetime.datetime(2022, 9, 7, 15, tzinfo=datetime.timezone.utc),\n",
    "        datetime.datetime(2022, 9, 7, 20, tzinfo=datetime.timezone.utc),\n",
    "        datetime.datetime(2022, 9, 8, 2, tzinfo=datetime.timezone.utc)\n",
    "     ]\n"
   ]
  },
  {
   "cell_type": "code",
   "execution_count": 3,
   "id": "f8589d6d",
   "metadata": {},
   "outputs": [
    {
     "name": "stdout",
     "output_type": "stream",
     "text": [
      "['09/07/2022, 09:00:00', '09/07/2022, 15:00:00', '09/07/2022, 20:00:00', '09/08/2022, 02:00:00']\n"
     ]
    }
   ],
   "source": [
    "fittingPoints = []\n",
    "\n",
    "fittingPoints = [t_fit[i].strftime(\"%m/%d/%Y, %H:%M:%S\") for i in range(len(t_fit))]\n",
    "print(fittingPoints)"
   ]
  },
  {
   "cell_type": "markdown",
   "id": "017cc3ec",
   "metadata": {},
   "source": [
    "#### loading the pickle files"
   ]
  },
  {
   "cell_type": "code",
   "execution_count": 4,
   "id": "63073b9f",
   "metadata": {},
   "outputs": [],
   "source": [
    "path = 'output/solo06092022_512_heeq_1/'\n",
    "\n",
    "filepath = fp.loadpickle(path, number=-1)"
   ]
  },
  {
   "cell_type": "code",
   "execution_count": 5,
   "id": "1ba5d5d7",
   "metadata": {},
   "outputs": [
    {
     "data": {
      "text/plain": [
       "'output/solo06092022_512_heeq_1/07'"
      ]
     },
     "execution_count": 5,
     "metadata": {},
     "output_type": "execute_result"
    }
   ],
   "source": [
    "filepath[:-7]"
   ]
  },
  {
   "cell_type": "markdown",
   "id": "beb73c98",
   "metadata": {},
   "source": [
    "#### extracting parameters"
   ]
  },
  {
   "cell_type": "code",
   "execution_count": 6,
   "id": "c7a33523",
   "metadata": {},
   "outputs": [
    {
     "name": "stderr",
     "output_type": "stream",
     "text": [
      "2023-06-07 13:54:29.069 INFO    py3dcore.fluxplot: Retrieved the following parameters for the run with minimum epsilon:\n",
      "2023-06-07 13:54:29.070 INFO    py3dcore.fluxplot:  --cme_longitude 125.81\n",
      "2023-06-07 13:54:29.070 INFO    py3dcore.fluxplot:  --cme_latitude 15.50\n",
      "2023-06-07 13:54:29.070 INFO    py3dcore.fluxplot:  --cme_inclination 15.21\n",
      "2023-06-07 13:54:29.071 INFO    py3dcore.fluxplot:  --cme_diameter_1au 0.33\n",
      "2023-06-07 13:54:29.071 INFO    py3dcore.fluxplot:  --cme_aspect_ratio 3.95\n",
      "2023-06-07 13:54:29.071 INFO    py3dcore.fluxplot:  --cme_launch_radius 15.32\n",
      "2023-06-07 13:54:29.072 INFO    py3dcore.fluxplot:  --cme_launch_velocity 1047.31\n",
      "2023-06-07 13:54:29.073 INFO    py3dcore.fluxplot:  --t_factor 198.76\n",
      "2023-06-07 13:54:29.073 INFO    py3dcore.fluxplot:  --cme_expansion_rate 1.14\n",
      "2023-06-07 13:54:29.073 INFO    py3dcore.fluxplot:  --magnetic_decay_rate 1.64\n",
      "2023-06-07 13:54:29.073 INFO    py3dcore.fluxplot:  --magnetic_field_strength_1au 6.13\n",
      "2023-06-07 13:54:29.074 INFO    py3dcore.fluxplot:  --background_drag 1.11\n",
      "2023-06-07 13:54:29.074 INFO    py3dcore.fluxplot:  --background_velocity 527.76\n"
     ]
    },
    {
     "name": "stdout",
     "output_type": "stream",
     "text": [
      "Results :\n",
      "\n",
      "\tcme_longitude: \t\t122.40 +/- 5.74\n",
      "\tcme_latitude: \t\t-1.52 +/- 8.33\n",
      "\tcme_inclination: \t\t20.55 +/- 47.98\n",
      "\tcme_diameter_1au: \t\t0.30 +/- 0.02\n",
      "\tcme_aspect_ratio: \t\t3.02 +/- 0.66\n",
      "\tcme_launch_radius: \t\t14.97 +/- 0.53\n",
      "\tcme_launch_velocity: \t\t1405.48 +/- 328.54\n",
      "\tt_factor: \t\t161.74 +/- 45.97\n",
      "\tcme_expansion_rate: \t\t1.14 +/- 0.00\n",
      "\tmagnetic_decay_rate: \t\t1.64 +/- 0.00\n",
      "\tmagnetic_field_strength_1au: \t\t6.44 +/- 0.69\n",
      "\tbackground_drag: \t\t1.62 +/- 0.72\n",
      "\tbackground_velocity: \t\t613.52 +/- 56.56\n",
      "377\n"
     ]
    }
   ],
   "source": [
    "res_mineps, res_mean, res_std, ind, keys, allres = fp.get_params(filepath, give_mineps=True)\n",
    "\n",
    "print(ind)"
   ]
  },
  {
   "cell_type": "code",
   "execution_count": 7,
   "id": "ae72c60c",
   "metadata": {},
   "outputs": [
    {
     "data": {
      "text/html": [
       "<div>\n",
       "<style scoped>\n",
       "    .dataframe tbody tr th:only-of-type {\n",
       "        vertical-align: middle;\n",
       "    }\n",
       "\n",
       "    .dataframe tbody tr th {\n",
       "        vertical-align: top;\n",
       "    }\n",
       "\n",
       "    .dataframe thead th {\n",
       "        text-align: right;\n",
       "    }\n",
       "</style>\n",
       "<table border=\"1\" class=\"dataframe\">\n",
       "  <thead>\n",
       "    <tr style=\"text-align: right;\">\n",
       "      <th></th>\n",
       "      <th>lon</th>\n",
       "      <th>lat</th>\n",
       "      <th>inc</th>\n",
       "      <th>D1AU</th>\n",
       "      <th>delta</th>\n",
       "      <th>launch radius</th>\n",
       "      <th>launch speed</th>\n",
       "      <th>t factor</th>\n",
       "      <th>expansion rate</th>\n",
       "      <th>B decay rate</th>\n",
       "      <th>B1AU</th>\n",
       "      <th>gamma</th>\n",
       "      <th>vsw</th>\n",
       "    </tr>\n",
       "  </thead>\n",
       "  <tbody>\n",
       "    <tr>\n",
       "      <th>count</th>\n",
       "      <td>512.000000</td>\n",
       "      <td>512.000000</td>\n",
       "      <td>512.000000</td>\n",
       "      <td>512.000000</td>\n",
       "      <td>512.000000</td>\n",
       "      <td>512.000000</td>\n",
       "      <td>512.000000</td>\n",
       "      <td>512.000000</td>\n",
       "      <td>512.000000</td>\n",
       "      <td>512.00000</td>\n",
       "      <td>512.000000</td>\n",
       "      <td>512.000000</td>\n",
       "      <td>512.000000</td>\n",
       "    </tr>\n",
       "    <tr>\n",
       "      <th>mean</th>\n",
       "      <td>122.404404</td>\n",
       "      <td>-1.519575</td>\n",
       "      <td>20.545403</td>\n",
       "      <td>0.300723</td>\n",
       "      <td>3.021212</td>\n",
       "      <td>14.965982</td>\n",
       "      <td>1405.479980</td>\n",
       "      <td>161.734940</td>\n",
       "      <td>1.140000</td>\n",
       "      <td>1.64000</td>\n",
       "      <td>6.436749</td>\n",
       "      <td>1.619575</td>\n",
       "      <td>613.524170</td>\n",
       "    </tr>\n",
       "    <tr>\n",
       "      <th>std</th>\n",
       "      <td>5.749835</td>\n",
       "      <td>8.342556</td>\n",
       "      <td>48.025894</td>\n",
       "      <td>0.021043</td>\n",
       "      <td>0.663556</td>\n",
       "      <td>0.529226</td>\n",
       "      <td>328.863892</td>\n",
       "      <td>46.018162</td>\n",
       "      <td>0.000008</td>\n",
       "      <td>0.00001</td>\n",
       "      <td>0.685963</td>\n",
       "      <td>0.725023</td>\n",
       "      <td>56.613281</td>\n",
       "    </tr>\n",
       "    <tr>\n",
       "      <th>min</th>\n",
       "      <td>106.349731</td>\n",
       "      <td>-30.552116</td>\n",
       "      <td>0.032050</td>\n",
       "      <td>0.236411</td>\n",
       "      <td>1.009933</td>\n",
       "      <td>14.016193</td>\n",
       "      <td>808.868835</td>\n",
       "      <td>24.668550</td>\n",
       "      <td>1.140000</td>\n",
       "      <td>1.64000</td>\n",
       "      <td>5.004392</td>\n",
       "      <td>0.200123</td>\n",
       "      <td>351.334473</td>\n",
       "    </tr>\n",
       "    <tr>\n",
       "      <th>25%</th>\n",
       "      <td>118.640852</td>\n",
       "      <td>-7.050511</td>\n",
       "      <td>9.476101</td>\n",
       "      <td>0.284935</td>\n",
       "      <td>2.565984</td>\n",
       "      <td>14.503666</td>\n",
       "      <td>1134.897888</td>\n",
       "      <td>130.753860</td>\n",
       "      <td>1.140000</td>\n",
       "      <td>1.64000</td>\n",
       "      <td>5.950719</td>\n",
       "      <td>1.003611</td>\n",
       "      <td>579.466888</td>\n",
       "    </tr>\n",
       "    <tr>\n",
       "      <th>50%</th>\n",
       "      <td>122.062801</td>\n",
       "      <td>-1.473212</td>\n",
       "      <td>13.795054</td>\n",
       "      <td>0.298673</td>\n",
       "      <td>3.128043</td>\n",
       "      <td>14.989139</td>\n",
       "      <td>1385.524536</td>\n",
       "      <td>162.439217</td>\n",
       "      <td>1.140000</td>\n",
       "      <td>1.64000</td>\n",
       "      <td>6.411795</td>\n",
       "      <td>1.642444</td>\n",
       "      <td>619.552917</td>\n",
       "    </tr>\n",
       "    <tr>\n",
       "      <th>75%</th>\n",
       "      <td>125.653366</td>\n",
       "      <td>4.139654</td>\n",
       "      <td>18.349843</td>\n",
       "      <td>0.316026</td>\n",
       "      <td>3.545613</td>\n",
       "      <td>15.387470</td>\n",
       "      <td>1680.444550</td>\n",
       "      <td>198.775810</td>\n",
       "      <td>1.140000</td>\n",
       "      <td>1.64000</td>\n",
       "      <td>6.880287</td>\n",
       "      <td>2.212752</td>\n",
       "      <td>657.744781</td>\n",
       "    </tr>\n",
       "    <tr>\n",
       "      <th>max</th>\n",
       "      <td>141.129547</td>\n",
       "      <td>20.634428</td>\n",
       "      <td>359.631927</td>\n",
       "      <td>0.349388</td>\n",
       "      <td>3.990799</td>\n",
       "      <td>15.994086</td>\n",
       "      <td>1989.345215</td>\n",
       "      <td>249.447784</td>\n",
       "      <td>1.140000</td>\n",
       "      <td>1.64000</td>\n",
       "      <td>8.692548</td>\n",
       "      <td>2.997389</td>\n",
       "      <td>699.545593</td>\n",
       "    </tr>\n",
       "  </tbody>\n",
       "</table>\n",
       "</div>"
      ],
      "text/plain": [
       "              lon         lat         inc        D1AU       delta  \\\n",
       "count  512.000000  512.000000  512.000000  512.000000  512.000000   \n",
       "mean   122.404404   -1.519575   20.545403    0.300723    3.021212   \n",
       "std      5.749835    8.342556   48.025894    0.021043    0.663556   \n",
       "min    106.349731  -30.552116    0.032050    0.236411    1.009933   \n",
       "25%    118.640852   -7.050511    9.476101    0.284935    2.565984   \n",
       "50%    122.062801   -1.473212   13.795054    0.298673    3.128043   \n",
       "75%    125.653366    4.139654   18.349843    0.316026    3.545613   \n",
       "max    141.129547   20.634428  359.631927    0.349388    3.990799   \n",
       "\n",
       "       launch radius  launch speed    t factor  expansion rate  B decay rate  \\\n",
       "count     512.000000    512.000000  512.000000      512.000000     512.00000   \n",
       "mean       14.965982   1405.479980  161.734940        1.140000       1.64000   \n",
       "std         0.529226    328.863892   46.018162        0.000008       0.00001   \n",
       "min        14.016193    808.868835   24.668550        1.140000       1.64000   \n",
       "25%        14.503666   1134.897888  130.753860        1.140000       1.64000   \n",
       "50%        14.989139   1385.524536  162.439217        1.140000       1.64000   \n",
       "75%        15.387470   1680.444550  198.775810        1.140000       1.64000   \n",
       "max        15.994086   1989.345215  249.447784        1.140000       1.64000   \n",
       "\n",
       "             B1AU       gamma         vsw  \n",
       "count  512.000000  512.000000  512.000000  \n",
       "mean     6.436749    1.619575  613.524170  \n",
       "std      0.685963    0.725023   56.613281  \n",
       "min      5.004392    0.200123  351.334473  \n",
       "25%      5.950719    1.003611  579.466888  \n",
       "50%      6.411795    1.642444  619.552917  \n",
       "75%      6.880287    2.212752  657.744781  \n",
       "max      8.692548    2.997389  699.545593  "
      ]
     },
     "execution_count": 7,
     "metadata": {},
     "output_type": "execute_result"
    }
   ],
   "source": [
    "out = fp.get_ensemble_stats(filepath)\n",
    "out.describe()"
   ]
  },
  {
   "cell_type": "code",
   "execution_count": null,
   "id": "95f1872a",
   "metadata": {},
   "outputs": [],
   "source": [
    "# write output of describe() to csv-file\n",
    "out.describe().to_csv(filepath+'parameters.csv')\n",
    "\n",
    "# write parameters of whole ensemble to txt-file\n",
    "with open(filepath+'parameters_ensemble.txt', 'a') as f:\n",
    "    dfAsString = out.to_string(header=True, index=True)\n",
    "    f.write(dfAsString)"
   ]
  },
  {
   "cell_type": "code",
   "execution_count": null,
   "id": "523fa774",
   "metadata": {},
   "outputs": [],
   "source": [
    "# write output of describe() to txt-file    \n",
    "with open(filepath+'parameters_summary.txt', 'a') as f:\n",
    "    f.write('Summary of results')\n",
    "    f.write('\\n\\n')\n",
    "    f.write('Results:')\n",
    "    f.write('\\n')\n",
    "    for i in range(1, len(keys)):    \n",
    "        f.write(\"\\t{}: \\t\\t{:.02f} +/- {:.02f}\".format(keys[i], res_mean[i], res_std[i]))\n",
    "        f.write('\\n')\n",
    "    f.write('\\n')\n",
    "    f.write('Parameters for run with min(eps):')\n",
    "    f.write('\\n')\n",
    "    for i in range(1, len(keys)):\n",
    "        f.write(\" --{} {:.2f}\".format(keys[i], res_mineps[i]))\n",
    "        f.write('\\n')\n",
    "    f.write('\\n')\n",
    "    f.write('Fitting points:')\n",
    "    f.write(str(fittingPoints))\n",
    "    f.write('\\n')"
   ]
  },
  {
   "cell_type": "markdown",
   "id": "99d1b82f",
   "metadata": {},
   "source": [
    "#### loading and plotting the fitting results"
   ]
  },
  {
   "cell_type": "code",
   "execution_count": null,
   "id": "057bcf5e",
   "metadata": {},
   "outputs": [],
   "source": [
    "t_s = datetime.datetime(2022, 9, 7, 7, tzinfo=datetime.timezone.utc)\n",
    "t_e = datetime.datetime(2022, 9, 8, 4, tzinfo=datetime.timezone.utc)"
   ]
  },
  {
   "cell_type": "code",
   "execution_count": null,
   "id": "4747aa1b",
   "metadata": {},
   "outputs": [],
   "source": [
    "fp.fullinsitu(observer='SOLO', t_fit=t_fit, start=t_s, end=t_e, filepath=filepath, ref_frame='HEEQ', best=False, \n",
    "              ensemble=True, save_fig=True, legend=True, max_index=512, title=False, fit_points=True)"
   ]
  },
  {
   "cell_type": "code",
   "execution_count": null,
   "id": "a3ed44ee",
   "metadata": {},
   "outputs": [],
   "source": [
    "fp.scatterparams(filepath)"
   ]
  },
  {
   "cell_type": "code",
   "execution_count": null,
   "id": "71d90fc2",
   "metadata": {},
   "outputs": [],
   "source": [
    "print(out['lon'].mean())\n",
    "print(out['lon'].std())\n",
    "print(out['launch radius'].std())\n",
    "print(out['launch speed'].std())"
   ]
  },
  {
   "cell_type": "code",
   "execution_count": null,
   "id": "3897c72d-4d07-424a-b3f5-92a1f1ed1c7e",
   "metadata": {},
   "outputs": [],
   "source": [
    "print(res_mineps[1])"
   ]
  },
  {
   "cell_type": "markdown",
   "id": "c9b3337e",
   "metadata": {},
   "source": [
    "#### Plotting the fluxrope and spacecraft positions"
   ]
  },
  {
   "cell_type": "code",
   "execution_count": 8,
   "id": "8c89b232",
   "metadata": {},
   "outputs": [
    {
     "name": "stdout",
     "output_type": "stream",
     "text": [
      "Results :\n",
      "\n",
      "\tcme_longitude: \t\t122.40 +/- 5.74\n",
      "\tcme_latitude: \t\t-1.52 +/- 8.33\n",
      "\tcme_inclination: \t\t20.55 +/- 47.98\n",
      "\tcme_diameter_1au: \t\t0.30 +/- 0.02\n",
      "\tcme_aspect_ratio: \t\t3.02 +/- 0.66\n",
      "\tcme_launch_radius: \t\t14.97 +/- 0.53\n",
      "\tcme_launch_velocity: \t\t1405.48 +/- 328.54\n",
      "\tt_factor: \t\t161.74 +/- 45.97\n",
      "\tcme_expansion_rate: \t\t1.14 +/- 0.00\n",
      "\tmagnetic_decay_rate: \t\t1.64 +/- 0.00\n",
      "\tmagnetic_field_strength_1au: \t\t6.44 +/- 0.69\n",
      "\tbackground_drag: \t\t1.62 +/- 0.72\n",
      "\tbackground_velocity: \t\t613.52 +/- 56.56\n"
     ]
    },
    {
     "name": "stderr",
     "output_type": "stream",
     "text": [
      "2023-06-07 13:54:37.178 INFO    py3dcore.fluxplot: Using HelioSat to retrieve observer data\n"
     ]
    },
    {
     "name": "stdout",
     "output_type": "stream",
     "text": [
      "observer: Solar Orbiter\n",
      "t_snap: 2022-09-07 10:00:00+00:00\n"
     ]
    }
   ],
   "source": [
    "#measurement times \n",
    "#tm0 =  datetime.datetime(2022, 6, 2, 6)\n",
    "tm1 =  t_launch + datetime.timedelta(hours=40)\n",
    "#tm2 =  t_launch + datetime.timedelta(days=3.5)\n",
    "\n",
    "fig = fp.full3d(spacecraftlist=['solo'], planetlist=['Earth'], t=tm1, filepath=filepath, legend=False, view_azim=res_mineps[1]-90, title=False,\n",
    "                view_elev=0, view_radius=0.7, index=0)"
   ]
  },
  {
   "cell_type": "markdown",
   "id": "7ef49a5a",
   "metadata": {},
   "source": [
    "### make fluxrope 3d movie"
   ]
  },
  {
   "cell_type": "code",
   "execution_count": 11,
   "id": "90bbef5d",
   "metadata": {},
   "outputs": [],
   "source": [
    "def make_frame(k):\n",
    "    tm0 = t_launch\n",
    "    t = tm0 + k*datetime.timedelta(hours=1)\n",
    "    \n",
    "    fig = fp.full3d(spacecraftlist=['psp', 'solo'], planetlist=['Earth'], legend=False, title=False,\n",
    "              t=t, filepath=filepath, save_fig=True, view_radius=0.7, view_elev=90, view_azim=res_mineps[1]-90)\n",
    "    frmstr = '%05i' % (k) \n",
    "    plt.savefig(filepath[:-7] + 'movie_3d/' + frmstr + '.jpg', dpi=300)  \n",
    "    return fig\n",
    "    "
   ]
  },
  {
   "cell_type": "code",
   "execution_count": 12,
   "id": "aec2a322",
   "metadata": {},
   "outputs": [
    {
     "name": "stdout",
     "output_type": "stream",
     "text": [
      "Results :\n",
      "\n",
      "Results :\n",
      "\tcme_longitude: \t\t122.40 +/- 5.74\n",
      "\n",
      "\tcme_latitude: \t\t-1.52 +/- 8.33\tcme_longitude: \t\t122.40 +/- 5.74\n",
      "\n",
      "\tcme_inclination: \t\t20.55 +/- 47.98\tcme_latitude: \t\t-1.52 +/- 8.33\n",
      "\n",
      "\tcme_diameter_1au: \t\t0.30 +/- 0.02\tcme_inclination: \t\t20.55 +/- 47.98\n",
      "\n",
      "\tcme_aspect_ratio: \t\t3.02 +/- 0.66\tcme_diameter_1au: \t\t0.30 +/- 0.02\n",
      "\n",
      "\tcme_launch_radius: \t\t14.97 +/- 0.53\n",
      "\tcme_aspect_ratio: \t\t3.02 +/- 0.66\n",
      "\tcme_launch_velocity: \t\t1405.48 +/- 328.54\tcme_launch_radius: \t\t14.97 +/- 0.53\n",
      "\tt_factor: \t\t161.74 +/- 45.97\n",
      "\tcme_launch_velocity: \t\t1405.48 +/- 328.54\n",
      "\n",
      "\tcme_expansion_rate: \t\t1.14 +/- 0.00\tt_factor: \t\t161.74 +/- 45.97\n",
      "\n",
      "\tcme_expansion_rate: \t\t1.14 +/- 0.00\tmagnetic_decay_rate: \t\t1.64 +/- 0.00\n",
      "\n",
      "\tmagnetic_decay_rate: \t\t1.64 +/- 0.00\tmagnetic_field_strength_1au: \t\t6.44 +/- 0.69\n",
      "\tmagnetic_field_strength_1au: \t\t6.44 +/- 0.69\n",
      "\tbackground_drag: \t\t1.62 +/- 0.72\n",
      "\n",
      "\tbackground_drag: \t\t1.62 +/- 0.72\tbackground_velocity: \t\t613.52 +/- 56.56\n",
      "\n",
      "\tbackground_velocity: \t\t613.52 +/- 56.56\n",
      "observer: Solar Orbiter\n"
     ]
    },
    {
     "name": "stderr",
     "output_type": "stream",
     "text": [
      "2023-06-07 13:59:34.997 INFO    py3dcore.fluxplot: Using HelioSat to retrieve observer data\n"
     ]
    },
    {
     "name": "stdout",
     "output_type": "stream",
     "text": [
      "observer:t_snap: 2022-09-05 21:00:00+00:00\n",
      " Solar Orbiter\n"
     ]
    },
    {
     "name": "stderr",
     "output_type": "stream",
     "text": [
      "2023-06-07 13:59:35.029 INFO    py3dcore.fluxplot: Using HelioSat to retrieve observer data\n"
     ]
    },
    {
     "name": "stdout",
     "output_type": "stream",
     "text": [
      "observer: Parker Solar Probet_snap: 2022-09-05 18:00:00+00:00\n",
      "\n",
      "observer: Parker Solar Probe\n"
     ]
    },
    {
     "name": "stderr",
     "output_type": "stream",
     "text": [
      "2023-06-07 13:59:35.081 INFO    py3dcore.fluxplot: Using HelioSat to retrieve observer data\n"
     ]
    },
    {
     "name": "stdout",
     "output_type": "stream",
     "text": [
      "t_snap: 2022-09-05 21:00:00+00:00\n"
     ]
    },
    {
     "name": "stderr",
     "output_type": "stream",
     "text": [
      "2023-06-07 13:59:35.095 INFO    py3dcore.fluxplot: Using HelioSat to retrieve observer data\n"
     ]
    },
    {
     "name": "stdout",
     "output_type": "stream",
     "text": [
      "t_snap: 2022-09-05 18:00:00+00:00\n",
      "Results :\n",
      "\n",
      "\tcme_longitude: \t\t122.40 +/- 5.74\n",
      "\tcme_latitude: \t\t-1.52 +/- 8.33Results :\n",
      "\n",
      "\n",
      "\tcme_inclination: \t\t20.55 +/- 47.98\tcme_longitude: \t\t122.40 +/- 5.74\n",
      "\tcme_diameter_1au: \t\t0.30 +/- 0.02\n",
      "\n",
      "\tcme_latitude: \t\t-1.52 +/- 8.33\tcme_aspect_ratio: \t\t3.02 +/- 0.66\n",
      "\n",
      "\tcme_inclination: \t\t20.55 +/- 47.98\n",
      "\tcme_launch_radius: \t\t14.97 +/- 0.53\tcme_diameter_1au: \t\t0.30 +/- 0.02\n",
      "\n",
      "\tcme_launch_velocity: \t\t1405.48 +/- 328.54\tcme_aspect_ratio: \t\t3.02 +/- 0.66\n",
      "\n",
      "\tt_factor: \t\t161.74 +/- 45.97\tcme_launch_radius: \t\t14.97 +/- 0.53\n",
      "\tcme_expansion_rate: \t\t1.14 +/- 0.00\n",
      "\n",
      "\tcme_launch_velocity: \t\t1405.48 +/- 328.54\tmagnetic_decay_rate: \t\t1.64 +/- 0.00\n",
      "\n",
      "\tt_factor: \t\t161.74 +/- 45.97\tmagnetic_field_strength_1au: \t\t6.44 +/- 0.69\n",
      "\n",
      "\tcme_expansion_rate: \t\t1.14 +/- 0.00\tbackground_drag: \t\t1.62 +/- 0.72\n",
      "\n",
      "\tmagnetic_decay_rate: \t\t1.64 +/- 0.00\tbackground_velocity: \t\t613.52 +/- 56.56\n",
      "\n",
      "\tmagnetic_field_strength_1au: \t\t6.44 +/- 0.69\n",
      "\tbackground_drag: \t\t1.62 +/- 0.72\n",
      "\tbackground_velocity: \t\t613.52 +/- 56.56\n",
      "observer: Solar Orbiter\n"
     ]
    },
    {
     "name": "stderr",
     "output_type": "stream",
     "text": [
      "2023-06-07 13:59:36.573 INFO    py3dcore.fluxplot: Using HelioSat to retrieve observer data\n"
     ]
    },
    {
     "name": "stdout",
     "output_type": "stream",
     "text": [
      "t_snap: 2022-09-05 19:00:00+00:00\n",
      "observer: Parker Solar Probe\n"
     ]
    },
    {
     "name": "stderr",
     "output_type": "stream",
     "text": [
      "2023-06-07 13:59:36.616 INFO    py3dcore.fluxplot: Using HelioSat to retrieve observer data\n"
     ]
    },
    {
     "name": "stdout",
     "output_type": "stream",
     "text": [
      "t_snap: 2022-09-05 19:00:00+00:00\n",
      "observer: Solar Orbiter\n"
     ]
    },
    {
     "name": "stderr",
     "output_type": "stream",
     "text": [
      "2023-06-07 13:59:36.655 INFO    py3dcore.fluxplot: Using HelioSat to retrieve observer data\n"
     ]
    },
    {
     "name": "stdout",
     "output_type": "stream",
     "text": [
      "t_snap: 2022-09-05 22:00:00+00:00\n",
      "observer: Parker Solar Probe\n"
     ]
    },
    {
     "name": "stderr",
     "output_type": "stream",
     "text": [
      "2023-06-07 13:59:36.701 INFO    py3dcore.fluxplot: Using HelioSat to retrieve observer data\n"
     ]
    },
    {
     "name": "stdout",
     "output_type": "stream",
     "text": [
      "t_snap: 2022-09-05 22:00:00+00:00\n",
      "Results :\n",
      "\n",
      "\tcme_longitude: \t\t122.40 +/- 5.74\n",
      "\tcme_latitude: \t\t-1.52 +/- 8.33\n",
      "\tcme_inclination: \t\t20.55 +/- 47.98\n",
      "Results :\n",
      "\tcme_diameter_1au: \t\t0.30 +/- 0.02\n",
      "\n",
      "\tcme_aspect_ratio: \t\t3.02 +/- 0.66\tcme_longitude: \t\t122.40 +/- 5.74\n",
      "\n",
      "\tcme_launch_radius: \t\t14.97 +/- 0.53\tcme_latitude: \t\t-1.52 +/- 8.33\n",
      "\n",
      "\tcme_inclination: \t\t20.55 +/- 47.98\tcme_launch_velocity: \t\t1405.48 +/- 328.54\n",
      "\n",
      "\tcme_diameter_1au: \t\t0.30 +/- 0.02\tt_factor: \t\t161.74 +/- 45.97\n",
      "\tcme_aspect_ratio: \t\t3.02 +/- 0.66\n",
      "\n",
      "\tcme_expansion_rate: \t\t1.14 +/- 0.00\n",
      "\tcme_launch_radius: \t\t14.97 +/- 0.53\n",
      "\tmagnetic_decay_rate: \t\t1.64 +/- 0.00\n",
      "\tcme_launch_velocity: \t\t1405.48 +/- 328.54\tmagnetic_field_strength_1au: \t\t6.44 +/- 0.69\n",
      "\n",
      "\tt_factor: \t\t161.74 +/- 45.97\tbackground_drag: \t\t1.62 +/- 0.72\n",
      "\n",
      "\tbackground_velocity: \t\t613.52 +/- 56.56\tcme_expansion_rate: \t\t1.14 +/- 0.00\n",
      "\n",
      "\tmagnetic_decay_rate: \t\t1.64 +/- 0.00\n",
      "\tmagnetic_field_strength_1au: \t\t6.44 +/- 0.69\n",
      "\tbackground_drag: \t\t1.62 +/- 0.72\n",
      "\tbackground_velocity: \t\t613.52 +/- 56.56\n",
      "observer: Solar Orbiter\n"
     ]
    },
    {
     "name": "stderr",
     "output_type": "stream",
     "text": [
      "2023-06-07 13:59:37.761 INFO    py3dcore.fluxplot: Using HelioSat to retrieve observer data\n"
     ]
    },
    {
     "name": "stdout",
     "output_type": "stream",
     "text": [
      "t_snap: 2022-09-05 20:00:00+00:00\n",
      "observer: Parker Solar Probe\n"
     ]
    },
    {
     "name": "stderr",
     "output_type": "stream",
     "text": [
      "2023-06-07 13:59:37.792 INFO    py3dcore.fluxplot: Using HelioSat to retrieve observer data\n"
     ]
    },
    {
     "name": "stdout",
     "output_type": "stream",
     "text": [
      "t_snap: 2022-09-05 20:00:00+00:00\n",
      "observer: Solar Orbiter\n"
     ]
    },
    {
     "name": "stderr",
     "output_type": "stream",
     "text": [
      "2023-06-07 13:59:37.838 INFO    py3dcore.fluxplot: Using HelioSat to retrieve observer data\n"
     ]
    },
    {
     "name": "stdout",
     "output_type": "stream",
     "text": [
      "t_snap: 2022-09-05 23:00:00+00:00\n",
      "observer: Parker Solar Probe\n"
     ]
    },
    {
     "name": "stderr",
     "output_type": "stream",
     "text": [
      "2023-06-07 13:59:37.879 INFO    py3dcore.fluxplot: Using HelioSat to retrieve observer data\n"
     ]
    },
    {
     "name": "stdout",
     "output_type": "stream",
     "text": [
      "t_snap: 2022-09-05 23:00:00+00:00\n",
      "Results :\n",
      "\n",
      "\tcme_longitude: \t\t122.40 +/- 5.74\n",
      "\tcme_latitude: \t\t-1.52 +/- 8.33\n",
      "\tcme_inclination: \t\t20.55 +/- 47.98\n",
      "\tcme_diameter_1au: \t\t0.30 +/- 0.02\n",
      "\tcme_aspect_ratio: \t\t3.02 +/- 0.66\n",
      "\tcme_launch_radius: \t\t14.97 +/- 0.53\n",
      "\tcme_launch_velocity: \t\t1405.48 +/- 328.54\n",
      "\tt_factor: \t\t161.74 +/- 45.97\n",
      "\tcme_expansion_rate: \t\t1.14 +/- 0.00\n",
      "\tmagnetic_decay_rate: \t\t1.64 +/- 0.00\n",
      "\tmagnetic_field_strength_1au: \t\t6.44 +/- 0.69\n",
      "\tbackground_drag: \t\t1.62 +/- 0.72Results :\n",
      "\n",
      "\n",
      "\tbackground_velocity: \t\t613.52 +/- 56.56\tcme_longitude: \t\t122.40 +/- 5.74\n",
      "\n",
      "\tcme_latitude: \t\t-1.52 +/- 8.33\n",
      "\tcme_inclination: \t\t20.55 +/- 47.98\n",
      "\tcme_diameter_1au: \t\t0.30 +/- 0.02\n",
      "\tcme_aspect_ratio: \t\t3.02 +/- 0.66\n",
      "\tcme_launch_radius: \t\t14.97 +/- 0.53\n",
      "\tcme_launch_velocity: \t\t1405.48 +/- 328.54\n",
      "\tt_factor: \t\t161.74 +/- 45.97\n",
      "\tcme_expansion_rate: \t\t1.14 +/- 0.00\n",
      "\tmagnetic_decay_rate: \t\t1.64 +/- 0.00\n",
      "\tmagnetic_field_strength_1au: \t\t6.44 +/- 0.69\n",
      "\tbackground_drag: \t\t1.62 +/- 0.72\n",
      "\tbackground_velocity: \t\t613.52 +/- 56.56\n",
      "observer: Solar Orbiter\n"
     ]
    },
    {
     "name": "stderr",
     "output_type": "stream",
     "text": [
      "2023-06-07 13:59:40.670 INFO    py3dcore.fluxplot: Using HelioSat to retrieve observer data\n"
     ]
    },
    {
     "name": "stdout",
     "output_type": "stream",
     "text": [
      "t_snap: 2022-09-06 00:00:00+00:00\n",
      "observer: Parker Solar Probe\n"
     ]
    },
    {
     "name": "stderr",
     "output_type": "stream",
     "text": [
      "2023-06-07 13:59:40.691 INFO    py3dcore.fluxplot: Using HelioSat to retrieve observer data\n"
     ]
    },
    {
     "name": "stdout",
     "output_type": "stream",
     "text": [
      "t_snap: 2022-09-06 00:00:00+00:00\n",
      "observer: Solar Orbiter\n"
     ]
    },
    {
     "name": "stderr",
     "output_type": "stream",
     "text": [
      "2023-06-07 13:59:40.720 INFO    py3dcore.fluxplot: Using HelioSat to retrieve observer data\n"
     ]
    },
    {
     "name": "stdout",
     "output_type": "stream",
     "text": [
      "t_snap: 2022-09-06 03:00:00+00:00\n",
      "observer: Parker Solar Probe\n"
     ]
    },
    {
     "name": "stderr",
     "output_type": "stream",
     "text": [
      "2023-06-07 13:59:40.746 INFO    py3dcore.fluxplot: Using HelioSat to retrieve observer data\n"
     ]
    },
    {
     "name": "stdout",
     "output_type": "stream",
     "text": [
      "t_snap: 2022-09-06 03:00:00+00:00\n",
      "Results :\n",
      "\n",
      "\tcme_longitude: \t\t122.40 +/- 5.74\n",
      "\tcme_latitude: \t\t-1.52 +/- 8.33\n",
      "\tcme_inclination: \t\t20.55 +/- 47.98\n",
      "\tcme_diameter_1au: \t\t0.30 +/- 0.02Results :\n",
      "\n",
      "\tcme_longitude: \t\t122.40 +/- 5.74\n",
      "\tcme_latitude: \t\t-1.52 +/- 8.33\n",
      "\tcme_inclination: \t\t20.55 +/- 47.98\n",
      "\tcme_diameter_1au: \t\t0.30 +/- 0.02\n",
      "\tcme_aspect_ratio: \t\t3.02 +/- 0.66\n",
      "\tcme_launch_radius: \t\t14.97 +/- 0.53\n",
      "\tcme_launch_velocity: \t\t1405.48 +/- 328.54\n",
      "\tt_factor: \t\t161.74 +/- 45.97\n",
      "\tcme_expansion_rate: \t\t1.14 +/- 0.00\n",
      "\tmagnetic_decay_rate: \t\t1.64 +/- 0.00\n",
      "\n",
      "\tmagnetic_field_strength_1au: \t\t6.44 +/- 0.69\tcme_aspect_ratio: \t\t3.02 +/- 0.66\n",
      "\n",
      "\tbackground_drag: \t\t1.62 +/- 0.72\n",
      "\tcme_launch_radius: \t\t14.97 +/- 0.53\tbackground_velocity: \t\t613.52 +/- 56.56\n",
      "\n",
      "\tcme_launch_velocity: \t\t1405.48 +/- 328.54\n",
      "\tt_factor: \t\t161.74 +/- 45.97\n",
      "\tcme_expansion_rate: \t\t1.14 +/- 0.00\n",
      "\tmagnetic_decay_rate: \t\t1.64 +/- 0.00\n",
      "\tmagnetic_field_strength_1au: \t\t6.44 +/- 0.69\n",
      "\tbackground_drag: \t\t1.62 +/- 0.72\n",
      "\tbackground_velocity: \t\t613.52 +/- 56.56\n",
      "observer:observer: Solar Orbiter \n",
      "Solar Orbiter\n"
     ]
    },
    {
     "name": "stderr",
     "output_type": "stream",
     "text": [
      "2023-06-07 13:59:42.054 INFO    py3dcore.fluxplot: Using HelioSat to retrieve observer data\n"
     ]
    },
    {
     "name": "stdout",
     "output_type": "stream",
     "text": [
      "t_snap:"
     ]
    },
    {
     "name": "stderr",
     "output_type": "stream",
     "text": [
      "2023-06-07 13:59:42.055 INFO    py3dcore.fluxplot: Using HelioSat to retrieve observer data\n"
     ]
    },
    {
     "name": "stdout",
     "output_type": "stream",
     "text": [
      " t_snap: 2022-09-06 01:00:00+00:002022-09-06 04:00:00+00:00\n",
      "\n",
      "observer:observer:  Parker Solar ProbeParker Solar Probe\n",
      "\n"
     ]
    },
    {
     "name": "stderr",
     "output_type": "stream",
     "text": [
      "2023-06-07 13:59:42.065 INFO    py3dcore.fluxplot: Using HelioSat to retrieve observer data\n",
      "2023-06-07 13:59:42.066 INFO    py3dcore.fluxplot: Using HelioSat to retrieve observer data\n"
     ]
    },
    {
     "name": "stdout",
     "output_type": "stream",
     "text": [
      "t_snap:t_snap:  2022-09-06 04:00:00+00:002022-09-06 01:00:00+00:00\n",
      "\n",
      "Results :\n",
      "\n",
      "\tcme_longitude: \t\t122.40 +/- 5.74\n",
      "\tcme_latitude: \t\t-1.52 +/- 8.33\n",
      "\tcme_inclination: \t\t20.55 +/- 47.98Results :\n",
      "\n",
      "\n",
      "\tcme_diameter_1au: \t\t0.30 +/- 0.02\n",
      "\tcme_longitude: \t\t122.40 +/- 5.74\n",
      "\tcme_aspect_ratio: \t\t3.02 +/- 0.66\tcme_latitude: \t\t-1.52 +/- 8.33\n",
      "\n",
      "\tcme_launch_radius: \t\t14.97 +/- 0.53\tcme_inclination: \t\t20.55 +/- 47.98\n",
      "\n",
      "\tcme_launch_velocity: \t\t1405.48 +/- 328.54\tcme_diameter_1au: \t\t0.30 +/- 0.02\n",
      "\n",
      "\tt_factor: \t\t161.74 +/- 45.97\tcme_aspect_ratio: \t\t3.02 +/- 0.66\n",
      "\n",
      "\tcme_expansion_rate: \t\t1.14 +/- 0.00\tcme_launch_radius: \t\t14.97 +/- 0.53\n",
      "\tmagnetic_decay_rate: \t\t1.64 +/- 0.00\n",
      "\tcme_launch_velocity: \t\t1405.48 +/- 328.54\n",
      "\n",
      "\tmagnetic_field_strength_1au: \t\t6.44 +/- 0.69\tt_factor: \t\t161.74 +/- 45.97\n",
      "\n",
      "\tbackground_drag: \t\t1.62 +/- 0.72\tcme_expansion_rate: \t\t1.14 +/- 0.00\n",
      "\n",
      "\tbackground_velocity: \t\t613.52 +/- 56.56\tmagnetic_decay_rate: \t\t1.64 +/- 0.00\n",
      "\n",
      "\tmagnetic_field_strength_1au: \t\t6.44 +/- 0.69\n",
      "\tbackground_drag: \t\t1.62 +/- 0.72\n",
      "\tbackground_velocity: \t\t613.52 +/- 56.56\n",
      "observer: Solar Orbiter\n"
     ]
    },
    {
     "name": "stderr",
     "output_type": "stream",
     "text": [
      "2023-06-07 13:59:43.188 INFO    py3dcore.fluxplot: Using HelioSat to retrieve observer data\n"
     ]
    },
    {
     "name": "stdout",
     "output_type": "stream",
     "text": [
      "t_snap: 2022-09-06 05:00:00+00:00\n",
      "observer: Parker Solar Probe\n"
     ]
    },
    {
     "name": "stderr",
     "output_type": "stream",
     "text": [
      "2023-06-07 13:59:43.211 INFO    py3dcore.fluxplot: Using HelioSat to retrieve observer data\n"
     ]
    },
    {
     "name": "stdout",
     "output_type": "stream",
     "text": [
      "t_snap: 2022-09-06 05:00:00+00:00\n",
      "observer: Solar Orbiter\n"
     ]
    },
    {
     "name": "stderr",
     "output_type": "stream",
     "text": [
      "2023-06-07 13:59:43.275 INFO    py3dcore.fluxplot: Using HelioSat to retrieve observer data\n"
     ]
    },
    {
     "name": "stdout",
     "output_type": "stream",
     "text": [
      "t_snap: 2022-09-06 02:00:00+00:00\n",
      "observer: Parker Solar Probe\n"
     ]
    },
    {
     "name": "stderr",
     "output_type": "stream",
     "text": [
      "2023-06-07 13:59:43.312 INFO    py3dcore.fluxplot: Using HelioSat to retrieve observer data\n"
     ]
    },
    {
     "name": "stdout",
     "output_type": "stream",
     "text": [
      "t_snap: 2022-09-06 02:00:00+00:00\n",
      "Results :\n",
      "\n",
      "\tcme_longitude: \t\t122.40 +/- 5.74\n",
      "\tcme_latitude: \t\t-1.52 +/- 8.33\n",
      "Results :\n",
      "\n",
      "\tcme_inclination: \t\t20.55 +/- 47.98\tcme_longitude: \t\t122.40 +/- 5.74\n",
      "\n",
      "\tcme_diameter_1au: \t\t0.30 +/- 0.02\tcme_latitude: \t\t-1.52 +/- 8.33\n",
      "\n",
      "\tcme_aspect_ratio: \t\t3.02 +/- 0.66\n",
      "\tcme_inclination: \t\t20.55 +/- 47.98\n",
      "\tcme_launch_radius: \t\t14.97 +/- 0.53\tcme_diameter_1au: \t\t0.30 +/- 0.02\n",
      "\n",
      "\tcme_launch_velocity: \t\t1405.48 +/- 328.54\n",
      "\tcme_aspect_ratio: \t\t3.02 +/- 0.66\tt_factor: \t\t161.74 +/- 45.97\n",
      "\n",
      "\tcme_launch_radius: \t\t14.97 +/- 0.53\tcme_expansion_rate: \t\t1.14 +/- 0.00\n",
      "\n",
      "\tmagnetic_decay_rate: \t\t1.64 +/- 0.00\tcme_launch_velocity: \t\t1405.48 +/- 328.54\n",
      "\n",
      "\tt_factor: \t\t161.74 +/- 45.97\tmagnetic_field_strength_1au: \t\t6.44 +/- 0.69\n",
      "\n",
      "\tbackground_drag: \t\t1.62 +/- 0.72\tcme_expansion_rate: \t\t1.14 +/- 0.00\n",
      "\n",
      "\tmagnetic_decay_rate: \t\t1.64 +/- 0.00\tbackground_velocity: \t\t613.52 +/- 56.56\n",
      "\n",
      "\tmagnetic_field_strength_1au: \t\t6.44 +/- 0.69\n",
      "\tbackground_drag: \t\t1.62 +/- 0.72\n",
      "\tbackground_velocity: \t\t613.52 +/- 56.56\n",
      "observer: Solar Orbiter\n",
      "observer: Solar Orbiter\n"
     ]
    },
    {
     "name": "stderr",
     "output_type": "stream",
     "text": [
      "2023-06-07 13:59:45.092 INFO    py3dcore.fluxplot: Using HelioSat to retrieve observer data\n"
     ]
    },
    {
     "name": "stdout",
     "output_type": "stream",
     "text": [
      "t_snap:"
     ]
    },
    {
     "name": "stderr",
     "output_type": "stream",
     "text": [
      "2023-06-07 13:59:45.088 INFO    py3dcore.fluxplot: Using HelioSat to retrieve observer data\n"
     ]
    },
    {
     "name": "stdout",
     "output_type": "stream",
     "text": [
      " 2022-09-06 09:00:00+00:00\n",
      "t_snap: 2022-09-06 06:00:00+00:00\n",
      "observer: observer:Parker Solar Probe \n",
      "Parker Solar Probe\n"
     ]
    },
    {
     "name": "stderr",
     "output_type": "stream",
     "text": [
      "2023-06-07 13:59:45.135 INFO    py3dcore.fluxplot: Using HelioSat to retrieve observer data\n"
     ]
    },
    {
     "name": "stdout",
     "output_type": "stream",
     "text": [
      "t_snap: "
     ]
    },
    {
     "name": "stderr",
     "output_type": "stream",
     "text": [
      "2023-06-07 13:59:45.139 INFO    py3dcore.fluxplot: Using HelioSat to retrieve observer data\n"
     ]
    },
    {
     "name": "stdout",
     "output_type": "stream",
     "text": [
      "t_snap: 2022-09-06 09:00:00+00:002022-09-06 06:00:00+00:00\n",
      "\n",
      "Results :\n",
      "\n",
      "\tcme_longitude: \t\t122.40 +/- 5.74\n",
      "\tcme_latitude: \t\t-1.52 +/- 8.33\n",
      "\tcme_inclination: \t\t20.55 +/- 47.98\n",
      "\tcme_diameter_1au: \t\t0.30 +/- 0.02\n",
      "\tcme_aspect_ratio: \t\t3.02 +/- 0.66\n",
      "\tcme_launch_radius: \t\t14.97 +/- 0.53\n",
      "\tcme_launch_velocity: \t\t1405.48 +/- 328.54\n",
      "Results :\n",
      "\tt_factor: \t\t161.74 +/- 45.97\n",
      "\n",
      "\tcme_expansion_rate: \t\t1.14 +/- 0.00\tcme_longitude: \t\t122.40 +/- 5.74\n",
      "\n",
      "\tmagnetic_decay_rate: \t\t1.64 +/- 0.00\tcme_latitude: \t\t-1.52 +/- 8.33\n",
      "\tcme_inclination: \t\t20.55 +/- 47.98\n",
      "\tmagnetic_field_strength_1au: \t\t6.44 +/- 0.69\n",
      "\n",
      "\tcme_diameter_1au: \t\t0.30 +/- 0.02\tbackground_drag: \t\t1.62 +/- 0.72\n",
      "\n",
      "\tbackground_velocity: \t\t613.52 +/- 56.56\tcme_aspect_ratio: \t\t3.02 +/- 0.66\n",
      "\n",
      "\tcme_launch_radius: \t\t14.97 +/- 0.53\n",
      "\tcme_launch_velocity: \t\t1405.48 +/- 328.54\n",
      "\tt_factor: \t\t161.74 +/- 45.97\n",
      "\tcme_expansion_rate: \t\t1.14 +/- 0.00\n",
      "\tmagnetic_decay_rate: \t\t1.64 +/- 0.00\n",
      "\tmagnetic_field_strength_1au: \t\t6.44 +/- 0.69\n",
      "\tbackground_drag: \t\t1.62 +/- 0.72\n",
      "\tbackground_velocity: \t\t613.52 +/- 56.56\n",
      "observer: Solar Orbiter\n"
     ]
    },
    {
     "name": "stderr",
     "output_type": "stream",
     "text": [
      "2023-06-07 13:59:46.342 INFO    py3dcore.fluxplot: Using HelioSat to retrieve observer data\n"
     ]
    },
    {
     "name": "stdout",
     "output_type": "stream",
     "text": [
      "t_snap: 2022-09-06 07:00:00+00:00\n",
      "observer:observer: Solar Orbiter\n",
      " Parker Solar Probe"
     ]
    },
    {
     "name": "stderr",
     "output_type": "stream",
     "text": [
      "2023-06-07 13:59:46.372 INFO    py3dcore.fluxplot: Using HelioSat to retrieve observer data\n"
     ]
    },
    {
     "name": "stdout",
     "output_type": "stream",
     "text": [
      "\n",
      "t_snap: 2022-09-06 10:00:00+00:00\n"
     ]
    },
    {
     "name": "stderr",
     "output_type": "stream",
     "text": [
      "2023-06-07 13:59:46.385 INFO    py3dcore.fluxplot: Using HelioSat to retrieve observer data\n"
     ]
    },
    {
     "name": "stdout",
     "output_type": "stream",
     "text": [
      "t_snap:observer: Parker Solar Probe\n",
      " 2022-09-06 07:00:00+00:00"
     ]
    },
    {
     "name": "stderr",
     "output_type": "stream",
     "text": [
      "2023-06-07 13:59:46.395 INFO    py3dcore.fluxplot: Using HelioSat to retrieve observer data\n"
     ]
    },
    {
     "name": "stdout",
     "output_type": "stream",
     "text": [
      "t_snap: 2022-09-06 10:00:00+00:00\n",
      "\n",
      "Results :\n",
      "\n",
      "\tcme_longitude: \t\t122.40 +/- 5.74\n",
      "\tcme_latitude: \t\t-1.52 +/- 8.33\n",
      "\tcme_inclination: \t\t20.55 +/- 47.98\n",
      "\tcme_diameter_1au: \t\t0.30 +/- 0.02\n",
      "\tcme_aspect_ratio: \t\t3.02 +/- 0.66\n",
      "\tcme_launch_radius: \t\t14.97 +/- 0.53\n",
      "\tcme_launch_velocity: \t\t1405.48 +/- 328.54\n",
      "\tt_factor: \t\t161.74 +/- 45.97\n",
      "\tcme_expansion_rate: \t\t1.14 +/- 0.00\n",
      "\tmagnetic_decay_rate: \t\t1.64 +/- 0.00\n",
      "\tmagnetic_field_strength_1au: \t\t6.44 +/- 0.69\n",
      "\tbackground_drag: \t\t1.62 +/- 0.72\n",
      "\tbackground_velocity: \t\t613.52 +/- 56.56\n",
      "Results :\n",
      "\n",
      "\tcme_longitude: \t\t122.40 +/- 5.74\n",
      "\tcme_latitude: \t\t-1.52 +/- 8.33\n",
      "\tcme_inclination: \t\t20.55 +/- 47.98\n",
      "\tcme_diameter_1au: \t\t0.30 +/- 0.02\n",
      "\tcme_aspect_ratio: \t\t3.02 +/- 0.66\n",
      "\tcme_launch_radius: \t\t14.97 +/- 0.53\n",
      "\tcme_launch_velocity: \t\t1405.48 +/- 328.54\n",
      "\tt_factor: \t\t161.74 +/- 45.97\n",
      "\tcme_expansion_rate: \t\t1.14 +/- 0.00\n",
      "\tmagnetic_decay_rate: \t\t1.64 +/- 0.00\n",
      "\tmagnetic_field_strength_1au: \t\t6.44 +/- 0.69\n",
      "\tbackground_drag: \t\t1.62 +/- 0.72\n",
      "\tbackground_velocity: \t\t613.52 +/- 56.56\n",
      "observer: Solar Orbiter\n"
     ]
    },
    {
     "name": "stderr",
     "output_type": "stream",
     "text": [
      "2023-06-07 13:59:47.951 INFO    py3dcore.fluxplot: Using HelioSat to retrieve observer data\n"
     ]
    },
    {
     "name": "stdout",
     "output_type": "stream",
     "text": [
      "t_snap: 2022-09-06 08:00:00+00:00\n",
      "observer: Parker Solar Probeobserver:\n",
      " Solar Orbiter\n"
     ]
    },
    {
     "name": "stderr",
     "output_type": "stream",
     "text": [
      "2023-06-07 13:59:47.970 INFO    py3dcore.fluxplot: Using HelioSat to retrieve observer data\n",
      "2023-06-07 13:59:47.971 INFO    py3dcore.fluxplot: Using HelioSat to retrieve observer data\n"
     ]
    },
    {
     "name": "stdout",
     "output_type": "stream",
     "text": [
      "t_snap:t_snap:  2022-09-06 08:00:00+00:002022-09-06 11:00:00+00:00\n",
      "\n",
      "observer: Parker Solar Probe\n"
     ]
    },
    {
     "name": "stderr",
     "output_type": "stream",
     "text": [
      "2023-06-07 13:59:47.987 INFO    py3dcore.fluxplot: Using HelioSat to retrieve observer data\n"
     ]
    },
    {
     "name": "stdout",
     "output_type": "stream",
     "text": [
      "t_snap: 2022-09-06 11:00:00+00:00\n",
      "Results :\n",
      "\n",
      "\tcme_longitude: \t\t122.40 +/- 5.74\n",
      "\tcme_latitude: \t\t-1.52 +/- 8.33\n",
      "\tcme_inclination: \t\t20.55 +/- 47.98\n",
      "\n",
      "\tcme_diameter_1au: \t\t0.30 +/- 0.02\n",
      "\tcme_aspect_ratio: \t\t3.02 +/- 0.66\n",
      "\tcme_launch_radius: \t\t14.97 +/- 0.53\n",
      "\tcme_launch_velocity: \t\t1405.48 +/- 328.54\n",
      "\tt_factor: \t\t161.74 +/- 45.97\n",
      "\tcme_expansion_rate: \t\t1.14 +/- 0.00\n",
      "\tmagnetic_decay_rate: \t\t1.64 +/- 0.00\tmagnetic_field_strength_1au: \t\t6.44 +/- 0.69\n",
      "\tbackground_drag: \t\t1.62 +/- 0.72\n",
      "\tbackground_velocity: \t\t613.52 +/- 56.56\n",
      "observer: Solar Orbiter\n"
     ]
    },
    {
     "name": "stderr",
     "output_type": "stream",
     "text": [
      "2023-06-07 13:59:49.833 INFO    py3dcore.fluxplot: Using HelioSat to retrieve observer data\n"
     ]
    },
    {
     "name": "stdout",
     "output_type": "stream",
     "text": [
      "t_snap: 2022-09-06 12:00:00+00:00\n",
      "observer: Parker Solar Probe\n"
     ]
    },
    {
     "name": "stderr",
     "output_type": "stream",
     "text": [
      "2023-06-07 13:59:49.853 INFO    py3dcore.fluxplot: Using HelioSat to retrieve observer data\n"
     ]
    },
    {
     "name": "stdout",
     "output_type": "stream",
     "text": [
      "t_snap: 2022-09-06 12:00:00+00:00\n",
      "Results :\n",
      "\n",
      "\tcme_longitude: \t\t122.40 +/- 5.74\n",
      "\tcme_latitude: \t\t-1.52 +/- 8.33\n",
      "\tcme_inclination: \t\t20.55 +/- 47.98\n",
      "\tcme_diameter_1au: \t\t0.30 +/- 0.02\n",
      "\tcme_aspect_ratio: \t\t3.02 +/- 0.66\n",
      "\tcme_launch_radius: \t\t14.97 +/- 0.53\n",
      "\tcme_launch_velocity: \t\t1405.48 +/- 328.54\n",
      "\tt_factor: \t\t161.74 +/- 45.97\n",
      "\tcme_expansion_rate: \t\t1.14 +/- 0.00\n",
      "\tmagnetic_decay_rate: \t\t1.64 +/- 0.00\n",
      "\tmagnetic_field_strength_1au: \t\t6.44 +/- 0.69\n",
      "\tbackground_drag: \t\t1.62 +/- 0.72\n",
      "\tbackground_velocity: \t\t613.52 +/- 56.56\n",
      "observer: Solar Orbiter\n"
     ]
    },
    {
     "name": "stderr",
     "output_type": "stream",
     "text": [
      "2023-06-07 13:59:50.521 INFO    py3dcore.fluxplot: Using HelioSat to retrieve observer data\n"
     ]
    },
    {
     "name": "stdout",
     "output_type": "stream",
     "text": [
      "t_snap: 2022-09-06 13:00:00+00:00\n",
      "observer: Parker Solar Probe\n"
     ]
    },
    {
     "name": "stderr",
     "output_type": "stream",
     "text": [
      "2023-06-07 13:59:50.535 INFO    py3dcore.fluxplot: Using HelioSat to retrieve observer data\n"
     ]
    },
    {
     "name": "stdout",
     "output_type": "stream",
     "text": [
      "t_snap: 2022-09-06 13:00:00+00:00\n",
      "done 1/4\n",
      "Results :\n",
      "Results :\n",
      "\n",
      "\tcme_longitude: \t\t122.40 +/- 5.74\n",
      "\n",
      "\tcme_latitude: \t\t-1.52 +/- 8.33\tcme_longitude: \t\t122.40 +/- 5.74\n",
      "\n",
      "\tcme_inclination: \t\t20.55 +/- 47.98\tcme_latitude: \t\t-1.52 +/- 8.33\n",
      "\n",
      "\tcme_inclination: \t\t20.55 +/- 47.98\tcme_diameter_1au: \t\t0.30 +/- 0.02\n",
      "\n",
      "\tcme_aspect_ratio: \t\t3.02 +/- 0.66\tcme_diameter_1au: \t\t0.30 +/- 0.02\n",
      "\n",
      "\tcme_launch_radius: \t\t14.97 +/- 0.53\tcme_aspect_ratio: \t\t3.02 +/- 0.66\n",
      "\n",
      "\tcme_launch_velocity: \t\t1405.48 +/- 328.54\tcme_launch_radius: \t\t14.97 +/- 0.53\n",
      "\n",
      "\tt_factor: \t\t161.74 +/- 45.97\tcme_launch_velocity: \t\t1405.48 +/- 328.54\n",
      "\n",
      "\tcme_expansion_rate: \t\t1.14 +/- 0.00\tt_factor: \t\t161.74 +/- 45.97\n",
      "\n",
      "\tmagnetic_decay_rate: \t\t1.64 +/- 0.00\tcme_expansion_rate: \t\t1.14 +/- 0.00\n",
      "\n",
      "\tmagnetic_field_strength_1au: \t\t6.44 +/- 0.69\tmagnetic_decay_rate: \t\t1.64 +/- 0.00\n",
      "\n",
      "\tbackground_drag: \t\t1.62 +/- 0.72\tmagnetic_field_strength_1au: \t\t6.44 +/- 0.69\n",
      "\tbackground_velocity: \t\t613.52 +/- 56.56\n",
      "\tbackground_drag: \t\t1.62 +/- 0.72\n",
      "\n",
      "\tbackground_velocity: \t\t613.52 +/- 56.56\n",
      "observer:observer:  Solar OrbiterSolar Orbiter\n",
      "\n"
     ]
    },
    {
     "name": "stderr",
     "output_type": "stream",
     "text": [
      "2023-06-07 13:59:52.114 INFO    py3dcore.fluxplot: Using HelioSat to retrieve observer data\n",
      "2023-06-07 13:59:52.114 INFO    py3dcore.fluxplot: Using HelioSat to retrieve observer data\n"
     ]
    },
    {
     "name": "stdout",
     "output_type": "stream",
     "text": [
      "t_snap:t_snap:  2022-09-06 17:00:00+00:002022-09-06 14:00:00+00:00\n",
      "\n",
      "observer: Parker Solar Probeobserver:\n",
      " Parker Solar Probe\n"
     ]
    },
    {
     "name": "stderr",
     "output_type": "stream",
     "text": [
      "2023-06-07 13:59:52.143 INFO    py3dcore.fluxplot: Using HelioSat to retrieve observer data\n"
     ]
    },
    {
     "name": "stdout",
     "output_type": "stream",
     "text": [
      "t_snap: 2022-09-06 17:00:00+00:00\n"
     ]
    },
    {
     "name": "stderr",
     "output_type": "stream",
     "text": [
      "2023-06-07 13:59:52.149 INFO    py3dcore.fluxplot: Using HelioSat to retrieve observer data\n"
     ]
    },
    {
     "name": "stdout",
     "output_type": "stream",
     "text": [
      "t_snap: 2022-09-06 14:00:00+00:00\n",
      "Results :\n",
      "\n",
      "Results :\n",
      "\tcme_longitude: \t\t122.40 +/- 5.74\n",
      "\n",
      "\tcme_longitude: \t\t122.40 +/- 5.74\tcme_latitude: \t\t-1.52 +/- 8.33\n",
      "\n",
      "\tcme_latitude: \t\t-1.52 +/- 8.33\tcme_inclination: \t\t20.55 +/- 47.98\n",
      "\n",
      "\tcme_diameter_1au: \t\t0.30 +/- 0.02\tcme_inclination: \t\t20.55 +/- 47.98\n",
      "\n",
      "\tcme_aspect_ratio: \t\t3.02 +/- 0.66\tcme_diameter_1au: \t\t0.30 +/- 0.02\n",
      "\n",
      "\tcme_launch_radius: \t\t14.97 +/- 0.53\tcme_aspect_ratio: \t\t3.02 +/- 0.66\n",
      "\n",
      "\tcme_launch_velocity: \t\t1405.48 +/- 328.54\tcme_launch_radius: \t\t14.97 +/- 0.53\n",
      "\n",
      "\tcme_launch_velocity: \t\t1405.48 +/- 328.54\tt_factor: \t\t161.74 +/- 45.97\n",
      "\n",
      "\tt_factor: \t\t161.74 +/- 45.97\tcme_expansion_rate: \t\t1.14 +/- 0.00\n",
      "\tcme_expansion_rate: \t\t1.14 +/- 0.00\n",
      "\n",
      "\tmagnetic_decay_rate: \t\t1.64 +/- 0.00\tmagnetic_decay_rate: \t\t1.64 +/- 0.00\n",
      "\n",
      "\tmagnetic_field_strength_1au: \t\t6.44 +/- 0.69\tmagnetic_field_strength_1au: \t\t6.44 +/- 0.69\n",
      "\tbackground_drag: \t\t1.62 +/- 0.72\n",
      "\n",
      "\tbackground_drag: \t\t1.62 +/- 0.72\tbackground_velocity: \t\t613.52 +/- 56.56\n",
      "\n",
      "\tbackground_velocity: \t\t613.52 +/- 56.56\n",
      "observer: Solar Orbiter\n"
     ]
    },
    {
     "name": "stderr",
     "output_type": "stream",
     "text": [
      "2023-06-07 13:59:53.561 INFO    py3dcore.fluxplot: Using HelioSat to retrieve observer data\n"
     ]
    },
    {
     "name": "stdout",
     "output_type": "stream",
     "text": [
      "t_snap: 2022-09-06 15:00:00+00:00\n",
      "observer: Parker Solar Probe\n"
     ]
    },
    {
     "name": "stderr",
     "output_type": "stream",
     "text": [
      "2023-06-07 13:59:53.588 INFO    py3dcore.fluxplot: Using HelioSat to retrieve observer data\n"
     ]
    },
    {
     "name": "stdout",
     "output_type": "stream",
     "text": [
      "t_snap: 2022-09-06 15:00:00+00:00\n",
      "observer: Solar Orbiter\n"
     ]
    },
    {
     "name": "stderr",
     "output_type": "stream",
     "text": [
      "2023-06-07 13:59:53.657 INFO    py3dcore.fluxplot: Using HelioSat to retrieve observer data\n"
     ]
    },
    {
     "name": "stdout",
     "output_type": "stream",
     "text": [
      "t_snap: 2022-09-06 18:00:00+00:00\n",
      "observer: Parker Solar Probe\n"
     ]
    },
    {
     "name": "stderr",
     "output_type": "stream",
     "text": [
      "2023-06-07 13:59:53.693 INFO    py3dcore.fluxplot: Using HelioSat to retrieve observer data\n"
     ]
    },
    {
     "name": "stdout",
     "output_type": "stream",
     "text": [
      "t_snap: 2022-09-06 18:00:00+00:00\n",
      "Results :\n",
      "\n",
      "\tcme_longitude: \t\t122.40 +/- 5.74\n",
      "\tcme_latitude: \t\t-1.52 +/- 8.33\n",
      "\tcme_inclination: \t\t20.55 +/- 47.98\n",
      "\tcme_diameter_1au: \t\t0.30 +/- 0.02\n",
      "\tcme_aspect_ratio: \t\t3.02 +/- 0.66\n",
      "\tcme_launch_radius: \t\t14.97 +/- 0.53\n",
      "\tcme_launch_velocity: \t\t1405.48 +/- 328.54\n",
      "\tt_factor: \t\t161.74 +/- 45.97\n",
      "\tcme_expansion_rate: \t\t1.14 +/- 0.00\n",
      "\tmagnetic_decay_rate: \t\t1.64 +/- 0.00\n",
      "\tmagnetic_field_strength_1au: \t\t6.44 +/- 0.69\n",
      "\tbackground_drag: \t\t1.62 +/- 0.72\n",
      "\tbackground_velocity: \t\t613.52 +/- 56.56\n",
      "Results :\n",
      "\n",
      "\tcme_longitude: \t\t122.40 +/- 5.74\n",
      "\tcme_latitude: \t\t-1.52 +/- 8.33\n",
      "\tcme_inclination: \t\t20.55 +/- 47.98\n",
      "\tcme_diameter_1au: \t\t0.30 +/- 0.02\n",
      "\tcme_aspect_ratio: \t\t3.02 +/- 0.66\n",
      "\tcme_launch_radius: \t\t14.97 +/- 0.53\n",
      "\tcme_launch_velocity: \t\t1405.48 +/- 328.54\n",
      "\tt_factor: \t\t161.74 +/- 45.97\n",
      "\tcme_expansion_rate: \t\t1.14 +/- 0.00\n",
      "\tmagnetic_decay_rate: \t\t1.64 +/- 0.00\n",
      "\tmagnetic_field_strength_1au: \t\t6.44 +/- 0.69\n",
      "\tbackground_drag: \t\t1.62 +/- 0.72\n",
      "\tbackground_velocity: \t\t613.52 +/- 56.56\n",
      "observer: Solar Orbiter\n"
     ]
    },
    {
     "name": "stderr",
     "output_type": "stream",
     "text": [
      "2023-06-07 13:59:55.162 INFO    py3dcore.fluxplot: Using HelioSat to retrieve observer data\n"
     ]
    },
    {
     "name": "stdout",
     "output_type": "stream",
     "text": [
      "t_snap: 2022-09-06 16:00:00+00:00\n",
      "observer: Parker Solar Probe\n"
     ]
    },
    {
     "name": "stderr",
     "output_type": "stream",
     "text": [
      "2023-06-07 13:59:55.176 INFO    py3dcore.fluxplot: Using HelioSat to retrieve observer data\n"
     ]
    },
    {
     "name": "stdout",
     "output_type": "stream",
     "text": [
      "t_snap: 2022-09-06 16:00:00+00:00\n",
      "observer: Solar Orbiter\n"
     ]
    },
    {
     "name": "stderr",
     "output_type": "stream",
     "text": [
      "2023-06-07 13:59:55.264 INFO    py3dcore.fluxplot: Using HelioSat to retrieve observer data\n"
     ]
    },
    {
     "name": "stdout",
     "output_type": "stream",
     "text": [
      "t_snap: 2022-09-06 19:00:00+00:00\n",
      "observer: Parker Solar Probe\n"
     ]
    },
    {
     "name": "stderr",
     "output_type": "stream",
     "text": [
      "2023-06-07 13:59:55.306 INFO    py3dcore.fluxplot: Using HelioSat to retrieve observer data\n"
     ]
    },
    {
     "name": "stdout",
     "output_type": "stream",
     "text": [
      "t_snap: 2022-09-06 19:00:00+00:00\n",
      "Results :\n",
      "\n",
      "\tcme_longitude: \t\t122.40 +/- 5.74\n",
      "\tcme_latitude: \t\t-1.52 +/- 8.33\n",
      "\tcme_inclination: \t\t20.55 +/- 47.98\n",
      "\tcme_diameter_1au: \t\t0.30 +/- 0.02\n",
      "\tcme_aspect_ratio: \t\t3.02 +/- 0.66\n",
      "\tcme_launch_radius: \t\t14.97 +/- 0.53\n",
      "\tcme_launch_velocity: \t\t1405.48 +/- 328.54\n",
      "\tt_factor: \t\t161.74 +/- 45.97\n",
      "\tcme_expansion_rate: \t\t1.14 +/- 0.00\n",
      "\tmagnetic_decay_rate: \t\t1.64 +/- 0.00\n",
      "\tmagnetic_field_strength_1au: \t\t6.44 +/- 0.69\n",
      "\tbackground_drag: \t\t1.62 +/- 0.72\n",
      "\tbackground_velocity: \t\t613.52 +/- 56.56\n",
      "Results :\n",
      "\n",
      "\tcme_longitude: \t\t122.40 +/- 5.74\n",
      "\tcme_latitude: \t\t-1.52 +/- 8.33\n",
      "\tcme_inclination: \t\t20.55 +/- 47.98\n",
      "\tcme_diameter_1au: \t\t0.30 +/- 0.02\n",
      "\tcme_aspect_ratio: \t\t3.02 +/- 0.66\n",
      "\tcme_launch_radius: \t\t14.97 +/- 0.53\n",
      "\tcme_launch_velocity: \t\t1405.48 +/- 328.54\n",
      "\tt_factor: \t\t161.74 +/- 45.97\n",
      "\tcme_expansion_rate: \t\t1.14 +/- 0.00\n",
      "\tmagnetic_decay_rate: \t\t1.64 +/- 0.00\n",
      "\tmagnetic_field_strength_1au: \t\t6.44 +/- 0.69\n",
      "\tbackground_drag: \t\t1.62 +/- 0.72\n",
      "\tbackground_velocity: \t\t613.52 +/- 56.56\n",
      "observer: Solar Orbiter\n"
     ]
    },
    {
     "name": "stderr",
     "output_type": "stream",
     "text": [
      "2023-06-07 13:59:57.506 INFO    py3dcore.fluxplot: Using HelioSat to retrieve observer data\n"
     ]
    },
    {
     "name": "stdout",
     "output_type": "stream",
     "text": [
      "t_snap: 2022-09-06 20:00:00+00:00\n",
      "observer: Parker Solar Probe\n",
      "observer: "
     ]
    },
    {
     "name": "stderr",
     "output_type": "stream",
     "text": [
      "2023-06-07 13:59:57.535 INFO    py3dcore.fluxplot: Using HelioSat to retrieve observer data\n"
     ]
    },
    {
     "name": "stdout",
     "output_type": "stream",
     "text": [
      "Solar Orbitert_snap: 2022-09-06 20:00:00+00:00\n",
      "\n"
     ]
    },
    {
     "name": "stderr",
     "output_type": "stream",
     "text": [
      "2023-06-07 13:59:57.550 INFO    py3dcore.fluxplot: Using HelioSat to retrieve observer data\n"
     ]
    },
    {
     "name": "stdout",
     "output_type": "stream",
     "text": [
      "t_snap: 2022-09-06 23:00:00+00:00\n",
      "observer: Parker Solar Probe\n"
     ]
    },
    {
     "name": "stderr",
     "output_type": "stream",
     "text": [
      "2023-06-07 13:59:57.574 INFO    py3dcore.fluxplot: Using HelioSat to retrieve observer data\n"
     ]
    },
    {
     "name": "stdout",
     "output_type": "stream",
     "text": [
      "t_snap: 2022-09-06 23:00:00+00:00\n",
      "Results :\n",
      "\n",
      "\tcme_longitude: \t\t122.40 +/- 5.74\n",
      "\tcme_latitude: \t\t-1.52 +/- 8.33\n",
      "\tcme_inclination: \t\t20.55 +/- 47.98\n",
      "\tcme_diameter_1au: \t\t0.30 +/- 0.02\n",
      "\tcme_aspect_ratio: \t\t3.02 +/- 0.66Results :\n",
      "\n",
      "\tcme_longitude: \t\t122.40 +/- 5.74\n",
      "\tcme_latitude: \t\t-1.52 +/- 8.33\n",
      "\tcme_inclination: \t\t20.55 +/- 47.98\n",
      "\tcme_diameter_1au: \t\t0.30 +/- 0.02\n",
      "\tcme_aspect_ratio: \t\t3.02 +/- 0.66\n",
      "\tcme_launch_radius: \t\t14.97 +/- 0.53\n",
      "\tcme_launch_velocity: \t\t1405.48 +/- 328.54\n",
      "\tt_factor: \t\t161.74 +/- 45.97\n",
      "\tcme_expansion_rate: \t\t1.14 +/- 0.00\n",
      "\tmagnetic_decay_rate: \t\t1.64 +/- 0.00\n",
      "\tmagnetic_field_strength_1au: \t\t6.44 +/- 0.69\n",
      "\tbackground_drag: \t\t1.62 +/- 0.72\n",
      "\tbackground_velocity: \t\t613.52 +/- 56.56\n",
      "\n",
      "\tcme_launch_radius: \t\t14.97 +/- 0.53\n",
      "\tcme_launch_velocity: \t\t1405.48 +/- 328.54\n",
      "\tt_factor: \t\t161.74 +/- 45.97\n",
      "\tcme_expansion_rate: \t\t1.14 +/- 0.00\n",
      "\tmagnetic_decay_rate: \t\t1.64 +/- 0.00\n",
      "\tmagnetic_field_strength_1au: \t\t6.44 +/- 0.69\n",
      "\tbackground_drag: \t\t1.62 +/- 0.72\n",
      "\tbackground_velocity: \t\t613.52 +/- 56.56\n",
      "observer: Solar Orbiter\n"
     ]
    },
    {
     "name": "stderr",
     "output_type": "stream",
     "text": [
      "2023-06-07 13:59:59.017 INFO    py3dcore.fluxplot: Using HelioSat to retrieve observer data\n"
     ]
    },
    {
     "name": "stdout",
     "output_type": "stream",
     "text": [
      "t_snap: 2022-09-07 00:00:00+00:00\n",
      "observer: Parker Solar Probe\n"
     ]
    },
    {
     "name": "stderr",
     "output_type": "stream",
     "text": [
      "2023-06-07 13:59:59.040 INFO    py3dcore.fluxplot: Using HelioSat to retrieve observer data\n"
     ]
    },
    {
     "name": "stdout",
     "output_type": "stream",
     "text": [
      "t_snap: 2022-09-07 00:00:00+00:00\n",
      "observer: Solar Orbiter\n"
     ]
    },
    {
     "name": "stderr",
     "output_type": "stream",
     "text": [
      "2023-06-07 13:59:59.084 INFO    py3dcore.fluxplot: Using HelioSat to retrieve observer data\n"
     ]
    },
    {
     "name": "stdout",
     "output_type": "stream",
     "text": [
      "t_snap: 2022-09-06 21:00:00+00:00\n",
      "observer: Parker Solar Probe\n"
     ]
    },
    {
     "name": "stderr",
     "output_type": "stream",
     "text": [
      "2023-06-07 13:59:59.121 INFO    py3dcore.fluxplot: Using HelioSat to retrieve observer data\n"
     ]
    },
    {
     "name": "stdout",
     "output_type": "stream",
     "text": [
      "t_snap: 2022-09-06 21:00:00+00:00\n",
      "Results :\n",
      "\n",
      "\tcme_longitude: \t\t122.40 +/- 5.74\n",
      "\tcme_latitude: \t\t-1.52 +/- 8.33\n",
      "\tcme_inclination: \t\t20.55 +/- 47.98\n",
      "\tcme_diameter_1au: \t\t0.30 +/- 0.02\n",
      "\tcme_aspect_ratio: \t\t3.02 +/- 0.66\n",
      "\tcme_launch_radius: \t\t14.97 +/- 0.53\n",
      "\tcme_launch_velocity: \t\t1405.48 +/- 328.54\n",
      "\tt_factor: \t\t161.74 +/- 45.97\n",
      "\tcme_expansion_rate: \t\t1.14 +/- 0.00\n",
      "\tmagnetic_decay_rate: \t\t1.64 +/- 0.00\n",
      "\tmagnetic_field_strength_1au: \t\t6.44 +/- 0.69\n",
      "\tbackground_drag: \t\t1.62 +/- 0.72\n",
      "\tbackground_velocity: \t\t613.52 +/- 56.56\n",
      "Results :\n",
      "\n",
      "\tcme_longitude: \t\t122.40 +/- 5.74\n",
      "\tcme_latitude: \t\t-1.52 +/- 8.33\n",
      "\tcme_inclination: \t\t20.55 +/- 47.98\n",
      "\tcme_diameter_1au: \t\t0.30 +/- 0.02\n",
      "\tcme_aspect_ratio: \t\t3.02 +/- 0.66\n",
      "\tcme_launch_radius: \t\t14.97 +/- 0.53\n",
      "\tcme_launch_velocity: \t\t1405.48 +/- 328.54\n",
      "\tt_factor: \t\t161.74 +/- 45.97\n",
      "\tcme_expansion_rate: \t\t1.14 +/- 0.00\n",
      "\tmagnetic_decay_rate: \t\t1.64 +/- 0.00\n",
      "\tmagnetic_field_strength_1au: \t\t6.44 +/- 0.69\n",
      "\tbackground_drag: \t\t1.62 +/- 0.72\n",
      "\tbackground_velocity: \t\t613.52 +/- 56.56\n",
      "observer: Solar Orbiter\n"
     ]
    },
    {
     "name": "stderr",
     "output_type": "stream",
     "text": [
      "2023-06-07 14:00:00.573 INFO    py3dcore.fluxplot: Using HelioSat to retrieve observer data\n"
     ]
    },
    {
     "name": "stdout",
     "output_type": "stream",
     "text": [
      "t_snap: 2022-09-07 01:00:00+00:00\n",
      "observer: Parker Solar Probe\n"
     ]
    },
    {
     "name": "stderr",
     "output_type": "stream",
     "text": [
      "2023-06-07 14:00:00.583 INFO    py3dcore.fluxplot: Using HelioSat to retrieve observer data\n"
     ]
    },
    {
     "name": "stdout",
     "output_type": "stream",
     "text": [
      "t_snap: 2022-09-07 01:00:00+00:00\n",
      "observer: Solar Orbiter\n"
     ]
    },
    {
     "name": "stderr",
     "output_type": "stream",
     "text": [
      "2023-06-07 14:00:00.636 INFO    py3dcore.fluxplot: Using HelioSat to retrieve observer data\n"
     ]
    },
    {
     "name": "stdout",
     "output_type": "stream",
     "text": [
      "t_snap: 2022-09-06 22:00:00+00:00\n",
      "observer: Parker Solar Probe\n"
     ]
    },
    {
     "name": "stderr",
     "output_type": "stream",
     "text": [
      "2023-06-07 14:00:00.647 INFO    py3dcore.fluxplot: Using HelioSat to retrieve observer data\n"
     ]
    },
    {
     "name": "stdout",
     "output_type": "stream",
     "text": [
      "t_snap: 2022-09-06 22:00:00+00:00\n",
      "Results :\n",
      "\n",
      "\tcme_longitude: \t\t122.40 +/- 5.74\n",
      "\tcme_latitude: \t\t-1.52 +/- 8.33\n",
      "\tcme_inclination: \t\t20.55 +/- 47.98\n",
      "\tcme_diameter_1au: \t\t0.30 +/- 0.02\n",
      "\tcme_aspect_ratio: \t\t3.02 +/- 0.66\n",
      "\tcme_launch_radius: \t\t14.97 +/- 0.53\n",
      "\tcme_launch_velocity: \t\t1405.48 +/- 328.54\n",
      "\tt_factor: \t\t161.74 +/- 45.97\n",
      "\tcme_expansion_rate: \t\t1.14 +/- 0.00\n",
      "\tmagnetic_decay_rate: \t\t1.64 +/- 0.00\n",
      "\tmagnetic_field_strength_1au: \t\t6.44 +/- 0.69\n",
      "\tbackground_drag: \t\t1.62 +/- 0.72\n",
      "\tbackground_velocity: \t\t613.52 +/- 56.56\n",
      "Results :\n",
      "\n",
      "\tcme_longitude: \t\t122.40 +/- 5.74\n",
      "\tcme_latitude: \t\t-1.52 +/- 8.33\n",
      "\tcme_inclination: \t\t20.55 +/- 47.98\n",
      "\tcme_diameter_1au: \t\t0.30 +/- 0.02\n",
      "\tcme_aspect_ratio: \t\t3.02 +/- 0.66\n",
      "\tcme_launch_radius: \t\t14.97 +/- 0.53\n",
      "\tcme_launch_velocity: \t\t1405.48 +/- 328.54\n",
      "\tt_factor: \t\t161.74 +/- 45.97\n",
      "\tcme_expansion_rate: \t\t1.14 +/- 0.00\n",
      "\tmagnetic_decay_rate: \t\t1.64 +/- 0.00\n",
      "\tmagnetic_field_strength_1au: \t\t6.44 +/- 0.69\n",
      "\tbackground_drag: \t\t1.62 +/- 0.72\n",
      "\tbackground_velocity: \t\t613.52 +/- 56.56\n",
      "observer: Solar Orbiter\n"
     ]
    },
    {
     "name": "stderr",
     "output_type": "stream",
     "text": [
      "2023-06-07 14:00:02.935 INFO    py3dcore.fluxplot: Using HelioSat to retrieve observer data\n"
     ]
    },
    {
     "name": "stdout",
     "output_type": "stream",
     "text": [
      "t_snap: 2022-09-07 02:00:00+00:00\n",
      "observer: Parker Solar Probe\n"
     ]
    },
    {
     "name": "stderr",
     "output_type": "stream",
     "text": [
      "2023-06-07 14:00:02.955 INFO    py3dcore.fluxplot: Using HelioSat to retrieve observer data\n"
     ]
    },
    {
     "name": "stdout",
     "output_type": "stream",
     "text": [
      "t_snap: 2022-09-07 02:00:00+00:00\n",
      "observer: Solar Orbiter\n"
     ]
    },
    {
     "name": "stderr",
     "output_type": "stream",
     "text": [
      "2023-06-07 14:00:02.976 INFO    py3dcore.fluxplot: Using HelioSat to retrieve observer data\n"
     ]
    },
    {
     "name": "stdout",
     "output_type": "stream",
     "text": [
      "t_snap: 2022-09-07 05:00:00+00:00\n",
      "observer: Parker Solar Probe\n"
     ]
    },
    {
     "name": "stderr",
     "output_type": "stream",
     "text": [
      "2023-06-07 14:00:03.010 INFO    py3dcore.fluxplot: Using HelioSat to retrieve observer data\n"
     ]
    },
    {
     "name": "stdout",
     "output_type": "stream",
     "text": [
      "t_snap: 2022-09-07 05:00:00+00:00\n",
      "Results :\n",
      "\n",
      "\tcme_longitude: \t\t122.40 +/- 5.74\n",
      "\tcme_latitude: \t\t-1.52 +/- 8.33\n",
      "\tcme_inclination: \t\t20.55 +/- 47.98\n",
      "\tcme_diameter_1au: \t\t0.30 +/- 0.02\n",
      "\tcme_aspect_ratio: \t\t3.02 +/- 0.66\n",
      "\tcme_launch_radius: \t\t14.97 +/- 0.53\n",
      "\tcme_launch_velocity: \t\t1405.48 +/- 328.54\n",
      "\tt_factor: \t\t161.74 +/- 45.97\n",
      "\tcme_expansion_rate: \t\t1.14 +/- 0.00\n",
      "\tmagnetic_decay_rate: \t\t1.64 +/- 0.00\n",
      "\tmagnetic_field_strength_1au: \t\t6.44 +/- 0.69\n",
      "\tbackground_drag: \t\t1.62 +/- 0.72\n",
      "\tbackground_velocity: \t\t613.52 +/- 56.56\n",
      "Results :\n",
      "\n",
      "\tcme_longitude: \t\t122.40 +/- 5.74\n",
      "\tcme_latitude: \t\t-1.52 +/- 8.33\n",
      "\tcme_inclination: \t\t20.55 +/- 47.98\n",
      "\tcme_diameter_1au: \t\t0.30 +/- 0.02\n",
      "\tcme_aspect_ratio: \t\t3.02 +/- 0.66\n",
      "\tcme_launch_radius: \t\t14.97 +/- 0.53\n",
      "\tcme_launch_velocity: \t\t1405.48 +/- 328.54\n",
      "\tt_factor: \t\t161.74 +/- 45.97\n",
      "\tcme_expansion_rate: \t\t1.14 +/- 0.00\n",
      "\tmagnetic_decay_rate: \t\t1.64 +/- 0.00\n",
      "\tmagnetic_field_strength_1au: \t\t6.44 +/- 0.69\n",
      "\tbackground_drag: \t\t1.62 +/- 0.72\n",
      "\tbackground_velocity: \t\t613.52 +/- 56.56\n",
      "observer: Solar Orbiter\n"
     ]
    },
    {
     "name": "stderr",
     "output_type": "stream",
     "text": [
      "2023-06-07 14:00:04.463 INFO    py3dcore.fluxplot: Using HelioSat to retrieve observer data\n"
     ]
    },
    {
     "name": "stdout",
     "output_type": "stream",
     "text": [
      "t_snap: 2022-09-07 03:00:00+00:00\n",
      "observer: Parker Solar Probe\n"
     ]
    },
    {
     "name": "stderr",
     "output_type": "stream",
     "text": [
      "2023-06-07 14:00:04.488 INFO    py3dcore.fluxplot: Using HelioSat to retrieve observer data\n"
     ]
    },
    {
     "name": "stdout",
     "output_type": "stream",
     "text": [
      "t_snap: 2022-09-07 03:00:00+00:00\n",
      "observer: Solar Orbiter\n"
     ]
    },
    {
     "name": "stderr",
     "output_type": "stream",
     "text": [
      "2023-06-07 14:00:04.536 INFO    py3dcore.fluxplot: Using HelioSat to retrieve observer data\n"
     ]
    },
    {
     "name": "stdout",
     "output_type": "stream",
     "text": [
      "t_snap: 2022-09-07 06:00:00+00:00\n",
      "observer: Parker Solar Probe\n"
     ]
    },
    {
     "name": "stderr",
     "output_type": "stream",
     "text": [
      "2023-06-07 14:00:04.578 INFO    py3dcore.fluxplot: Using HelioSat to retrieve observer data\n"
     ]
    },
    {
     "name": "stdout",
     "output_type": "stream",
     "text": [
      "t_snap: 2022-09-07 06:00:00+00:00\n",
      "Results :\n",
      "\n",
      "\tcme_longitude: \t\t122.40 +/- 5.74\n",
      "\tcme_latitude: \t\t-1.52 +/- 8.33\n",
      "\tcme_inclination: \t\t20.55 +/- 47.98\n",
      "\tcme_diameter_1au: \t\t0.30 +/- 0.02\n",
      "\tcme_aspect_ratio: \t\t3.02 +/- 0.66\n",
      "\tcme_launch_radius: \t\t14.97 +/- 0.53\n",
      "\tcme_launch_velocity: \t\t1405.48 +/- 328.54\n",
      "\tt_factor: \t\t161.74 +/- 45.97\n",
      "\tcme_expansion_rate: \t\t1.14 +/- 0.00\n",
      "\tmagnetic_decay_rate: \t\t1.64 +/- 0.00\n",
      "\tmagnetic_field_strength_1au: \t\t6.44 +/- 0.69\n",
      "\tbackground_drag: \t\t1.62 +/- 0.72\n",
      "\tbackground_velocity: \t\t613.52 +/- 56.56\n",
      "Results :\n",
      "\n",
      "\tcme_longitude: \t\t122.40 +/- 5.74\n",
      "\tcme_latitude: \t\t-1.52 +/- 8.33\n",
      "\tcme_inclination: \t\t20.55 +/- 47.98\n",
      "\tcme_diameter_1au: \t\t0.30 +/- 0.02\n",
      "\tcme_aspect_ratio: \t\t3.02 +/- 0.66\n",
      "\tcme_launch_radius: \t\t14.97 +/- 0.53\n",
      "\tcme_launch_velocity: \t\t1405.48 +/- 328.54\n",
      "\tt_factor: \t\t161.74 +/- 45.97\n",
      "\tcme_expansion_rate: \t\t1.14 +/- 0.00\n",
      "\tmagnetic_decay_rate: \t\t1.64 +/- 0.00\n",
      "\tmagnetic_field_strength_1au: \t\t6.44 +/- 0.69\n",
      "\tbackground_drag: \t\t1.62 +/- 0.72\n",
      "\tbackground_velocity: \t\t613.52 +/- 56.56\n",
      "observer: Solar Orbiter\n"
     ]
    },
    {
     "name": "stderr",
     "output_type": "stream",
     "text": [
      "2023-06-07 14:00:06.139 INFO    py3dcore.fluxplot: Using HelioSat to retrieve observer data\n"
     ]
    },
    {
     "name": "stdout",
     "output_type": "stream",
     "text": [
      "t_snap: 2022-09-07 04:00:00+00:00\n",
      "observer: Parker Solar Probe\n"
     ]
    },
    {
     "name": "stderr",
     "output_type": "stream",
     "text": [
      "2023-06-07 14:00:06.152 INFO    py3dcore.fluxplot: Using HelioSat to retrieve observer data\n"
     ]
    },
    {
     "name": "stdout",
     "output_type": "stream",
     "text": [
      "t_snap: 2022-09-07 04:00:00+00:00\n",
      "observer: Solar Orbiter\n"
     ]
    },
    {
     "name": "stderr",
     "output_type": "stream",
     "text": [
      "2023-06-07 14:00:06.281 INFO    py3dcore.fluxplot: Using HelioSat to retrieve observer data\n"
     ]
    },
    {
     "name": "stdout",
     "output_type": "stream",
     "text": [
      "t_snap: 2022-09-07 07:00:00+00:00\n",
      "observer: Parker Solar Probe\n"
     ]
    },
    {
     "name": "stderr",
     "output_type": "stream",
     "text": [
      "2023-06-07 14:00:06.330 INFO    py3dcore.fluxplot: Using HelioSat to retrieve observer data\n"
     ]
    },
    {
     "name": "stdout",
     "output_type": "stream",
     "text": [
      "t_snap: 2022-09-07 07:00:00+00:00\n",
      "Results :\n",
      "\n",
      "\tcme_longitude: \t\t122.40 +/- 5.74\n",
      "\tcme_latitude: \t\t-1.52 +/- 8.33\n",
      "\tcme_inclination: \t\t20.55 +/- 47.98\n",
      "\tcme_diameter_1au: \t\t0.30 +/- 0.02\n",
      "\tcme_aspect_ratio: \t\t3.02 +/- 0.66\n",
      "\tcme_launch_radius: \t\t14.97 +/- 0.53\n",
      "\tcme_launch_velocity: \t\t1405.48 +/- 328.54\n",
      "\tt_factor: \t\t161.74 +/- 45.97\n",
      "\tcme_expansion_rate: \t\t1.14 +/- 0.00\n",
      "\tmagnetic_decay_rate: \t\t1.64 +/- 0.00\n",
      "\tmagnetic_field_strength_1au: \t\t6.44 +/- 0.69\n",
      "\tbackground_drag: \t\t1.62 +/- 0.72\n",
      "\tbackground_velocity: \t\t613.52 +/- 56.56\n",
      "observer: Solar Orbiter\n"
     ]
    },
    {
     "name": "stderr",
     "output_type": "stream",
     "text": [
      "2023-06-07 14:00:08.090 INFO    py3dcore.fluxplot: Using HelioSat to retrieve observer data\n"
     ]
    },
    {
     "name": "stdout",
     "output_type": "stream",
     "text": [
      "t_snap: 2022-09-07 08:00:00+00:00\n",
      "observer: Parker Solar Probe\n"
     ]
    },
    {
     "name": "stderr",
     "output_type": "stream",
     "text": [
      "2023-06-07 14:00:08.116 INFO    py3dcore.fluxplot: Using HelioSat to retrieve observer data\n"
     ]
    },
    {
     "name": "stdout",
     "output_type": "stream",
     "text": [
      "t_snap: 2022-09-07 08:00:00+00:00\n",
      "Results :\n",
      "\n",
      "\tcme_longitude: \t\t122.40 +/- 5.74\n",
      "\tcme_latitude: \t\t-1.52 +/- 8.33\n",
      "\tcme_inclination: \t\t20.55 +/- 47.98\n",
      "\tcme_diameter_1au: \t\t0.30 +/- 0.02\n",
      "\tcme_aspect_ratio: \t\t3.02 +/- 0.66\n",
      "\tcme_launch_radius: \t\t14.97 +/- 0.53\n",
      "\tcme_launch_velocity: \t\t1405.48 +/- 328.54\n",
      "\tt_factor: \t\t161.74 +/- 45.97\n",
      "\tcme_expansion_rate: \t\t1.14 +/- 0.00\n",
      "\tmagnetic_decay_rate: \t\t1.64 +/- 0.00\n",
      "\tmagnetic_field_strength_1au: \t\t6.44 +/- 0.69\n",
      "\tbackground_drag: \t\t1.62 +/- 0.72\n",
      "\tbackground_velocity: \t\t613.52 +/- 56.56\n",
      "observer: Solar Orbiter\n"
     ]
    },
    {
     "name": "stderr",
     "output_type": "stream",
     "text": [
      "2023-06-07 14:00:09.003 INFO    py3dcore.fluxplot: Using HelioSat to retrieve observer data\n"
     ]
    },
    {
     "name": "stdout",
     "output_type": "stream",
     "text": [
      "t_snap: 2022-09-07 09:00:00+00:00\n",
      "observer: Parker Solar Probe\n"
     ]
    },
    {
     "name": "stderr",
     "output_type": "stream",
     "text": [
      "2023-06-07 14:00:09.028 INFO    py3dcore.fluxplot: Using HelioSat to retrieve observer data\n"
     ]
    },
    {
     "name": "stdout",
     "output_type": "stream",
     "text": [
      "t_snap: 2022-09-07 09:00:00+00:00\n",
      "done 2/4\n",
      "Results :\n",
      "Results :\n",
      "\n",
      "\n",
      "\tcme_longitude: \t\t122.40 +/- 5.74\tcme_longitude: \t\t122.40 +/- 5.74\n",
      "\n",
      "\tcme_latitude: \t\t-1.52 +/- 8.33\tcme_latitude: \t\t-1.52 +/- 8.33\n",
      "\n",
      "\tcme_inclination: \t\t20.55 +/- 47.98\tcme_inclination: \t\t20.55 +/- 47.98\n",
      "\n",
      "\tcme_diameter_1au: \t\t0.30 +/- 0.02\tcme_diameter_1au: \t\t0.30 +/- 0.02\n",
      "\n",
      "\tcme_aspect_ratio: \t\t3.02 +/- 0.66\tcme_aspect_ratio: \t\t3.02 +/- 0.66\n",
      "\n",
      "\tcme_launch_radius: \t\t14.97 +/- 0.53\tcme_launch_radius: \t\t14.97 +/- 0.53\n",
      "\n",
      "\tcme_launch_velocity: \t\t1405.48 +/- 328.54\tcme_launch_velocity: \t\t1405.48 +/- 328.54\n",
      "\n",
      "\tt_factor: \t\t161.74 +/- 45.97\tt_factor: \t\t161.74 +/- 45.97\n",
      "\n",
      "\tcme_expansion_rate: \t\t1.14 +/- 0.00\tcme_expansion_rate: \t\t1.14 +/- 0.00\n",
      "\n",
      "\tmagnetic_decay_rate: \t\t1.64 +/- 0.00\tmagnetic_decay_rate: \t\t1.64 +/- 0.00\n",
      "\n",
      "\tmagnetic_field_strength_1au: \t\t6.44 +/- 0.69\tmagnetic_field_strength_1au: \t\t6.44 +/- 0.69\n",
      "\tbackground_drag: \t\t1.62 +/- 0.72\n",
      "\n",
      "\tbackground_drag: \t\t1.62 +/- 0.72\tbackground_velocity: \t\t613.52 +/- 56.56\n",
      "\tbackground_velocity: \t\t613.52 +/- 56.56\n",
      "\n",
      "observer: Solar Orbiter\n",
      "observer: Solar Orbiter\n"
     ]
    },
    {
     "name": "stderr",
     "output_type": "stream",
     "text": [
      "2023-06-07 14:00:10.788 INFO    py3dcore.fluxplot: Using HelioSat to retrieve observer data\n"
     ]
    },
    {
     "name": "stdout",
     "output_type": "stream",
     "text": [
      "t_snap: 2022-09-07 13:00:00+00:00\n"
     ]
    },
    {
     "name": "stderr",
     "output_type": "stream",
     "text": [
      "2023-06-07 14:00:10.792 INFO    py3dcore.fluxplot: Using HelioSat to retrieve observer data\n"
     ]
    },
    {
     "name": "stdout",
     "output_type": "stream",
     "text": [
      "t_snap: 2022-09-07 10:00:00+00:00\n",
      "observer: Parker Solar Probe\n",
      "observer: Parker Solar Probe\n"
     ]
    },
    {
     "name": "stderr",
     "output_type": "stream",
     "text": [
      "2023-06-07 14:00:10.819 INFO    py3dcore.fluxplot: Using HelioSat to retrieve observer data\n"
     ]
    },
    {
     "name": "stdout",
     "output_type": "stream",
     "text": [
      "t_snap: 2022-09-07 13:00:00+00:00\n"
     ]
    },
    {
     "name": "stderr",
     "output_type": "stream",
     "text": [
      "2023-06-07 14:00:10.834 INFO    py3dcore.fluxplot: Using HelioSat to retrieve observer data\n"
     ]
    },
    {
     "name": "stdout",
     "output_type": "stream",
     "text": [
      "t_snap: 2022-09-07 10:00:00+00:00\n",
      "Results :\n",
      "\n",
      "\tcme_longitude: \t\t122.40 +/- 5.74\n",
      "Results :\n",
      "\tcme_latitude: \t\t-1.52 +/- 8.33\n",
      "\n",
      "\tcme_inclination: \t\t20.55 +/- 47.98\tcme_longitude: \t\t122.40 +/- 5.74\n",
      "\tcme_diameter_1au: \t\t0.30 +/- 0.02\n",
      "\tcme_aspect_ratio: \t\t3.02 +/- 0.66\n",
      "\tcme_launch_radius: \t\t14.97 +/- 0.53\n",
      "\tcme_latitude: \t\t-1.52 +/- 8.33\n",
      "\tcme_launch_velocity: \t\t1405.48 +/- 328.54\n",
      "\n",
      "\tcme_inclination: \t\t20.55 +/- 47.98\tt_factor: \t\t161.74 +/- 45.97\n",
      "\n",
      "\tcme_diameter_1au: \t\t0.30 +/- 0.02\n",
      "\tcme_expansion_rate: \t\t1.14 +/- 0.00\tcme_aspect_ratio: \t\t3.02 +/- 0.66\n",
      "\n",
      "\tmagnetic_decay_rate: \t\t1.64 +/- 0.00\tcme_launch_radius: \t\t14.97 +/- 0.53\n",
      "\tmagnetic_field_strength_1au: \t\t6.44 +/- 0.69\n",
      "\n",
      "\tbackground_drag: \t\t1.62 +/- 0.72\tcme_launch_velocity: \t\t1405.48 +/- 328.54\n",
      "\n",
      "\tbackground_velocity: \t\t613.52 +/- 56.56\tt_factor: \t\t161.74 +/- 45.97\n",
      "\n",
      "\tcme_expansion_rate: \t\t1.14 +/- 0.00\n",
      "\tmagnetic_decay_rate: \t\t1.64 +/- 0.00\n",
      "\tmagnetic_field_strength_1au: \t\t6.44 +/- 0.69\n",
      "\tbackground_drag: \t\t1.62 +/- 0.72\n",
      "\tbackground_velocity: \t\t613.52 +/- 56.56\n",
      "observer: Solar Orbiter\n"
     ]
    },
    {
     "name": "stderr",
     "output_type": "stream",
     "text": [
      "2023-06-07 14:00:12.108 INFO    py3dcore.fluxplot: Using HelioSat to retrieve observer data\n"
     ]
    },
    {
     "name": "stdout",
     "output_type": "stream",
     "text": [
      "t_snap: 2022-09-07 14:00:00+00:00\n",
      "observer: Parker Solar Probe\n"
     ]
    },
    {
     "name": "stderr",
     "output_type": "stream",
     "text": [
      "2023-06-07 14:00:12.127 INFO    py3dcore.fluxplot: Using HelioSat to retrieve observer data\n"
     ]
    },
    {
     "name": "stdout",
     "output_type": "stream",
     "text": [
      "t_snap: 2022-09-07 14:00:00+00:00\n",
      "observer: Solar Orbiter\n"
     ]
    },
    {
     "name": "stderr",
     "output_type": "stream",
     "text": [
      "2023-06-07 14:00:12.138 INFO    py3dcore.fluxplot: Using HelioSat to retrieve observer data\n"
     ]
    },
    {
     "name": "stdout",
     "output_type": "stream",
     "text": [
      "t_snap: 2022-09-07 11:00:00+00:00\n",
      "observer: Parker Solar Probe\n"
     ]
    },
    {
     "name": "stderr",
     "output_type": "stream",
     "text": [
      "2023-06-07 14:00:12.155 INFO    py3dcore.fluxplot: Using HelioSat to retrieve observer data\n"
     ]
    },
    {
     "name": "stdout",
     "output_type": "stream",
     "text": [
      "t_snap: 2022-09-07 11:00:00+00:00\n",
      "Results :\n",
      "Results :\n",
      "\n",
      "\n",
      "\tcme_longitude: \t\t122.40 +/- 5.74\tcme_longitude: \t\t122.40 +/- 5.74\n",
      "\tcme_latitude: \t\t-1.52 +/- 8.33\n",
      "\n",
      "\tcme_latitude: \t\t-1.52 +/- 8.33\tcme_inclination: \t\t20.55 +/- 47.98\n",
      "\tcme_inclination: \t\t20.55 +/- 47.98\n",
      "\n",
      "\tcme_diameter_1au: \t\t0.30 +/- 0.02\tcme_diameter_1au: \t\t0.30 +/- 0.02\n",
      "\n",
      "\tcme_aspect_ratio: \t\t3.02 +/- 0.66\tcme_aspect_ratio: \t\t3.02 +/- 0.66\n",
      "\n",
      "\tcme_launch_radius: \t\t14.97 +/- 0.53\tcme_launch_radius: \t\t14.97 +/- 0.53\n",
      "\n",
      "\tcme_launch_velocity: \t\t1405.48 +/- 328.54\tcme_launch_velocity: \t\t1405.48 +/- 328.54\n",
      "\n",
      "\tt_factor: \t\t161.74 +/- 45.97\tt_factor: \t\t161.74 +/- 45.97\n",
      "\n",
      "\tcme_expansion_rate: \t\t1.14 +/- 0.00\tcme_expansion_rate: \t\t1.14 +/- 0.00\n",
      "\n",
      "\tmagnetic_decay_rate: \t\t1.64 +/- 0.00\n",
      "\tmagnetic_decay_rate: \t\t1.64 +/- 0.00\tmagnetic_field_strength_1au: \t\t6.44 +/- 0.69\n",
      "\tmagnetic_field_strength_1au: \t\t6.44 +/- 0.69\n",
      "\tbackground_drag: \t\t1.62 +/- 0.72\n",
      "\n",
      "\tbackground_drag: \t\t1.62 +/- 0.72\n",
      "\tbackground_velocity: \t\t613.52 +/- 56.56\n",
      "\tbackground_velocity: \t\t613.52 +/- 56.56\n",
      "observer: observer:Solar Orbiter \n",
      "Solar Orbiter\n"
     ]
    },
    {
     "name": "stderr",
     "output_type": "stream",
     "text": [
      "2023-06-07 14:00:13.075 INFO    py3dcore.fluxplot: Using HelioSat to retrieve observer data\n"
     ]
    },
    {
     "name": "stdout",
     "output_type": "stream",
     "text": [
      "t_snap:"
     ]
    },
    {
     "name": "stderr",
     "output_type": "stream",
     "text": [
      "2023-06-07 14:00:13.076 INFO    py3dcore.fluxplot: Using HelioSat to retrieve observer data\n"
     ]
    },
    {
     "name": "stdout",
     "output_type": "stream",
     "text": [
      " t_snap:2022-09-07 12:00:00+00:00 \n",
      "2022-09-07 15:00:00+00:00\n",
      "observer: Parker Solar Probe\n",
      "observer: Parker Solar Probe\n"
     ]
    },
    {
     "name": "stderr",
     "output_type": "stream",
     "text": [
      "2023-06-07 14:00:13.088 INFO    py3dcore.fluxplot: Using HelioSat to retrieve observer data\n"
     ]
    },
    {
     "name": "stdout",
     "output_type": "stream",
     "text": [
      "t_snap:"
     ]
    },
    {
     "name": "stderr",
     "output_type": "stream",
     "text": [
      "2023-06-07 14:00:13.089 INFO    py3dcore.fluxplot: Using HelioSat to retrieve observer data\n"
     ]
    },
    {
     "name": "stdout",
     "output_type": "stream",
     "text": [
      " t_snap:2022-09-07 12:00:00+00:00 \n",
      "2022-09-07 15:00:00+00:00\n",
      "Results :\n",
      "\n",
      "\tcme_longitude: \t\t122.40 +/- 5.74\n",
      "\tcme_latitude: \t\t-1.52 +/- 8.33\n",
      "\tcme_inclination: \t\t20.55 +/- 47.98\n",
      "\tcme_diameter_1au: \t\t0.30 +/- 0.02\n",
      "\tcme_aspect_ratio: \t\t3.02 +/- 0.66\n",
      "\tcme_launch_radius: \t\t14.97 +/- 0.53\n",
      "\tcme_launch_velocity: \t\t1405.48 +/- 328.54\n",
      "\tt_factor: \t\t161.74 +/- 45.97\n",
      "\tcme_expansion_rate: \t\t1.14 +/- 0.00\n",
      "\tmagnetic_decay_rate: \t\t1.64 +/- 0.00\n",
      "\tmagnetic_field_strength_1au: \t\t6.44 +/- 0.69\n",
      "\tbackground_drag: \t\t1.62 +/- 0.72\n",
      "\tbackground_velocity: \t\t613.52 +/- 56.56Results :\n",
      "\n",
      "\n",
      "\tcme_longitude: \t\t122.40 +/- 5.74\n",
      "\tcme_latitude: \t\t-1.52 +/- 8.33\n",
      "\tcme_inclination: \t\t20.55 +/- 47.98\n",
      "\tcme_diameter_1au: \t\t0.30 +/- 0.02\n",
      "\tcme_aspect_ratio: \t\t3.02 +/- 0.66\n",
      "\tcme_launch_radius: \t\t14.97 +/- 0.53\n",
      "\tcme_launch_velocity: \t\t1405.48 +/- 328.54\n",
      "\tt_factor: \t\t161.74 +/- 45.97\n",
      "\tcme_expansion_rate: \t\t1.14 +/- 0.00\n",
      "\tmagnetic_decay_rate: \t\t1.64 +/- 0.00\n",
      "\tmagnetic_field_strength_1au: \t\t6.44 +/- 0.69\n",
      "\tbackground_drag: \t\t1.62 +/- 0.72\n",
      "\tbackground_velocity: \t\t613.52 +/- 56.56\n",
      "observer: Solar Orbiter\n"
     ]
    },
    {
     "name": "stderr",
     "output_type": "stream",
     "text": [
      "2023-06-07 14:00:14.003 INFO    py3dcore.fluxplot: Using HelioSat to retrieve observer data\n"
     ]
    },
    {
     "name": "stdout",
     "output_type": "stream",
     "text": [
      "t_snap: 2022-09-07 16:00:00+00:00\n",
      "observer: Parker Solar Probe\n"
     ]
    },
    {
     "name": "stderr",
     "output_type": "stream",
     "text": [
      "2023-06-07 14:00:14.012 INFO    py3dcore.fluxplot: Using HelioSat to retrieve observer data\n"
     ]
    },
    {
     "name": "stdout",
     "output_type": "stream",
     "text": [
      "t_snap: 2022-09-07 16:00:00+00:00\n",
      "observer: Solar Orbiter\n"
     ]
    },
    {
     "name": "stderr",
     "output_type": "stream",
     "text": [
      "2023-06-07 14:00:14.017 INFO    py3dcore.fluxplot: Using HelioSat to retrieve observer data\n"
     ]
    },
    {
     "name": "stdout",
     "output_type": "stream",
     "text": [
      "t_snap: 2022-09-07 19:00:00+00:00\n",
      "observer: Parker Solar Probe\n"
     ]
    },
    {
     "name": "stderr",
     "output_type": "stream",
     "text": [
      "2023-06-07 14:00:14.026 INFO    py3dcore.fluxplot: Using HelioSat to retrieve observer data\n"
     ]
    },
    {
     "name": "stdout",
     "output_type": "stream",
     "text": [
      "t_snap: 2022-09-07 19:00:00+00:00\n",
      "Results :\n",
      "\n",
      "\tcme_longitude: \t\t122.40 +/- 5.74\n",
      "\tcme_latitude: \t\t-1.52 +/- 8.33\n",
      "\tcme_inclination: \t\t20.55 +/- 47.98\n",
      "\tcme_diameter_1au: \t\t0.30 +/- 0.02\n",
      "\tcme_aspect_ratio: \t\t3.02 +/- 0.66\n",
      "\tcme_launch_radius: \t\t14.97 +/- 0.53\n",
      "\tcme_launch_velocity: \t\t1405.48 +/- 328.54\n",
      "\tt_factor: \t\t161.74 +/- 45.97\n",
      "\tcme_expansion_rate: \t\t1.14 +/- 0.00\n",
      "\tmagnetic_decay_rate: \t\t1.64 +/- 0.00\n",
      "Results :\n",
      "\tmagnetic_field_strength_1au: \t\t6.44 +/- 0.69\n",
      "\n",
      "\tcme_longitude: \t\t122.40 +/- 5.74\tbackground_drag: \t\t1.62 +/- 0.72\n",
      "\tcme_latitude: \t\t-1.52 +/- 8.33\n",
      "\tbackground_velocity: \t\t613.52 +/- 56.56\n",
      "\tcme_inclination: \t\t20.55 +/- 47.98\n",
      "\n",
      "\tcme_diameter_1au: \t\t0.30 +/- 0.02\n",
      "\tcme_aspect_ratio: \t\t3.02 +/- 0.66\n",
      "\tcme_launch_radius: \t\t14.97 +/- 0.53\n",
      "\tcme_launch_velocity: \t\t1405.48 +/- 328.54\n",
      "\tt_factor: \t\t161.74 +/- 45.97\n",
      "\tcme_expansion_rate: \t\t1.14 +/- 0.00\n",
      "\tmagnetic_decay_rate: \t\t1.64 +/- 0.00\n",
      "\tmagnetic_field_strength_1au: \t\t6.44 +/- 0.69\n",
      "\tbackground_drag: \t\t1.62 +/- 0.72\n",
      "\tbackground_velocity: \t\t613.52 +/- 56.56\n",
      "observer: Solar Orbiter\n"
     ]
    },
    {
     "name": "stderr",
     "output_type": "stream",
     "text": [
      "2023-06-07 14:00:14.497 INFO    py3dcore.fluxplot: Using HelioSat to retrieve observer data\n"
     ]
    },
    {
     "name": "stdout",
     "output_type": "stream",
     "text": [
      "t_snap: 2022-09-07 17:00:00+00:00\n",
      "observer: Solar Orbiter\n"
     ]
    },
    {
     "name": "stderr",
     "output_type": "stream",
     "text": [
      "2023-06-07 14:00:14.502 INFO    py3dcore.fluxplot: Using HelioSat to retrieve observer data\n"
     ]
    },
    {
     "name": "stdout",
     "output_type": "stream",
     "text": [
      "t_snap: 2022-09-07 20:00:00+00:00\n",
      "observer: Parker Solar Probe\n"
     ]
    },
    {
     "name": "stderr",
     "output_type": "stream",
     "text": [
      "2023-06-07 14:00:14.508 INFO    py3dcore.fluxplot: Using HelioSat to retrieve observer data\n"
     ]
    },
    {
     "name": "stdout",
     "output_type": "stream",
     "text": [
      "t_snap: 2022-09-07 17:00:00+00:00\n",
      "observer: Parker Solar Probe\n"
     ]
    },
    {
     "name": "stderr",
     "output_type": "stream",
     "text": [
      "2023-06-07 14:00:14.513 INFO    py3dcore.fluxplot: Using HelioSat to retrieve observer data\n"
     ]
    },
    {
     "name": "stdout",
     "output_type": "stream",
     "text": [
      "t_snap: 2022-09-07 20:00:00+00:00\n",
      "Results :\n",
      "\n",
      "\tcme_longitude: \t\t122.40 +/- 5.74\n",
      "\tcme_latitude: \t\t-1.52 +/- 8.33\n",
      "\tcme_inclination: \t\t20.55 +/- 47.98\n",
      "\tcme_diameter_1au: \t\t0.30 +/- 0.02\n",
      "\tcme_aspect_ratio: \t\t3.02 +/- 0.66\n",
      "\tcme_launch_radius: \t\t14.97 +/- 0.53\n",
      "\tcme_launch_velocity: \t\t1405.48 +/- 328.54\n",
      "\tt_factor: \t\t161.74 +/- 45.97\n",
      "\tcme_expansion_rate: \t\t1.14 +/- 0.00Results :\n",
      "\n",
      "\n",
      "\tmagnetic_decay_rate: \t\t1.64 +/- 0.00\n",
      "\tcme_longitude: \t\t122.40 +/- 5.74\n",
      "\tmagnetic_field_strength_1au: \t\t6.44 +/- 0.69\tcme_latitude: \t\t-1.52 +/- 8.33\n",
      "\n",
      "\tbackground_drag: \t\t1.62 +/- 0.72\tcme_inclination: \t\t20.55 +/- 47.98\n",
      "\n",
      "\tbackground_velocity: \t\t613.52 +/- 56.56\n",
      "\tcme_diameter_1au: \t\t0.30 +/- 0.02\n",
      "\tcme_aspect_ratio: \t\t3.02 +/- 0.66\n",
      "\tcme_launch_radius: \t\t14.97 +/- 0.53\n",
      "\tcme_launch_velocity: \t\t1405.48 +/- 328.54\n",
      "\tt_factor: \t\t161.74 +/- 45.97\n",
      "\tcme_expansion_rate: \t\t1.14 +/- 0.00\n",
      "\tmagnetic_decay_rate: \t\t1.64 +/- 0.00\n",
      "\tmagnetic_field_strength_1au: \t\t6.44 +/- 0.69\n",
      "\tbackground_drag: \t\t1.62 +/- 0.72\n",
      "\tbackground_velocity: \t\t613.52 +/- 56.56\n",
      "observer: Solar Orbiter\n",
      "observer:"
     ]
    },
    {
     "name": "stderr",
     "output_type": "stream",
     "text": [
      "2023-06-07 14:00:14.978 INFO    py3dcore.fluxplot: Using HelioSat to retrieve observer data\n"
     ]
    },
    {
     "name": "stdout",
     "output_type": "stream",
     "text": [
      " t_snap:Solar Orbiter \n",
      "2022-09-07 21:00:00+00:00\n"
     ]
    },
    {
     "name": "stderr",
     "output_type": "stream",
     "text": [
      "2023-06-07 14:00:14.980 INFO    py3dcore.fluxplot: Using HelioSat to retrieve observer data\n"
     ]
    },
    {
     "name": "stdout",
     "output_type": "stream",
     "text": [
      "t_snap: 2022-09-07 18:00:00+00:00\n",
      "observer: Parker Solar Probe\n",
      "observer:"
     ]
    },
    {
     "name": "stderr",
     "output_type": "stream",
     "text": [
      "2023-06-07 14:00:14.988 INFO    py3dcore.fluxplot: Using HelioSat to retrieve observer data\n"
     ]
    },
    {
     "name": "stdout",
     "output_type": "stream",
     "text": [
      " t_snap:Parker Solar Probe 2022-09-07 21:00:00+00:00\n",
      "\n"
     ]
    },
    {
     "name": "stderr",
     "output_type": "stream",
     "text": [
      "2023-06-07 14:00:14.992 INFO    py3dcore.fluxplot: Using HelioSat to retrieve observer data\n"
     ]
    },
    {
     "name": "stdout",
     "output_type": "stream",
     "text": [
      "t_snap: 2022-09-07 18:00:00+00:00\n",
      "Results :\n",
      "\n",
      "\tcme_longitude: \t\t122.40 +/- 5.74\n",
      "\tcme_latitude: \t\t-1.52 +/- 8.33\n",
      "\tcme_inclination: \t\t20.55 +/- 47.98\n",
      "\tcme_diameter_1au: \t\t0.30 +/- 0.02\n",
      "\tcme_aspect_ratio: \t\t3.02 +/- 0.66\n",
      "\tcme_launch_radius: \t\t14.97 +/- 0.53\n",
      "\tcme_launch_velocity: \t\t1405.48 +/- 328.54\n",
      "\tt_factor: \t\t161.74 +/- 45.97\n",
      "\tcme_expansion_rate: \t\t1.14 +/- 0.00Results :\n",
      "\n",
      "\n",
      "\tmagnetic_decay_rate: \t\t1.64 +/- 0.00\tcme_longitude: \t\t122.40 +/- 5.74\n",
      "\tmagnetic_field_strength_1au: \t\t6.44 +/- 0.69\n",
      "\tcme_latitude: \t\t-1.52 +/- 8.33\n",
      "\tbackground_drag: \t\t1.62 +/- 0.72\n",
      "\n",
      "\tbackground_velocity: \t\t613.52 +/- 56.56\tcme_inclination: \t\t20.55 +/- 47.98\n",
      "\n",
      "\tcme_diameter_1au: \t\t0.30 +/- 0.02\n",
      "\tcme_aspect_ratio: \t\t3.02 +/- 0.66\n",
      "\tcme_launch_radius: \t\t14.97 +/- 0.53\n",
      "\tcme_launch_velocity: \t\t1405.48 +/- 328.54\n",
      "\tt_factor: \t\t161.74 +/- 45.97\n",
      "\tcme_expansion_rate: \t\t1.14 +/- 0.00\n",
      "\tmagnetic_decay_rate: \t\t1.64 +/- 0.00\n",
      "\tmagnetic_field_strength_1au: \t\t6.44 +/- 0.69\n",
      "\tbackground_drag: \t\t1.62 +/- 0.72\n",
      "\tbackground_velocity: \t\t613.52 +/- 56.56\n",
      "observer: Solar Orbiter\n"
     ]
    },
    {
     "name": "stderr",
     "output_type": "stream",
     "text": [
      "2023-06-07 14:00:15.921 INFO    py3dcore.fluxplot: Using HelioSat to retrieve observer data\n"
     ]
    },
    {
     "name": "stdout",
     "output_type": "stream",
     "text": [
      "t_snap: 2022-09-07 22:00:00+00:00\n",
      "observer: Solar Orbiter\n"
     ]
    },
    {
     "name": "stderr",
     "output_type": "stream",
     "text": [
      "2023-06-07 14:00:15.933 INFO    py3dcore.fluxplot: Using HelioSat to retrieve observer data\n"
     ]
    },
    {
     "name": "stdout",
     "output_type": "stream",
     "text": [
      "observer:t_snap:  Parker Solar Probe\n",
      "2022-09-08 01:00:00+00:00\n"
     ]
    },
    {
     "name": "stderr",
     "output_type": "stream",
     "text": [
      "2023-06-07 14:00:15.937 INFO    py3dcore.fluxplot: Using HelioSat to retrieve observer data\n"
     ]
    },
    {
     "name": "stdout",
     "output_type": "stream",
     "text": [
      "t_snap: 2022-09-07 22:00:00+00:00\n",
      "observer: Parker Solar Probe\n"
     ]
    },
    {
     "name": "stderr",
     "output_type": "stream",
     "text": [
      "2023-06-07 14:00:15.948 INFO    py3dcore.fluxplot: Using HelioSat to retrieve observer data\n"
     ]
    },
    {
     "name": "stdout",
     "output_type": "stream",
     "text": [
      "t_snap: 2022-09-08 01:00:00+00:00\n",
      "Results :\n",
      "\n",
      "\tcme_longitude: \t\t122.40 +/- 5.74\n",
      "\tcme_latitude: \t\t-1.52 +/- 8.33\n",
      "\tcme_inclination: \t\t20.55 +/- 47.98Results :\n",
      "\n",
      "\n",
      "\tcme_longitude: \t\t122.40 +/- 5.74\tcme_diameter_1au: \t\t0.30 +/- 0.02\n",
      "\n",
      "\tcme_aspect_ratio: \t\t3.02 +/- 0.66\tcme_latitude: \t\t-1.52 +/- 8.33\n",
      "\n",
      "\tcme_launch_radius: \t\t14.97 +/- 0.53\tcme_inclination: \t\t20.55 +/- 47.98\n",
      "\tcme_diameter_1au: \t\t0.30 +/- 0.02\n",
      "\n",
      "\tcme_launch_velocity: \t\t1405.48 +/- 328.54\tcme_aspect_ratio: \t\t3.02 +/- 0.66\n",
      "\n",
      "\tt_factor: \t\t161.74 +/- 45.97\tcme_launch_radius: \t\t14.97 +/- 0.53\n",
      "\n",
      "\tcme_expansion_rate: \t\t1.14 +/- 0.00\tcme_launch_velocity: \t\t1405.48 +/- 328.54\n",
      "\n",
      "\tmagnetic_decay_rate: \t\t1.64 +/- 0.00\tt_factor: \t\t161.74 +/- 45.97\n",
      "\n",
      "\tmagnetic_field_strength_1au: \t\t6.44 +/- 0.69\n",
      "\tcme_expansion_rate: \t\t1.14 +/- 0.00\tbackground_drag: \t\t1.62 +/- 0.72\n",
      "\n",
      "\tmagnetic_decay_rate: \t\t1.64 +/- 0.00\tbackground_velocity: \t\t613.52 +/- 56.56\n",
      "\n",
      "\tmagnetic_field_strength_1au: \t\t6.44 +/- 0.69\n",
      "\tbackground_drag: \t\t1.62 +/- 0.72\n",
      "\tbackground_velocity: \t\t613.52 +/- 56.56\n",
      "observer: Solar Orbiter\n",
      "observer:"
     ]
    },
    {
     "name": "stderr",
     "output_type": "stream",
     "text": [
      "2023-06-07 14:00:16.410 INFO    py3dcore.fluxplot: Using HelioSat to retrieve observer data\n"
     ]
    },
    {
     "name": "stdout",
     "output_type": "stream",
     "text": [
      " t_snap:Solar Orbiter \n",
      "2022-09-08 02:00:00+00:00\n"
     ]
    },
    {
     "name": "stderr",
     "output_type": "stream",
     "text": [
      "2023-06-07 14:00:16.413 INFO    py3dcore.fluxplot: Using HelioSat to retrieve observer data\n"
     ]
    },
    {
     "name": "stdout",
     "output_type": "stream",
     "text": [
      "t_snap: 2022-09-07 23:00:00+00:00\n",
      "observer: Parker Solar Probe\n",
      "observer:"
     ]
    },
    {
     "name": "stderr",
     "output_type": "stream",
     "text": [
      "2023-06-07 14:00:16.421 INFO    py3dcore.fluxplot: Using HelioSat to retrieve observer data\n"
     ]
    },
    {
     "name": "stdout",
     "output_type": "stream",
     "text": [
      " t_snap:Parker Solar Probe \n",
      "2022-09-08 02:00:00+00:00\n"
     ]
    },
    {
     "name": "stderr",
     "output_type": "stream",
     "text": [
      "2023-06-07 14:00:16.424 INFO    py3dcore.fluxplot: Using HelioSat to retrieve observer data\n"
     ]
    },
    {
     "name": "stdout",
     "output_type": "stream",
     "text": [
      "t_snap: 2022-09-07 23:00:00+00:00\n",
      "Results :\n",
      "Results :\n",
      "\n",
      "\n",
      "\tcme_longitude: \t\t122.40 +/- 5.74\tcme_longitude: \t\t122.40 +/- 5.74\n",
      "\n",
      "\tcme_latitude: \t\t-1.52 +/- 8.33\tcme_latitude: \t\t-1.52 +/- 8.33\n",
      "\n",
      "\tcme_inclination: \t\t20.55 +/- 47.98\tcme_inclination: \t\t20.55 +/- 47.98\n",
      "\tcme_diameter_1au: \t\t0.30 +/- 0.02\n",
      "\tcme_diameter_1au: \t\t0.30 +/- 0.02\n",
      "\n",
      "\tcme_aspect_ratio: \t\t3.02 +/- 0.66\n",
      "\tcme_launch_radius: \t\t14.97 +/- 0.53\tcme_aspect_ratio: \t\t3.02 +/- 0.66\n",
      "\n",
      "\tcme_launch_velocity: \t\t1405.48 +/- 328.54\tcme_launch_radius: \t\t14.97 +/- 0.53\n",
      "\n",
      "\tt_factor: \t\t161.74 +/- 45.97\tcme_launch_velocity: \t\t1405.48 +/- 328.54\n",
      "\n",
      "\tcme_expansion_rate: \t\t1.14 +/- 0.00\n",
      "\tt_factor: \t\t161.74 +/- 45.97\tmagnetic_decay_rate: \t\t1.64 +/- 0.00\n",
      "\n",
      "\tcme_expansion_rate: \t\t1.14 +/- 0.00\tmagnetic_field_strength_1au: \t\t6.44 +/- 0.69\n",
      "\tmagnetic_decay_rate: \t\t1.64 +/- 0.00\n",
      "\n",
      "\tbackground_drag: \t\t1.62 +/- 0.72\tmagnetic_field_strength_1au: \t\t6.44 +/- 0.69\n",
      "\n",
      "\tbackground_drag: \t\t1.62 +/- 0.72\tbackground_velocity: \t\t613.52 +/- 56.56\n",
      "\n",
      "\tbackground_velocity: \t\t613.52 +/- 56.56\n",
      "observer: Solar Orbiter\n"
     ]
    },
    {
     "name": "stderr",
     "output_type": "stream",
     "text": [
      "2023-06-07 14:00:16.899 INFO    py3dcore.fluxplot: Using HelioSat to retrieve observer data\n"
     ]
    },
    {
     "name": "stdout",
     "output_type": "stream",
     "text": [
      "t_snap: 2022-09-08 03:00:00+00:00\n",
      "observer: Solar Orbiter\n"
     ]
    },
    {
     "name": "stderr",
     "output_type": "stream",
     "text": [
      "2023-06-07 14:00:16.906 INFO    py3dcore.fluxplot: Using HelioSat to retrieve observer data\n"
     ]
    },
    {
     "name": "stdout",
     "output_type": "stream",
     "text": [
      "observer:t_snap:  Parker Solar Probe2022-09-08 00:00:00+00:00\n",
      "\n"
     ]
    },
    {
     "name": "stderr",
     "output_type": "stream",
     "text": [
      "2023-06-07 14:00:16.909 INFO    py3dcore.fluxplot: Using HelioSat to retrieve observer data\n"
     ]
    },
    {
     "name": "stdout",
     "output_type": "stream",
     "text": [
      "t_snap: 2022-09-08 03:00:00+00:00\n",
      "observer: Parker Solar Probe\n"
     ]
    },
    {
     "name": "stderr",
     "output_type": "stream",
     "text": [
      "2023-06-07 14:00:16.916 INFO    py3dcore.fluxplot: Using HelioSat to retrieve observer data\n"
     ]
    },
    {
     "name": "stdout",
     "output_type": "stream",
     "text": [
      "t_snap: 2022-09-08 00:00:00+00:00\n",
      "Results :\n",
      "\n",
      "\tcme_longitude: \t\t122.40 +/- 5.74\n",
      "\tcme_latitude: \t\t-1.52 +/- 8.33\n",
      "\tcme_inclination: \t\t20.55 +/- 47.98\n",
      "\tcme_diameter_1au: \t\t0.30 +/- 0.02\n",
      "\tcme_aspect_ratio: \t\t3.02 +/- 0.66\n",
      "\tcme_launch_radius: \t\t14.97 +/- 0.53\n",
      "\tcme_launch_velocity: \t\t1405.48 +/- 328.54\n",
      "\tt_factor: \t\t161.74 +/- 45.97\n",
      "\tcme_expansion_rate: \t\t1.14 +/- 0.00\n",
      "\tmagnetic_decay_rate: \t\t1.64 +/- 0.00\n",
      "\tmagnetic_field_strength_1au: \t\t6.44 +/- 0.69\n",
      "\tbackground_drag: \t\t1.62 +/- 0.72\n",
      "\tbackground_velocity: \t\t613.52 +/- 56.56\n",
      "observer: Solar Orbiter\n"
     ]
    },
    {
     "name": "stderr",
     "output_type": "stream",
     "text": [
      "2023-06-07 14:00:17.907 INFO    py3dcore.fluxplot: Using HelioSat to retrieve observer data\n"
     ]
    },
    {
     "name": "stdout",
     "output_type": "stream",
     "text": [
      "t_snap: 2022-09-08 04:00:00+00:00\n",
      "observer: Parker Solar Probe\n"
     ]
    },
    {
     "name": "stderr",
     "output_type": "stream",
     "text": [
      "2023-06-07 14:00:17.919 INFO    py3dcore.fluxplot: Using HelioSat to retrieve observer data\n"
     ]
    },
    {
     "name": "stdout",
     "output_type": "stream",
     "text": [
      "t_snap: 2022-09-08 04:00:00+00:00\n",
      "Results :\n",
      "\n",
      "\tcme_longitude: \t\t122.40 +/- 5.74\n",
      "\tcme_latitude: \t\t-1.52 +/- 8.33\n",
      "\tcme_inclination: \t\t20.55 +/- 47.98\n",
      "\tcme_diameter_1au: \t\t0.30 +/- 0.02\n",
      "\tcme_aspect_ratio: \t\t3.02 +/- 0.66\n",
      "\tcme_launch_radius: \t\t14.97 +/- 0.53\n",
      "\tcme_launch_velocity: \t\t1405.48 +/- 328.54\n",
      "\tt_factor: \t\t161.74 +/- 45.97\n",
      "\tcme_expansion_rate: \t\t1.14 +/- 0.00\n",
      "\tmagnetic_decay_rate: \t\t1.64 +/- 0.00\n",
      "\tmagnetic_field_strength_1au: \t\t6.44 +/- 0.69\n",
      "\tbackground_drag: \t\t1.62 +/- 0.72\n",
      "\tbackground_velocity: \t\t613.52 +/- 56.56\n",
      "observer: Solar Orbiter\n"
     ]
    },
    {
     "name": "stderr",
     "output_type": "stream",
     "text": [
      "2023-06-07 14:00:18.244 INFO    py3dcore.fluxplot: Using HelioSat to retrieve observer data\n"
     ]
    },
    {
     "name": "stdout",
     "output_type": "stream",
     "text": [
      "t_snap: 2022-09-08 05:00:00+00:00\n",
      "observer: Parker Solar Probe\n"
     ]
    },
    {
     "name": "stderr",
     "output_type": "stream",
     "text": [
      "2023-06-07 14:00:18.256 INFO    py3dcore.fluxplot: Using HelioSat to retrieve observer data\n"
     ]
    },
    {
     "name": "stdout",
     "output_type": "stream",
     "text": [
      "t_snap: 2022-09-08 05:00:00+00:00\n",
      "done 3/4\n",
      "Results :\n",
      "\n",
      "Results :\n",
      "\tcme_longitude: \t\t122.40 +/- 5.74\n",
      "\n",
      "\tcme_longitude: \t\t122.40 +/- 5.74\tcme_latitude: \t\t-1.52 +/- 8.33\n",
      "\n",
      "\tcme_inclination: \t\t20.55 +/- 47.98\tcme_latitude: \t\t-1.52 +/- 8.33\n",
      "\n",
      "\tcme_inclination: \t\t20.55 +/- 47.98\tcme_diameter_1au: \t\t0.30 +/- 0.02\n",
      "\n",
      "\tcme_diameter_1au: \t\t0.30 +/- 0.02\tcme_aspect_ratio: \t\t3.02 +/- 0.66\n",
      "\n",
      "\tcme_aspect_ratio: \t\t3.02 +/- 0.66\n",
      "\tcme_launch_radius: \t\t14.97 +/- 0.53\tcme_launch_radius: \t\t14.97 +/- 0.53\n",
      "\n",
      "\tcme_launch_velocity: \t\t1405.48 +/- 328.54\tcme_launch_velocity: \t\t1405.48 +/- 328.54\n",
      "\tt_factor: \t\t161.74 +/- 45.97\n",
      "\tt_factor: \t\t161.74 +/- 45.97\n",
      "\tcme_expansion_rate: \t\t1.14 +/- 0.00\n",
      "\tcme_expansion_rate: \t\t1.14 +/- 0.00\n",
      "\n",
      "\tmagnetic_decay_rate: \t\t1.64 +/- 0.00\tmagnetic_decay_rate: \t\t1.64 +/- 0.00\n",
      "\tmagnetic_field_strength_1au: \t\t6.44 +/- 0.69\n",
      "\tmagnetic_field_strength_1au: \t\t6.44 +/- 0.69\n",
      "\n",
      "\tbackground_drag: \t\t1.62 +/- 0.72\tbackground_drag: \t\t1.62 +/- 0.72\n",
      "\n",
      "\tbackground_velocity: \t\t613.52 +/- 56.56\tbackground_velocity: \t\t613.52 +/- 56.56\n",
      "\n",
      "observer: Solar Orbiter\n"
     ]
    },
    {
     "name": "stderr",
     "output_type": "stream",
     "text": [
      "2023-06-07 14:00:19.115 INFO    py3dcore.fluxplot: Using HelioSat to retrieve observer data\n"
     ]
    },
    {
     "name": "stdout",
     "output_type": "stream",
     "text": [
      "t_snap: 2022-09-08 11:00:00+00:00\n",
      "observer: Solar Orbiter\n"
     ]
    },
    {
     "name": "stderr",
     "output_type": "stream",
     "text": [
      "2023-06-07 14:00:19.121 INFO    py3dcore.fluxplot: Using HelioSat to retrieve observer data\n"
     ]
    },
    {
     "name": "stdout",
     "output_type": "stream",
     "text": [
      "t_snap: 2022-09-08 06:00:00+00:00\n",
      "observer: Parker Solar Probe\n",
      "observer: Parker Solar Probe\n"
     ]
    },
    {
     "name": "stderr",
     "output_type": "stream",
     "text": [
      "2023-06-07 14:00:19.136 INFO    py3dcore.fluxplot: Using HelioSat to retrieve observer data\n"
     ]
    },
    {
     "name": "stdout",
     "output_type": "stream",
     "text": [
      "t_snap: 2022-09-08 11:00:00+00:00\n"
     ]
    },
    {
     "name": "stderr",
     "output_type": "stream",
     "text": [
      "2023-06-07 14:00:19.143 INFO    py3dcore.fluxplot: Using HelioSat to retrieve observer data\n"
     ]
    },
    {
     "name": "stdout",
     "output_type": "stream",
     "text": [
      "t_snap: 2022-09-08 06:00:00+00:00\n",
      "Results :\n",
      "Results :\n",
      "\n",
      "\tcme_longitude: \t\t122.40 +/- 5.74\n",
      "\n",
      "\tcme_longitude: \t\t122.40 +/- 5.74\tcme_latitude: \t\t-1.52 +/- 8.33\n",
      "\n",
      "\tcme_latitude: \t\t-1.52 +/- 8.33\tcme_inclination: \t\t20.55 +/- 47.98\n",
      "\n",
      "\tcme_inclination: \t\t20.55 +/- 47.98\tcme_diameter_1au: \t\t0.30 +/- 0.02\n",
      "\n",
      "\tcme_diameter_1au: \t\t0.30 +/- 0.02\tcme_aspect_ratio: \t\t3.02 +/- 0.66\n",
      "\n",
      "\tcme_aspect_ratio: \t\t3.02 +/- 0.66\tcme_launch_radius: \t\t14.97 +/- 0.53\n",
      "\n",
      "\tcme_launch_velocity: \t\t1405.48 +/- 328.54\tcme_launch_radius: \t\t14.97 +/- 0.53\n",
      "\n",
      "\tt_factor: \t\t161.74 +/- 45.97\n",
      "\tcme_launch_velocity: \t\t1405.48 +/- 328.54\tcme_expansion_rate: \t\t1.14 +/- 0.00\n",
      "\n",
      "\tt_factor: \t\t161.74 +/- 45.97\tmagnetic_decay_rate: \t\t1.64 +/- 0.00\n",
      "\n",
      "\tmagnetic_field_strength_1au: \t\t6.44 +/- 0.69\tcme_expansion_rate: \t\t1.14 +/- 0.00\n",
      "\n",
      "\tbackground_drag: \t\t1.62 +/- 0.72\tmagnetic_decay_rate: \t\t1.64 +/- 0.00\n",
      "\n",
      "\tbackground_velocity: \t\t613.52 +/- 56.56\n",
      "\tmagnetic_field_strength_1au: \t\t6.44 +/- 0.69\n",
      "\tbackground_drag: \t\t1.62 +/- 0.72\n",
      "\tbackground_velocity: \t\t613.52 +/- 56.56\n",
      "observer: Solar Orbiter\n"
     ]
    },
    {
     "name": "stderr",
     "output_type": "stream",
     "text": [
      "2023-06-07 14:00:19.626 INFO    py3dcore.fluxplot: Using HelioSat to retrieve observer data\n"
     ]
    },
    {
     "name": "stdout",
     "output_type": "stream",
     "text": [
      "t_snap:observer:  2022-09-08 07:00:00+00:00Solar Orbiter\n",
      "\n"
     ]
    },
    {
     "name": "stderr",
     "output_type": "stream",
     "text": [
      "2023-06-07 14:00:19.630 INFO    py3dcore.fluxplot: Using HelioSat to retrieve observer data\n"
     ]
    },
    {
     "name": "stdout",
     "output_type": "stream",
     "text": [
      "t_snap: 2022-09-08 12:00:00+00:00\n",
      "observer: Parker Solar Probe\n"
     ]
    },
    {
     "name": "stderr",
     "output_type": "stream",
     "text": [
      "2023-06-07 14:00:19.636 INFO    py3dcore.fluxplot: Using HelioSat to retrieve observer data\n"
     ]
    },
    {
     "name": "stdout",
     "output_type": "stream",
     "text": [
      "t_snap:observer:  2022-09-08 07:00:00+00:00Parker Solar Probe\n",
      "\n"
     ]
    },
    {
     "name": "stderr",
     "output_type": "stream",
     "text": [
      "2023-06-07 14:00:19.640 INFO    py3dcore.fluxplot: Using HelioSat to retrieve observer data\n"
     ]
    },
    {
     "name": "stdout",
     "output_type": "stream",
     "text": [
      "t_snap: 2022-09-08 12:00:00+00:00\n",
      "Results :\n",
      "\n",
      "Results :\n",
      "\tcme_longitude: \t\t122.40 +/- 5.74\n",
      "\n",
      "\tcme_longitude: \t\t122.40 +/- 5.74\tcme_latitude: \t\t-1.52 +/- 8.33\n",
      "\n",
      "\tcme_latitude: \t\t-1.52 +/- 8.33\tcme_inclination: \t\t20.55 +/- 47.98\n",
      "\tcme_inclination: \t\t20.55 +/- 47.98\n",
      "\tcme_diameter_1au: \t\t0.30 +/- 0.02\n",
      "\n",
      "\tcme_diameter_1au: \t\t0.30 +/- 0.02\n",
      "\tcme_aspect_ratio: \t\t3.02 +/- 0.66\n",
      "\tcme_aspect_ratio: \t\t3.02 +/- 0.66\tcme_launch_radius: \t\t14.97 +/- 0.53\n",
      "\n",
      "\tcme_launch_radius: \t\t14.97 +/- 0.53\tcme_launch_velocity: \t\t1405.48 +/- 328.54\n",
      "\n",
      "\tcme_launch_velocity: \t\t1405.48 +/- 328.54\tt_factor: \t\t161.74 +/- 45.97\n",
      "\n",
      "\tt_factor: \t\t161.74 +/- 45.97\tcme_expansion_rate: \t\t1.14 +/- 0.00\n",
      "\n",
      "\tcme_expansion_rate: \t\t1.14 +/- 0.00\tmagnetic_decay_rate: \t\t1.64 +/- 0.00\n",
      "\n",
      "\tmagnetic_decay_rate: \t\t1.64 +/- 0.00\tmagnetic_field_strength_1au: \t\t6.44 +/- 0.69\n",
      "\n",
      "\tbackground_drag: \t\t1.62 +/- 0.72\n",
      "\tmagnetic_field_strength_1au: \t\t6.44 +/- 0.69\n",
      "\tbackground_velocity: \t\t613.52 +/- 56.56\n",
      "\tbackground_drag: \t\t1.62 +/- 0.72\n",
      "\tbackground_velocity: \t\t613.52 +/- 56.56\n",
      "observer: Solar Orbiter\n",
      "observer: "
     ]
    },
    {
     "name": "stderr",
     "output_type": "stream",
     "text": [
      "2023-06-07 14:00:20.126 INFO    py3dcore.fluxplot: Using HelioSat to retrieve observer data\n"
     ]
    },
    {
     "name": "stdout",
     "output_type": "stream",
     "text": [
      "Solar Orbitert_snap:\n",
      " 2022-09-08 13:00:00+00:00\n"
     ]
    },
    {
     "name": "stderr",
     "output_type": "stream",
     "text": [
      "2023-06-07 14:00:20.128 INFO    py3dcore.fluxplot: Using HelioSat to retrieve observer data\n"
     ]
    },
    {
     "name": "stdout",
     "output_type": "stream",
     "text": [
      "t_snap: 2022-09-08 08:00:00+00:00\n",
      "observer: Parker Solar Probeobserver:\n",
      " Parker Solar Probe"
     ]
    },
    {
     "name": "stderr",
     "output_type": "stream",
     "text": [
      "2023-06-07 14:00:20.136 INFO    py3dcore.fluxplot: Using HelioSat to retrieve observer data\n"
     ]
    },
    {
     "name": "stdout",
     "output_type": "stream",
     "text": [
      "\n",
      "t_snap: 2022-09-08 13:00:00+00:00"
     ]
    },
    {
     "name": "stderr",
     "output_type": "stream",
     "text": [
      "2023-06-07 14:00:20.138 INFO    py3dcore.fluxplot: Using HelioSat to retrieve observer data\n"
     ]
    },
    {
     "name": "stdout",
     "output_type": "stream",
     "text": [
      "\n",
      "t_snap: 2022-09-08 08:00:00+00:00\n",
      "Results :\n",
      "Results :\n",
      "\n",
      "\n",
      "\tcme_longitude: \t\t122.40 +/- 5.74\n",
      "\tcme_longitude: \t\t122.40 +/- 5.74\tcme_latitude: \t\t-1.52 +/- 8.33\n",
      "\n",
      "\tcme_inclination: \t\t20.55 +/- 47.98\tcme_latitude: \t\t-1.52 +/- 8.33\n",
      "\n",
      "\tcme_diameter_1au: \t\t0.30 +/- 0.02\tcme_inclination: \t\t20.55 +/- 47.98\n",
      "\n",
      "\tcme_aspect_ratio: \t\t3.02 +/- 0.66\tcme_diameter_1au: \t\t0.30 +/- 0.02\n",
      "\n",
      "\tcme_aspect_ratio: \t\t3.02 +/- 0.66\tcme_launch_radius: \t\t14.97 +/- 0.53\n",
      "\n",
      "\tcme_launch_radius: \t\t14.97 +/- 0.53\tcme_launch_velocity: \t\t1405.48 +/- 328.54\n",
      "\n",
      "\tcme_launch_velocity: \t\t1405.48 +/- 328.54\tt_factor: \t\t161.74 +/- 45.97\n",
      "\n",
      "\tcme_expansion_rate: \t\t1.14 +/- 0.00\n",
      "\tt_factor: \t\t161.74 +/- 45.97\tmagnetic_decay_rate: \t\t1.64 +/- 0.00\n",
      "\tcme_expansion_rate: \t\t1.14 +/- 0.00\n",
      "\n",
      "\tmagnetic_field_strength_1au: \t\t6.44 +/- 0.69\n",
      "\tbackground_drag: \t\t1.62 +/- 0.72\tmagnetic_decay_rate: \t\t1.64 +/- 0.00\n",
      "\n",
      "\tbackground_velocity: \t\t613.52 +/- 56.56\tmagnetic_field_strength_1au: \t\t6.44 +/- 0.69\n",
      "\n",
      "\tbackground_drag: \t\t1.62 +/- 0.72\n",
      "\tbackground_velocity: \t\t613.52 +/- 56.56\n",
      "observer:observer:  Solar OrbiterSolar Orbiter\n",
      "\n"
     ]
    },
    {
     "name": "stderr",
     "output_type": "stream",
     "text": [
      "2023-06-07 14:00:20.618 INFO    py3dcore.fluxplot: Using HelioSat to retrieve observer data\n",
      "2023-06-07 14:00:20.618 INFO    py3dcore.fluxplot: Using HelioSat to retrieve observer data\n"
     ]
    },
    {
     "name": "stdout",
     "output_type": "stream",
     "text": [
      "t_snap:t_snap:  2022-09-08 09:00:00+00:002022-09-08 14:00:00+00:00\n",
      "\n",
      "observer:observer:  Parker Solar ProbeParker Solar Probe\n",
      "\n"
     ]
    },
    {
     "name": "stderr",
     "output_type": "stream",
     "text": [
      "2023-06-07 14:00:20.628 INFO    py3dcore.fluxplot: Using HelioSat to retrieve observer data\n",
      "2023-06-07 14:00:20.628 INFO    py3dcore.fluxplot: Using HelioSat to retrieve observer data\n"
     ]
    },
    {
     "name": "stdout",
     "output_type": "stream",
     "text": [
      "t_snap:t_snap:  2022-09-08 09:00:00+00:002022-09-08 14:00:00+00:00\n",
      "\n",
      "Results :\n",
      "\n",
      "\tcme_longitude: \t\t122.40 +/- 5.74\n",
      "Results :\n",
      "\tcme_latitude: \t\t-1.52 +/- 8.33\n",
      "\n",
      "\tcme_inclination: \t\t20.55 +/- 47.98\n",
      "\tcme_diameter_1au: \t\t0.30 +/- 0.02\n",
      "\tcme_longitude: \t\t122.40 +/- 5.74\n",
      "\tcme_aspect_ratio: \t\t3.02 +/- 0.66\tcme_latitude: \t\t-1.52 +/- 8.33\n",
      "\n",
      "\tcme_inclination: \t\t20.55 +/- 47.98\tcme_launch_radius: \t\t14.97 +/- 0.53\n",
      "\n",
      "\tcme_diameter_1au: \t\t0.30 +/- 0.02\tcme_launch_velocity: \t\t1405.48 +/- 328.54\n",
      "\n",
      "\tcme_aspect_ratio: \t\t3.02 +/- 0.66\tt_factor: \t\t161.74 +/- 45.97\n",
      "\tcme_launch_radius: \t\t14.97 +/- 0.53\n",
      "\n",
      "\tcme_expansion_rate: \t\t1.14 +/- 0.00\tcme_launch_velocity: \t\t1405.48 +/- 328.54\n",
      "\tmagnetic_decay_rate: \t\t1.64 +/- 0.00\n",
      "\n",
      "\tt_factor: \t\t161.74 +/- 45.97\tmagnetic_field_strength_1au: \t\t6.44 +/- 0.69\n",
      "\tcme_expansion_rate: \t\t1.14 +/- 0.00\n",
      "\tbackground_drag: \t\t1.62 +/- 0.72\n",
      "\n",
      "\tbackground_velocity: \t\t613.52 +/- 56.56\tmagnetic_decay_rate: \t\t1.64 +/- 0.00\n",
      "\n",
      "\tmagnetic_field_strength_1au: \t\t6.44 +/- 0.69\n",
      "\tbackground_drag: \t\t1.62 +/- 0.72\n",
      "\tbackground_velocity: \t\t613.52 +/- 56.56\n",
      "observer: Solar Orbiter\n"
     ]
    },
    {
     "name": "stderr",
     "output_type": "stream",
     "text": [
      "2023-06-07 14:00:21.107 INFO    py3dcore.fluxplot: Using HelioSat to retrieve observer data\n"
     ]
    },
    {
     "name": "stdout",
     "output_type": "stream",
     "text": [
      "t_snap: 2022-09-08 10:00:00+00:00\n",
      "observer:observer:  Solar Orbiter\n",
      "Parker Solar Probe\n"
     ]
    },
    {
     "name": "stderr",
     "output_type": "stream",
     "text": [
      "2023-06-07 14:00:21.117 INFO    py3dcore.fluxplot: Using HelioSat to retrieve observer data\n"
     ]
    },
    {
     "name": "stdout",
     "output_type": "stream",
     "text": [
      "t_snap: "
     ]
    },
    {
     "name": "stderr",
     "output_type": "stream",
     "text": [
      "2023-06-07 14:00:21.118 INFO    py3dcore.fluxplot: Using HelioSat to retrieve observer data\n"
     ]
    },
    {
     "name": "stdout",
     "output_type": "stream",
     "text": [
      "2022-09-08 15:00:00+00:00t_snap:\n",
      " 2022-09-08 10:00:00+00:00\n",
      "observer: Parker Solar Probe\n"
     ]
    },
    {
     "name": "stderr",
     "output_type": "stream",
     "text": [
      "2023-06-07 14:00:21.130 INFO    py3dcore.fluxplot: Using HelioSat to retrieve observer data\n"
     ]
    },
    {
     "name": "stdout",
     "output_type": "stream",
     "text": [
      "t_snap: 2022-09-08 15:00:00+00:00\n",
      "Results :\n",
      "\n",
      "\tcme_longitude: \t\t122.40 +/- 5.74\n",
      "\tcme_latitude: \t\t-1.52 +/- 8.33\n",
      "\tcme_inclination: \t\t20.55 +/- 47.98\n",
      "\tcme_diameter_1au: \t\t0.30 +/- 0.02\n",
      "\tcme_aspect_ratio: \t\t3.02 +/- 0.66\n",
      "\tcme_launch_radius: \t\t14.97 +/- 0.53\n",
      "\tcme_launch_velocity: \t\t1405.48 +/- 328.54\n",
      "\tt_factor: \t\t161.74 +/- 45.97\n",
      "\tcme_expansion_rate: \t\t1.14 +/- 0.00\n",
      "\tmagnetic_decay_rate: \t\t1.64 +/- 0.00\n",
      "\tmagnetic_field_strength_1au: \t\t6.44 +/- 0.69\n",
      "\tbackground_drag: \t\t1.62 +/- 0.72\n",
      "\tbackground_velocity: \t\t613.52 +/- 56.56\n",
      "Results :\n",
      "\n",
      "\tcme_longitude: \t\t122.40 +/- 5.74\n",
      "\tcme_latitude: \t\t-1.52 +/- 8.33\n",
      "\tcme_inclination: \t\t20.55 +/- 47.98\n",
      "\tcme_diameter_1au: \t\t0.30 +/- 0.02\n",
      "\tcme_aspect_ratio: \t\t3.02 +/- 0.66\n",
      "\tcme_launch_radius: \t\t14.97 +/- 0.53\n",
      "\tcme_launch_velocity: \t\t1405.48 +/- 328.54\n",
      "\tt_factor: \t\t161.74 +/- 45.97\n",
      "\tcme_expansion_rate: \t\t1.14 +/- 0.00\n",
      "\tmagnetic_decay_rate: \t\t1.64 +/- 0.00\n",
      "\tmagnetic_field_strength_1au: \t\t6.44 +/- 0.69\n",
      "\tbackground_drag: \t\t1.62 +/- 0.72\n",
      "\tbackground_velocity: \t\t613.52 +/- 56.56\n",
      "observer: Solar Orbiter\n"
     ]
    },
    {
     "name": "stderr",
     "output_type": "stream",
     "text": [
      "2023-06-07 14:00:22.295 INFO    py3dcore.fluxplot: Using HelioSat to retrieve observer data\n"
     ]
    },
    {
     "name": "stdout",
     "output_type": "stream",
     "text": [
      "t_snap: 2022-09-08 16:00:00+00:00\n",
      "observer: Parker Solar Probe\n"
     ]
    },
    {
     "name": "stderr",
     "output_type": "stream",
     "text": [
      "2023-06-07 14:00:22.306 INFO    py3dcore.fluxplot: Using HelioSat to retrieve observer data\n"
     ]
    },
    {
     "name": "stdout",
     "output_type": "stream",
     "text": [
      "t_snap: 2022-09-08 16:00:00+00:00\n",
      "observer: Solar Orbiter\n"
     ]
    },
    {
     "name": "stderr",
     "output_type": "stream",
     "text": [
      "2023-06-07 14:00:22.316 INFO    py3dcore.fluxplot: Using HelioSat to retrieve observer data\n"
     ]
    },
    {
     "name": "stdout",
     "output_type": "stream",
     "text": [
      "t_snap: 2022-09-08 21:00:00+00:00\n",
      "observer: Parker Solar Probe\n"
     ]
    },
    {
     "name": "stderr",
     "output_type": "stream",
     "text": [
      "2023-06-07 14:00:22.329 INFO    py3dcore.fluxplot: Using HelioSat to retrieve observer data\n"
     ]
    },
    {
     "name": "stdout",
     "output_type": "stream",
     "text": [
      "t_snap: 2022-09-08 21:00:00+00:00\n",
      "Results :\n",
      "\n",
      "\tcme_longitude: \t\t122.40 +/- 5.74\n",
      "\tcme_latitude: \t\t-1.52 +/- 8.33\n",
      "\tcme_inclination: \t\t20.55 +/- 47.98\n",
      "\tcme_diameter_1au: \t\t0.30 +/- 0.02\n",
      "\tcme_aspect_ratio: \t\t3.02 +/- 0.66\n",
      "\tcme_launch_radius: \t\t14.97 +/- 0.53\n",
      "\tcme_launch_velocity: \t\t1405.48 +/- 328.54\n",
      "\tt_factor: \t\t161.74 +/- 45.97\n",
      "\tcme_expansion_rate: \t\t1.14 +/- 0.00\n",
      "\tmagnetic_decay_rate: \t\t1.64 +/- 0.00\n",
      "\tmagnetic_field_strength_1au: \t\t6.44 +/- 0.69\n",
      "\tbackground_drag: \t\t1.62 +/- 0.72\n",
      "Results :\n",
      "\tbackground_velocity: \t\t613.52 +/- 56.56\n",
      "\n",
      "\tcme_longitude: \t\t122.40 +/- 5.74\n",
      "\tcme_latitude: \t\t-1.52 +/- 8.33\n",
      "\tcme_inclination: \t\t20.55 +/- 47.98\n",
      "\tcme_diameter_1au: \t\t0.30 +/- 0.02\n",
      "\tcme_aspect_ratio: \t\t3.02 +/- 0.66\n",
      "\tcme_launch_radius: \t\t14.97 +/- 0.53\n",
      "\tcme_launch_velocity: \t\t1405.48 +/- 328.54\n",
      "\tt_factor: \t\t161.74 +/- 45.97\n",
      "\tcme_expansion_rate: \t\t1.14 +/- 0.00\n",
      "\tmagnetic_decay_rate: \t\t1.64 +/- 0.00\n",
      "\tmagnetic_field_strength_1au: \t\t6.44 +/- 0.69\n",
      "\tbackground_drag: \t\t1.62 +/- 0.72\n",
      "\tbackground_velocity: \t\t613.52 +/- 56.56\n",
      "observer: Solar Orbiter\n"
     ]
    },
    {
     "name": "stderr",
     "output_type": "stream",
     "text": [
      "2023-06-07 14:00:22.793 INFO    py3dcore.fluxplot: Using HelioSat to retrieve observer data\n"
     ]
    },
    {
     "name": "stdout",
     "output_type": "stream",
     "text": [
      "t_snap: 2022-09-08 17:00:00+00:00\n",
      "observer: Solar Orbiter\n"
     ]
    },
    {
     "name": "stderr",
     "output_type": "stream",
     "text": [
      "2023-06-07 14:00:22.800 INFO    py3dcore.fluxplot: Using HelioSat to retrieve observer data\n"
     ]
    },
    {
     "name": "stdout",
     "output_type": "stream",
     "text": [
      "observer:t_snap:  Parker Solar Probe2022-09-08 22:00:00+00:00\n",
      "\n"
     ]
    },
    {
     "name": "stderr",
     "output_type": "stream",
     "text": [
      "2023-06-07 14:00:22.804 INFO    py3dcore.fluxplot: Using HelioSat to retrieve observer data\n"
     ]
    },
    {
     "name": "stdout",
     "output_type": "stream",
     "text": [
      "t_snap: 2022-09-08 17:00:00+00:00\n",
      "observer: Parker Solar Probe\n"
     ]
    },
    {
     "name": "stderr",
     "output_type": "stream",
     "text": [
      "2023-06-07 14:00:22.811 INFO    py3dcore.fluxplot: Using HelioSat to retrieve observer data\n"
     ]
    },
    {
     "name": "stdout",
     "output_type": "stream",
     "text": [
      "t_snap: 2022-09-08 22:00:00+00:00\n",
      "Results :\n",
      "\n",
      "\tcme_longitude: \t\t122.40 +/- 5.74\n",
      "\tcme_latitude: \t\t-1.52 +/- 8.33\n",
      "\tcme_inclination: \t\t20.55 +/- 47.98\n",
      "\tcme_diameter_1au: \t\t0.30 +/- 0.02Results :\n",
      "\n",
      "\tcme_aspect_ratio: \t\t3.02 +/- 0.66\n",
      "\n",
      "\tcme_longitude: \t\t122.40 +/- 5.74\n",
      "\tcme_launch_radius: \t\t14.97 +/- 0.53\n",
      "\tcme_launch_velocity: \t\t1405.48 +/- 328.54\n",
      "\tt_factor: \t\t161.74 +/- 45.97\tcme_latitude: \t\t-1.52 +/- 8.33\n",
      "\tcme_inclination: \t\t20.55 +/- 47.98\n",
      "\tcme_expansion_rate: \t\t1.14 +/- 0.00\n",
      "\n",
      "\tcme_diameter_1au: \t\t0.30 +/- 0.02\tmagnetic_decay_rate: \t\t1.64 +/- 0.00\n",
      "\n",
      "\tcme_aspect_ratio: \t\t3.02 +/- 0.66\tmagnetic_field_strength_1au: \t\t6.44 +/- 0.69\n",
      "\n",
      "\tbackground_drag: \t\t1.62 +/- 0.72\tcme_launch_radius: \t\t14.97 +/- 0.53\n",
      "\n",
      "\tbackground_velocity: \t\t613.52 +/- 56.56\tcme_launch_velocity: \t\t1405.48 +/- 328.54\n",
      "\n",
      "\tt_factor: \t\t161.74 +/- 45.97\n",
      "\tcme_expansion_rate: \t\t1.14 +/- 0.00\n",
      "\tmagnetic_decay_rate: \t\t1.64 +/- 0.00\n",
      "\tmagnetic_field_strength_1au: \t\t6.44 +/- 0.69\n",
      "\tbackground_drag: \t\t1.62 +/- 0.72\n",
      "\tbackground_velocity: \t\t613.52 +/- 56.56\n",
      "observer: observer:Solar Orbiter \n",
      "Solar Orbiter\n"
     ]
    },
    {
     "name": "stderr",
     "output_type": "stream",
     "text": [
      "2023-06-07 14:00:23.296 INFO    py3dcore.fluxplot: Using HelioSat to retrieve observer data\n"
     ]
    },
    {
     "name": "stdout",
     "output_type": "stream",
     "text": [
      "t_snap:"
     ]
    },
    {
     "name": "stderr",
     "output_type": "stream",
     "text": [
      "2023-06-07 14:00:23.297 INFO    py3dcore.fluxplot: Using HelioSat to retrieve observer data\n"
     ]
    },
    {
     "name": "stdout",
     "output_type": "stream",
     "text": [
      " t_snap: 2022-09-08 23:00:00+00:002022-09-08 18:00:00+00:00\n",
      "\n",
      "observer:observer:  Parker Solar ProbeParker Solar Probe\n",
      "\n"
     ]
    },
    {
     "name": "stderr",
     "output_type": "stream",
     "text": [
      "2023-06-07 14:00:23.307 INFO    py3dcore.fluxplot: Using HelioSat to retrieve observer data\n",
      "2023-06-07 14:00:23.307 INFO    py3dcore.fluxplot: Using HelioSat to retrieve observer data\n"
     ]
    },
    {
     "name": "stdout",
     "output_type": "stream",
     "text": [
      "t_snap:t_snap:  2022-09-08 23:00:00+00:002022-09-08 18:00:00+00:00\n",
      "\n",
      "Results :\n",
      "Results :\n",
      "\n",
      "\n",
      "\tcme_longitude: \t\t122.40 +/- 5.74\tcme_longitude: \t\t122.40 +/- 5.74\n",
      "\n",
      "\tcme_latitude: \t\t-1.52 +/- 8.33\tcme_latitude: \t\t-1.52 +/- 8.33\n",
      "\n",
      "\tcme_inclination: \t\t20.55 +/- 47.98\n",
      "\tcme_diameter_1au: \t\t0.30 +/- 0.02\n",
      "\tcme_aspect_ratio: \t\t3.02 +/- 0.66\tcme_inclination: \t\t20.55 +/- 47.98\n",
      "\n",
      "\tcme_diameter_1au: \t\t0.30 +/- 0.02\tcme_launch_radius: \t\t14.97 +/- 0.53\n",
      "\n",
      "\tcme_aspect_ratio: \t\t3.02 +/- 0.66\tcme_launch_velocity: \t\t1405.48 +/- 328.54\n",
      "\n",
      "\tcme_launch_radius: \t\t14.97 +/- 0.53\tt_factor: \t\t161.74 +/- 45.97\n",
      "\tcme_expansion_rate: \t\t1.14 +/- 0.00\n",
      "\tcme_launch_velocity: \t\t1405.48 +/- 328.54\n",
      "\n",
      "\tmagnetic_decay_rate: \t\t1.64 +/- 0.00\n",
      "\tt_factor: \t\t161.74 +/- 45.97\tmagnetic_field_strength_1au: \t\t6.44 +/- 0.69\n",
      "\tcme_expansion_rate: \t\t1.14 +/- 0.00\n",
      "\n",
      "\tbackground_drag: \t\t1.62 +/- 0.72\n",
      "\tmagnetic_decay_rate: \t\t1.64 +/- 0.00\n",
      "\tbackground_velocity: \t\t613.52 +/- 56.56\n",
      "\tmagnetic_field_strength_1au: \t\t6.44 +/- 0.69\n",
      "\tbackground_drag: \t\t1.62 +/- 0.72\n",
      "\tbackground_velocity: \t\t613.52 +/- 56.56\n",
      "observer: observer:Solar Orbiter \n",
      "Solar Orbiter\n"
     ]
    },
    {
     "name": "stderr",
     "output_type": "stream",
     "text": [
      "2023-06-07 14:00:23.768 INFO    py3dcore.fluxplot: Using HelioSat to retrieve observer data\n"
     ]
    },
    {
     "name": "stdout",
     "output_type": "stream",
     "text": [
      "t_snap:"
     ]
    },
    {
     "name": "stderr",
     "output_type": "stream",
     "text": [
      "2023-06-07 14:00:23.769 INFO    py3dcore.fluxplot: Using HelioSat to retrieve observer data\n"
     ]
    },
    {
     "name": "stdout",
     "output_type": "stream",
     "text": [
      " t_snap:2022-09-08 19:00:00+00:00 \n",
      "2022-09-09 00:00:00+00:00\n",
      "observer: Parker Solar Probeobserver: \n",
      "Parker Solar Probe\n"
     ]
    },
    {
     "name": "stderr",
     "output_type": "stream",
     "text": [
      "2023-06-07 14:00:23.779 INFO    py3dcore.fluxplot: Using HelioSat to retrieve observer data\n"
     ]
    },
    {
     "name": "stdout",
     "output_type": "stream",
     "text": [
      "t_snap: "
     ]
    },
    {
     "name": "stderr",
     "output_type": "stream",
     "text": [
      "2023-06-07 14:00:23.780 INFO    py3dcore.fluxplot: Using HelioSat to retrieve observer data\n"
     ]
    },
    {
     "name": "stdout",
     "output_type": "stream",
     "text": [
      "2022-09-08 19:00:00+00:00t_snap:\n",
      " 2022-09-09 00:00:00+00:00\n",
      "Results :\n",
      "Results :\n",
      "\n",
      "\n",
      "\tcme_longitude: \t\t122.40 +/- 5.74\tcme_longitude: \t\t122.40 +/- 5.74\n",
      "\n",
      "\tcme_latitude: \t\t-1.52 +/- 8.33\tcme_latitude: \t\t-1.52 +/- 8.33\n",
      "\n",
      "\tcme_inclination: \t\t20.55 +/- 47.98\tcme_inclination: \t\t20.55 +/- 47.98\n",
      "\n",
      "\tcme_diameter_1au: \t\t0.30 +/- 0.02\tcme_diameter_1au: \t\t0.30 +/- 0.02\n",
      "\n",
      "\tcme_aspect_ratio: \t\t3.02 +/- 0.66\tcme_aspect_ratio: \t\t3.02 +/- 0.66\n",
      "\n",
      "\tcme_launch_radius: \t\t14.97 +/- 0.53\n",
      "\tcme_launch_radius: \t\t14.97 +/- 0.53\tcme_launch_velocity: \t\t1405.48 +/- 328.54\n",
      "\n",
      "\tcme_launch_velocity: \t\t1405.48 +/- 328.54\tt_factor: \t\t161.74 +/- 45.97\n",
      "\n",
      "\tt_factor: \t\t161.74 +/- 45.97\tcme_expansion_rate: \t\t1.14 +/- 0.00\n",
      "\n",
      "\tcme_expansion_rate: \t\t1.14 +/- 0.00\tmagnetic_decay_rate: \t\t1.64 +/- 0.00\n",
      "\n",
      "\tmagnetic_field_strength_1au: \t\t6.44 +/- 0.69\tmagnetic_decay_rate: \t\t1.64 +/- 0.00\n",
      "\n",
      "\tbackground_drag: \t\t1.62 +/- 0.72\tmagnetic_field_strength_1au: \t\t6.44 +/- 0.69\n",
      "\n",
      "\tbackground_velocity: \t\t613.52 +/- 56.56\tbackground_drag: \t\t1.62 +/- 0.72\n",
      "\n",
      "\tbackground_velocity: \t\t613.52 +/- 56.56\n",
      "observer: Solar Orbiter\n"
     ]
    },
    {
     "name": "stderr",
     "output_type": "stream",
     "text": [
      "2023-06-07 14:00:24.227 INFO    py3dcore.fluxplot: Using HelioSat to retrieve observer data\n"
     ]
    },
    {
     "name": "stdout",
     "output_type": "stream",
     "text": [
      "t_snap: 2022-09-09 01:00:00+00:00\n",
      "observer: Parker Solar Probe\n"
     ]
    },
    {
     "name": "stderr",
     "output_type": "stream",
     "text": [
      "2023-06-07 14:00:24.242 INFO    py3dcore.fluxplot: Using HelioSat to retrieve observer data\n"
     ]
    },
    {
     "name": "stdout",
     "output_type": "stream",
     "text": [
      "t_snap: 2022-09-09 01:00:00+00:00\n",
      "observer: Solar Orbiter\n"
     ]
    },
    {
     "name": "stderr",
     "output_type": "stream",
     "text": [
      "2023-06-07 14:00:24.250 INFO    py3dcore.fluxplot: Using HelioSat to retrieve observer data\n"
     ]
    },
    {
     "name": "stdout",
     "output_type": "stream",
     "text": [
      "t_snap: 2022-09-08 20:00:00+00:00\n",
      "observer: Parker Solar Probe\n"
     ]
    },
    {
     "name": "stderr",
     "output_type": "stream",
     "text": [
      "2023-06-07 14:00:24.261 INFO    py3dcore.fluxplot: Using HelioSat to retrieve observer data\n"
     ]
    },
    {
     "name": "stdout",
     "output_type": "stream",
     "text": [
      "t_snap: 2022-09-08 20:00:00+00:00\n",
      "Results :\n",
      "\n",
      "\tcme_longitude: \t\t122.40 +/- 5.74\n",
      "\tcme_latitude: \t\t-1.52 +/- 8.33\n",
      "\tcme_inclination: \t\t20.55 +/- 47.98\n",
      "\tcme_diameter_1au: \t\t0.30 +/- 0.02\n",
      "\tcme_aspect_ratio: \t\t3.02 +/- 0.66\n",
      "\tcme_launch_radius: \t\t14.97 +/- 0.53\n",
      "\tcme_launch_velocity: \t\t1405.48 +/- 328.54\n",
      "\tt_factor: \t\t161.74 +/- 45.97\n",
      "\tcme_expansion_rate: \t\t1.14 +/- 0.00\n",
      "\tmagnetic_decay_rate: \t\t1.64 +/- 0.00\n",
      "\tmagnetic_field_strength_1au: \t\t6.44 +/- 0.69\n",
      "\tbackground_drag: \t\t1.62 +/- 0.72\n",
      "\tbackground_velocity: \t\t613.52 +/- 56.56Results :\n",
      "\n",
      "\n",
      "\tcme_longitude: \t\t122.40 +/- 5.74\n",
      "\tcme_latitude: \t\t-1.52 +/- 8.33\n",
      "\tcme_inclination: \t\t20.55 +/- 47.98\n",
      "\tcme_diameter_1au: \t\t0.30 +/- 0.02\n",
      "\tcme_aspect_ratio: \t\t3.02 +/- 0.66\n",
      "\tcme_launch_radius: \t\t14.97 +/- 0.53\n",
      "\tcme_launch_velocity: \t\t1405.48 +/- 328.54\n",
      "\tt_factor: \t\t161.74 +/- 45.97\n",
      "\tcme_expansion_rate: \t\t1.14 +/- 0.00\n",
      "\tmagnetic_decay_rate: \t\t1.64 +/- 0.00\n",
      "\tmagnetic_field_strength_1au: \t\t6.44 +/- 0.69\n",
      "\tbackground_drag: \t\t1.62 +/- 0.72\n",
      "\tbackground_velocity: \t\t613.52 +/- 56.56\n",
      "observer: Solar Orbiter\n",
      "observer: "
     ]
    },
    {
     "name": "stderr",
     "output_type": "stream",
     "text": [
      "2023-06-07 14:00:25.439 INFO    py3dcore.fluxplot: Using HelioSat to retrieve observer data\n"
     ]
    },
    {
     "name": "stdout",
     "output_type": "stream",
     "text": [
      "Solar Orbitert_snap:\n",
      " 2022-09-09 02:00:00+00:00\n"
     ]
    },
    {
     "name": "stderr",
     "output_type": "stream",
     "text": [
      "2023-06-07 14:00:25.442 INFO    py3dcore.fluxplot: Using HelioSat to retrieve observer data\n"
     ]
    },
    {
     "name": "stdout",
     "output_type": "stream",
     "text": [
      "t_snap: 2022-09-09 07:00:00+00:00\n",
      "observer: Parker Solar Probe\n",
      "observer: "
     ]
    },
    {
     "name": "stderr",
     "output_type": "stream",
     "text": [
      "2023-06-07 14:00:25.450 INFO    py3dcore.fluxplot: Using HelioSat to retrieve observer data\n"
     ]
    },
    {
     "name": "stdout",
     "output_type": "stream",
     "text": [
      "Parker Solar Probet_snap:\n",
      " 2022-09-09 02:00:00+00:00\n"
     ]
    },
    {
     "name": "stderr",
     "output_type": "stream",
     "text": [
      "2023-06-07 14:00:25.452 INFO    py3dcore.fluxplot: Using HelioSat to retrieve observer data\n"
     ]
    },
    {
     "name": "stdout",
     "output_type": "stream",
     "text": [
      "t_snap: 2022-09-09 07:00:00+00:00\n",
      "Results :\n",
      "\n",
      "\tcme_longitude: \t\t122.40 +/- 5.74\n",
      "\tcme_latitude: \t\t-1.52 +/- 8.33\n",
      "Results :\n",
      "\n",
      "\tcme_inclination: \t\t20.55 +/- 47.98\n",
      "\tcme_diameter_1au: \t\t0.30 +/- 0.02\tcme_longitude: \t\t122.40 +/- 5.74\n",
      "\n",
      "\tcme_aspect_ratio: \t\t3.02 +/- 0.66\tcme_latitude: \t\t-1.52 +/- 8.33\n",
      "\n",
      "\tcme_inclination: \t\t20.55 +/- 47.98\tcme_launch_radius: \t\t14.97 +/- 0.53\n",
      "\n",
      "\tcme_diameter_1au: \t\t0.30 +/- 0.02\tcme_launch_velocity: \t\t1405.48 +/- 328.54\n",
      "\n",
      "\tcme_aspect_ratio: \t\t3.02 +/- 0.66\tt_factor: \t\t161.74 +/- 45.97\n",
      "\n",
      "\tcme_launch_radius: \t\t14.97 +/- 0.53\tcme_expansion_rate: \t\t1.14 +/- 0.00\n",
      "\n",
      "\tcme_launch_velocity: \t\t1405.48 +/- 328.54\n",
      "\tmagnetic_decay_rate: \t\t1.64 +/- 0.00\tt_factor: \t\t161.74 +/- 45.97\n",
      "\tmagnetic_field_strength_1au: \t\t6.44 +/- 0.69\n",
      "\n",
      "\tcme_expansion_rate: \t\t1.14 +/- 0.00\n",
      "\tbackground_drag: \t\t1.62 +/- 0.72\tmagnetic_decay_rate: \t\t1.64 +/- 0.00\n",
      "\tbackground_velocity: \t\t613.52 +/- 56.56\n",
      "\tmagnetic_field_strength_1au: \t\t6.44 +/- 0.69\n",
      "\n",
      "\tbackground_drag: \t\t1.62 +/- 0.72\n",
      "\tbackground_velocity: \t\t613.52 +/- 56.56\n",
      "observer: Solar Orbiterobserver:\n",
      " Solar Orbiter"
     ]
    },
    {
     "name": "stderr",
     "output_type": "stream",
     "text": [
      "2023-06-07 14:00:25.926 INFO    py3dcore.fluxplot: Using HelioSat to retrieve observer data\n"
     ]
    },
    {
     "name": "stdout",
     "output_type": "stream",
     "text": [
      "\n",
      "t_snap: "
     ]
    },
    {
     "name": "stderr",
     "output_type": "stream",
     "text": [
      "2023-06-07 14:00:25.928 INFO    py3dcore.fluxplot: Using HelioSat to retrieve observer data\n"
     ]
    },
    {
     "name": "stdout",
     "output_type": "stream",
     "text": [
      "2022-09-09 03:00:00+00:00t_snap:\n",
      " 2022-09-09 08:00:00+00:00\n",
      "observer: Parker Solar Probeobserver:\n",
      " Parker Solar Probe\n"
     ]
    },
    {
     "name": "stderr",
     "output_type": "stream",
     "text": [
      "2023-06-07 14:00:25.937 INFO    py3dcore.fluxplot: Using HelioSat to retrieve observer data\n"
     ]
    },
    {
     "name": "stdout",
     "output_type": "stream",
     "text": [
      "t_snap: "
     ]
    },
    {
     "name": "stderr",
     "output_type": "stream",
     "text": [
      "2023-06-07 14:00:25.938 INFO    py3dcore.fluxplot: Using HelioSat to retrieve observer data\n"
     ]
    },
    {
     "name": "stdout",
     "output_type": "stream",
     "text": [
      "2022-09-09 03:00:00+00:00t_snap:\n",
      " 2022-09-09 08:00:00+00:00\n",
      "Results :\n",
      "Results :\n",
      "\n",
      "\n",
      "\tcme_longitude: \t\t122.40 +/- 5.74\tcme_longitude: \t\t122.40 +/- 5.74\n",
      "\n",
      "\tcme_latitude: \t\t-1.52 +/- 8.33\n",
      "\tcme_inclination: \t\t20.55 +/- 47.98\n",
      "\tcme_latitude: \t\t-1.52 +/- 8.33\tcme_diameter_1au: \t\t0.30 +/- 0.02\n",
      "\n",
      "\tcme_inclination: \t\t20.55 +/- 47.98\tcme_aspect_ratio: \t\t3.02 +/- 0.66\n",
      "\tcme_diameter_1au: \t\t0.30 +/- 0.02\n",
      "\tcme_launch_radius: \t\t14.97 +/- 0.53\n",
      "\n",
      "\tcme_launch_velocity: \t\t1405.48 +/- 328.54\tcme_aspect_ratio: \t\t3.02 +/- 0.66\n",
      "\n",
      "\tt_factor: \t\t161.74 +/- 45.97\tcme_launch_radius: \t\t14.97 +/- 0.53\n",
      "\n",
      "\tcme_launch_velocity: \t\t1405.48 +/- 328.54\tcme_expansion_rate: \t\t1.14 +/- 0.00\n",
      "\n",
      "\tmagnetic_decay_rate: \t\t1.64 +/- 0.00\tt_factor: \t\t161.74 +/- 45.97\n",
      "\n",
      "\tmagnetic_field_strength_1au: \t\t6.44 +/- 0.69\tcme_expansion_rate: \t\t1.14 +/- 0.00\n",
      "\n",
      "\tbackground_drag: \t\t1.62 +/- 0.72\tmagnetic_decay_rate: \t\t1.64 +/- 0.00\n",
      "\n",
      "\tbackground_velocity: \t\t613.52 +/- 56.56\n",
      "\tmagnetic_field_strength_1au: \t\t6.44 +/- 0.69\n",
      "\tbackground_drag: \t\t1.62 +/- 0.72\n",
      "\tbackground_velocity: \t\t613.52 +/- 56.56\n",
      "observer: Solar Orbiterobserver:\n",
      " Solar Orbiter"
     ]
    },
    {
     "name": "stderr",
     "output_type": "stream",
     "text": [
      "2023-06-07 14:00:26.422 INFO    py3dcore.fluxplot: Using HelioSat to retrieve observer data\n"
     ]
    },
    {
     "name": "stdout",
     "output_type": "stream",
     "text": [
      "\n",
      "t_snap: "
     ]
    },
    {
     "name": "stderr",
     "output_type": "stream",
     "text": [
      "2023-06-07 14:00:26.423 INFO    py3dcore.fluxplot: Using HelioSat to retrieve observer data\n"
     ]
    },
    {
     "name": "stdout",
     "output_type": "stream",
     "text": [
      "2022-09-09 04:00:00+00:00t_snap:\n",
      " 2022-09-09 09:00:00+00:00\n",
      "observer:observer: Parker Solar Probe \n",
      "Parker Solar Probe\n"
     ]
    },
    {
     "name": "stderr",
     "output_type": "stream",
     "text": [
      "2023-06-07 14:00:26.432 INFO    py3dcore.fluxplot: Using HelioSat to retrieve observer data\n",
      "2023-06-07 14:00:26.433 INFO    py3dcore.fluxplot: Using HelioSat to retrieve observer data\n"
     ]
    },
    {
     "name": "stdout",
     "output_type": "stream",
     "text": [
      "t_snap: t_snap:2022-09-09 04:00:00+00:00 \n",
      "2022-09-09 09:00:00+00:00\n",
      "Results :\n",
      "\n",
      "\tcme_longitude: \t\t122.40 +/- 5.74\n",
      "Results :\n",
      "\tcme_latitude: \t\t-1.52 +/- 8.33\n",
      "\tcme_inclination: \t\t20.55 +/- 47.98\n",
      "\tcme_diameter_1au: \t\t0.30 +/- 0.02\n",
      "\n",
      "\tcme_longitude: \t\t122.40 +/- 5.74\n",
      "\tcme_aspect_ratio: \t\t3.02 +/- 0.66\tcme_latitude: \t\t-1.52 +/- 8.33\n",
      "\tcme_launch_radius: \t\t14.97 +/- 0.53\n",
      "\n",
      "\tcme_launch_velocity: \t\t1405.48 +/- 328.54\tcme_inclination: \t\t20.55 +/- 47.98\n",
      "\n",
      "\tt_factor: \t\t161.74 +/- 45.97\tcme_diameter_1au: \t\t0.30 +/- 0.02\n",
      "\tcme_expansion_rate: \t\t1.14 +/- 0.00\n",
      "\tcme_aspect_ratio: \t\t3.02 +/- 0.66\n",
      "\n",
      "\tmagnetic_decay_rate: \t\t1.64 +/- 0.00\tcme_launch_radius: \t\t14.97 +/- 0.53\n",
      "\n",
      "\tmagnetic_field_strength_1au: \t\t6.44 +/- 0.69\tcme_launch_velocity: \t\t1405.48 +/- 328.54\n",
      "\n",
      "\tt_factor: \t\t161.74 +/- 45.97\tbackground_drag: \t\t1.62 +/- 0.72\n",
      "\n",
      "\tcme_expansion_rate: \t\t1.14 +/- 0.00\n",
      "\tbackground_velocity: \t\t613.52 +/- 56.56\tmagnetic_decay_rate: \t\t1.64 +/- 0.00\n",
      "\n",
      "\tmagnetic_field_strength_1au: \t\t6.44 +/- 0.69\n",
      "\tbackground_drag: \t\t1.62 +/- 0.72\n",
      "\tbackground_velocity: \t\t613.52 +/- 56.56\n",
      "observer:observer:  Solar OrbiterSolar Orbiter\n",
      "\n"
     ]
    },
    {
     "name": "stderr",
     "output_type": "stream",
     "text": [
      "2023-06-07 14:00:26.920 INFO    py3dcore.fluxplot: Using HelioSat to retrieve observer data\n",
      "2023-06-07 14:00:26.920 INFO    py3dcore.fluxplot: Using HelioSat to retrieve observer data\n"
     ]
    },
    {
     "name": "stdout",
     "output_type": "stream",
     "text": [
      "t_snap:t_snap:  2022-09-09 05:00:00+00:002022-09-09 10:00:00+00:00\n",
      "\n",
      "observer:observer:  Parker Solar ProbeParker Solar Probe\n",
      "\n"
     ]
    },
    {
     "name": "stderr",
     "output_type": "stream",
     "text": [
      "2023-06-07 14:00:26.930 INFO    py3dcore.fluxplot: Using HelioSat to retrieve observer data\n",
      "2023-06-07 14:00:26.930 INFO    py3dcore.fluxplot: Using HelioSat to retrieve observer data\n"
     ]
    },
    {
     "name": "stdout",
     "output_type": "stream",
     "text": [
      "t_snap:t_snap: 2022-09-09 10:00:00+00:00 2022-09-09 05:00:00+00:00\n",
      "\n",
      "Results :\n",
      "Results :\n",
      "\n",
      "\n",
      "\tcme_longitude: \t\t122.40 +/- 5.74\tcme_longitude: \t\t122.40 +/- 5.74\n",
      "\n",
      "\tcme_latitude: \t\t-1.52 +/- 8.33\tcme_latitude: \t\t-1.52 +/- 8.33\n",
      "\n",
      "\tcme_inclination: \t\t20.55 +/- 47.98\n",
      "\tcme_diameter_1au: \t\t0.30 +/- 0.02\n",
      "\tcme_aspect_ratio: \t\t3.02 +/- 0.66\tcme_inclination: \t\t20.55 +/- 47.98\n",
      "\n",
      "\tcme_launch_radius: \t\t14.97 +/- 0.53\tcme_diameter_1au: \t\t0.30 +/- 0.02\n",
      "\n",
      "\tcme_aspect_ratio: \t\t3.02 +/- 0.66\tcme_launch_velocity: \t\t1405.48 +/- 328.54\n",
      "\n",
      "\tcme_launch_radius: \t\t14.97 +/- 0.53\tt_factor: \t\t161.74 +/- 45.97\n",
      "\n",
      "\tcme_launch_velocity: \t\t1405.48 +/- 328.54\n",
      "\tcme_expansion_rate: \t\t1.14 +/- 0.00\tt_factor: \t\t161.74 +/- 45.97\n",
      "\tmagnetic_decay_rate: \t\t1.64 +/- 0.00\n",
      "\tcme_expansion_rate: \t\t1.14 +/- 0.00\n",
      "\tmagnetic_field_strength_1au: \t\t6.44 +/- 0.69\n",
      "\tmagnetic_decay_rate: \t\t1.64 +/- 0.00\n",
      "\tbackground_drag: \t\t1.62 +/- 0.72\n",
      "\n",
      "\tmagnetic_field_strength_1au: \t\t6.44 +/- 0.69\n",
      "\tbackground_velocity: \t\t613.52 +/- 56.56\n",
      "\tbackground_drag: \t\t1.62 +/- 0.72\n",
      "\tbackground_velocity: \t\t613.52 +/- 56.56\n",
      "observer: observer:Solar Orbiter \n",
      "Solar Orbiter\n"
     ]
    },
    {
     "name": "stderr",
     "output_type": "stream",
     "text": [
      "2023-06-07 14:00:27.417 INFO    py3dcore.fluxplot: Using HelioSat to retrieve observer data\n"
     ]
    },
    {
     "name": "stdout",
     "output_type": "stream",
     "text": [
      "t_snap:"
     ]
    },
    {
     "name": "stderr",
     "output_type": "stream",
     "text": [
      "2023-06-07 14:00:27.418 INFO    py3dcore.fluxplot: Using HelioSat to retrieve observer data\n"
     ]
    },
    {
     "name": "stdout",
     "output_type": "stream",
     "text": [
      " t_snap:2022-09-09 06:00:00+00:00 \n",
      "2022-09-09 11:00:00+00:00observer:\n",
      " Parker Solar Probe\n"
     ]
    },
    {
     "name": "stderr",
     "output_type": "stream",
     "text": [
      "2023-06-07 14:00:27.427 INFO    py3dcore.fluxplot: Using HelioSat to retrieve observer data\n"
     ]
    },
    {
     "name": "stdout",
     "output_type": "stream",
     "text": [
      "t_snap: 2022-09-09 06:00:00+00:00\n",
      "observer: Parker Solar Probe\n"
     ]
    },
    {
     "name": "stderr",
     "output_type": "stream",
     "text": [
      "2023-06-07 14:00:27.433 INFO    py3dcore.fluxplot: Using HelioSat to retrieve observer data\n"
     ]
    },
    {
     "name": "stdout",
     "output_type": "stream",
     "text": [
      "t_snap: 2022-09-09 11:00:00+00:00\n",
      "Results :\n",
      "\n",
      "\tcme_longitude: \t\t122.40 +/- 5.74\n",
      "\tcme_latitude: \t\t-1.52 +/- 8.33\n",
      "\tcme_inclination: \t\t20.55 +/- 47.98\n",
      "\tcme_diameter_1au: \t\t0.30 +/- 0.02\n",
      "\tcme_aspect_ratio: \t\t3.02 +/- 0.66\n",
      "\tcme_launch_radius: \t\t14.97 +/- 0.53\n",
      "\tcme_launch_velocity: \t\t1405.48 +/- 328.54\n",
      "\tt_factor: \t\t161.74 +/- 45.97\n",
      "\tcme_expansion_rate: \t\t1.14 +/- 0.00\n",
      "\tmagnetic_decay_rate: \t\t1.64 +/- 0.00\n",
      "\tmagnetic_field_strength_1au: \t\t6.44 +/- 0.69\n",
      "\tbackground_drag: \t\t1.62 +/- 0.72Results :\n",
      "\n",
      "\n",
      "\tcme_longitude: \t\t122.40 +/- 5.74\tbackground_velocity: \t\t613.52 +/- 56.56\n",
      "\n",
      "\tcme_latitude: \t\t-1.52 +/- 8.33\n",
      "\tcme_inclination: \t\t20.55 +/- 47.98\n",
      "\tcme_diameter_1au: \t\t0.30 +/- 0.02\n",
      "\tcme_aspect_ratio: \t\t3.02 +/- 0.66\n",
      "\tcme_launch_radius: \t\t14.97 +/- 0.53\n",
      "\tcme_launch_velocity: \t\t1405.48 +/- 328.54\n",
      "\tt_factor: \t\t161.74 +/- 45.97\n",
      "\tcme_expansion_rate: \t\t1.14 +/- 0.00\n",
      "\tmagnetic_decay_rate: \t\t1.64 +/- 0.00\n",
      "\tmagnetic_field_strength_1au: \t\t6.44 +/- 0.69\n",
      "\tbackground_drag: \t\t1.62 +/- 0.72\n",
      "\tbackground_velocity: \t\t613.52 +/- 56.56\n",
      "observer:observer:  Solar Orbiter\n",
      "Solar Orbiter\n"
     ]
    },
    {
     "name": "stderr",
     "output_type": "stream",
     "text": [
      "2023-06-07 14:00:28.618 INFO    py3dcore.fluxplot: Using HelioSat to retrieve observer data\n",
      "2023-06-07 14:00:28.618 INFO    py3dcore.fluxplot: Using HelioSat to retrieve observer data\n"
     ]
    },
    {
     "name": "stdout",
     "output_type": "stream",
     "text": [
      "t_snap:t_snap:  2022-09-09 12:00:00+00:002022-09-09 17:00:00+00:00\n",
      "\n",
      "observer:observer:  Parker Solar ProbeParker Solar Probe\n",
      "\n"
     ]
    },
    {
     "name": "stderr",
     "output_type": "stream",
     "text": [
      "2023-06-07 14:00:28.627 INFO    py3dcore.fluxplot: Using HelioSat to retrieve observer data\n",
      "2023-06-07 14:00:28.627 INFO    py3dcore.fluxplot: Using HelioSat to retrieve observer data\n"
     ]
    },
    {
     "name": "stdout",
     "output_type": "stream",
     "text": [
      "t_snap:t_snap:  2022-09-09 17:00:00+00:002022-09-09 12:00:00+00:00\n",
      "\n",
      "Results :\n",
      "Results :\n",
      "\n",
      "\n",
      "\tcme_longitude: \t\t122.40 +/- 5.74\tcme_longitude: \t\t122.40 +/- 5.74\n",
      "\n",
      "\tcme_latitude: \t\t-1.52 +/- 8.33\tcme_latitude: \t\t-1.52 +/- 8.33\n",
      "\n",
      "\tcme_inclination: \t\t20.55 +/- 47.98\tcme_inclination: \t\t20.55 +/- 47.98\n",
      "\tcme_diameter_1au: \t\t0.30 +/- 0.02\n",
      "\tcme_aspect_ratio: \t\t3.02 +/- 0.66\n",
      "\n",
      "\tcme_diameter_1au: \t\t0.30 +/- 0.02\tcme_launch_radius: \t\t14.97 +/- 0.53\n",
      "\n",
      "\tcme_launch_velocity: \t\t1405.48 +/- 328.54\tcme_aspect_ratio: \t\t3.02 +/- 0.66\n",
      "\n",
      "\tt_factor: \t\t161.74 +/- 45.97\tcme_launch_radius: \t\t14.97 +/- 0.53\n",
      "\n",
      "\tcme_launch_velocity: \t\t1405.48 +/- 328.54\tcme_expansion_rate: \t\t1.14 +/- 0.00\n",
      "\n",
      "\tt_factor: \t\t161.74 +/- 45.97\tmagnetic_decay_rate: \t\t1.64 +/- 0.00\n",
      "\n",
      "\tcme_expansion_rate: \t\t1.14 +/- 0.00\tmagnetic_field_strength_1au: \t\t6.44 +/- 0.69\n",
      "\tmagnetic_decay_rate: \t\t1.64 +/- 0.00\n",
      "\n",
      "\tbackground_drag: \t\t1.62 +/- 0.72\tmagnetic_field_strength_1au: \t\t6.44 +/- 0.69\n",
      "\n",
      "\tbackground_velocity: \t\t613.52 +/- 56.56\tbackground_drag: \t\t1.62 +/- 0.72\n",
      "\n",
      "\tbackground_velocity: \t\t613.52 +/- 56.56\n",
      "observer: Solar Orbiter\n"
     ]
    },
    {
     "name": "stderr",
     "output_type": "stream",
     "text": [
      "2023-06-07 14:00:29.059 INFO    py3dcore.fluxplot: Using HelioSat to retrieve observer data\n"
     ]
    },
    {
     "name": "stdout",
     "output_type": "stream",
     "text": [
      "observer:t_snap:  2022-09-09 18:00:00+00:00Solar Orbiter\n",
      "\n"
     ]
    },
    {
     "name": "stderr",
     "output_type": "stream",
     "text": [
      "2023-06-07 14:00:29.069 INFO    py3dcore.fluxplot: Using HelioSat to retrieve observer data\n"
     ]
    },
    {
     "name": "stdout",
     "output_type": "stream",
     "text": [
      "t_snap:observer:  2022-09-09 13:00:00+00:00Parker Solar Probe\n",
      "\n"
     ]
    },
    {
     "name": "stderr",
     "output_type": "stream",
     "text": [
      "2023-06-07 14:00:29.078 INFO    py3dcore.fluxplot: Using HelioSat to retrieve observer data\n"
     ]
    },
    {
     "name": "stdout",
     "output_type": "stream",
     "text": [
      "t_snap:observer:  2022-09-09 18:00:00+00:00Parker Solar Probe\n",
      "\n"
     ]
    },
    {
     "name": "stderr",
     "output_type": "stream",
     "text": [
      "2023-06-07 14:00:29.091 INFO    py3dcore.fluxplot: Using HelioSat to retrieve observer data\n"
     ]
    },
    {
     "name": "stdout",
     "output_type": "stream",
     "text": [
      "t_snap: 2022-09-09 13:00:00+00:00\n",
      "Results :\n",
      "\n",
      "\tcme_longitude: \t\t122.40 +/- 5.74Results :\n",
      "\n",
      "\n",
      "\tcme_longitude: \t\t122.40 +/- 5.74\tcme_latitude: \t\t-1.52 +/- 8.33\n",
      "\n",
      "\tcme_inclination: \t\t20.55 +/- 47.98\tcme_latitude: \t\t-1.52 +/- 8.33\n",
      "\n",
      "\tcme_diameter_1au: \t\t0.30 +/- 0.02\tcme_inclination: \t\t20.55 +/- 47.98\n",
      "\n",
      "\tcme_diameter_1au: \t\t0.30 +/- 0.02\tcme_aspect_ratio: \t\t3.02 +/- 0.66\n",
      "\n",
      "\tcme_aspect_ratio: \t\t3.02 +/- 0.66\tcme_launch_radius: \t\t14.97 +/- 0.53\n",
      "\n",
      "\tcme_launch_radius: \t\t14.97 +/- 0.53\tcme_launch_velocity: \t\t1405.48 +/- 328.54\n",
      "\n",
      "\tcme_launch_velocity: \t\t1405.48 +/- 328.54\tt_factor: \t\t161.74 +/- 45.97\n",
      "\n",
      "\tcme_expansion_rate: \t\t1.14 +/- 0.00\tt_factor: \t\t161.74 +/- 45.97\n",
      "\n",
      "\tcme_expansion_rate: \t\t1.14 +/- 0.00\tmagnetic_decay_rate: \t\t1.64 +/- 0.00\n",
      "\n",
      "\tmagnetic_decay_rate: \t\t1.64 +/- 0.00\tmagnetic_field_strength_1au: \t\t6.44 +/- 0.69\n",
      "\n",
      "\tmagnetic_field_strength_1au: \t\t6.44 +/- 0.69\tbackground_drag: \t\t1.62 +/- 0.72\n",
      "\n",
      "\tbackground_drag: \t\t1.62 +/- 0.72\tbackground_velocity: \t\t613.52 +/- 56.56\n",
      "\tbackground_velocity: \t\t613.52 +/- 56.56\n",
      "\n",
      "observer: Solar Orbiter\n",
      "observer:"
     ]
    },
    {
     "name": "stderr",
     "output_type": "stream",
     "text": [
      "2023-06-07 14:00:29.573 INFO    py3dcore.fluxplot: Using HelioSat to retrieve observer data\n"
     ]
    },
    {
     "name": "stdout",
     "output_type": "stream",
     "text": [
      " Solar Orbitert_snap:\n",
      " 2022-09-09 14:00:00+00:00"
     ]
    },
    {
     "name": "stderr",
     "output_type": "stream",
     "text": [
      "2023-06-07 14:00:29.576 INFO    py3dcore.fluxplot: Using HelioSat to retrieve observer data\n"
     ]
    },
    {
     "name": "stdout",
     "output_type": "stream",
     "text": [
      "\n",
      "t_snap: 2022-09-09 19:00:00+00:00\n",
      "observer: Parker Solar Probeobserver:\n",
      " Parker Solar Probe"
     ]
    },
    {
     "name": "stderr",
     "output_type": "stream",
     "text": [
      "2023-06-07 14:00:29.584 INFO    py3dcore.fluxplot: Using HelioSat to retrieve observer data\n"
     ]
    },
    {
     "name": "stdout",
     "output_type": "stream",
     "text": [
      "\n",
      "t_snap: 2022-09-09 14:00:00+00:00"
     ]
    },
    {
     "name": "stderr",
     "output_type": "stream",
     "text": [
      "2023-06-07 14:00:29.586 INFO    py3dcore.fluxplot: Using HelioSat to retrieve observer data\n"
     ]
    },
    {
     "name": "stdout",
     "output_type": "stream",
     "text": [
      "\n",
      "t_snap: 2022-09-09 19:00:00+00:00\n",
      "Results :\n",
      "\n",
      "Results :\n",
      "\tcme_longitude: \t\t122.40 +/- 5.74\n",
      "\n",
      "\tcme_longitude: \t\t122.40 +/- 5.74\tcme_latitude: \t\t-1.52 +/- 8.33\n",
      "\n",
      "\tcme_latitude: \t\t-1.52 +/- 8.33\tcme_inclination: \t\t20.55 +/- 47.98\n",
      "\n",
      "\tcme_inclination: \t\t20.55 +/- 47.98\tcme_diameter_1au: \t\t0.30 +/- 0.02\n",
      "\n",
      "\tcme_diameter_1au: \t\t0.30 +/- 0.02\tcme_aspect_ratio: \t\t3.02 +/- 0.66\n",
      "\tcme_aspect_ratio: \t\t3.02 +/- 0.66\n",
      "\n",
      "\tcme_launch_radius: \t\t14.97 +/- 0.53\tcme_launch_radius: \t\t14.97 +/- 0.53\n",
      "\n",
      "\tcme_launch_velocity: \t\t1405.48 +/- 328.54\n",
      "\tcme_launch_velocity: \t\t1405.48 +/- 328.54\tt_factor: \t\t161.74 +/- 45.97\n",
      "\n",
      "\tt_factor: \t\t161.74 +/- 45.97\n",
      "\tcme_expansion_rate: \t\t1.14 +/- 0.00\n",
      "\tcme_expansion_rate: \t\t1.14 +/- 0.00\tmagnetic_decay_rate: \t\t1.64 +/- 0.00\n",
      "\n",
      "\tmagnetic_decay_rate: \t\t1.64 +/- 0.00\tmagnetic_field_strength_1au: \t\t6.44 +/- 0.69\n",
      "\n",
      "\tbackground_drag: \t\t1.62 +/- 0.72\tmagnetic_field_strength_1au: \t\t6.44 +/- 0.69\n",
      "\n",
      "\tbackground_velocity: \t\t613.52 +/- 56.56\tbackground_drag: \t\t1.62 +/- 0.72\n",
      "\n",
      "\tbackground_velocity: \t\t613.52 +/- 56.56\n",
      "observer: Solar Orbiter\n",
      "observer:"
     ]
    },
    {
     "name": "stderr",
     "output_type": "stream",
     "text": [
      "2023-06-07 14:00:30.051 INFO    py3dcore.fluxplot: Using HelioSat to retrieve observer data\n"
     ]
    },
    {
     "name": "stdout",
     "output_type": "stream",
     "text": [
      " Solar Orbitert_snap:\n",
      " 2022-09-09 15:00:00+00:00"
     ]
    },
    {
     "name": "stderr",
     "output_type": "stream",
     "text": [
      "2023-06-07 14:00:30.054 INFO    py3dcore.fluxplot: Using HelioSat to retrieve observer data\n"
     ]
    },
    {
     "name": "stdout",
     "output_type": "stream",
     "text": [
      "\n",
      "t_snap: 2022-09-09 20:00:00+00:00\n",
      "observer: Parker Solar Probeobserver:\n",
      " Parker Solar Probe\n"
     ]
    },
    {
     "name": "stderr",
     "output_type": "stream",
     "text": [
      "2023-06-07 14:00:30.065 INFO    py3dcore.fluxplot: Using HelioSat to retrieve observer data\n"
     ]
    },
    {
     "name": "stdout",
     "output_type": "stream",
     "text": [
      "t_snap: "
     ]
    },
    {
     "name": "stderr",
     "output_type": "stream",
     "text": [
      "2023-06-07 14:00:30.066 INFO    py3dcore.fluxplot: Using HelioSat to retrieve observer data\n"
     ]
    },
    {
     "name": "stdout",
     "output_type": "stream",
     "text": [
      "2022-09-09 15:00:00+00:00t_snap:\n",
      " 2022-09-09 20:00:00+00:00\n",
      "Results :\n",
      "\n",
      "\tcme_longitude: \t\t122.40 +/- 5.74\n",
      "\tcme_latitude: \t\t-1.52 +/- 8.33\n",
      "Results :\n",
      "\n",
      "\tcme_inclination: \t\t20.55 +/- 47.98\tcme_longitude: \t\t122.40 +/- 5.74\n",
      "\n",
      "\tcme_diameter_1au: \t\t0.30 +/- 0.02\tcme_latitude: \t\t-1.52 +/- 8.33\n",
      "\n",
      "\tcme_aspect_ratio: \t\t3.02 +/- 0.66\tcme_inclination: \t\t20.55 +/- 47.98\n",
      "\n",
      "\tcme_launch_radius: \t\t14.97 +/- 0.53\n",
      "\tcme_diameter_1au: \t\t0.30 +/- 0.02\n",
      "\tcme_launch_velocity: \t\t1405.48 +/- 328.54\n",
      "\tcme_aspect_ratio: \t\t3.02 +/- 0.66\tt_factor: \t\t161.74 +/- 45.97\n",
      "\tcme_launch_radius: \t\t14.97 +/- 0.53\n",
      "\n",
      "\tcme_expansion_rate: \t\t1.14 +/- 0.00\tcme_launch_velocity: \t\t1405.48 +/- 328.54\n",
      "\n",
      "\tmagnetic_decay_rate: \t\t1.64 +/- 0.00\tt_factor: \t\t161.74 +/- 45.97\n",
      "\tmagnetic_field_strength_1au: \t\t6.44 +/- 0.69\n",
      "\n",
      "\tcme_expansion_rate: \t\t1.14 +/- 0.00\tbackground_drag: \t\t1.62 +/- 0.72\n",
      "\n",
      "\tmagnetic_decay_rate: \t\t1.64 +/- 0.00\tbackground_velocity: \t\t613.52 +/- 56.56\n",
      "\tmagnetic_field_strength_1au: \t\t6.44 +/- 0.69\n",
      "\n",
      "\tbackground_drag: \t\t1.62 +/- 0.72\n",
      "\tbackground_velocity: \t\t613.52 +/- 56.56\n",
      "observer: Solar Orbiter\n"
     ]
    },
    {
     "name": "stderr",
     "output_type": "stream",
     "text": [
      "2023-06-07 14:00:30.522 INFO    py3dcore.fluxplot: Using HelioSat to retrieve observer data\n"
     ]
    },
    {
     "name": "stdout",
     "output_type": "stream",
     "text": [
      "t_snap: 2022-09-09 21:00:00+00:00\n",
      "observer: Parker Solar Probe\n"
     ]
    },
    {
     "name": "stderr",
     "output_type": "stream",
     "text": [
      "2023-06-07 14:00:30.536 INFO    py3dcore.fluxplot: Using HelioSat to retrieve observer data\n"
     ]
    },
    {
     "name": "stdout",
     "output_type": "stream",
     "text": [
      "t_snap: 2022-09-09 21:00:00+00:00\n",
      "observer: Solar Orbiter\n"
     ]
    },
    {
     "name": "stderr",
     "output_type": "stream",
     "text": [
      "2023-06-07 14:00:30.550 INFO    py3dcore.fluxplot: Using HelioSat to retrieve observer data\n"
     ]
    },
    {
     "name": "stdout",
     "output_type": "stream",
     "text": [
      "t_snap: 2022-09-09 16:00:00+00:00\n",
      "observer: Parker Solar Probe\n"
     ]
    },
    {
     "name": "stderr",
     "output_type": "stream",
     "text": [
      "2023-06-07 14:00:30.562 INFO    py3dcore.fluxplot: Using HelioSat to retrieve observer data\n"
     ]
    },
    {
     "name": "stdout",
     "output_type": "stream",
     "text": [
      "t_snap: 2022-09-09 16:00:00+00:00\n",
      "done 4/4\n"
     ]
    }
   ],
   "source": [
    "inn = [i for i in range(100)]\n",
    "\n",
    "\n",
    "mpool = mp.Pool(processes=2)\n",
    "mpool.map(make_frame, inn[0:20])\n",
    "mpool.close()\n",
    "mpool.join()\n",
    "\n",
    "print('done 1/4')\n",
    "\n",
    "mpool = mp.Pool(processes=2)\n",
    "mpool.map(make_frame, inn[20:40])\n",
    "mpool.close()\n",
    "mpool.join()\n",
    "\n",
    "print('done 2/4')\n",
    "\n",
    "mpool = mp.Pool(processes=2)\n",
    "mpool.map(make_frame, inn[40:60])\n",
    "mpool.close()\n",
    "mpool.join()\n",
    "\n",
    "print('done 3/4')\n",
    "\n",
    "mpool = mp.Pool(processes=2)\n",
    "mpool.map(make_frame, inn[60:100])\n",
    "mpool.close()\n",
    "mpool.join()\n",
    "\n",
    "print('done 4/4')"
   ]
  },
  {
   "cell_type": "code",
   "execution_count": null,
   "id": "9c2909f7",
   "metadata": {},
   "outputs": [],
   "source": [
    "os.system('ffmpeg -r 25 -i '+filepath[:-7]+'movie_3d/%05d.jpg -b 5000k -r 25 '+filepath[:-7]+'movie_3d/full_3d_movie.mp4 -y -loglevel quiet')"
   ]
  },
  {
   "cell_type": "markdown",
   "id": "40b79ca5",
   "metadata": {},
   "source": [
    "### plot fluxrope 3d multiview"
   ]
  },
  {
   "cell_type": "code",
   "execution_count": null,
   "id": "d3ff7035",
   "metadata": {},
   "outputs": [],
   "source": [
    "fig = fp.full3d_multiview(tm1, filepath=filepath)"
   ]
  },
  {
   "cell_type": "markdown",
   "id": "23b7da0c",
   "metadata": {},
   "source": [
    "### make fluxrope 3d multiview movie"
   ]
  },
  {
   "cell_type": "code",
   "execution_count": null,
   "id": "6a02bbfa",
   "metadata": {},
   "outputs": [],
   "source": [
    "def make_frame2(k):\n",
    "    tm0 = datetime.datetime(2022, 9, 5, 19)\n",
    "    t = tm0 + k*datetime.timedelta(hours=1)\n",
    "    frametime = k\n",
    "    \n",
    "    fig = fp.full3d_multiview_movie(t_launch = tm0, t = t, filepath=filepath,\n",
    "                                    frametime=k)\n",
    "    frmstr = '%05i' % (k) \n",
    "    plt.savefig(filepath[:-7] + 'movie_3d_multiview/'+frmstr+'.jpg',dpi=200)  \n",
    "    return fig"
   ]
  },
  {
   "cell_type": "code",
   "execution_count": null,
   "id": "25c7e877",
   "metadata": {},
   "outputs": [],
   "source": [
    "inn=[i for i in range(100)]\n",
    "\n",
    "\n",
    "mpool = multiprocessing.Pool(processes=5)\n",
    "mpool.map(make_frame2, inn[0:20])\n",
    "mpool.close()\n",
    "mpool.join()\n",
    "\n",
    "print('done 1/4')\n",
    "\n",
    "mpool = multiprocessing.Pool(processes=5)\n",
    "mpool.map(make_frame2, inn[20:40])\n",
    "mpool.close()\n",
    "mpool.join()\n",
    "\n",
    "print('done 2/4')\n",
    "\n",
    "mpool = multiprocessing.Pool(processes=5)\n",
    "mpool.map(make_frame2, inn[40:60])\n",
    "mpool.close()\n",
    "mpool.join()\n",
    "\n",
    "print('done 3/4')\n",
    "\n",
    "mpool = multiprocessing.Pool(processes=5)\n",
    "mpool.map(make_frame2, inn[40:80])\n",
    "mpool.close()\n",
    "mpool.join()\n",
    "\n",
    "print('done 4/4')"
   ]
  },
  {
   "cell_type": "code",
   "execution_count": null,
   "id": "59ce1272",
   "metadata": {},
   "outputs": [],
   "source": [
    "os.system('ffmpeg -r 25 -i '+filepath[:-7]+'movie_3d_multiview/%05d.jpg -b 5000k -r 25 '+filepath[:-7]+'movie_3d/full_3d_multiview_movie.mp4 -y -loglevel quiet')"
   ]
  },
  {
   "cell_type": "markdown",
   "id": "bb8c11be",
   "metadata": {},
   "source": [
    "# Used for Debug"
   ]
  },
  {
   "cell_type": "code",
   "execution_count": null,
   "id": "244eec5a",
   "metadata": {},
   "outputs": [],
   "source": [
    "TP_A =  t_launch + datetime.timedelta(hours=2)\n",
    "TP_B =  t_launch + datetime.timedelta(hours=40)\n",
    "\n",
    "\n",
    "C_A = \"xkcd:red\"\n",
    "C_B = \"xkcd:blue\"\n",
    "    \n",
    "sns.set_style('whitegrid')\n",
    "\n",
    "fig = plt.figure(figsize=(15, 11),dpi=100)\n",
    "\n",
    "ax1 = plt.subplot2grid((2, 3), (0, 0),rowspan=2,colspan=2,projection='3d')  \n",
    "ax2 = plt.subplot2grid((2, 3), (0, 2),projection='3d')  \n",
    "ax3 = plt.subplot2grid((2, 3), (1, 2),projection='3d')  \n",
    "\n",
    "model_obj = fp.returnmodel(filepath)\n",
    "\n",
    "\n",
    "fp.plot_configure(ax1, view_azim=150, view_elev=25, view_radius=.2,light_source=True) #view_radius=.08\n",
    "\n",
    "fp.plot_3dcore(ax1, model_obj, TP_A, color=C_A,light_source = True)\n",
    "fp.plot_3dcore(ax1, model_obj, TP_B, color=C_B,light_source = True)\n",
    "\n",
    "fp.plot_shift(ax1,0.31,-0.25,0.0,-0.2)\n",
    "\n",
    "\n",
    "fp.plot_configure(ax2, view_azim=165-90, view_elev=90, view_radius=.08,light_source=True)\n",
    "    \n",
    "fp.plot_3dcore(ax2, model_obj, TP_A, color=C_A,light_source = True)\n",
    "fp.plot_3dcore(ax2, model_obj, TP_B, color=C_B,light_source = True)\n",
    "\n",
    "fp.plot_shift(ax2,0.26,-0.41,0.08,0.0)\n",
    "\n",
    "\n",
    "\n",
    "fp.plot_configure(ax3, view_azim=65, view_elev=-5, view_radius=.01,light_source=True)\n",
    "    \n",
    "fp.plot_3dcore(ax3, model_obj, TP_A, color=C_A,light_source = True)\n",
    "fp.plot_3dcore(ax3, model_obj, TP_B, color=C_B,light_source = True)\n",
    "\n",
    "fp.plot_shift(ax3,0.26,-0.41,0.08,0.0)\n",
    "\n"
   ]
  },
  {
   "cell_type": "code",
   "execution_count": null,
   "id": "500b2200",
   "metadata": {},
   "outputs": [],
   "source": []
  },
  {
   "cell_type": "code",
   "execution_count": null,
   "id": "a2d28aca",
   "metadata": {},
   "outputs": [],
   "source": []
  }
 ],
 "metadata": {
  "kernelspec": {
   "display_name": "Python 3 (ipykernel)",
   "language": "python",
   "name": "python3"
  },
  "language_info": {
   "codemirror_mode": {
    "name": "ipython",
    "version": 3
   },
   "file_extension": ".py",
   "mimetype": "text/x-python",
   "name": "python",
   "nbconvert_exporter": "python",
   "pygments_lexer": "ipython3",
   "version": "3.10.10"
  }
 },
 "nbformat": 4,
 "nbformat_minor": 5
}
