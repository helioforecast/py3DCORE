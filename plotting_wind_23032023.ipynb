{
 "cells": [
  {
   "cell_type": "markdown",
   "id": "33a61233",
   "metadata": {},
   "source": [
    "# Plotting routine for the March 23 2023 Event - Wind"
   ]
  },
  {
   "cell_type": "code",
   "execution_count": null,
   "id": "21e4763a",
   "metadata": {},
   "outputs": [],
   "source": [
    "test = 'test'"
   ]
  },
  {
   "cell_type": "code",
   "execution_count": 1,
   "id": "c5cd29a3",
   "metadata": {},
   "outputs": [
    {
     "name": "stderr",
     "output_type": "stream",
     "text": [
      "OMP: Info #276: omp_set_nested routine deprecated, please use omp_set_max_active_levels instead.\n"
     ]
    }
   ],
   "source": [
    "%load_ext autoreload\n",
    "\n",
    "%autoreload 2\n",
    "\n",
    "import numpy as np\n",
    "import matplotlib.pyplot as plt\n",
    "import pickle as p\n",
    "\n",
    "import datetime as datetime\n",
    "from datetime import timedelta\n",
    "import seaborn as sns\n",
    "import pandas as pd\n",
    "import os\n",
    "#import copy as cp\n",
    "\n",
    "import multiprocessing\n",
    "import py3dcore as py3dcore\n",
    "\n",
    "import py3dcore.fluxplot as fp\n",
    "\n",
    "plt.switch_backend('agg')\n",
    "\n",
    "\n",
    "import warnings\n",
    "warnings.filterwarnings('ignore')\n",
    "\n",
    "import logging\n",
    "\n",
    "logging.basicConfig(level=logging.INFO)\n",
    "logging.getLogger(\"heliosat.spice\").setLevel(\"WARNING\")\n",
    "logging.getLogger(\"heliosat.spacecraft\").setLevel(\"WARNING\")\n",
    "#logging.getLogger(\"sunpy\").setLevel(\"WARNING\")\n",
    "#logging.getLogger(\"py3dcore_h4c.fluxplot\").setLevel(\"WARNING\")\n",
    "\n",
    "#print(sns.__version__)"
   ]
  },
  {
   "cell_type": "markdown",
   "id": "257e6412",
   "metadata": {},
   "source": [
    "#### setting the times for py3DCORE"
   ]
  },
  {
   "cell_type": "code",
   "execution_count": 13,
   "id": "d1a4f271",
   "metadata": {},
   "outputs": [],
   "source": [
    "t_launch = datetime.datetime(2023, 3, 20, 7, tzinfo=datetime.timezone.utc) # \n",
    "\n",
    "t_s = datetime.datetime(2023, 3, 23, 17, tzinfo=datetime.timezone.utc) \n",
    "t_e = t_s + datetime.timedelta(hours=22)\n",
    "\n",
    "t_fit = [\n",
    "        datetime.datetime(2023, 3, 23, 18, tzinfo=datetime.timezone.utc),\n",
    "        datetime.datetime(2023, 3, 23, 19, tzinfo=datetime.timezone.utc),\n",
    "        #datetime.datetime(2023, 3, 23, 20, tzinfo=datetime.timezone.utc),\n",
    "        datetime.datetime(2023, 3, 23, 21, tzinfo=datetime.timezone.utc)\n",
    "        #datetime.datetime(2023, 3, 24, 0, tzinfo=datetime.timezone.utc)\n",
    "]"
   ]
  },
  {
   "cell_type": "code",
   "execution_count": 14,
   "id": "dd40db48",
   "metadata": {},
   "outputs": [
    {
     "name": "stdout",
     "output_type": "stream",
     "text": [
      "['03/23/2023, 18:00:00', '03/23/2023, 19:00:00', '03/23/2023, 21:00:00']\n"
     ]
    }
   ],
   "source": [
    "fittingPoints = []\n",
    "\n",
    "fittingPoints = [t_fit[i].strftime(\"%m/%d/%Y, %H:%M:%S\") for i in range(len(t_fit))]\n",
    "print(fittingPoints)"
   ]
  },
  {
   "cell_type": "markdown",
   "id": "9146a409",
   "metadata": {},
   "source": [
    "#### loading the pickle files"
   ]
  },
  {
   "cell_type": "code",
   "execution_count": 15,
   "id": "0a8c06ec",
   "metadata": {},
   "outputs": [],
   "source": [
    "path = 'output/wind23032023_heeq_512_forecast_1/'\n",
    "\n",
    "filepath = fp.loadpickle(path, number=-1)"
   ]
  },
  {
   "cell_type": "code",
   "execution_count": 16,
   "id": "72de8740",
   "metadata": {},
   "outputs": [
    {
     "data": {
      "text/plain": [
       "'output/wind23032023_heeq_512_forecast_1/07'"
      ]
     },
     "execution_count": 16,
     "metadata": {},
     "output_type": "execute_result"
    }
   ],
   "source": [
    "filepath[:-7]"
   ]
  },
  {
   "cell_type": "markdown",
   "id": "a02ea34b",
   "metadata": {},
   "source": [
    "#### extracting parameters"
   ]
  },
  {
   "cell_type": "code",
   "execution_count": 6,
   "id": "ee485366",
   "metadata": {},
   "outputs": [
    {
     "name": "stderr",
     "output_type": "stream",
     "text": [
      "INFO:py3dcore.fluxplot:Retrieved the following parameters for the run with minimum epsilon:\n",
      "INFO:py3dcore.fluxplot: --lon:  3.02\n",
      "INFO:py3dcore.fluxplot: --lat:  -24.68\n",
      "INFO:py3dcore.fluxplot: --inc:  107.24\n",
      "INFO:py3dcore.fluxplot: --diameter 1 AU:  0.14\n",
      "INFO:py3dcore.fluxplot: --aspect ratio:  4.22\n",
      "INFO:py3dcore.fluxplot: --launch radius:  22.05\n",
      "INFO:py3dcore.fluxplot: --launch speed:  699.26\n",
      "INFO:py3dcore.fluxplot: --t factor:  114.64\n",
      "INFO:py3dcore.fluxplot: --expansion rate:  1.14\n",
      "INFO:py3dcore.fluxplot: --magnetic field decay rate:  1.64\n",
      "INFO:py3dcore.fluxplot: --magnetic field 1 AU:  17.36\n",
      "INFO:py3dcore.fluxplot: --drag coefficient:  1.24\n",
      "INFO:py3dcore.fluxplot: --background sw speed:  403.35\n"
     ]
    }
   ],
   "source": [
    "res, allres, ind, meanparams = fp.get_params(filepath, give_mineps=True)"
   ]
  },
  {
   "cell_type": "code",
   "execution_count": 7,
   "id": "d31a53a0",
   "metadata": {},
   "outputs": [],
   "source": [
    "out = fp.get_ensemble_stats(filepath)"
   ]
  },
  {
   "cell_type": "code",
   "execution_count": 8,
   "id": "22000de5",
   "metadata": {},
   "outputs": [
    {
     "data": {
      "text/html": [
       "<div>\n",
       "<style scoped>\n",
       "    .dataframe tbody tr th:only-of-type {\n",
       "        vertical-align: middle;\n",
       "    }\n",
       "\n",
       "    .dataframe tbody tr th {\n",
       "        vertical-align: top;\n",
       "    }\n",
       "\n",
       "    .dataframe thead th {\n",
       "        text-align: right;\n",
       "    }\n",
       "</style>\n",
       "<table border=\"1\" class=\"dataframe\">\n",
       "  <thead>\n",
       "    <tr style=\"text-align: right;\">\n",
       "      <th></th>\n",
       "      <th>lon</th>\n",
       "      <th>lat</th>\n",
       "      <th>inc</th>\n",
       "      <th>D1AU</th>\n",
       "      <th>delta</th>\n",
       "      <th>launch radius</th>\n",
       "      <th>launch speed</th>\n",
       "      <th>t factor</th>\n",
       "      <th>B1AU</th>\n",
       "      <th>gamma</th>\n",
       "      <th>vsw</th>\n",
       "    </tr>\n",
       "  </thead>\n",
       "  <tbody>\n",
       "    <tr>\n",
       "      <th>count</th>\n",
       "      <td>512.000000</td>\n",
       "      <td>512.000000</td>\n",
       "      <td>512.000000</td>\n",
       "      <td>512.000000</td>\n",
       "      <td>512.000000</td>\n",
       "      <td>512.000000</td>\n",
       "      <td>512.000000</td>\n",
       "      <td>512.000000</td>\n",
       "      <td>512.000000</td>\n",
       "      <td>512.000000</td>\n",
       "      <td>512.000000</td>\n",
       "    </tr>\n",
       "    <tr>\n",
       "      <th>mean</th>\n",
       "      <td>0.375531</td>\n",
       "      <td>-29.880943</td>\n",
       "      <td>95.744400</td>\n",
       "      <td>0.137046</td>\n",
       "      <td>3.412383</td>\n",
       "      <td>19.701057</td>\n",
       "      <td>925.514343</td>\n",
       "      <td>78.116302</td>\n",
       "      <td>16.623165</td>\n",
       "      <td>1.176521</td>\n",
       "      <td>423.907684</td>\n",
       "    </tr>\n",
       "    <tr>\n",
       "      <th>std</th>\n",
       "      <td>11.546754</td>\n",
       "      <td>7.882624</td>\n",
       "      <td>12.828524</td>\n",
       "      <td>0.046025</td>\n",
       "      <td>0.971612</td>\n",
       "      <td>5.423337</td>\n",
       "      <td>274.424683</td>\n",
       "      <td>119.450523</td>\n",
       "      <td>2.301805</td>\n",
       "      <td>0.459195</td>\n",
       "      <td>60.991405</td>\n",
       "    </tr>\n",
       "    <tr>\n",
       "      <th>min</th>\n",
       "      <td>-38.982460</td>\n",
       "      <td>-50.919437</td>\n",
       "      <td>60.349968</td>\n",
       "      <td>0.051715</td>\n",
       "      <td>1.015684</td>\n",
       "      <td>10.004216</td>\n",
       "      <td>500.328705</td>\n",
       "      <td>-246.172043</td>\n",
       "      <td>8.317690</td>\n",
       "      <td>0.205082</td>\n",
       "      <td>217.705780</td>\n",
       "    </tr>\n",
       "    <tr>\n",
       "      <th>25%</th>\n",
       "      <td>-7.466773</td>\n",
       "      <td>-35.068463</td>\n",
       "      <td>87.587103</td>\n",
       "      <td>0.104659</td>\n",
       "      <td>2.737063</td>\n",
       "      <td>15.298275</td>\n",
       "      <td>695.377609</td>\n",
       "      <td>1.043524</td>\n",
       "      <td>15.147584</td>\n",
       "      <td>0.808989</td>\n",
       "      <td>390.515244</td>\n",
       "    </tr>\n",
       "    <tr>\n",
       "      <th>50%</th>\n",
       "      <td>0.550856</td>\n",
       "      <td>-30.143749</td>\n",
       "      <td>96.188087</td>\n",
       "      <td>0.135337</td>\n",
       "      <td>3.524668</td>\n",
       "      <td>19.632362</td>\n",
       "      <td>897.027710</td>\n",
       "      <td>95.861176</td>\n",
       "      <td>16.655668</td>\n",
       "      <td>1.172967</td>\n",
       "      <td>422.516479</td>\n",
       "    </tr>\n",
       "    <tr>\n",
       "      <th>75%</th>\n",
       "      <td>8.732969</td>\n",
       "      <td>-24.521104</td>\n",
       "      <td>104.481525</td>\n",
       "      <td>0.161737</td>\n",
       "      <td>4.194755</td>\n",
       "      <td>24.147848</td>\n",
       "      <td>1139.022522</td>\n",
       "      <td>175.746277</td>\n",
       "      <td>18.020205</td>\n",
       "      <td>1.547842</td>\n",
       "      <td>461.705528</td>\n",
       "    </tr>\n",
       "    <tr>\n",
       "      <th>max</th>\n",
       "      <td>30.801569</td>\n",
       "      <td>-7.651307</td>\n",
       "      <td>138.279663</td>\n",
       "      <td>0.346230</td>\n",
       "      <td>4.992827</td>\n",
       "      <td>29.945738</td>\n",
       "      <td>1498.070923</td>\n",
       "      <td>249.502945</td>\n",
       "      <td>23.721426</td>\n",
       "      <td>1.992343</td>\n",
       "      <td>626.725281</td>\n",
       "    </tr>\n",
       "  </tbody>\n",
       "</table>\n",
       "</div>"
      ],
      "text/plain": [
       "              lon         lat         inc        D1AU       delta  \\\n",
       "count  512.000000  512.000000  512.000000  512.000000  512.000000   \n",
       "mean     0.375531  -29.880943   95.744400    0.137046    3.412383   \n",
       "std     11.546754    7.882624   12.828524    0.046025    0.971612   \n",
       "min    -38.982460  -50.919437   60.349968    0.051715    1.015684   \n",
       "25%     -7.466773  -35.068463   87.587103    0.104659    2.737063   \n",
       "50%      0.550856  -30.143749   96.188087    0.135337    3.524668   \n",
       "75%      8.732969  -24.521104  104.481525    0.161737    4.194755   \n",
       "max     30.801569   -7.651307  138.279663    0.346230    4.992827   \n",
       "\n",
       "       launch radius  launch speed    t factor        B1AU       gamma  \\\n",
       "count     512.000000    512.000000  512.000000  512.000000  512.000000   \n",
       "mean       19.701057    925.514343   78.116302   16.623165    1.176521   \n",
       "std         5.423337    274.424683  119.450523    2.301805    0.459195   \n",
       "min        10.004216    500.328705 -246.172043    8.317690    0.205082   \n",
       "25%        15.298275    695.377609    1.043524   15.147584    0.808989   \n",
       "50%        19.632362    897.027710   95.861176   16.655668    1.172967   \n",
       "75%        24.147848   1139.022522  175.746277   18.020205    1.547842   \n",
       "max        29.945738   1498.070923  249.502945   23.721426    1.992343   \n",
       "\n",
       "              vsw  \n",
       "count  512.000000  \n",
       "mean   423.907684  \n",
       "std     60.991405  \n",
       "min    217.705780  \n",
       "25%    390.515244  \n",
       "50%    422.516479  \n",
       "75%    461.705528  \n",
       "max    626.725281  "
      ]
     },
     "execution_count": 8,
     "metadata": {},
     "output_type": "execute_result"
    }
   ],
   "source": [
    "out.describe()"
   ]
  },
  {
   "cell_type": "code",
   "execution_count": 9,
   "id": "72886ad9",
   "metadata": {},
   "outputs": [],
   "source": [
    "# write output of describe() to csv-file\n",
    "out.describe().to_csv(filepath+'parameters.csv')\n",
    "\n",
    "# write parameters of whole ensemble to txt-file\n",
    "with open(filepath+'parameters_ensemble.txt', 'a') as f:\n",
    "    dfAsString = out.to_string(header=True, index=True)\n",
    "    f.write(dfAsString)"
   ]
  },
  {
   "cell_type": "code",
   "execution_count": 10,
   "id": "3b18eae8",
   "metadata": {},
   "outputs": [],
   "source": [
    "names = ['lon: ', 'lat: ', 'inc: ', 'diameter 1 AU: ', 'aspect ratio: ', 'launch radius: ', 'launch speed: ', \n",
    "         't factor: ', 'expansion rate: ', 'magnetic field decay rate: ', 'magnetic field 1 AU: ', 'drag coefficient: ', \n",
    "         'background sw speed: ']\n",
    " \n",
    "# write output of describe() to txt-file    \n",
    "with open(filepath+'parameters_summary.txt', 'a') as f:\n",
    "    dfAsString = out.describe().to_string(header=True, index=True)\n",
    "    f.write(dfAsString)   \n",
    "    f.write('\\n')\n",
    "    f.write('Fitting points:')\n",
    "    f.write(str(fittingPoints))\n",
    "    f.write('\\n')\n",
    "    f.write('Parameters for run with min(eps):')\n",
    "    f.write('\\n')\n",
    "    for count, name in enumerate(names):\n",
    "        f.write(\" --{} {:.2f}\".format(name, res[count+1]))\n",
    "        f.write('\\n')"
   ]
  },
  {
   "cell_type": "markdown",
   "id": "56a86ca9",
   "metadata": {},
   "source": [
    "#### loading and plotting the fitting results"
   ]
  },
  {
   "cell_type": "code",
   "execution_count": 11,
   "id": "25dc25fa",
   "metadata": {},
   "outputs": [],
   "source": [
    "#t_s = datetime.datetime(2023, 3, 23, 12, tzinfo=datetime.timezone.utc) \n",
    "#t_e = datetime.datetime(2023, 3, 24, 12, tzinfo=datetime.timezone.utc)"
   ]
  },
  {
   "cell_type": "code",
   "execution_count": 19,
   "id": "5f36e1ae",
   "metadata": {},
   "outputs": [
    {
     "name": "stderr",
     "output_type": "stream",
     "text": [
      "INFO:py3dcore.fluxplot:Using HelioSat to retrieve observer data\n"
     ]
    },
    {
     "name": "stdout",
     "output_type": "stream",
     "text": [
      "2023-03-23 17:00:00+00:00 2023-03-24 15:00:00+00:00\n",
      "1320\n"
     ]
    },
    {
     "name": "stderr",
     "output_type": "stream",
     "text": [
      "INFO:py3dcore.fluxplot:Using parameters for run with minimum eps.\n"
     ]
    },
    {
     "name": "stdout",
     "output_type": "stream",
     "text": [
      "[[ 0.9807951   0.00316639 -0.11960012]\n",
      " [ 0.98079769  0.00316559 -0.11959613]\n",
      " [ 0.98080028  0.0031648  -0.11959215]\n",
      " [ 0.98080287  0.003164   -0.11958816]\n",
      " [ 0.98080545  0.0031632  -0.11958417]\n",
      " [ 0.98080804  0.0031624  -0.11958017]\n",
      " [ 0.98081063  0.00316161 -0.11957618]\n",
      " [ 0.98081322  0.00316081 -0.11957218]\n",
      " [ 0.98081581  0.00316001 -0.11956818]\n",
      " [ 0.9808184   0.00315921 -0.11956418]\n",
      " [ 0.98082099  0.00315841 -0.11956018]\n",
      " [ 0.98082358  0.00315761 -0.11955618]\n",
      " [ 0.98082617  0.00315682 -0.11955217]\n",
      " [ 0.98082876  0.00315602 -0.11954816]\n",
      " [ 0.98083135  0.00315522 -0.11954416]\n",
      " [ 0.98083395  0.00315442 -0.11954014]\n",
      " [ 0.98083654  0.00315362 -0.11953613]\n",
      " [ 0.98083913  0.00315282 -0.11953212]\n",
      " [ 0.98084172  0.00315202 -0.1195281 ]\n",
      " [ 0.98084431  0.00315122 -0.11952409]\n",
      " [ 0.9808469   0.00315042 -0.11952007]\n",
      " [ 0.98084949  0.00314962 -0.11951605]\n",
      " [ 0.98085209  0.00314882 -0.11951202]\n",
      " [ 0.98085468  0.00314802 -0.119508  ]\n",
      " [ 0.98085727  0.00314721 -0.11950397]\n",
      " [ 0.98085986  0.00314641 -0.11949995]\n",
      " [ 0.98086246  0.00314561 -0.11949592]\n",
      " [ 0.98086505  0.00314481 -0.11949189]\n",
      " [ 0.98086764  0.00314401 -0.11948785]\n",
      " [ 0.98087023  0.00314321 -0.11948382]\n",
      " [ 0.98087283  0.00314241 -0.11947978]\n",
      " [ 0.98087542  0.0031416  -0.11947574]\n",
      " [ 0.98087801  0.0031408  -0.1194717 ]\n",
      " [ 0.98088061  0.00314    -0.11946766]\n",
      " [ 0.9808832   0.0031392  -0.11946362]\n",
      " [ 0.9808858   0.00313839 -0.11945958]\n",
      " [ 0.98088839  0.00313759 -0.11945553]\n",
      " [ 0.98089098  0.00313679 -0.11945148]\n",
      " [ 0.98089358  0.00313598 -0.11944743]\n",
      " [ 0.98089617  0.00313518 -0.11944338]\n",
      " [ 0.98089877  0.00313437 -0.11943933]\n",
      " [ 0.98090136  0.00313357 -0.11943527]\n",
      " [ 0.98090396  0.00313277 -0.11943121]\n",
      " [ 0.98090655  0.00313196 -0.11942716]\n",
      " [ 0.98090915  0.00313116 -0.11942309]\n",
      " [ 0.98091175  0.00313035 -0.11941903]\n",
      " [ 0.98091434  0.00312955 -0.11941497]\n",
      " [ 0.98091694  0.00312874 -0.1194109 ]\n",
      " [ 0.98091953  0.00312794 -0.11940684]\n",
      " [ 0.98092213  0.00312713 -0.11940277]\n",
      " [ 0.98092473  0.00312633 -0.1193987 ]\n",
      " [ 0.98092732  0.00312552 -0.11939463]\n",
      " [ 0.98092992  0.00312471 -0.11939055]\n",
      " [ 0.98093252  0.00312391 -0.11938648]\n",
      " [ 0.98093511  0.0031231  -0.1193824 ]\n",
      " [ 0.98093771  0.0031223  -0.11937832]\n",
      " [ 0.98094031  0.00312149 -0.11937424]\n",
      " [ 0.98094291  0.00312068 -0.11937016]\n",
      " [ 0.9809455   0.00311988 -0.11936607]\n",
      " [ 0.9809481   0.00311907 -0.11936199]\n",
      " [ 0.9809507   0.00311826 -0.1193579 ]\n",
      " [ 0.9809533   0.00311745 -0.11935381]\n",
      " [ 0.9809559   0.00311665 -0.11934972]\n",
      " [ 0.98095849  0.00311584 -0.11934562]\n",
      " [ 0.98096109  0.00311503 -0.11934153]\n",
      " [ 0.98096369  0.00311422 -0.11933743]\n",
      " [ 0.98096629  0.00311341 -0.11933334]\n",
      " [ 0.98096889  0.0031126  -0.11932924]\n",
      " [ 0.98097149  0.0031118  -0.11932514]\n",
      " [ 0.98097409  0.00311099 -0.11932103]\n",
      " [ 0.98097669  0.00311018 -0.11931693]\n",
      " [ 0.98097929  0.00310937 -0.11931282]\n",
      " [ 0.98098189  0.00310856 -0.11930871]\n",
      " [ 0.98098449  0.00310775 -0.1193046 ]\n",
      " [ 0.98098709  0.00310694 -0.11930049]\n",
      " [ 0.98098969  0.00310613 -0.11929638]\n",
      " [ 0.98099229  0.00310532 -0.11929226]\n",
      " [ 0.98099489  0.00310451 -0.11928815]\n",
      " [ 0.98099749  0.0031037  -0.11928403]\n",
      " [ 0.98100009  0.00310289 -0.11927991]\n",
      " [ 0.98100269  0.00310208 -0.11927579]\n",
      " [ 0.9810053   0.00310127 -0.11927166]\n",
      " [ 0.9810079   0.00310046 -0.11926754]\n",
      " [ 0.9810105   0.00309964 -0.11926341]\n",
      " [ 0.9810131   0.00309883 -0.11925928]\n",
      " [ 0.9810157   0.00309802 -0.11925515]\n",
      " [ 0.98101831  0.00309721 -0.11925102]\n",
      " [ 0.98102091  0.0030964  -0.11924688]\n",
      " [ 0.98102351  0.00309558 -0.11924275]\n",
      " [ 0.98102611  0.00309477 -0.11923861]\n",
      " [ 0.98102872  0.00309396 -0.11923447]\n",
      " [ 0.98103132  0.00309315 -0.11923033]\n",
      " [ 0.98103392  0.00309233 -0.11922619]\n",
      " [ 0.98103652  0.00309152 -0.11922204]\n",
      " [ 0.98103913  0.00309071 -0.1192179 ]\n",
      " [ 0.98104173  0.00308989 -0.11921375]\n",
      " [ 0.98104434  0.00308908 -0.1192096 ]\n",
      " [ 0.98104694  0.00308827 -0.11920545]\n",
      " [ 0.98104954  0.00308745 -0.1192013 ]\n",
      " [ 0.98105215  0.00308664 -0.11919714]\n",
      " [ 0.98105475  0.00308583 -0.11919299]\n",
      " [ 0.98105736  0.00308501 -0.11918883]\n",
      " [ 0.98105996  0.0030842  -0.11918467]\n",
      " [ 0.98106257  0.00308338 -0.11918051]\n",
      " [ 0.98106517  0.00308257 -0.11917635]\n",
      " [ 0.98106778  0.00308175 -0.11917218]\n",
      " [ 0.98107038  0.00308094 -0.11916801]\n",
      " [ 0.98107299  0.00308012 -0.11916385]\n",
      " [ 0.98107559  0.00307931 -0.11915968]\n",
      " [ 0.9810782   0.00307849 -0.11915551]\n",
      " [ 0.9810808   0.00307767 -0.11915133]\n",
      " [ 0.98108341  0.00307686 -0.11914716]\n",
      " [ 0.98108602  0.00307604 -0.11914298]\n",
      " [ 0.98108862  0.00307523 -0.1191388 ]\n",
      " [ 0.98109123  0.00307441 -0.11913462]\n",
      " [ 0.98109384  0.00307359 -0.11913044]\n",
      " [ 0.98109644  0.00307278 -0.11912626]\n",
      " [ 0.98109905  0.00307196 -0.11912207]\n",
      " [ 0.98110166  0.00307114 -0.11911788]\n",
      " [ 0.98110427  0.00307032 -0.1191137 ]\n",
      " [ 0.98110687  0.00306951 -0.11910951]\n",
      " [ 0.98110948  0.00306869 -0.11910531]\n",
      " [ 0.98111209  0.00306787 -0.11910112]\n",
      " [ 0.9811147   0.00306705 -0.11909692]\n",
      " [ 0.9811173   0.00306623 -0.11909273]\n",
      " [ 0.98111991  0.00306542 -0.11908853]\n",
      " [ 0.98112252  0.0030646  -0.11908433]\n",
      " [ 0.98112513  0.00306378 -0.11908012]\n",
      " [ 0.98112774  0.00306296 -0.11907592]\n",
      " [ 0.98113035  0.00306214 -0.11907171]\n",
      " [ 0.98113296  0.00306132 -0.11906751]]\n"
     ]
    },
    {
     "ename": "IndexError",
     "evalue": "index 131 is out of bounds for axis 0 with size 131",
     "output_type": "error",
     "traceback": [
      "\u001b[0;31m---------------------------------------------------------------------------\u001b[0m",
      "\u001b[0;31mIndexError\u001b[0m                                Traceback (most recent call last)",
      "Cell \u001b[0;32mIn[19], line 1\u001b[0m\n\u001b[0;32m----> 1\u001b[0m \u001b[43mfp\u001b[49m\u001b[38;5;241;43m.\u001b[39;49m\u001b[43mfullinsitu\u001b[49m\u001b[43m(\u001b[49m\u001b[43mobserver\u001b[49m\u001b[38;5;241;43m=\u001b[39;49m\u001b[38;5;124;43m'\u001b[39;49m\u001b[38;5;124;43mWind\u001b[39;49m\u001b[38;5;124;43m'\u001b[39;49m\u001b[43m,\u001b[49m\u001b[43m \u001b[49m\u001b[43mt_fit\u001b[49m\u001b[38;5;241;43m=\u001b[39;49m\u001b[43mt_fit\u001b[49m\u001b[43m,\u001b[49m\u001b[43m \u001b[49m\u001b[43mstart\u001b[49m\u001b[38;5;241;43m=\u001b[39;49m\u001b[43mt_s\u001b[49m\u001b[43m,\u001b[49m\u001b[43m \u001b[49m\u001b[43mend\u001b[49m\u001b[38;5;241;43m=\u001b[39;49m\u001b[43mt_e\u001b[49m\u001b[43m,\u001b[49m\u001b[43m \u001b[49m\u001b[43mfilepath\u001b[49m\u001b[38;5;241;43m=\u001b[39;49m\u001b[43mfilepath\u001b[49m\u001b[43m,\u001b[49m\u001b[43m \u001b[49m\u001b[43mref_frame\u001b[49m\u001b[38;5;241;43m=\u001b[39;49m\u001b[38;5;124;43m'\u001b[39;49m\u001b[38;5;124;43mHEEQ\u001b[39;49m\u001b[38;5;124;43m'\u001b[39;49m\u001b[43m,\u001b[49m\u001b[43m \u001b[49m\u001b[43mbest\u001b[49m\u001b[38;5;241;43m=\u001b[39;49m\u001b[38;5;28;43;01mTrue\u001b[39;49;00m\u001b[43m,\u001b[49m\u001b[43m \u001b[49m\n\u001b[1;32m      2\u001b[0m \u001b[43m              \u001b[49m\u001b[43mensemble\u001b[49m\u001b[38;5;241;43m=\u001b[39;49m\u001b[38;5;28;43;01mTrue\u001b[39;49;00m\u001b[43m,\u001b[49m\u001b[43m \u001b[49m\u001b[43msave_fig\u001b[49m\u001b[38;5;241;43m=\u001b[39;49m\u001b[38;5;28;43;01mTrue\u001b[39;49;00m\u001b[43m,\u001b[49m\u001b[43m \u001b[49m\u001b[43mlegend\u001b[49m\u001b[38;5;241;43m=\u001b[39;49m\u001b[38;5;28;43;01mTrue\u001b[39;49;00m\u001b[43m,\u001b[49m\u001b[43m \u001b[49m\u001b[43mmax_index\u001b[49m\u001b[38;5;241;43m=\u001b[39;49m\u001b[38;5;241;43m128\u001b[39;49m\u001b[43m,\u001b[49m\u001b[43m \u001b[49m\u001b[43mtitle\u001b[49m\u001b[38;5;241;43m=\u001b[39;49m\u001b[38;5;28;43;01mTrue\u001b[39;49;00m\u001b[43m,\u001b[49m\u001b[43m \u001b[49m\u001b[43mfit_points\u001b[49m\u001b[38;5;241;43m=\u001b[39;49m\u001b[38;5;28;43;01mTrue\u001b[39;49;00m\u001b[43m)\u001b[49m\n",
      "File \u001b[0;32m~/Documents/Arbeit/3DCORE/latestVersion/py3DCORE/py3dcore/fluxplot.py:253\u001b[0m, in \u001b[0;36mfullinsitu\u001b[0;34m(observer, t_fit, start, end, filepath, ref_frame, save_fig, best, ensemble, legend, max_index, title, fit_points, prediction)\u001b[0m\n\u001b[1;32m    251\u001b[0m \u001b[38;5;28;01mif\u001b[39;00m best \u001b[38;5;241m==\u001b[39m \u001b[38;5;28;01mTrue\u001b[39;00m:\n\u001b[1;32m    252\u001b[0m     model_obj \u001b[38;5;241m=\u001b[39m returnfixedmodel(filepath)\n\u001b[0;32m--> 253\u001b[0m     outa \u001b[38;5;241m=\u001b[39m np\u001b[38;5;241m.\u001b[39msqueeze(np\u001b[38;5;241m.\u001b[39marray(\u001b[43mmodel_obj\u001b[49m\u001b[38;5;241;43m.\u001b[39;49m\u001b[43msimulator\u001b[49m\u001b[43m(\u001b[49m\u001b[43mt\u001b[49m\u001b[43m,\u001b[49m\u001b[43m \u001b[49m\u001b[43mpos\u001b[49m\u001b[43m)\u001b[49m)[\u001b[38;5;241m0\u001b[39m])\n\u001b[1;32m    254\u001b[0m     outa[outa\u001b[38;5;241m==\u001b[39m\u001b[38;5;241m0\u001b[39m] \u001b[38;5;241m=\u001b[39m np\u001b[38;5;241m.\u001b[39mnan\n\u001b[1;32m    255\u001b[0m     \u001b[38;5;28mprint\u001b[39m(\u001b[38;5;28mlen\u001b[39m(outa))\n",
      "File \u001b[0;32m~/Documents/Arbeit/3DCORE/latestVersion/py3DCORE/py3dcore/model.py:159\u001b[0m, in \u001b[0;36mSimulationBlackBox.simulator\u001b[0;34m(self, dt, pos, sparams)\u001b[0m\n\u001b[1;32m    157\u001b[0m \u001b[38;5;28;01mfor\u001b[39;00m i \u001b[38;5;129;01min\u001b[39;00m \u001b[38;5;28mrange\u001b[39m(\u001b[38;5;28mlen\u001b[39m(dt)):\n\u001b[1;32m    158\u001b[0m     \u001b[38;5;28mself\u001b[39m\u001b[38;5;241m.\u001b[39mpropagator(dt[i])\n\u001b[0;32m--> 159\u001b[0m     \u001b[38;5;28mself\u001b[39m\u001b[38;5;241m.\u001b[39msimulator_mag(\u001b[43mpos\u001b[49m\u001b[43m[\u001b[49m\u001b[43mi\u001b[49m\u001b[43m]\u001b[49m, b_out[i])\n\u001b[1;32m    161\u001b[0m     \u001b[38;5;28;01mif\u001b[39;00m sparams \u001b[38;5;129;01mand\u001b[39;00m \u001b[38;5;28mlen\u001b[39m(sparams) \u001b[38;5;241m>\u001b[39m \u001b[38;5;241m0\u001b[39m:\n\u001b[1;32m    162\u001b[0m         s_out[i][:] \u001b[38;5;241m=\u001b[39m \u001b[38;5;28mself\u001b[39m\u001b[38;5;241m.\u001b[39msparams_arr[i, sparams]\n",
      "\u001b[0;31mIndexError\u001b[0m: index 131 is out of bounds for axis 0 with size 131"
     ]
    }
   ],
   "source": [
    "fp.fullinsitu(observer='Wind', t_fit=t_fit, start=t_s, end=t_e, filepath=filepath, ref_frame='HEEQ', best=True, \n",
    "              ensemble=True, save_fig=True, legend=True, max_index=128, title=True, fit_points=True)"
   ]
  },
  {
   "cell_type": "code",
   "execution_count": null,
   "id": "a321878f",
   "metadata": {},
   "outputs": [],
   "source": [
    "fp.scatterparams(filepath)"
   ]
  },
  {
   "cell_type": "code",
   "execution_count": null,
   "id": "49961039",
   "metadata": {},
   "outputs": [],
   "source": [
    "print(out['lon'].mean())\n",
    "print(out['lon'].std())\n",
    "print(out['launch radius'].std())\n",
    "print(out['launch speed'].std())"
   ]
  },
  {
   "cell_type": "markdown",
   "id": "97a5476f",
   "metadata": {},
   "source": [
    "#### Plotting the fluxrope and spacecraft positions"
   ]
  },
  {
   "cell_type": "code",
   "execution_count": null,
   "id": "0cb385f2",
   "metadata": {},
   "outputs": [],
   "source": [
    "#measurement times \n",
    "#tm0 =  t_launch + datetime.timedelta(days=1.5)\n",
    "tm0 =  datetime.datetime(2022, 9, 5, 16)\n",
    "tm1 =  t_launch + datetime.timedelta(days=1.7)\n",
    "tm2 =  t_launch + datetime.timedelta(days=3.5)\n",
    "\n",
    "fig = fp.full3d(spacecraftlist=['solo', 'psp'], planetlist=['Earth'], t=tm1, filepath=filepath)"
   ]
  },
  {
   "cell_type": "markdown",
   "id": "fca8400c",
   "metadata": {},
   "source": [
    "### make fluxrope 3d movie"
   ]
  },
  {
   "cell_type": "code",
   "execution_count": null,
   "id": "aebbebda",
   "metadata": {},
   "outputs": [],
   "source": [
    "def make_frame(k):\n",
    "    tm0 = datetime.datetime(2022, 9, 5, 19)\n",
    "    t = tm0 + k*datetime.timedelta(hours=1)\n",
    "    \n",
    "    fig = fp.full3d(spacecraftlist=['solo', 'psp'], planetlist =['Earth'],\n",
    "              t = t, filepath = filepath, save_fig = False)\n",
    "    frmstr = '%05i' % (k) \n",
    "    plt.savefig(filepath[:-7] + 'movie_3d/'+frmstr+'.jpg',dpi=200)  \n",
    "    return fig\n",
    "    "
   ]
  },
  {
   "cell_type": "code",
   "execution_count": null,
   "id": "6129091d",
   "metadata": {},
   "outputs": [],
   "source": [
    "inn=[i for i in range(100)]\n",
    "\n",
    "\n",
    "mpool = multiprocessing.Pool(processes=5)\n",
    "mpool.map(make_frame, inn[0:20])\n",
    "mpool.close()\n",
    "mpool.join()\n",
    "\n",
    "print('done 1/4')\n",
    "\n",
    "mpool = multiprocessing.Pool(processes=5)\n",
    "mpool.map(make_frame, inn[20:40])\n",
    "mpool.close()\n",
    "mpool.join()\n",
    "\n",
    "print('done 2/4')\n",
    "\n",
    "mpool = multiprocessing.Pool(processes=5)\n",
    "mpool.map(make_frame, inn[40:60])\n",
    "mpool.close()\n",
    "mpool.join()\n",
    "\n",
    "print('done 3/4')\n",
    "\n",
    "mpool = multiprocessing.Pool(processes=5)\n",
    "mpool.map(make_frame, inn[40:80])\n",
    "mpool.close()\n",
    "mpool.join()\n",
    "\n",
    "print('done 4/4')"
   ]
  },
  {
   "cell_type": "code",
   "execution_count": null,
   "id": "d1a46907",
   "metadata": {},
   "outputs": [],
   "source": [
    "os.system('ffmpeg -r 25 -i '+filepath[:-7]+'movie_3d/%05d.jpg -b 5000k -r 25 '+filepath[:-7]+'movie_3d/full_3d_movie.mp4 -y -loglevel quiet')"
   ]
  },
  {
   "cell_type": "markdown",
   "id": "2e0db610",
   "metadata": {},
   "source": [
    "### plot fluxrope 3d multiview"
   ]
  },
  {
   "cell_type": "code",
   "execution_count": null,
   "id": "eac79633",
   "metadata": {},
   "outputs": [],
   "source": [
    "#measurement times \n",
    "#tm0 =  t_launch + datetime.timedelta(days=1.5)\n",
    "tm0 =  datetime.datetime(2022, 9, 7, 1)\n",
    "tm1 =  t_launch + datetime.timedelta(days=1.7)\n",
    "tm2 =  t_launch + datetime.timedelta(days=3.5)\n",
    "\n",
    "fig = fp.full3d_multiview(t_launch = t_launch, filepath=filepath)"
   ]
  },
  {
   "cell_type": "markdown",
   "id": "043c1384",
   "metadata": {},
   "source": [
    "### make fluxrope 3d multiview movie"
   ]
  },
  {
   "cell_type": "code",
   "execution_count": null,
   "id": "e94dbbee",
   "metadata": {},
   "outputs": [],
   "source": [
    "def make_frame2(k):\n",
    "    tm0 = datetime.datetime(2022, 9, 5, 19)\n",
    "    t = tm0 + k*datetime.timedelta(hours=1)\n",
    "    frametime = k\n",
    "    \n",
    "    fig = fp.full3d_multiview_movie(t_launch = tm0, t = t, filepath=filepath,\n",
    "                                    frametime=k)\n",
    "    frmstr = '%05i' % (k) \n",
    "    plt.savefig(filepath[:-7] + 'movie_3d_multiview/'+frmstr+'.jpg',dpi=200)  \n",
    "    return fig"
   ]
  },
  {
   "cell_type": "code",
   "execution_count": null,
   "id": "80efb2e0",
   "metadata": {},
   "outputs": [],
   "source": [
    "inn=[i for i in range(100)]\n",
    "\n",
    "\n",
    "mpool = multiprocessing.Pool(processes=5)\n",
    "mpool.map(make_frame2, inn[0:20])\n",
    "mpool.close()\n",
    "mpool.join()\n",
    "\n",
    "print('done 1/4')\n",
    "\n",
    "mpool = multiprocessing.Pool(processes=5)\n",
    "mpool.map(make_frame2, inn[20:40])\n",
    "mpool.close()\n",
    "mpool.join()\n",
    "\n",
    "print('done 2/4')\n",
    "\n",
    "mpool = multiprocessing.Pool(processes=5)\n",
    "mpool.map(make_frame2, inn[40:60])\n",
    "mpool.close()\n",
    "mpool.join()\n",
    "\n",
    "print('done 3/4')\n",
    "\n",
    "mpool = multiprocessing.Pool(processes=5)\n",
    "mpool.map(make_frame2, inn[40:80])\n",
    "mpool.close()\n",
    "mpool.join()\n",
    "\n",
    "print('done 4/4')"
   ]
  },
  {
   "cell_type": "code",
   "execution_count": null,
   "id": "87d458cf",
   "metadata": {},
   "outputs": [],
   "source": [
    "os.system('ffmpeg -r 25 -i '+filepath[:-7]+'movie_3d_multiview/%05d.jpg -b 5000k -r 25 '+filepath[:-7]+'movie_3d/full_3d_multiview_movie.mp4 -y -loglevel quiet')"
   ]
  },
  {
   "cell_type": "markdown",
   "id": "a80e6b2d",
   "metadata": {},
   "source": [
    "# Used for Debug"
   ]
  },
  {
   "cell_type": "code",
   "execution_count": null,
   "id": "348fb0f7",
   "metadata": {},
   "outputs": [],
   "source": [
    "TP_A =  t_launch + datetime.timedelta(hours=2)\n",
    "TP_B =  t_launch + datetime.timedelta(hours=40)\n",
    "\n",
    "\n",
    "C_A = \"xkcd:red\"\n",
    "C_B = \"xkcd:blue\"\n",
    "    \n",
    "sns.set_style('whitegrid')\n",
    "\n",
    "fig = plt.figure(figsize=(15, 11),dpi=100)\n",
    "\n",
    "ax1 = plt.subplot2grid((2, 3), (0, 0),rowspan=2,colspan=2,projection='3d')  \n",
    "ax2 = plt.subplot2grid((2, 3), (0, 2),projection='3d')  \n",
    "ax3 = plt.subplot2grid((2, 3), (1, 2),projection='3d')  \n",
    "\n",
    "model_obj = fp.returnmodel(filepath)\n",
    "\n",
    "\n",
    "fp.plot_configure(ax1, view_azim=150, view_elev=25, view_radius=.2,light_source=True) #view_radius=.08\n",
    "\n",
    "fp.plot_3dcore(ax1, model_obj, TP_A, color=C_A,light_source = True)\n",
    "fp.plot_3dcore(ax1, model_obj, TP_B, color=C_B,light_source = True)\n",
    "\n",
    "fp.plot_shift(ax1,0.31,-0.25,0.0,-0.2)\n",
    "\n",
    "\n",
    "fp.plot_configure(ax2, view_azim=165-90, view_elev=90, view_radius=.08,light_source=True)\n",
    "    \n",
    "fp.plot_3dcore(ax2, model_obj, TP_A, color=C_A,light_source = True)\n",
    "fp.plot_3dcore(ax2, model_obj, TP_B, color=C_B,light_source = True)\n",
    "\n",
    "fp.plot_shift(ax2,0.26,-0.41,0.08,0.0)\n",
    "\n",
    "\n",
    "\n",
    "fp.plot_configure(ax3, view_azim=65, view_elev=-5, view_radius=.01,light_source=True)\n",
    "    \n",
    "fp.plot_3dcore(ax3, model_obj, TP_A, color=C_A,light_source = True)\n",
    "fp.plot_3dcore(ax3, model_obj, TP_B, color=C_B,light_source = True)\n",
    "\n",
    "fp.plot_shift(ax3,0.26,-0.41,0.08,0.0)\n",
    "\n"
   ]
  },
  {
   "cell_type": "code",
   "execution_count": null,
   "id": "ece13b24",
   "metadata": {},
   "outputs": [],
   "source": []
  },
  {
   "cell_type": "code",
   "execution_count": null,
   "id": "41054b75",
   "metadata": {},
   "outputs": [],
   "source": []
  }
 ],
 "metadata": {
  "kernelspec": {
   "display_name": "Python 3 (ipykernel)",
   "language": "python",
   "name": "python3"
  },
  "language_info": {
   "codemirror_mode": {
    "name": "ipython",
    "version": 3
   },
   "file_extension": ".py",
   "mimetype": "text/x-python",
   "name": "python",
   "nbconvert_exporter": "python",
   "pygments_lexer": "ipython3",
   "version": "3.10.10"
  }
 },
 "nbformat": 4,
 "nbformat_minor": 5
}
